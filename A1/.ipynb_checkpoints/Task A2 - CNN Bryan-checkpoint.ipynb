{
 "cells": [
  {
   "cell_type": "code",
   "execution_count": 2,
   "metadata": {},
   "outputs": [],
   "source": [
    "import cv2\n",
    "import os\n",
    "import numpy as np\n",
    "import pandas as pd\n",
    "import matplotlib.pyplot as plt\n",
    "import tensorflow as tf\n",
    "from PIL import Image\n",
    "from sklearn.cluster import KMeans\n",
    "from tensorflow.keras import datasets, layers, models"
   ]
  },
  {
   "cell_type": "code",
   "execution_count": 3,
   "metadata": {},
   "outputs": [],
   "source": [
    "class ImagesFolder():\n",
    "    \"\"\"Loads images with same file format and image size from an specific folder.\"\"\"\n",
    "    \n",
    "    def __init__(self, folder_path, file_extension, image_size):\n",
    "        \n",
    "        self.folder_path=folder_path\n",
    "        self.file_extension=file_extension\n",
    "        self.image_size=image_size\n",
    "        \n",
    "    def load_asarray(self, colour=cv2.IMREAD_GRAYSCALE):\n",
    "        n = count_n_images(self.folder_path, self.file_extension)\n",
    "        self.image_shape = self.image_size\n",
    "    \n",
    "        X = np.empty((n, *self.image_shape), dtype=np.uint8) # OpenCV works with this data format\n",
    "        files = os.listdir(self.folder_path)\n",
    "        for x, image_name in enumerate(sorted(files, key = lambda x: int(x[:-4]))):\n",
    "            image = cv2.imread(os.path.join(self.folder_path, image_name), colour)\n",
    "            X[x] = image\n",
    "        return X"
   ]
  },
  {
   "cell_type": "code",
   "execution_count": 9,
   "metadata": {},
   "outputs": [],
   "source": [
    "celeba_directory = \"/Users/macbookpro/UCL - MSc Integrated Machine Learning Systems/Y1/Applied Machine Learning I/Final Assignment/AMLS_20-21_SN17024244/Datasets/dataset_AMLS_20-21/celeba/\"\n",
    "celeba_images_subdirectory = celeba_directory + \"img/\"\n",
    "extension = \".jpg\"\n",
    "def count_n_images(path, extension):\n",
    "        list_dir = []\n",
    "        list_dir = os.listdir(path)\n",
    "        count = 0\n",
    "        for file in list_dir:\n",
    "            if file.endswith(extension):\n",
    "                count += 1\n",
    "        return count"
   ]
  },
  {
   "cell_type": "code",
   "execution_count": 10,
   "metadata": {},
   "outputs": [
    {
     "data": {
      "text/plain": [
       "array([[[233, 233, 233, ..., 232, 241, 241],\n",
       "        [233, 233, 233, ..., 234, 241, 241],\n",
       "        [233, 233, 233, ..., 236, 242, 242],\n",
       "        ...,\n",
       "        [ 88,  63,  93, ...,  72,  73,  73],\n",
       "        [ 77,  85, 113, ...,  66,  68,  68],\n",
       "        [115, 151, 192, ...,  66,  68,  68]],\n",
       "\n",
       "       [[ 56,  54,  54, ...,  73,  79,  81],\n",
       "        [ 56,  54,  54, ...,  73,  79,  81],\n",
       "        [ 56,  54,  54, ...,  73,  79,  81],\n",
       "        ...,\n",
       "        [212, 222, 222, ..., 101, 122, 133],\n",
       "        [227, 222, 215, ..., 113, 124, 124],\n",
       "        [227, 222, 215, ..., 116, 124, 124]],\n",
       "\n",
       "       [[255, 255, 255, ..., 255, 255, 255],\n",
       "        [255, 255, 255, ..., 255, 255, 255],\n",
       "        [255, 255, 255, ..., 255, 255, 255],\n",
       "        ...,\n",
       "        [118, 119, 122, ...,  90,  92,  92],\n",
       "        [108, 109, 112, ...,  93,  94,  94],\n",
       "        [106, 107, 110, ...,  93,  94,  94]],\n",
       "\n",
       "       ...,\n",
       "\n",
       "       [[101,  95,  94, ..., 132, 133, 133],\n",
       "        [101,  95,  95, ..., 132, 133, 133],\n",
       "        [101,  95,  95, ..., 132, 133, 133],\n",
       "        ...,\n",
       "        [ 94,  95,  97, ...,  57,  62,  62],\n",
       "        [ 90,  94,  95, ...,  59,  61,  61],\n",
       "        [ 90,  94,  95, ...,  59,  61,  61]],\n",
       "\n",
       "       [[ 86,  85,  85, ...,  72,  77,  96],\n",
       "        [ 86,  85,  85, ...,  72,  79,  98],\n",
       "        [ 86,  85,  85, ...,  72,  81, 100],\n",
       "        ...,\n",
       "        [ 56,  55,  55, ...,  54,  56,  56],\n",
       "        [ 56,  55,  54, ...,  54,  54,  54],\n",
       "        [ 56,  55,  54, ...,  54,  54,  54]],\n",
       "\n",
       "       [[106, 106, 106, ..., 151, 148, 148],\n",
       "        [106, 106, 107, ..., 145, 148, 148],\n",
       "        [106, 107, 107, ..., 152, 149, 149],\n",
       "        ...,\n",
       "        [  1, 118, 217, ...,  39,  27,  27],\n",
       "        [ 85,  54, 123, ...,  39,  30,  45],\n",
       "        [150,  61,  79, ...,  39,  44,  60]]], dtype=uint8)"
      ]
     },
     "execution_count": 10,
     "metadata": {},
     "output_type": "execute_result"
    }
   ],
   "source": [
    "q = ImagesFolder(celeba_images_subdirectory, extension, (218, 178))\n",
    "q.load_asarray()"
   ]
  },
  {
   "cell_type": "code",
   "execution_count": 13,
   "metadata": {},
   "outputs": [],
   "source": [
    "# Count number of .jpg files available\n",
    "def count_n_images(path, extension):\n",
    "    \n",
    "    list_dir = []\n",
    "    list_dir = os.listdir(path)\n",
    "    count = 0\n",
    "    for file in list_dir:\n",
    "        if file.endswith(extension):\n",
    "            count += 1\n",
    "    \n",
    "    return count"
   ]
  },
  {
   "cell_type": "code",
   "execution_count": 14,
   "metadata": {},
   "outputs": [],
   "source": [
    "# Load labels of our dataset\n",
    "def load_images_label_csv():\n",
    "    \n",
    "    FILE_NAME = \"labels.csv\"\n",
    "    SEPARATOR = \"\\t\"\n",
    "    USECOLS = [\"img_name\", \"gender\", \"smiling\"]\n",
    "    \n",
    "    labels_file = pd.read_csv(celeba_directory + FILE_NAME, sep=SEPARATOR, usecols=USECOLS)\n",
    "    \n",
    "    return labels_file"
   ]
  },
  {
   "cell_type": "code",
   "execution_count": 15,
   "metadata": {},
   "outputs": [],
   "source": [
    "# Load array of with n_rows = n_images and each row is array of pixels\n",
    "def load_images_array(image_size=(218, 178)):\n",
    "    \n",
    "    n = count_n_images(celeba_images_subdirectory, extension)\n",
    "    image_shape = image_size\n",
    "    \n",
    "    X = np.empty((n, *image_shape), dtype=np.uint8) # OpenCV works with this data format\n",
    "    files = os.listdir(celeba_images_subdirectory)\n",
    "    for x, jpg in enumerate(sorted(files, key = lambda x: int(x[:-4]))):\n",
    "        image = cv2.imread(os.path.join(celeba_images_subdirectory, jpg), cv2.IMREAD_GRAYSCALE)\n",
    "        X[x] = image\n",
    "        \n",
    "    return X"
   ]
  },
  {
   "cell_type": "code",
   "execution_count": 18,
   "metadata": {},
   "outputs": [],
   "source": [
    "classifier = cv2.CascadeClassifier(\"/Users/macbookpro/anaconda3/lib/python3.7/site-packages/cv2/data/haarcascade_frontalface_default.xml\") # could not find this file \n",
    "def get_smile(image, smile_x=(1/5,4/5),smile_y=(2/3,1), resize = (32,32)):\n",
    "    image = image.astype(np.uint8)\n",
    "    bboxes = sorted(classifier.detectMultiScale(image), key=lambda x: x[2]*x[3])\n",
    "    if bboxes:   \n",
    "        box = bboxes[-1]\n",
    "        x, y, width, height = box\n",
    "        x2, y2, = x + width, int(y + height)\n",
    "\n",
    "        xnew,ynew = int(x+smile_x[0]*width),int(y+smile_y[0]*height)\n",
    "        x2new, y2new = int(x2-(smile_x[1]-1)*width), y2-(smile_y[1]-1)\n",
    "\n",
    "        smile = image[ynew:y2new, xnew:x2new]\n",
    "        im = cv2.normalize(smile, None, alpha=0, beta=1, norm_type=cv2.NORM_MINMAX, dtype=cv2.CV_32F)\n",
    "        im = Image.fromarray(smile)\n",
    "    else: \n",
    "        im  =Image.fromarray(image)\n",
    "    im = im.resize(resize,Image.LANCZOS) #you can use options other than LANCZOS as well\n",
    "    \n",
    "    return im"
   ]
  },
  {
   "cell_type": "code",
   "execution_count": 34,
   "metadata": {},
   "outputs": [],
   "source": [
    "images = load_images_array()\n",
    "smiles = [get_smile(image, resize = (48, 48)) for image in images]"
   ]
  },
  {
   "cell_type": "code",
   "execution_count": 35,
   "metadata": {},
   "outputs": [],
   "source": [
    "labels = load_images_label_csv()"
   ]
  },
  {
   "cell_type": "code",
   "execution_count": 36,
   "metadata": {},
   "outputs": [
    {
     "data": {
      "image/png": "[encoded data removed]",
      "text/plain": [
       "<Figure size 432x288 with 1 Axes>"
      ]
     },
     "metadata": {
      "needs_background": "light"
     },
     "output_type": "display_data"
    }
   ],
   "source": [
    "# Load one image as example\n",
    "%matplotlib inline\n",
    "image = images[10].astype(np.uint8)\n",
    "smile = get_smile(image)\n",
    "rgb = cv2.cvtColor(image, cv2.COLOR_BGR2RGB)\n",
    "plt.imshow(rgb, cmap = plt.cm.Spectral)\n",
    "plt.show()"
   ]
  },
  {
   "cell_type": "code",
   "execution_count": 37,
   "metadata": {},
   "outputs": [
    {
     "data": {
      "image/png": "[encoded data removed]",
      "text/plain": [
       "<Figure size 432x288 with 1 Axes>"
      ]
     },
     "metadata": {
      "needs_background": "light"
     },
     "output_type": "display_data"
    }
   ],
   "source": [
    "# Cropping and normalising smile\n",
    "imgNumpy = np.asarray(smile)\n",
    "rgb = cv2.cvtColor(imgNumpy, cv2.COLOR_BGR2RGB)\n",
    "plt.imshow(rgb, cmap = plt.cm.Spectral)\n",
    "plt.show()"
   ]
  },
  {
   "cell_type": "code",
   "execution_count": 40,
   "metadata": {},
   "outputs": [
    {
     "name": "stdout",
     "output_type": "stream",
     "text": [
      "float64 0.0 255.0 (5000, 48, 48, 1)\n",
      "int64 0 1 (5000,)\n"
     ]
    }
   ],
   "source": [
    "from sklearn.model_selection import train_test_split\n",
    "X = np.empty(((len(smiles), *np.asarray(smiles[0]).shape)))\n",
    "for i in range(len(smiles)):\n",
    "    X[i] = np.asarray(smiles[i])\n",
    "Y = labels[\"smiling\"].values\n",
    "# convert classes to vector\n",
    "nb_classes = 2\n",
    "Y[Y==-1] = 0\n",
    "#Y = np_utils.to_categorical(Y, nb_classes).astype(np.float32)\n",
    "\n",
    "# shuffle all the data\n",
    "indices = np.arange(len(X))\n",
    "np.random.shuffle(indices)\n",
    "X = X[indices]\n",
    "Y = Y[indices]\n",
    "\n",
    "# prepare weighting for classes since they're unbalanced\n",
    "class_totals = Y.sum(axis=0)\n",
    "class_weight = class_totals.max() / class_totals\n",
    "\n",
    "X = X.reshape(5000,48,48,1)\n",
    "\n",
    "print(X.dtype, X.min(), X.max(), X.shape)\n",
    "print(Y.dtype, Y.min(), Y.max(), Y.shape)\n",
    "X_train, X_test, Y_train, Y_test = train_test_split(X, Y)"
   ]
  },
  {
   "cell_type": "code",
   "execution_count": 41,
   "metadata": {},
   "outputs": [
    {
     "name": "stdout",
     "output_type": "stream",
     "text": [
      "Model: \"sequential\"\n",
      "_________________________________________________________________\n",
      "Layer (type)                 Output Shape              Param #   \n",
      "=================================================================\n",
      "conv2d (Conv2D)              (None, 45, 45, 16)        272       \n",
      "_________________________________________________________________\n",
      "conv2d_1 (Conv2D)            (None, 42, 42, 16)        4112      \n",
      "_________________________________________________________________\n",
      "max_pooling2d (MaxPooling2D) (None, 21, 21, 16)        0         \n",
      "_________________________________________________________________\n",
      "dropout (Dropout)            (None, 21, 21, 16)        0         \n",
      "_________________________________________________________________\n",
      "flatten (Flatten)            (None, 7056)              0         \n",
      "_________________________________________________________________\n",
      "dense (Dense)                (None, 64)                451648    \n",
      "_________________________________________________________________\n",
      "dropout_1 (Dropout)          (None, 64)                0         \n",
      "_________________________________________________________________\n",
      "dense_1 (Dense)              (None, 2)                 130       \n",
      "=================================================================\n",
      "Total params: 456,162\n",
      "Trainable params: 456,162\n",
      "Non-trainable params: 0\n",
      "_________________________________________________________________\n"
     ]
    }
   ],
   "source": [
    "# CNN Model\n",
    "nb_filters = 16\n",
    "nb_pool = 2\n",
    "nb_conv = 4\n",
    "\n",
    "\n",
    "model = models.Sequential()\n",
    "\n",
    "model.add(layers.Conv2D(nb_filters, (nb_conv, nb_conv), activation='relu', input_shape=X.shape[1:]))\n",
    "model.add(layers.Conv2D(nb_filters, (nb_conv, nb_conv), activation='relu'))\n",
    "model.add(layers.MaxPooling2D(pool_size=(nb_pool, nb_pool)))\n",
    "model.add(layers.Dropout(0.25))\n",
    "model.add(layers.Flatten())\n",
    "model.add(layers.Dense(64, activation='relu'))\n",
    "model.add(layers.Dropout(0.5))\n",
    "model.add(layers.Dense(nb_classes))\n",
    "\n",
    "model.compile(loss='categorical_crossentropy', optimizer='adam', metrics=['accuracy'])\n",
    "model.summary()"
   ]
  },
  {
   "cell_type": "code",
   "execution_count": 42,
   "metadata": {},
   "outputs": [
    {
     "name": "stdout",
     "output_type": "stream",
     "text": [
      "Epoch 1/50\n",
      "118/118 [==============================] - 9s 76ms/step - loss: 2.1204 - accuracy: 0.6171 - val_loss: 0.5301 - val_accuracy: 0.7688\n",
      "Epoch 2/50\n",
      "118/118 [==============================] - 10s 85ms/step - loss: 0.5417 - accuracy: 0.7405 - val_loss: 0.5260 - val_accuracy: 0.7696\n",
      "Epoch 3/50\n",
      "118/118 [==============================] - 11s 93ms/step - loss: 0.4961 - accuracy: 0.7616 - val_loss: 0.4590 - val_accuracy: 0.8000\n",
      "Epoch 4/50\n",
      "118/118 [==============================] - 12s 102ms/step - loss: 0.4296 - accuracy: 0.8085 - val_loss: 0.4268 - val_accuracy: 0.8192\n",
      "Epoch 5/50\n",
      "118/118 [==============================] - 13s 108ms/step - loss: 0.4082 - accuracy: 0.8237 - val_loss: 0.4282 - val_accuracy: 0.8176\n",
      "Epoch 6/50\n",
      "118/118 [==============================] - 13s 112ms/step - loss: 0.3779 - accuracy: 0.8368 - val_loss: 0.4165 - val_accuracy: 0.8288\n",
      "Epoch 7/50\n",
      "118/118 [==============================] - 14s 115ms/step - loss: 0.3449 - accuracy: 0.8507 - val_loss: 0.4084 - val_accuracy: 0.8264\n",
      "Epoch 8/50\n",
      "118/118 [==============================] - 14s 119ms/step - loss: 0.3207 - accuracy: 0.8619 - val_loss: 0.4142 - val_accuracy: 0.8168\n",
      "Epoch 9/50\n",
      "118/118 [==============================] - 15s 128ms/step - loss: 0.3206 - accuracy: 0.8619 - val_loss: 0.4389 - val_accuracy: 0.8184\n",
      "Epoch 10/50\n",
      "118/118 [==============================] - 14s 119ms/step - loss: 0.2769 - accuracy: 0.8824 - val_loss: 0.4381 - val_accuracy: 0.8272\n",
      "Epoch 11/50\n",
      "118/118 [==============================] - 14s 122ms/step - loss: 0.2601 - accuracy: 0.8899 - val_loss: 0.4503 - val_accuracy: 0.8216\n",
      "Epoch 12/50\n",
      "118/118 [==============================] - 14s 122ms/step - loss: 0.2425 - accuracy: 0.9003 - val_loss: 0.4357 - val_accuracy: 0.8192\n",
      "Epoch 13/50\n",
      "118/118 [==============================] - 14s 118ms/step - loss: 0.2305 - accuracy: 0.9027 - val_loss: 0.4778 - val_accuracy: 0.8168\n",
      "Epoch 14/50\n",
      "118/118 [==============================] - 14s 116ms/step - loss: 0.2147 - accuracy: 0.9115 - val_loss: 0.4738 - val_accuracy: 0.8272\n",
      "Epoch 15/50\n",
      "118/118 [==============================] - 14s 119ms/step - loss: 0.1870 - accuracy: 0.9200 - val_loss: 0.4813 - val_accuracy: 0.8336\n",
      "Epoch 16/50\n",
      "118/118 [==============================] - 14s 118ms/step - loss: 0.1920 - accuracy: 0.9243 - val_loss: 0.4831 - val_accuracy: 0.8240\n",
      "Epoch 17/50\n",
      "118/118 [==============================] - 14s 119ms/step - loss: 0.1796 - accuracy: 0.9301 - val_loss: 0.5102 - val_accuracy: 0.8312\n",
      "Epoch 18/50\n",
      "118/118 [==============================] - 14s 117ms/step - loss: 0.1660 - accuracy: 0.9339 - val_loss: 0.5170 - val_accuracy: 0.8296\n",
      "Epoch 19/50\n",
      "118/118 [==============================] - 14s 117ms/step - loss: 0.1695 - accuracy: 0.9309 - val_loss: 0.5641 - val_accuracy: 0.8216\n",
      "Epoch 20/50\n",
      "118/118 [==============================] - 14s 117ms/step - loss: 0.1693 - accuracy: 0.9328 - val_loss: 0.5282 - val_accuracy: 0.8128\n",
      "Epoch 21/50\n",
      "118/118 [==============================] - 14s 116ms/step - loss: 0.1664 - accuracy: 0.9355 - val_loss: 0.5096 - val_accuracy: 0.8136\n",
      "Epoch 22/50\n",
      "118/118 [==============================] - 14s 117ms/step - loss: 0.1466 - accuracy: 0.9413 - val_loss: 0.5692 - val_accuracy: 0.8256\n",
      "Epoch 23/50\n",
      "118/118 [==============================] - 13s 111ms/step - loss: 0.1509 - accuracy: 0.9432 - val_loss: 0.6739 - val_accuracy: 0.8040\n",
      "Epoch 24/50\n",
      "118/118 [==============================] - 13s 112ms/step - loss: 0.1289 - accuracy: 0.9541 - val_loss: 0.5770 - val_accuracy: 0.8272\n",
      "Epoch 25/50\n",
      "118/118 [==============================] - 13s 113ms/step - loss: 0.1437 - accuracy: 0.9461 - val_loss: 0.6721 - val_accuracy: 0.8184\n",
      "Epoch 26/50\n",
      "118/118 [==============================] - 13s 114ms/step - loss: 0.1160 - accuracy: 0.9549 - val_loss: 0.5936 - val_accuracy: 0.8064\n",
      "Epoch 27/50\n",
      "118/118 [==============================] - 13s 112ms/step - loss: 0.1358 - accuracy: 0.9475 - val_loss: 0.8123 - val_accuracy: 0.8136\n",
      "Epoch 28/50\n",
      "118/118 [==============================] - 13s 110ms/step - loss: 0.1119 - accuracy: 0.9573 - val_loss: 0.9006 - val_accuracy: 0.8096\n",
      "Epoch 29/50\n",
      "118/118 [==============================] - 13s 109ms/step - loss: 0.1142 - accuracy: 0.9544 - val_loss: 0.7552 - val_accuracy: 0.7976\n",
      "Epoch 30/50\n",
      "118/118 [==============================] - 13s 107ms/step - loss: 0.1225 - accuracy: 0.9541 - val_loss: 0.6481 - val_accuracy: 0.8016\n",
      "Epoch 31/50\n",
      "118/118 [==============================] - 13s 106ms/step - loss: 0.1516 - accuracy: 0.9357 - val_loss: 0.6257 - val_accuracy: 0.8072\n",
      "Epoch 32/50\n",
      "118/118 [==============================] - 12s 105ms/step - loss: 0.1105 - accuracy: 0.9565 - val_loss: 0.7420 - val_accuracy: 0.8128\n",
      "Epoch 33/50\n",
      "118/118 [==============================] - 12s 105ms/step - loss: 0.0952 - accuracy: 0.9701 - val_loss: 0.7118 - val_accuracy: 0.8120\n",
      "Epoch 34/50\n",
      "118/118 [==============================] - 12s 106ms/step - loss: 0.1180 - accuracy: 0.9512 - val_loss: 0.8658 - val_accuracy: 0.8072\n",
      "Epoch 35/50\n",
      "118/118 [==============================] - 12s 105ms/step - loss: 0.1140 - accuracy: 0.9619 - val_loss: 0.6549 - val_accuracy: 0.8248\n",
      "Epoch 36/50\n",
      "118/118 [==============================] - 12s 105ms/step - loss: 0.1093 - accuracy: 0.9627 - val_loss: 0.6717 - val_accuracy: 0.8240\n",
      "Epoch 37/50\n",
      "118/118 [==============================] - 12s 103ms/step - loss: 0.1117 - accuracy: 0.9573 - val_loss: 0.8670 - val_accuracy: 0.8160\n",
      "Epoch 38/50\n",
      "118/118 [==============================] - 12s 102ms/step - loss: 0.1112 - accuracy: 0.9621 - val_loss: 0.7521 - val_accuracy: 0.8096\n",
      "Epoch 39/50\n",
      "118/118 [==============================] - 12s 101ms/step - loss: 0.0876 - accuracy: 0.9653 - val_loss: 0.8996 - val_accuracy: 0.8104\n",
      "Epoch 40/50\n",
      "118/118 [==============================] - 12s 100ms/step - loss: 0.0938 - accuracy: 0.9659 - val_loss: 0.8194 - val_accuracy: 0.8168\n",
      "Epoch 41/50\n",
      "118/118 [==============================] - 12s 100ms/step - loss: 0.1132 - accuracy: 0.9584 - val_loss: 0.8820 - val_accuracy: 0.8096\n",
      "Epoch 42/50\n",
      "118/118 [==============================] - 12s 98ms/step - loss: 0.1499 - accuracy: 0.9400 - val_loss: 0.8029 - val_accuracy: 0.8192\n",
      "Epoch 43/50\n",
      "118/118 [==============================] - 12s 98ms/step - loss: 0.0936 - accuracy: 0.9643 - val_loss: 0.7288 - val_accuracy: 0.8192\n",
      "Epoch 44/50\n",
      "118/118 [==============================] - 12s 98ms/step - loss: 0.0833 - accuracy: 0.9699 - val_loss: 0.8083 - val_accuracy: 0.8144\n",
      "Epoch 45/50\n",
      "118/118 [==============================] - 12s 99ms/step - loss: 0.0927 - accuracy: 0.9680 - val_loss: 0.7481 - val_accuracy: 0.8200\n",
      "Epoch 46/50\n",
      "118/118 [==============================] - 12s 98ms/step - loss: 0.0934 - accuracy: 0.9637 - val_loss: 0.9989 - val_accuracy: 0.7968\n",
      "Epoch 47/50\n",
      "118/118 [==============================] - 11s 97ms/step - loss: 0.1081 - accuracy: 0.9659 - val_loss: 0.6889 - val_accuracy: 0.8280\n",
      "Epoch 48/50\n",
      "118/118 [==============================] - 12s 99ms/step - loss: 0.0807 - accuracy: 0.9704 - val_loss: 0.7938 - val_accuracy: 0.8264\n",
      "Epoch 49/50\n",
      "118/118 [==============================] - 11s 97ms/step - loss: 0.0918 - accuracy: 0.9664 - val_loss: 0.8575 - val_accuracy: 0.8240\n",
      "Epoch 50/50\n",
      "118/118 [==============================] - 11s 96ms/step - loss: 0.0720 - accuracy: 0.9739 - val_loss: 0.9386 - val_accuracy: 0.8192\n"
     ]
    }
   ],
   "source": [
    "model.compile(optimizer='adam',\n",
    "              loss=tf.keras.losses.SparseCategoricalCrossentropy(from_logits=True),\n",
    "              metrics=['accuracy'])\n",
    "\n",
    "history = model.fit(X_train, Y_train, epochs=50, \n",
    "                    validation_data=(X_test, Y_test))"
   ]
  },
  {
   "cell_type": "code",
   "execution_count": null,
   "metadata": {},
   "outputs": [],
   "source": []
  }
 ],
 "metadata": {
  "kernelspec": {
   "display_name": "Python 3",
   "language": "python",
   "name": "python3"
  },
  "language_info": {
   "codemirror_mode": {
    "name": "ipython",
    "version": 3
   },
   "file_extension": ".py",
   "mimetype": "text/x-python",
   "name": "python",
   "nbconvert_exporter": "python",
   "pygments_lexer": "ipython3",
   "version": "3.7.1"
  }
 },
 "nbformat": 4,
 "nbformat_minor": 2
}
