{
 "cells": [
  {
   "cell_type": "markdown",
   "metadata": {},
   "source": [
    "# <font color=\"orange\">Load modules</font> "
   ]
  },
  {
   "cell_type": "code",
   "execution_count": 1,
   "metadata": {},
   "outputs": [],
   "source": [
    "import pandas as pd\n",
    "import matplotlib.pyplot as plt \n",
    "import sklearn.metrics\n",
    "from sklearn.metrics import confusion_matrix\n",
    "from sklearn.model_selection import train_test_split\n",
    "from sklearn.preprocessing import MinMaxScaler\n",
    "from sklearn.model_selection import cross_val_score\n",
    "from sklearn.neighbors import KNeighborsClassifier\n",
    "import sklearn.model_selection\n",
    "from sklearn.pipeline import make_pipeline\n",
    "import sklearn.ensemble\n",
    "import numpy as np\n",
    "import sklearn.linear_model as lm\n",
    "import seaborn as sns\n",
    "import sys\n",
    "sys.path.append(\"/Users/macbookpro/UCL - MSc Integrated Machine Learning Systems/Y1/Applied Machine Learning I/Final Assignment/AMLS_20-21_SN17024244\")\n",
    "from _CFG_Task_A import *\n",
    "from _CLASS_ImageManager import *"
   ]
  },
  {
   "cell_type": "markdown",
   "metadata": {},
   "source": [
    "In the following lines we load the labels .csv file."
   ]
  },
  {
   "cell_type": "code",
   "execution_count": 2,
   "metadata": {},
   "outputs": [],
   "source": [
    "# Now we load the label.csv file and store the gender labels in y variable, replacing -1 with 0\n",
    "y = load_images_label_csv(\"gender\")\n",
    "y[y==-1] = 0"
   ]
  },
  {
   "cell_type": "markdown",
   "metadata": {},
   "source": [
    "The following code is to remove the test_set in case this has been moved from celeba_test/img to celeba/img."
   ]
  },
  {
   "cell_type": "code",
   "execution_count": 3,
   "metadata": {},
   "outputs": [],
   "source": [
    "if count_n_images(sub_folder, extension) > 5000:\n",
    "    move_images_fromfolder(sub_folder, sub_test_folder, extension)"
   ]
  },
  {
   "cell_type": "markdown",
   "metadata": {},
   "source": [
    "# <font color=\"orange\">Load and process images</font> "
   ]
  },
  {
   "cell_type": "markdown",
   "metadata": {},
   "source": [
    "We leverage on the **ImageManager** class object to load the whole set of images as well as crop them based on the body part we are interested in. The processing is based on a Haar Cascade Classifier. This is an effective object detection approach which was proposed by Paul Viola and Michael Jones back in 2001. This is basically a machine learning based approach where a cascade function is trained from a lot of images both positive and negative. Based on the training it is then used to detect the objects in the other images.\n",
    "So how this works is they are huge individual .xml files with a lot of feature sets and each .xml corresponds to a very specific type of use case."
   ]
  },
  {
   "cell_type": "code",
   "execution_count": 4,
   "metadata": {},
   "outputs": [
    {
     "name": "stdout",
     "output_type": "stream",
     "text": [
      "Starting to load images from /Users/macbookpro/UCL - MSc Integrated Machine Learning Systems/Y1/Applied Machine Learning I/Final Assignment/AMLS_20-21_SN17024244/Datasets/celeba/img/ with extension .jpg\n",
      "2252/5000 images loaded\n",
      "4528/5000 images loaded\n",
      "5000/5000 images loaded\n"
     ]
    }
   ],
   "source": [
    "imgmgr = ImageManager()\n",
    "imgmgr.load_images_from_folder(sub_folder, extension, verbose = True)\n",
    "imgmgr.bodypart = \"face\"\n",
    "imges = imgmgr.crop_part((36,36), squaring = False, x_offsets=(1/8,-1/8), y_offsets = (1/8,-1/8))"
   ]
  },
  {
   "cell_type": "markdown",
   "metadata": {},
   "source": [
    "This is an example of an image in the celeba dataset after processing."
   ]
  },
  {
   "cell_type": "code",
   "execution_count": 5,
   "metadata": {},
   "outputs": [
    {
     "data": {
      "text/plain": [
       "<matplotlib.image.AxesImage at 0x7fe7ae7a5748>"
      ]
     },
     "execution_count": 5,
     "metadata": {},
     "output_type": "execute_result"
    },
    {
     "data": {
      "image/png": "[encoded data removed]",
      "text/plain": [
       "<Figure size 432x288 with 1 Axes>"
      ]
     },
     "metadata": {
      "needs_background": "light"
     },
     "output_type": "display_data"
    }
   ],
   "source": [
    "rgb = cv2.cvtColor(imges[0], cv2.COLOR_BGR2RGB)\n",
    "plt.imshow(rgb)"
   ]
  },
  {
   "cell_type": "markdown",
   "metadata": {},
   "source": [
    "# <font color=\"orange\">Solving exercise using various machine learning approches</font> "
   ]
  },
  {
   "cell_type": "markdown",
   "metadata": {},
   "source": [
    "Once our images have been processed, we can split our dataset into train and test sets."
   ]
  },
  {
   "cell_type": "code",
   "execution_count": 6,
   "metadata": {},
   "outputs": [],
   "source": [
    "X = imgmgr.images\n",
    "X = X.reshape(X.shape[0], np.prod(X.shape[1:]))\n",
    "X_train, X_test, y_train, y_test = train_test_split(X, y)"
   ]
  },
  {
   "cell_type": "markdown",
   "metadata": {},
   "source": [
    "### Initial Cross Validation"
   ]
  },
  {
   "cell_type": "markdown",
   "metadata": {},
   "source": [
    "As a first step, we want to check for performance of linear classifiers (SVM and logistic regression) with SGD training. We also cross check the regulariser term by comparing L1 with L2 norms. The GridSearchCV function generates candidates from a grid of parameter values specified with the \"param_grid\" dictionary. "
   ]
  },
  {
   "cell_type": "code",
   "execution_count": 7,
   "metadata": {},
   "outputs": [
    {
     "data": {
      "text/plain": [
       "GridSearchCV(estimator=SGDClassifier(),\n",
       "             param_grid={'loss': ['hinge', 'log'], 'penalty': ['l1', 'l2']})"
      ]
     },
     "execution_count": 7,
     "metadata": {},
     "output_type": "execute_result"
    }
   ],
   "source": [
    "param_grid = {\"loss\":[ \"hinge\", \"log\"], \n",
    "              \"penalty\":[\"l1\", \"l2\"]}\n",
    "\n",
    "clf = sklearn.model_selection.GridSearchCV(lm.SGDClassifier(), param_grid, cv=None)\n",
    "clf.fit(X_train, y_train)"
   ]
  },
  {
   "cell_type": "code",
   "execution_count": 8,
   "metadata": {},
   "outputs": [
    {
     "data": {
      "text/html": [
       "<div>\n",
       "<style scoped>\n",
       "    .dataframe tbody tr th:only-of-type {\n",
       "        vertical-align: middle;\n",
       "    }\n",
       "\n",
       "    .dataframe tbody tr th {\n",
       "        vertical-align: top;\n",
       "    }\n",
       "\n",
       "    .dataframe thead th {\n",
       "        text-align: right;\n",
       "    }\n",
       "</style>\n",
       "<table border=\"1\" class=\"dataframe\">\n",
       "  <thead>\n",
       "    <tr style=\"text-align: right;\">\n",
       "      <th></th>\n",
       "      <th>mean_fit_time</th>\n",
       "      <th>std_fit_time</th>\n",
       "      <th>mean_score_time</th>\n",
       "      <th>std_score_time</th>\n",
       "      <th>param_loss</th>\n",
       "      <th>param_penalty</th>\n",
       "      <th>params</th>\n",
       "      <th>split0_test_score</th>\n",
       "      <th>split1_test_score</th>\n",
       "      <th>split2_test_score</th>\n",
       "      <th>split3_test_score</th>\n",
       "      <th>split4_test_score</th>\n",
       "      <th>mean_test_score</th>\n",
       "      <th>std_test_score</th>\n",
       "    </tr>\n",
       "    <tr>\n",
       "      <th>rank_test_score</th>\n",
       "      <th></th>\n",
       "      <th></th>\n",
       "      <th></th>\n",
       "      <th></th>\n",
       "      <th></th>\n",
       "      <th></th>\n",
       "      <th></th>\n",
       "      <th></th>\n",
       "      <th></th>\n",
       "      <th></th>\n",
       "      <th></th>\n",
       "      <th></th>\n",
       "      <th></th>\n",
       "      <th></th>\n",
       "    </tr>\n",
       "  </thead>\n",
       "  <tbody>\n",
       "    <tr>\n",
       "      <th>2</th>\n",
       "      <td>7.049673</td>\n",
       "      <td>2.383721</td>\n",
       "      <td>0.008236</td>\n",
       "      <td>0.003168</td>\n",
       "      <td>hinge</td>\n",
       "      <td>l1</td>\n",
       "      <td>{'loss': 'hinge', 'penalty': 'l1'}</td>\n",
       "      <td>0.861333</td>\n",
       "      <td>0.857333</td>\n",
       "      <td>0.869333</td>\n",
       "      <td>0.836000</td>\n",
       "      <td>0.838667</td>\n",
       "      <td>0.852533</td>\n",
       "      <td>0.013026</td>\n",
       "    </tr>\n",
       "    <tr>\n",
       "      <th>4</th>\n",
       "      <td>2.219465</td>\n",
       "      <td>0.247316</td>\n",
       "      <td>0.007650</td>\n",
       "      <td>0.001384</td>\n",
       "      <td>hinge</td>\n",
       "      <td>l2</td>\n",
       "      <td>{'loss': 'hinge', 'penalty': 'l2'}</td>\n",
       "      <td>0.796000</td>\n",
       "      <td>0.852000</td>\n",
       "      <td>0.861333</td>\n",
       "      <td>0.806667</td>\n",
       "      <td>0.809333</td>\n",
       "      <td>0.825067</td>\n",
       "      <td>0.026350</td>\n",
       "    </tr>\n",
       "    <tr>\n",
       "      <th>1</th>\n",
       "      <td>9.503580</td>\n",
       "      <td>1.245200</td>\n",
       "      <td>0.007188</td>\n",
       "      <td>0.000400</td>\n",
       "      <td>log</td>\n",
       "      <td>l1</td>\n",
       "      <td>{'loss': 'log', 'penalty': 'l1'}</td>\n",
       "      <td>0.873333</td>\n",
       "      <td>0.848000</td>\n",
       "      <td>0.868000</td>\n",
       "      <td>0.841333</td>\n",
       "      <td>0.834667</td>\n",
       "      <td>0.853067</td>\n",
       "      <td>0.015071</td>\n",
       "    </tr>\n",
       "    <tr>\n",
       "      <th>3</th>\n",
       "      <td>2.201787</td>\n",
       "      <td>0.603237</td>\n",
       "      <td>0.006840</td>\n",
       "      <td>0.000460</td>\n",
       "      <td>log</td>\n",
       "      <td>l2</td>\n",
       "      <td>{'loss': 'log', 'penalty': 'l2'}</td>\n",
       "      <td>0.862667</td>\n",
       "      <td>0.834667</td>\n",
       "      <td>0.861333</td>\n",
       "      <td>0.785333</td>\n",
       "      <td>0.849333</td>\n",
       "      <td>0.838667</td>\n",
       "      <td>0.028510</td>\n",
       "    </tr>\n",
       "  </tbody>\n",
       "</table>\n",
       "</div>"
      ],
      "text/plain": [
       "                 mean_fit_time  std_fit_time  mean_score_time  std_score_time  \\\n",
       "rank_test_score                                                                 \n",
       "2                     7.049673      2.383721         0.008236        0.003168   \n",
       "4                     2.219465      0.247316         0.007650        0.001384   \n",
       "1                     9.503580      1.245200         0.007188        0.000400   \n",
       "3                     2.201787      0.603237         0.006840        0.000460   \n",
       "\n",
       "                param_loss param_penalty                              params  \\\n",
       "rank_test_score                                                                \n",
       "2                    hinge            l1  {'loss': 'hinge', 'penalty': 'l1'}   \n",
       "4                    hinge            l2  {'loss': 'hinge', 'penalty': 'l2'}   \n",
       "1                      log            l1    {'loss': 'log', 'penalty': 'l1'}   \n",
       "3                      log            l2    {'loss': 'log', 'penalty': 'l2'}   \n",
       "\n",
       "                 split0_test_score  split1_test_score  split2_test_score  \\\n",
       "rank_test_score                                                            \n",
       "2                         0.861333           0.857333           0.869333   \n",
       "4                         0.796000           0.852000           0.861333   \n",
       "1                         0.873333           0.848000           0.868000   \n",
       "3                         0.862667           0.834667           0.861333   \n",
       "\n",
       "                 split3_test_score  split4_test_score  mean_test_score  \\\n",
       "rank_test_score                                                          \n",
       "2                         0.836000           0.838667         0.852533   \n",
       "4                         0.806667           0.809333         0.825067   \n",
       "1                         0.841333           0.834667         0.853067   \n",
       "3                         0.785333           0.849333         0.838667   \n",
       "\n",
       "                 std_test_score  \n",
       "rank_test_score                  \n",
       "2                      0.013026  \n",
       "4                      0.026350  \n",
       "1                      0.015071  \n",
       "3                      0.028510  "
      ]
     },
     "execution_count": 8,
     "metadata": {},
     "output_type": "execute_result"
    }
   ],
   "source": [
    "results_table = pd.DataFrame.from_dict(clf.cv_results_).set_index(\"rank_test_score\")\n",
    "results_table"
   ]
  },
  {
   "cell_type": "markdown",
   "metadata": {},
   "source": [
    "Here below you will find 2 different approaches to the gender detection problem. Supervised learning techniques are used."
   ]
  },
  {
   "cell_type": "markdown",
   "metadata": {},
   "source": [
    "### 1. Support Vector Machine"
   ]
  },
  {
   "cell_type": "markdown",
   "metadata": {},
   "source": [
    "From the table above, Support Vector Machine (loss=\"hinge\") with L1 norm results to be the best classifier. We report here below the results."
   ]
  },
  {
   "cell_type": "markdown",
   "metadata": {},
   "source": [
    "A way to eliminate bias and normalise input features in our dataset is to apply a MinMaxScaler() function. This  rescales the data set such that all feature values are between 0 and 1. This function is very sensitive to outliers."
   ]
  },
  {
   "cell_type": "code",
   "execution_count": 9,
   "metadata": {},
   "outputs": [
    {
     "name": "stdout",
     "output_type": "stream",
     "text": [
      "TRAIN METRICS\n",
      "              precision    recall  f1-score   support\n",
      "\n",
      "           0       0.94      0.88      0.91      1894\n",
      "           1       0.89      0.95      0.92      1856\n",
      "\n",
      "    accuracy                           0.91      3750\n",
      "   macro avg       0.92      0.91      0.91      3750\n",
      "weighted avg       0.92      0.91      0.91      3750\n",
      "\n",
      "TEST METRICS\n",
      "              precision    recall  f1-score   support\n",
      "\n",
      "           0       0.86      0.84      0.85       606\n",
      "           1       0.86      0.88      0.87       644\n",
      "\n",
      "    accuracy                           0.86      1250\n",
      "   macro avg       0.86      0.86      0.86      1250\n",
      "weighted avg       0.86      0.86      0.86      1250\n",
      "\n"
     ]
    }
   ],
   "source": [
    "clf = make_pipeline(MinMaxScaler(), lm.SGDClassifier(loss='hinge', penalty='l1'))\n",
    "clf.fit(X_train, y_train)\n",
    "y_pred_test = clf.predict(X_test)\n",
    "y_pred_train = clf.predict(X_train)\n",
    "print(\"TRAIN METRICS\")\n",
    "print(sklearn.metrics.classification_report(y_train, y_pred_train))\n",
    "print(\"TEST METRICS\")\n",
    "print(sklearn.metrics.classification_report(y_test, y_pred_test))"
   ]
  },
  {
   "cell_type": "markdown",
   "metadata": {},
   "source": [
    "We present the confusion matrix once data has been trained using SVM."
   ]
  },
  {
   "cell_type": "code",
   "execution_count": 10,
   "metadata": {},
   "outputs": [
    {
     "data": {
      "image/png": "[encoded data removed]",
      "text/plain": [
       "<Figure size 432x288 with 2 Axes>"
      ]
     },
     "metadata": {
      "needs_background": "light"
     },
     "output_type": "display_data"
    }
   ],
   "source": [
    "train_test_confusion_matrix(y_train, y_pred_train, y_test, y_pred_test)"
   ]
  },
  {
   "cell_type": "markdown",
   "metadata": {},
   "source": [
    "### 2. Random Forest"
   ]
  },
  {
   "cell_type": "markdown",
   "metadata": {},
   "source": [
    "Once a backtesting on the optimal number of trees is performed, then we can decide on the final n_estimator parameter. As you can see from the chart below, including ta least 20 trees will increase the accuracy significantly. As for the criterion parameter choice, I have noticed that the selection of impurity measure has little effect on the performance. However, Entropy returns lightly better results compared to Gini."
   ]
  },
  {
   "cell_type": "code",
   "execution_count": 11,
   "metadata": {},
   "outputs": [
    {
     "name": "stdout",
     "output_type": "stream",
     "text": [
      "TRAIN METRICS\n",
      "              precision    recall  f1-score   support\n",
      "\n",
      "           0       0.87      0.85      0.86      1894\n",
      "           1       0.85      0.87      0.86      1856\n",
      "\n",
      "    accuracy                           0.86      3750\n",
      "   macro avg       0.86      0.86      0.86      3750\n",
      "weighted avg       0.86      0.86      0.86      3750\n",
      "\n",
      "TEST METRICS\n",
      "              precision    recall  f1-score   support\n",
      "\n",
      "           0       0.79      0.73      0.76       606\n",
      "           1       0.76      0.82      0.79       644\n",
      "\n",
      "    accuracy                           0.78      1250\n",
      "   macro avg       0.78      0.77      0.77      1250\n",
      "weighted avg       0.78      0.78      0.78      1250\n",
      "\n"
     ]
    }
   ],
   "source": [
    "clf = sklearn.ensemble.RandomForestClassifier(n_estimators = 70, criterion=\"entropy\", max_depth=5)\n",
    "clf.fit(X_train, y_train)\n",
    "y_pred_test = clf.predict(X_test)\n",
    "y_pred_train = clf.predict(X_train)\n",
    "print(\"TRAIN METRICS\")\n",
    "print(sklearn.metrics.classification_report(y_train, y_pred_train))\n",
    "print(\"TEST METRICS\")\n",
    "print(sklearn.metrics.classification_report(y_test, y_pred_test))"
   ]
  },
  {
   "cell_type": "code",
   "execution_count": 12,
   "metadata": {},
   "outputs": [
    {
     "name": "stderr",
     "output_type": "stream",
     "text": [
      "No handles with labels found to put in legend.\n"
     ]
    },
    {
     "data": {
      "image/png": "[encoded data removed]",
      "text/plain": [
       "<Figure size 432x288 with 1 Axes>"
      ]
     },
     "metadata": {
      "needs_background": "light"
     },
     "output_type": "display_data"
    }
   ],
   "source": [
    "n_estimators=np.arange(5, 100, 5)\n",
    "\n",
    "# Dictionary containing (<n_estimators> : <error rate>) pairs.\n",
    "d = {}\n",
    "\n",
    "for x in n_estimators:\n",
    "    clf.set_params(n_estimators=x)\n",
    "    clf.fit(X_train, y_train)\n",
    "    error = 1 - clf.score(X_test, y_test)\n",
    "    d[x] = error\n",
    "\n",
    "plt.plot(d.keys(), d.values())\n",
    "plt.xlabel(\"n_estimators\")\n",
    "plt.ylabel(\"Error rate\")\n",
    "plt.legend(loc=\"upper right\")\n",
    "plt.title('Backtesting performance of number of trees')\n",
    "plt.show()"
   ]
  },
  {
   "cell_type": "markdown",
   "metadata": {},
   "source": [
    "We present the confusion matrix once data has been trained using Random Forest."
   ]
  },
  {
   "cell_type": "code",
   "execution_count": 13,
   "metadata": {},
   "outputs": [
    {
     "data": {
      "image/png": "[encoded data removed]",
      "text/plain": [
       "<Figure size 432x288 with 2 Axes>"
      ]
     },
     "metadata": {
      "needs_background": "light"
     },
     "output_type": "display_data"
    }
   ],
   "source": [
    "train_test_confusion_matrix(y_train, y_pred_train, y_test, y_pred_test)"
   ]
  },
  {
   "cell_type": "markdown",
   "metadata": {},
   "source": [
    "Now we perform some hyper-parameter tuning to see if other Random Forest arguments would have led to a significantly higher performance. The below dictionary will test 4 different sizes of n_estimators and max_depth. We have initialised this process as we initially observed that allowing a flexible \"max_depth\" variable would lead to overfitting."
   ]
  },
  {
   "cell_type": "code",
   "execution_count": 14,
   "metadata": {},
   "outputs": [],
   "source": [
    "param_grid = {\"n_estimators\": [20, 40, 60, 80],\n",
    "              \"max_depth\":    [5, 7, 10, 20]}"
   ]
  },
  {
   "cell_type": "code",
   "execution_count": 15,
   "metadata": {},
   "outputs": [
    {
     "data": {
      "text/plain": [
       "GridSearchCV(cv=5,\n",
       "             estimator=RandomForestClassifier(criterion='entropy', max_depth=5,\n",
       "                                              n_estimators=95),\n",
       "             param_grid={'max_depth': [5, 7, 10, 20],\n",
       "                         'n_estimators': [20, 40, 60, 80]})"
      ]
     },
     "execution_count": 15,
     "metadata": {},
     "output_type": "execute_result"
    }
   ],
   "source": [
    "grid_clf = sklearn.model_selection.GridSearchCV(clf, param_grid, cv=5)\n",
    "grid_clf.fit(X_train, y_train)"
   ]
  },
  {
   "cell_type": "code",
   "execution_count": 16,
   "metadata": {},
   "outputs": [
    {
     "data": {
      "text/html": [
       "<div>\n",
       "<style scoped>\n",
       "    .dataframe tbody tr th:only-of-type {\n",
       "        vertical-align: middle;\n",
       "    }\n",
       "\n",
       "    .dataframe tbody tr th {\n",
       "        vertical-align: top;\n",
       "    }\n",
       "\n",
       "    .dataframe thead th {\n",
       "        text-align: right;\n",
       "    }\n",
       "</style>\n",
       "<table border=\"1\" class=\"dataframe\">\n",
       "  <thead>\n",
       "    <tr style=\"text-align: right;\">\n",
       "      <th></th>\n",
       "      <th>mean_fit_time</th>\n",
       "      <th>std_fit_time</th>\n",
       "      <th>mean_score_time</th>\n",
       "      <th>std_score_time</th>\n",
       "      <th>param_max_depth</th>\n",
       "      <th>param_n_estimators</th>\n",
       "      <th>params</th>\n",
       "      <th>split0_test_score</th>\n",
       "      <th>split1_test_score</th>\n",
       "      <th>split2_test_score</th>\n",
       "      <th>split3_test_score</th>\n",
       "      <th>split4_test_score</th>\n",
       "      <th>mean_test_score</th>\n",
       "      <th>std_test_score</th>\n",
       "    </tr>\n",
       "    <tr>\n",
       "      <th>rank_test_score</th>\n",
       "      <th></th>\n",
       "      <th></th>\n",
       "      <th></th>\n",
       "      <th></th>\n",
       "      <th></th>\n",
       "      <th></th>\n",
       "      <th></th>\n",
       "      <th></th>\n",
       "      <th></th>\n",
       "      <th></th>\n",
       "      <th></th>\n",
       "      <th></th>\n",
       "      <th></th>\n",
       "      <th></th>\n",
       "    </tr>\n",
       "  </thead>\n",
       "  <tbody>\n",
       "    <tr>\n",
       "      <th>16</th>\n",
       "      <td>1.078319</td>\n",
       "      <td>0.036990</td>\n",
       "      <td>0.009929</td>\n",
       "      <td>0.002031</td>\n",
       "      <td>5</td>\n",
       "      <td>20</td>\n",
       "      <td>{'max_depth': 5, 'n_estimators': 20}</td>\n",
       "      <td>0.777333</td>\n",
       "      <td>0.773333</td>\n",
       "      <td>0.800000</td>\n",
       "      <td>0.788000</td>\n",
       "      <td>0.790667</td>\n",
       "      <td>0.785867</td>\n",
       "      <td>0.009563</td>\n",
       "    </tr>\n",
       "    <tr>\n",
       "      <th>14</th>\n",
       "      <td>2.158781</td>\n",
       "      <td>0.020484</td>\n",
       "      <td>0.012289</td>\n",
       "      <td>0.001480</td>\n",
       "      <td>5</td>\n",
       "      <td>40</td>\n",
       "      <td>{'max_depth': 5, 'n_estimators': 40}</td>\n",
       "      <td>0.776000</td>\n",
       "      <td>0.792000</td>\n",
       "      <td>0.824000</td>\n",
       "      <td>0.784000</td>\n",
       "      <td>0.780000</td>\n",
       "      <td>0.791200</td>\n",
       "      <td>0.017233</td>\n",
       "    </tr>\n",
       "    <tr>\n",
       "      <th>13</th>\n",
       "      <td>3.141887</td>\n",
       "      <td>0.067586</td>\n",
       "      <td>0.014002</td>\n",
       "      <td>0.001009</td>\n",
       "      <td>5</td>\n",
       "      <td>60</td>\n",
       "      <td>{'max_depth': 5, 'n_estimators': 60}</td>\n",
       "      <td>0.788000</td>\n",
       "      <td>0.781333</td>\n",
       "      <td>0.820000</td>\n",
       "      <td>0.790667</td>\n",
       "      <td>0.777333</td>\n",
       "      <td>0.791467</td>\n",
       "      <td>0.015028</td>\n",
       "    </tr>\n",
       "    <tr>\n",
       "      <th>10</th>\n",
       "      <td>4.179834</td>\n",
       "      <td>0.040757</td>\n",
       "      <td>0.018757</td>\n",
       "      <td>0.001958</td>\n",
       "      <td>5</td>\n",
       "      <td>80</td>\n",
       "      <td>{'max_depth': 5, 'n_estimators': 80}</td>\n",
       "      <td>0.792000</td>\n",
       "      <td>0.774667</td>\n",
       "      <td>0.813333</td>\n",
       "      <td>0.809333</td>\n",
       "      <td>0.797333</td>\n",
       "      <td>0.797333</td>\n",
       "      <td>0.013728</td>\n",
       "    </tr>\n",
       "    <tr>\n",
       "      <th>12</th>\n",
       "      <td>1.483752</td>\n",
       "      <td>0.022826</td>\n",
       "      <td>0.009006</td>\n",
       "      <td>0.000652</td>\n",
       "      <td>7</td>\n",
       "      <td>20</td>\n",
       "      <td>{'max_depth': 7, 'n_estimators': 20}</td>\n",
       "      <td>0.800000</td>\n",
       "      <td>0.776000</td>\n",
       "      <td>0.808000</td>\n",
       "      <td>0.794667</td>\n",
       "      <td>0.793333</td>\n",
       "      <td>0.794400</td>\n",
       "      <td>0.010546</td>\n",
       "    </tr>\n",
       "    <tr>\n",
       "      <th>9</th>\n",
       "      <td>2.904299</td>\n",
       "      <td>0.091175</td>\n",
       "      <td>0.013959</td>\n",
       "      <td>0.003863</td>\n",
       "      <td>7</td>\n",
       "      <td>40</td>\n",
       "      <td>{'max_depth': 7, 'n_estimators': 40}</td>\n",
       "      <td>0.798667</td>\n",
       "      <td>0.798667</td>\n",
       "      <td>0.828000</td>\n",
       "      <td>0.793333</td>\n",
       "      <td>0.804000</td>\n",
       "      <td>0.804533</td>\n",
       "      <td>0.012209</td>\n",
       "    </tr>\n",
       "    <tr>\n",
       "      <th>8</th>\n",
       "      <td>4.341179</td>\n",
       "      <td>0.032719</td>\n",
       "      <td>0.016359</td>\n",
       "      <td>0.001213</td>\n",
       "      <td>7</td>\n",
       "      <td>60</td>\n",
       "      <td>{'max_depth': 7, 'n_estimators': 60}</td>\n",
       "      <td>0.809333</td>\n",
       "      <td>0.794667</td>\n",
       "      <td>0.829333</td>\n",
       "      <td>0.792000</td>\n",
       "      <td>0.802667</td>\n",
       "      <td>0.805600</td>\n",
       "      <td>0.013344</td>\n",
       "    </tr>\n",
       "    <tr>\n",
       "      <th>4</th>\n",
       "      <td>5.797386</td>\n",
       "      <td>0.083566</td>\n",
       "      <td>0.020139</td>\n",
       "      <td>0.001195</td>\n",
       "      <td>7</td>\n",
       "      <td>80</td>\n",
       "      <td>{'max_depth': 7, 'n_estimators': 80}</td>\n",
       "      <td>0.813333</td>\n",
       "      <td>0.805333</td>\n",
       "      <td>0.841333</td>\n",
       "      <td>0.805333</td>\n",
       "      <td>0.802667</td>\n",
       "      <td>0.813600</td>\n",
       "      <td>0.014321</td>\n",
       "    </tr>\n",
       "    <tr>\n",
       "      <th>11</th>\n",
       "      <td>1.850921</td>\n",
       "      <td>0.059614</td>\n",
       "      <td>0.010008</td>\n",
       "      <td>0.000456</td>\n",
       "      <td>10</td>\n",
       "      <td>20</td>\n",
       "      <td>{'max_depth': 10, 'n_estimators': 20}</td>\n",
       "      <td>0.806667</td>\n",
       "      <td>0.789333</td>\n",
       "      <td>0.806667</td>\n",
       "      <td>0.777333</td>\n",
       "      <td>0.802667</td>\n",
       "      <td>0.796533</td>\n",
       "      <td>0.011519</td>\n",
       "    </tr>\n",
       "    <tr>\n",
       "      <th>7</th>\n",
       "      <td>3.636476</td>\n",
       "      <td>0.051003</td>\n",
       "      <td>0.013437</td>\n",
       "      <td>0.000796</td>\n",
       "      <td>10</td>\n",
       "      <td>40</td>\n",
       "      <td>{'max_depth': 10, 'n_estimators': 40}</td>\n",
       "      <td>0.804000</td>\n",
       "      <td>0.810667</td>\n",
       "      <td>0.824000</td>\n",
       "      <td>0.789333</td>\n",
       "      <td>0.805333</td>\n",
       "      <td>0.806667</td>\n",
       "      <td>0.011187</td>\n",
       "    </tr>\n",
       "    <tr>\n",
       "      <th>2</th>\n",
       "      <td>5.453670</td>\n",
       "      <td>0.044378</td>\n",
       "      <td>0.017924</td>\n",
       "      <td>0.001119</td>\n",
       "      <td>10</td>\n",
       "      <td>60</td>\n",
       "      <td>{'max_depth': 10, 'n_estimators': 60}</td>\n",
       "      <td>0.818667</td>\n",
       "      <td>0.812000</td>\n",
       "      <td>0.836000</td>\n",
       "      <td>0.822667</td>\n",
       "      <td>0.820000</td>\n",
       "      <td>0.821867</td>\n",
       "      <td>0.007893</td>\n",
       "    </tr>\n",
       "    <tr>\n",
       "      <th>1</th>\n",
       "      <td>7.391171</td>\n",
       "      <td>0.166992</td>\n",
       "      <td>0.022258</td>\n",
       "      <td>0.001155</td>\n",
       "      <td>10</td>\n",
       "      <td>80</td>\n",
       "      <td>{'max_depth': 10, 'n_estimators': 80}</td>\n",
       "      <td>0.808000</td>\n",
       "      <td>0.828000</td>\n",
       "      <td>0.844000</td>\n",
       "      <td>0.821333</td>\n",
       "      <td>0.825333</td>\n",
       "      <td>0.825333</td>\n",
       "      <td>0.011593</td>\n",
       "    </tr>\n",
       "    <tr>\n",
       "      <th>15</th>\n",
       "      <td>1.939485</td>\n",
       "      <td>0.033921</td>\n",
       "      <td>0.010698</td>\n",
       "      <td>0.000500</td>\n",
       "      <td>20</td>\n",
       "      <td>20</td>\n",
       "      <td>{'max_depth': 20, 'n_estimators': 20}</td>\n",
       "      <td>0.782667</td>\n",
       "      <td>0.784000</td>\n",
       "      <td>0.817333</td>\n",
       "      <td>0.774667</td>\n",
       "      <td>0.777333</td>\n",
       "      <td>0.787200</td>\n",
       "      <td>0.015448</td>\n",
       "    </tr>\n",
       "    <tr>\n",
       "      <th>6</th>\n",
       "      <td>3.779718</td>\n",
       "      <td>0.032864</td>\n",
       "      <td>0.014788</td>\n",
       "      <td>0.000883</td>\n",
       "      <td>20</td>\n",
       "      <td>40</td>\n",
       "      <td>{'max_depth': 20, 'n_estimators': 40}</td>\n",
       "      <td>0.797333</td>\n",
       "      <td>0.801333</td>\n",
       "      <td>0.814667</td>\n",
       "      <td>0.828000</td>\n",
       "      <td>0.804000</td>\n",
       "      <td>0.809067</td>\n",
       "      <td>0.011072</td>\n",
       "    </tr>\n",
       "    <tr>\n",
       "      <th>5</th>\n",
       "      <td>5.690994</td>\n",
       "      <td>0.097140</td>\n",
       "      <td>0.020435</td>\n",
       "      <td>0.001974</td>\n",
       "      <td>20</td>\n",
       "      <td>60</td>\n",
       "      <td>{'max_depth': 20, 'n_estimators': 60}</td>\n",
       "      <td>0.804000</td>\n",
       "      <td>0.801333</td>\n",
       "      <td>0.820000</td>\n",
       "      <td>0.820000</td>\n",
       "      <td>0.813333</td>\n",
       "      <td>0.811733</td>\n",
       "      <td>0.007838</td>\n",
       "    </tr>\n",
       "    <tr>\n",
       "      <th>3</th>\n",
       "      <td>7.610364</td>\n",
       "      <td>0.080749</td>\n",
       "      <td>0.026199</td>\n",
       "      <td>0.002932</td>\n",
       "      <td>20</td>\n",
       "      <td>80</td>\n",
       "      <td>{'max_depth': 20, 'n_estimators': 80}</td>\n",
       "      <td>0.812000</td>\n",
       "      <td>0.810667</td>\n",
       "      <td>0.837333</td>\n",
       "      <td>0.818667</td>\n",
       "      <td>0.825333</td>\n",
       "      <td>0.820800</td>\n",
       "      <td>0.009783</td>\n",
       "    </tr>\n",
       "  </tbody>\n",
       "</table>\n",
       "</div>"
      ],
      "text/plain": [
       "                 mean_fit_time  std_fit_time  mean_score_time  std_score_time  \\\n",
       "rank_test_score                                                                 \n",
       "16                    1.078319      0.036990         0.009929        0.002031   \n",
       "14                    2.158781      0.020484         0.012289        0.001480   \n",
       "13                    3.141887      0.067586         0.014002        0.001009   \n",
       "10                    4.179834      0.040757         0.018757        0.001958   \n",
       "12                    1.483752      0.022826         0.009006        0.000652   \n",
       "9                     2.904299      0.091175         0.013959        0.003863   \n",
       "8                     4.341179      0.032719         0.016359        0.001213   \n",
       "4                     5.797386      0.083566         0.020139        0.001195   \n",
       "11                    1.850921      0.059614         0.010008        0.000456   \n",
       "7                     3.636476      0.051003         0.013437        0.000796   \n",
       "2                     5.453670      0.044378         0.017924        0.001119   \n",
       "1                     7.391171      0.166992         0.022258        0.001155   \n",
       "15                    1.939485      0.033921         0.010698        0.000500   \n",
       "6                     3.779718      0.032864         0.014788        0.000883   \n",
       "5                     5.690994      0.097140         0.020435        0.001974   \n",
       "3                     7.610364      0.080749         0.026199        0.002932   \n",
       "\n",
       "                param_max_depth param_n_estimators  \\\n",
       "rank_test_score                                      \n",
       "16                            5                 20   \n",
       "14                            5                 40   \n",
       "13                            5                 60   \n",
       "10                            5                 80   \n",
       "12                            7                 20   \n",
       "9                             7                 40   \n",
       "8                             7                 60   \n",
       "4                             7                 80   \n",
       "11                           10                 20   \n",
       "7                            10                 40   \n",
       "2                            10                 60   \n",
       "1                            10                 80   \n",
       "15                           20                 20   \n",
       "6                            20                 40   \n",
       "5                            20                 60   \n",
       "3                            20                 80   \n",
       "\n",
       "                                                params  split0_test_score  \\\n",
       "rank_test_score                                                             \n",
       "16                {'max_depth': 5, 'n_estimators': 20}           0.777333   \n",
       "14                {'max_depth': 5, 'n_estimators': 40}           0.776000   \n",
       "13                {'max_depth': 5, 'n_estimators': 60}           0.788000   \n",
       "10                {'max_depth': 5, 'n_estimators': 80}           0.792000   \n",
       "12                {'max_depth': 7, 'n_estimators': 20}           0.800000   \n",
       "9                 {'max_depth': 7, 'n_estimators': 40}           0.798667   \n",
       "8                 {'max_depth': 7, 'n_estimators': 60}           0.809333   \n",
       "4                 {'max_depth': 7, 'n_estimators': 80}           0.813333   \n",
       "11               {'max_depth': 10, 'n_estimators': 20}           0.806667   \n",
       "7                {'max_depth': 10, 'n_estimators': 40}           0.804000   \n",
       "2                {'max_depth': 10, 'n_estimators': 60}           0.818667   \n",
       "1                {'max_depth': 10, 'n_estimators': 80}           0.808000   \n",
       "15               {'max_depth': 20, 'n_estimators': 20}           0.782667   \n",
       "6                {'max_depth': 20, 'n_estimators': 40}           0.797333   \n",
       "5                {'max_depth': 20, 'n_estimators': 60}           0.804000   \n",
       "3                {'max_depth': 20, 'n_estimators': 80}           0.812000   \n",
       "\n",
       "                 split1_test_score  split2_test_score  split3_test_score  \\\n",
       "rank_test_score                                                            \n",
       "16                        0.773333           0.800000           0.788000   \n",
       "14                        0.792000           0.824000           0.784000   \n",
       "13                        0.781333           0.820000           0.790667   \n",
       "10                        0.774667           0.813333           0.809333   \n",
       "12                        0.776000           0.808000           0.794667   \n",
       "9                         0.798667           0.828000           0.793333   \n",
       "8                         0.794667           0.829333           0.792000   \n",
       "4                         0.805333           0.841333           0.805333   \n",
       "11                        0.789333           0.806667           0.777333   \n",
       "7                         0.810667           0.824000           0.789333   \n",
       "2                         0.812000           0.836000           0.822667   \n",
       "1                         0.828000           0.844000           0.821333   \n",
       "15                        0.784000           0.817333           0.774667   \n",
       "6                         0.801333           0.814667           0.828000   \n",
       "5                         0.801333           0.820000           0.820000   \n",
       "3                         0.810667           0.837333           0.818667   \n",
       "\n",
       "                 split4_test_score  mean_test_score  std_test_score  \n",
       "rank_test_score                                                      \n",
       "16                        0.790667         0.785867        0.009563  \n",
       "14                        0.780000         0.791200        0.017233  \n",
       "13                        0.777333         0.791467        0.015028  \n",
       "10                        0.797333         0.797333        0.013728  \n",
       "12                        0.793333         0.794400        0.010546  \n",
       "9                         0.804000         0.804533        0.012209  \n",
       "8                         0.802667         0.805600        0.013344  \n",
       "4                         0.802667         0.813600        0.014321  \n",
       "11                        0.802667         0.796533        0.011519  \n",
       "7                         0.805333         0.806667        0.011187  \n",
       "2                         0.820000         0.821867        0.007893  \n",
       "1                         0.825333         0.825333        0.011593  \n",
       "15                        0.777333         0.787200        0.015448  \n",
       "6                         0.804000         0.809067        0.011072  \n",
       "5                         0.813333         0.811733        0.007838  \n",
       "3                         0.825333         0.820800        0.009783  "
      ]
     },
     "execution_count": 16,
     "metadata": {},
     "output_type": "execute_result"
    }
   ],
   "source": [
    "results_table = pd.DataFrame.from_dict(grid_clf.cv_results_).set_index(\"rank_test_score\")\n",
    "results_table"
   ]
  }
 ],
 "metadata": {
  "kernelspec": {
   "display_name": "Python 3",
   "language": "python",
   "name": "python3"
  },
  "language_info": {
   "codemirror_mode": {
    "name": "ipython",
    "version": 3
   },
   "file_extension": ".py",
   "mimetype": "text/x-python",
   "name": "python",
   "nbconvert_exporter": "python",
   "pygments_lexer": "ipython3",
   "version": "3.7.1"
  }
 },
 "nbformat": 4,
 "nbformat_minor": 2
}
