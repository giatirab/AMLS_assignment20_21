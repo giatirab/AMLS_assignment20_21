{
 "cells": [
  {
   "cell_type": "code",
   "execution_count": 1,
   "metadata": {},
   "outputs": [],
   "source": [
    "import os\n",
    "import numpy as np\n",
    "import pandas as pd\n",
    "import cv2\n",
    "from sklearn.model_selection import train_test_split\n",
    "import sklearn.linear_model as lm\n",
    "from skimage import filters, feature\n",
    "import matplotlib.pyplot as plt\n",
    "%matplotlib inline\n",
    "from skimage.io import imread, imshow"
   ]
  },
  {
   "cell_type": "code",
   "execution_count": 2,
   "metadata": {},
   "outputs": [],
   "source": [
    "# Config\n",
    "celeba_directory = \"/Users/macbookpro/UCL - MSc Integrated Machine Learning Systems/Y1/Applied Machine Learning I/Final Assignment/AMLS_20-21_SN17024244/Datasets/dataset_AMLS_20-21/celeba/\"\n",
    "celeba_images_subdirectory = celeba_directory + \"img/\"\n",
    "extension = \".jpg\""
   ]
  },
  {
   "cell_type": "code",
   "execution_count": 3,
   "metadata": {},
   "outputs": [],
   "source": [
    "# Count number of .jpg files available\n",
    "def count_n_images(path, extension):\n",
    "    \n",
    "    list_dir = []\n",
    "    list_dir = os.listdir(path)\n",
    "    count = 0\n",
    "    for file in list_dir:\n",
    "        if file.endswith(extension):\n",
    "            count += 1\n",
    "    \n",
    "    return count"
   ]
  },
  {
   "cell_type": "code",
   "execution_count": 4,
   "metadata": {},
   "outputs": [],
   "source": [
    "# Load labels of our dataset\n",
    "def load_images_label_csv():\n",
    "    \n",
    "    FILE_NAME = \"labels.csv\"\n",
    "    SEPARATOR = \"\\t\"\n",
    "    USECOLS = [\"img_name\", \"gender\", \"smiling\"]\n",
    "    \n",
    "    labels_file = pd.read_csv(celeba_directory + FILE_NAME, sep=SEPARATOR, usecols=USECOLS)\n",
    "    \n",
    "    return labels_file"
   ]
  },
  {
   "cell_type": "code",
   "execution_count": 5,
   "metadata": {},
   "outputs": [],
   "source": [
    "# Load array of with n_rows = n_images and each row is array of pixels\n",
    "def load_images_array(image_size=(218, 178, 3)):\n",
    "    \n",
    "    n = count_n_images(celeba_images_subdirectory, extension)\n",
    "    m,r,q = image_size\n",
    "    \n",
    "    X = np.empty((n,m,r,q), dtype=np.uint8) # OpenCV works with this data format\n",
    "    files = os.listdir(celeba_images_subdirectory)\n",
    "    for x, jpg in enumerate(files):\n",
    "        image = cv2.imread(os.path.join(celeba_images_subdirectory, jpg))\n",
    "        X[x] = image\n",
    "        \n",
    "    return X"
   ]
  },
  {
   "cell_type": "code",
   "execution_count": 14,
   "metadata": {},
   "outputs": [],
   "source": [
    "def load_images_flattened_vectors(image_size=(218, 178, 3), image_processing=None):\n",
    "    \n",
    "    X = load_images_array(image_size)\n",
    "    \n",
    "    if image_processing == \"CannyEdgeAlgorithm\":\n",
    "        gray_converter = lambda t: cv2.cvtColor(t, cv2.COLOR_BGR2GRAY)\n",
    "        X = np.array([gray_converter(img) for img in X])\n",
    "        X = np.array([feature.canny(gray_img) for gray_img in X])\n",
    "        Xt = X.reshape((5000, 218*178))\n",
    "    elif image_processing == \"MeanPixels\":\n",
    "        X = np.mean(X, axis=3)\n",
    "        Xt = X.reshape((5000, 218*178))\n",
    "    else:\n",
    "        Xt = X.reshape((5000, 218*178*3))\n",
    "    \n",
    "    return Xt"
   ]
  },
  {
   "cell_type": "code",
   "execution_count": 7,
   "metadata": {},
   "outputs": [
    {
     "data": {
      "text/plain": [
       "(5000, 218, 178, 3)"
      ]
     },
     "execution_count": 7,
     "metadata": {},
     "output_type": "execute_result"
    }
   ],
   "source": [
    "load_images_array().shape"
   ]
  },
  {
   "cell_type": "code",
   "execution_count": 8,
   "metadata": {},
   "outputs": [],
   "source": [
    "# In task A1 we are interesting in guessing Male vs Female\n",
    "y = load_images_label_csv()[\"gender\"].values"
   ]
  },
  {
   "cell_type": "markdown",
   "metadata": {},
   "source": [
    "### Method 1 (no preprocessing)"
   ]
  },
  {
   "cell_type": "code",
   "execution_count": 9,
   "metadata": {},
   "outputs": [
    {
     "name": "stdout",
     "output_type": "stream",
     "text": [
      "(5000, 116412)\n"
     ]
    }
   ],
   "source": [
    "Xt_1 = load_images_flattened_vectors(image_size=(218, 178, 3))\n",
    "print(Xt_1.shape)"
   ]
  },
  {
   "cell_type": "code",
   "execution_count": 10,
   "metadata": {},
   "outputs": [],
   "source": [
    "# Splitting the training and test sets\n",
    "xtrain1, xtest1, ytrain1, ytest1 = train_test_split(Xt_1, y, test_size=0.4, shuffle=True, random_state=42)"
   ]
  },
  {
   "cell_type": "code",
   "execution_count": 11,
   "metadata": {},
   "outputs": [
    {
     "data": {
      "text/plain": [
       "SGDClassifier()"
      ]
     },
     "execution_count": 11,
     "metadata": {},
     "output_type": "execute_result"
    }
   ],
   "source": [
    "# Using linear model with Stochastic Gradient Descent\n",
    "# Our loss function could also be set as \"log\" for logistic regression. Here we apply Support Vector Machine\n",
    "classifier = lm.SGDClassifier(loss=\"hinge\")\n",
    "classifier.fit(xtrain1, ytrain1)"
   ]
  },
  {
   "cell_type": "code",
   "execution_count": 12,
   "metadata": {},
   "outputs": [
    {
     "data": {
      "text/plain": [
       "0.5015"
      ]
     },
     "execution_count": 12,
     "metadata": {},
     "output_type": "execute_result"
    }
   ],
   "source": [
    "# We can see SVM performs poorly on flattened vector of pixels\n",
    "classifier.score(xtest1, ytest1)"
   ]
  },
  {
   "cell_type": "markdown",
   "metadata": {},
   "source": [
    "### Method 2 (Canny Edge Detection)\n",
    "Now we are going to compare this performance with SVM applied on a preprocessed (Canny Edge Detection) vector."
   ]
  },
  {
   "cell_type": "code",
   "execution_count": 15,
   "metadata": {},
   "outputs": [
    {
     "name": "stdout",
     "output_type": "stream",
     "text": [
      "(5000, 38804)\n"
     ]
    }
   ],
   "source": [
    "Xt_2 = load_images_flattened_vectors(image_size=(218, 178, 3), image_processing=\"CannyEdgeAlgorithm\")\n",
    "print(Xt_2.shape)"
   ]
  },
  {
   "cell_type": "code",
   "execution_count": 16,
   "metadata": {},
   "outputs": [],
   "source": [
    "# Splitting the training and test sets\n",
    "xtrain2, xtest2, ytrain2, ytest2 = train_test_split(Xt_2, y, test_size=0.4, shuffle=True, random_state=42)"
   ]
  },
  {
   "cell_type": "code",
   "execution_count": 17,
   "metadata": {},
   "outputs": [
    {
     "data": {
      "text/plain": [
       "SGDClassifier()"
      ]
     },
     "execution_count": 17,
     "metadata": {},
     "output_type": "execute_result"
    }
   ],
   "source": [
    "# Using linear model with Stochastic Gradient Descent\n",
    "# Our loss function could also be set as \"log\" for logistic regression. Here we apply Support Vector Machine\n",
    "classifier = lm.SGDClassifier(loss=\"hinge\")\n",
    "classifier.fit(xtrain2, ytrain2)"
   ]
  },
  {
   "cell_type": "code",
   "execution_count": 18,
   "metadata": {},
   "outputs": [
    {
     "data": {
      "text/plain": [
       "0.497"
      ]
     },
     "execution_count": 18,
     "metadata": {},
     "output_type": "execute_result"
    }
   ],
   "source": [
    "# We can see SVM performs poorly on \"Canny-edited\" flattened vector of pixels\n",
    "classifier.score(xtest2, ytest2)"
   ]
  },
  {
   "cell_type": "markdown",
   "metadata": {},
   "source": [
    "### Method 3 (Mean of pixel values)\n",
    "Now we are going to compare this performance with SVM applied on a preprocessed (Mean Pixels) vector."
   ]
  },
  {
   "cell_type": "code",
   "execution_count": 19,
   "metadata": {},
   "outputs": [
    {
     "name": "stdout",
     "output_type": "stream",
     "text": [
      "(5000, 38804)\n"
     ]
    }
   ],
   "source": [
    "Xt_3 = load_images_flattened_vectors(image_size=(218, 178, 3), image_processing=\"CannyEdgeAlgorithm\")\n",
    "print(Xt_3.shape)"
   ]
  },
  {
   "cell_type": "code",
   "execution_count": 22,
   "metadata": {},
   "outputs": [],
   "source": [
    "# Splitting the training and test sets\n",
    "xtrain3, xtest3, ytrain3, ytest3 = train_test_split(Xt_3, y, test_size=0.4, shuffle=True, random_state=42)"
   ]
  },
  {
   "cell_type": "code",
   "execution_count": 23,
   "metadata": {},
   "outputs": [
    {
     "data": {
      "text/plain": [
       "SGDClassifier()"
      ]
     },
     "execution_count": 23,
     "metadata": {},
     "output_type": "execute_result"
    }
   ],
   "source": [
    "# Using linear model with Stochastic Gradient Descent\n",
    "# Our loss function could also be set as \"log\" for logistic regression. Here we apply Support Vector Machine\n",
    "classifier = lm.SGDClassifier(loss=\"hinge\")\n",
    "classifier.fit(xtrain3, ytrain3)"
   ]
  },
  {
   "cell_type": "code",
   "execution_count": 24,
   "metadata": {},
   "outputs": [
    {
     "data": {
      "text/plain": [
       "0.503"
      ]
     },
     "execution_count": 24,
     "metadata": {},
     "output_type": "execute_result"
    }
   ],
   "source": [
    "# We can see SVM performs poorly on \"Mean-of-RGB\" flattened vector of pixels\n",
    "classifier.score(xtest3, ytest3)"
   ]
  },
  {
   "cell_type": "code",
   "execution_count": null,
   "metadata": {},
   "outputs": [],
   "source": []
  }
 ],
 "metadata": {
  "kernelspec": {
   "display_name": "Python 3",
   "language": "python",
   "name": "python3"
  },
  "language_info": {
   "codemirror_mode": {
    "name": "ipython",
    "version": 3
   },
   "file_extension": ".py",
   "mimetype": "text/x-python",
   "name": "python",
   "nbconvert_exporter": "python",
   "pygments_lexer": "ipython3",
   "version": "3.7.1"
  }
 },
 "nbformat": 4,
 "nbformat_minor": 2
}
