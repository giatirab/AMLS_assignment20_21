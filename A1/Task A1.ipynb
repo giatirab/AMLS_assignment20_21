{
 "cells": [
  {
   "cell_type": "markdown",
   "metadata": {},
   "source": [
    "# <font color=\"orange\">Load modules</font> "
   ]
  },
  {
   "cell_type": "code",
   "execution_count": 3,
   "metadata": {},
   "outputs": [],
   "source": [
    "import pandas as pd\n",
    "import matplotlib.pyplot as plt \n",
    "import sklearn.metrics\n",
    "from sklearn.metrics import confusion_matrix\n",
    "from sklearn.model_selection import train_test_split\n",
    "from sklearn.preprocessing import MinMaxScaler\n",
    "from sklearn.model_selection import cross_val_score\n",
    "from sklearn.neighbors import KNeighborsClassifier\n",
    "import sklearn.model_selection\n",
    "from sklearn.pipeline import make_pipeline\n",
    "import sklearn.ensemble\n",
    "import numpy as np\n",
    "import sklearn.linear_model as lm\n",
    "import seaborn as sns\n",
    "import sys\n",
    "sys.path.append(\"/Users/macbookpro/UCL - MSc Integrated Machine Learning Systems/Y1/Applied Machine Learning I/Final Assignment/AMLS_20-21_SN17024244\")\n",
    "from _CFG_jupyter_A import *\n",
    "from _CLASS_ImageManager import *"
   ]
  },
  {
   "cell_type": "markdown",
   "metadata": {},
   "source": [
    "In the following lines we load the labels .csv file."
   ]
  },
  {
   "cell_type": "code",
   "execution_count": 4,
   "metadata": {},
   "outputs": [],
   "source": [
    "# Now we load the label.csv file and store the gender labels in y variable, replacing -1 with 0\n",
    "y = load_images_label_csv(\"gender\")\n",
    "y[y==-1] = 0"
   ]
  },
  {
   "cell_type": "markdown",
   "metadata": {},
   "source": [
    "The following code is to remove the test_set in case this has been moved from celeba_test/img to celeba/img. Indeed the main.py program required train, validation and test sets to be located in the same folder."
   ]
  },
  {
   "cell_type": "code",
   "execution_count": 5,
   "metadata": {},
   "outputs": [],
   "source": [
    "if count_n_images(sub_folder, extension) > 5000:\n",
    "    move_images_fromfolder(sub_folder, sub_test_folder, extension)"
   ]
  },
  {
   "cell_type": "markdown",
   "metadata": {},
   "source": [
    "# <font color=\"orange\">Load and process images</font> "
   ]
  },
  {
   "cell_type": "markdown",
   "metadata": {},
   "source": [
    "We leverage on the **ImageManager** class object to load the whole set of images as well as crop them based on the body part we are interested in. The processing is based on a Haar Cascade Classifier. This is an effective object detection approach which was proposed by Paul Viola and Michael Jones back in 2001. This is basically a machine learning based approach where a cascade function is trained from a lot of images and then used to detect the objects in the other images. Specific .xml files will allow us to extract different features."
   ]
  },
  {
   "cell_type": "code",
   "execution_count": 6,
   "metadata": {},
   "outputs": [
    {
     "name": "stdout",
     "output_type": "stream",
     "text": [
      "Starting to load images from /Users/macbookpro/UCL - MSc Integrated Machine Learning Systems/Y1/Applied Machine Learning I/Final Assignment/AMLS_20-21_SN17024244/Datasets/celeba/img/ with extension .jpg\n",
      "2492/5000 images loaded\n",
      "4807/5000 images loaded\n",
      "5000/5000 images loaded\n"
     ]
    }
   ],
   "source": [
    "imgmgr = ImageManager()\n",
    "imgmgr.load_images_from_folder(sub_folder, extension, verbose = True)\n",
    "imgmgr.bodypart = \"face\"\n",
    "imges = imgmgr.crop_part((36,36), squaring = False, x_offsets=(1/8,-1/8), y_offsets = (1/8,-1/8))"
   ]
  },
  {
   "cell_type": "markdown",
   "metadata": {},
   "source": [
    "This is an example of an image in the celeba dataset after processing."
   ]
  },
  {
   "cell_type": "code",
   "execution_count": 7,
   "metadata": {},
   "outputs": [
    {
     "data": {
      "text/plain": [
       "<matplotlib.image.AxesImage at 0x7fe5bcaf27f0>"
      ]
     },
     "execution_count": 7,
     "metadata": {},
     "output_type": "execute_result"
    },
    {
     "data": {
      "image/png": "[encoded data removed]",
      "text/plain": [
       "<Figure size 432x288 with 1 Axes>"
      ]
     },
     "metadata": {
      "needs_background": "light"
     },
     "output_type": "display_data"
    }
   ],
   "source": [
    "rgb = cv2.cvtColor(imges[0], cv2.COLOR_BGR2RGB)\n",
    "plt.imshow(rgb)"
   ]
  },
  {
   "cell_type": "markdown",
   "metadata": {},
   "source": [
    "# <font color=\"orange\">Solving exercise using various machine learning approches</font> "
   ]
  },
  {
   "cell_type": "markdown",
   "metadata": {},
   "source": [
    "Once our images have been processed, we can split our dataset into train and test sets."
   ]
  },
  {
   "cell_type": "code",
   "execution_count": 8,
   "metadata": {},
   "outputs": [],
   "source": [
    "X = imgmgr.images\n",
    "X = X.reshape(X.shape[0], np.prod(X.shape[1:]))\n",
    "X_train, X_test, y_train, y_test = train_test_split(X, y)"
   ]
  },
  {
   "cell_type": "markdown",
   "metadata": {},
   "source": [
    "### Initial Cross Validation"
   ]
  },
  {
   "cell_type": "markdown",
   "metadata": {},
   "source": [
    "As a first step, we want to check for performance of linear classifiers (SVM and logistic regression) with SGD training. We also cross check the regulariser term by comparing L1 with L2 norms. The GridSearchCV function generates candidates from a grid of parameter values specified with the \"param_grid\" dictionary. A table with detailed score results is also shown below."
   ]
  },
  {
   "cell_type": "code",
   "execution_count": 9,
   "metadata": {},
   "outputs": [
    {
     "data": {
      "text/plain": [
       "GridSearchCV(estimator=SGDClassifier(),\n",
       "             param_grid={'loss': ['hinge', 'log'], 'penalty': ['l1', 'l2']})"
      ]
     },
     "execution_count": 9,
     "metadata": {},
     "output_type": "execute_result"
    }
   ],
   "source": [
    "param_grid = {\"loss\":[ \"hinge\", \"log\"], \n",
    "              \"penalty\":[\"l1\", \"l2\"]}\n",
    "\n",
    "clf = sklearn.model_selection.GridSearchCV(lm.SGDClassifier(), param_grid, cv=None)\n",
    "clf.fit(X_train, y_train)"
   ]
  },
  {
   "cell_type": "code",
   "execution_count": 10,
   "metadata": {},
   "outputs": [
    {
     "data": {
      "text/html": [
       "<div>\n",
       "<style scoped>\n",
       "    .dataframe tbody tr th:only-of-type {\n",
       "        vertical-align: middle;\n",
       "    }\n",
       "\n",
       "    .dataframe tbody tr th {\n",
       "        vertical-align: top;\n",
       "    }\n",
       "\n",
       "    .dataframe thead th {\n",
       "        text-align: right;\n",
       "    }\n",
       "</style>\n",
       "<table border=\"1\" class=\"dataframe\">\n",
       "  <thead>\n",
       "    <tr style=\"text-align: right;\">\n",
       "      <th></th>\n",
       "      <th>mean_fit_time</th>\n",
       "      <th>std_fit_time</th>\n",
       "      <th>mean_score_time</th>\n",
       "      <th>std_score_time</th>\n",
       "      <th>param_loss</th>\n",
       "      <th>param_penalty</th>\n",
       "      <th>params</th>\n",
       "      <th>split0_test_score</th>\n",
       "      <th>split1_test_score</th>\n",
       "      <th>split2_test_score</th>\n",
       "      <th>split3_test_score</th>\n",
       "      <th>split4_test_score</th>\n",
       "      <th>mean_test_score</th>\n",
       "      <th>std_test_score</th>\n",
       "    </tr>\n",
       "    <tr>\n",
       "      <th>rank_test_score</th>\n",
       "      <th></th>\n",
       "      <th></th>\n",
       "      <th></th>\n",
       "      <th></th>\n",
       "      <th></th>\n",
       "      <th></th>\n",
       "      <th></th>\n",
       "      <th></th>\n",
       "      <th></th>\n",
       "      <th></th>\n",
       "      <th></th>\n",
       "      <th></th>\n",
       "      <th></th>\n",
       "      <th></th>\n",
       "    </tr>\n",
       "  </thead>\n",
       "  <tbody>\n",
       "    <tr>\n",
       "      <th>1</th>\n",
       "      <td>6.688613</td>\n",
       "      <td>2.694841</td>\n",
       "      <td>0.008540</td>\n",
       "      <td>0.003261</td>\n",
       "      <td>hinge</td>\n",
       "      <td>l1</td>\n",
       "      <td>{'loss': 'hinge', 'penalty': 'l1'}</td>\n",
       "      <td>0.829333</td>\n",
       "      <td>0.860000</td>\n",
       "      <td>0.853333</td>\n",
       "      <td>0.858667</td>\n",
       "      <td>0.865333</td>\n",
       "      <td>0.853333</td>\n",
       "      <td>0.012593</td>\n",
       "    </tr>\n",
       "    <tr>\n",
       "      <th>4</th>\n",
       "      <td>1.736236</td>\n",
       "      <td>0.396997</td>\n",
       "      <td>0.006731</td>\n",
       "      <td>0.001098</td>\n",
       "      <td>hinge</td>\n",
       "      <td>l2</td>\n",
       "      <td>{'loss': 'hinge', 'penalty': 'l2'}</td>\n",
       "      <td>0.712000</td>\n",
       "      <td>0.836000</td>\n",
       "      <td>0.810667</td>\n",
       "      <td>0.864000</td>\n",
       "      <td>0.812000</td>\n",
       "      <td>0.806933</td>\n",
       "      <td>0.051290</td>\n",
       "    </tr>\n",
       "    <tr>\n",
       "      <th>2</th>\n",
       "      <td>6.563182</td>\n",
       "      <td>0.635956</td>\n",
       "      <td>0.006045</td>\n",
       "      <td>0.000191</td>\n",
       "      <td>log</td>\n",
       "      <td>l1</td>\n",
       "      <td>{'loss': 'log', 'penalty': 'l1'}</td>\n",
       "      <td>0.826667</td>\n",
       "      <td>0.861333</td>\n",
       "      <td>0.834667</td>\n",
       "      <td>0.862667</td>\n",
       "      <td>0.846667</td>\n",
       "      <td>0.846400</td>\n",
       "      <td>0.014246</td>\n",
       "    </tr>\n",
       "    <tr>\n",
       "      <th>3</th>\n",
       "      <td>1.900759</td>\n",
       "      <td>0.368765</td>\n",
       "      <td>0.006011</td>\n",
       "      <td>0.000248</td>\n",
       "      <td>log</td>\n",
       "      <td>l2</td>\n",
       "      <td>{'loss': 'log', 'penalty': 'l2'}</td>\n",
       "      <td>0.826667</td>\n",
       "      <td>0.856000</td>\n",
       "      <td>0.717333</td>\n",
       "      <td>0.849333</td>\n",
       "      <td>0.846667</td>\n",
       "      <td>0.819200</td>\n",
       "      <td>0.051864</td>\n",
       "    </tr>\n",
       "  </tbody>\n",
       "</table>\n",
       "</div>"
      ],
      "text/plain": [
       "                 mean_fit_time  std_fit_time  mean_score_time  std_score_time  \\\n",
       "rank_test_score                                                                 \n",
       "1                     6.688613      2.694841         0.008540        0.003261   \n",
       "4                     1.736236      0.396997         0.006731        0.001098   \n",
       "2                     6.563182      0.635956         0.006045        0.000191   \n",
       "3                     1.900759      0.368765         0.006011        0.000248   \n",
       "\n",
       "                param_loss param_penalty                              params  \\\n",
       "rank_test_score                                                                \n",
       "1                    hinge            l1  {'loss': 'hinge', 'penalty': 'l1'}   \n",
       "4                    hinge            l2  {'loss': 'hinge', 'penalty': 'l2'}   \n",
       "2                      log            l1    {'loss': 'log', 'penalty': 'l1'}   \n",
       "3                      log            l2    {'loss': 'log', 'penalty': 'l2'}   \n",
       "\n",
       "                 split0_test_score  split1_test_score  split2_test_score  \\\n",
       "rank_test_score                                                            \n",
       "1                         0.829333           0.860000           0.853333   \n",
       "4                         0.712000           0.836000           0.810667   \n",
       "2                         0.826667           0.861333           0.834667   \n",
       "3                         0.826667           0.856000           0.717333   \n",
       "\n",
       "                 split3_test_score  split4_test_score  mean_test_score  \\\n",
       "rank_test_score                                                          \n",
       "1                         0.858667           0.865333         0.853333   \n",
       "4                         0.864000           0.812000         0.806933   \n",
       "2                         0.862667           0.846667         0.846400   \n",
       "3                         0.849333           0.846667         0.819200   \n",
       "\n",
       "                 std_test_score  \n",
       "rank_test_score                  \n",
       "1                      0.012593  \n",
       "4                      0.051290  \n",
       "2                      0.014246  \n",
       "3                      0.051864  "
      ]
     },
     "execution_count": 10,
     "metadata": {},
     "output_type": "execute_result"
    }
   ],
   "source": [
    "results_table = pd.DataFrame.from_dict(clf.cv_results_).set_index(\"rank_test_score\")\n",
    "results_table"
   ]
  },
  {
   "cell_type": "markdown",
   "metadata": {},
   "source": [
    "Here below you will find 2 different approaches to the gender detection problem. Supervised learning techniques are used."
   ]
  },
  {
   "cell_type": "markdown",
   "metadata": {},
   "source": [
    "### 1. Support Vector Machine"
   ]
  },
  {
   "cell_type": "markdown",
   "metadata": {},
   "source": [
    "From the table above, Support Vector Machine (loss=\"hinge\") with L1 norm results to be the best classifier. We report here below the results on both train and test sets."
   ]
  },
  {
   "cell_type": "markdown",
   "metadata": {},
   "source": [
    "A way to eliminate bias and normalise input features in our dataset is to apply a MinMaxScaler() function. This  rescales the data set such that all feature values are between 0 and 1. This function is very sensitive to outliers."
   ]
  },
  {
   "cell_type": "code",
   "execution_count": 11,
   "metadata": {},
   "outputs": [
    {
     "name": "stdout",
     "output_type": "stream",
     "text": [
      "TRAIN METRICS\n",
      "              precision    recall  f1-score   support\n",
      "\n",
      "           0       0.94      0.90      0.92      1862\n",
      "           1       0.90      0.94      0.92      1888\n",
      "\n",
      "    accuracy                           0.92      3750\n",
      "   macro avg       0.92      0.92      0.92      3750\n",
      "weighted avg       0.92      0.92      0.92      3750\n",
      "\n",
      "TEST METRICS\n",
      "              precision    recall  f1-score   support\n",
      "\n",
      "           0       0.85      0.85      0.85       638\n",
      "           1       0.85      0.85      0.85       612\n",
      "\n",
      "    accuracy                           0.85      1250\n",
      "   macro avg       0.85      0.85      0.85      1250\n",
      "weighted avg       0.85      0.85      0.85      1250\n",
      "\n"
     ]
    }
   ],
   "source": [
    "clf = make_pipeline(MinMaxScaler(), lm.SGDClassifier(loss='hinge', penalty='l1'))\n",
    "clf.fit(X_train, y_train)\n",
    "y_pred_test = clf.predict(X_test)\n",
    "y_pred_train = clf.predict(X_train)\n",
    "print(\"TRAIN METRICS\")\n",
    "print(sklearn.metrics.classification_report(y_train, y_pred_train))\n",
    "print(\"TEST METRICS\")\n",
    "print(sklearn.metrics.classification_report(y_test, y_pred_test))"
   ]
  },
  {
   "cell_type": "markdown",
   "metadata": {},
   "source": [
    "We present the confusion matrix once data has been trained using SVM."
   ]
  },
  {
   "cell_type": "code",
   "execution_count": 12,
   "metadata": {},
   "outputs": [
    {
     "data": {
      "image/png": "[encoded data removed]",
      "text/plain": [
       "<Figure size 432x288 with 2 Axes>"
      ]
     },
     "metadata": {
      "needs_background": "light"
     },
     "output_type": "display_data"
    }
   ],
   "source": [
    "train_test_confusion_matrix(y_train, y_pred_train, y_test, y_pred_test)"
   ]
  },
  {
   "cell_type": "markdown",
   "metadata": {},
   "source": [
    "### 2. Random Forest"
   ]
  },
  {
   "cell_type": "markdown",
   "metadata": {},
   "source": [
    "Once a backtesting on the optimal number of trees is performed, then we can decide on the final n_estimator parameter. As you can see from the chart below, including at least 20 trees will increase the accuracy significantly. As for the criterion parameter choice, I have noticed that the selection of impurity measure has little effect on the performance. However, Entropy returns lightly better results compared to Gini."
   ]
  },
  {
   "cell_type": "code",
   "execution_count": 13,
   "metadata": {},
   "outputs": [
    {
     "name": "stdout",
     "output_type": "stream",
     "text": [
      "TRAIN METRICS\n",
      "              precision    recall  f1-score   support\n",
      "\n",
      "           0       0.89      0.83      0.86      1862\n",
      "           1       0.85      0.90      0.87      1888\n",
      "\n",
      "    accuracy                           0.87      3750\n",
      "   macro avg       0.87      0.87      0.87      3750\n",
      "weighted avg       0.87      0.87      0.87      3750\n",
      "\n",
      "TEST METRICS\n",
      "              precision    recall  f1-score   support\n",
      "\n",
      "           0       0.83      0.77      0.80       638\n",
      "           1       0.77      0.84      0.81       612\n",
      "\n",
      "    accuracy                           0.80      1250\n",
      "   macro avg       0.80      0.80      0.80      1250\n",
      "weighted avg       0.80      0.80      0.80      1250\n",
      "\n"
     ]
    }
   ],
   "source": [
    "clf = sklearn.ensemble.RandomForestClassifier(n_estimators = 70, criterion=\"entropy\", max_depth=5)\n",
    "clf.fit(X_train, y_train)\n",
    "y_pred_test = clf.predict(X_test)\n",
    "y_pred_train = clf.predict(X_train)\n",
    "print(\"TRAIN METRICS\")\n",
    "print(sklearn.metrics.classification_report(y_train, y_pred_train))\n",
    "print(\"TEST METRICS\")\n",
    "print(sklearn.metrics.classification_report(y_test, y_pred_test))"
   ]
  },
  {
   "cell_type": "code",
   "execution_count": 14,
   "metadata": {},
   "outputs": [
    {
     "name": "stderr",
     "output_type": "stream",
     "text": [
      "No handles with labels found to put in legend.\n"
     ]
    },
    {
     "data": {
      "image/png": "[encoded data removed]",
      "text/plain": [
       "<Figure size 432x288 with 1 Axes>"
      ]
     },
     "metadata": {
      "needs_background": "light"
     },
     "output_type": "display_data"
    }
   ],
   "source": [
    "n_estimators=np.arange(5, 100, 5)\n",
    "\n",
    "# Dictionary containing (<n_estimators> : <error rate>) pairs.\n",
    "d = {}\n",
    "\n",
    "for x in n_estimators:\n",
    "    clf.set_params(n_estimators=x)\n",
    "    clf.fit(X_train, y_train)\n",
    "    error = 1 - clf.score(X_test, y_test)\n",
    "    d[x] = error\n",
    "\n",
    "plt.plot(d.keys(), d.values())\n",
    "plt.xlabel(\"n_estimators\")\n",
    "plt.ylabel(\"Error rate\")\n",
    "plt.legend(loc=\"upper right\")\n",
    "plt.title('Backtesting performance of number of trees')\n",
    "plt.show()"
   ]
  },
  {
   "cell_type": "markdown",
   "metadata": {},
   "source": [
    "We present the confusion matrix once data has been trained using Random Forest."
   ]
  },
  {
   "cell_type": "code",
   "execution_count": 15,
   "metadata": {},
   "outputs": [
    {
     "data": {
      "image/png": "[encoded data removed]",
      "text/plain": [
       "<Figure size 432x288 with 2 Axes>"
      ]
     },
     "metadata": {
      "needs_background": "light"
     },
     "output_type": "display_data"
    }
   ],
   "source": [
    "train_test_confusion_matrix(y_train, y_pred_train, y_test, y_pred_test)"
   ]
  },
  {
   "cell_type": "markdown",
   "metadata": {},
   "source": [
    "Now we perform some hyper-parameter tuning to see if other Random Forest arguments would have led to a significantly higher performance. The below dictionary will test 4 different sizes of n_estimators and max_depth. We have initialised this process as we initially observed that allowing a flexible \"max_depth\" variable would lead to overfitting. A table with score results is shown below."
   ]
  },
  {
   "cell_type": "code",
   "execution_count": 16,
   "metadata": {},
   "outputs": [],
   "source": [
    "param_grid = {\"n_estimators\": [20, 40, 60, 80],\n",
    "              \"max_depth\":    [5, 7, 10, 20]}"
   ]
  },
  {
   "cell_type": "code",
   "execution_count": 17,
   "metadata": {},
   "outputs": [
    {
     "data": {
      "text/plain": [
       "GridSearchCV(cv=5,\n",
       "             estimator=RandomForestClassifier(criterion='entropy', max_depth=5,\n",
       "                                              n_estimators=95),\n",
       "             param_grid={'max_depth': [5, 7, 10, 20],\n",
       "                         'n_estimators': [20, 40, 60, 80]})"
      ]
     },
     "execution_count": 17,
     "metadata": {},
     "output_type": "execute_result"
    }
   ],
   "source": [
    "grid_clf = sklearn.model_selection.GridSearchCV(clf, param_grid, cv=5)\n",
    "grid_clf.fit(X_train, y_train)"
   ]
  },
  {
   "cell_type": "code",
   "execution_count": 18,
   "metadata": {},
   "outputs": [
    {
     "data": {
      "text/html": [
       "<div>\n",
       "<style scoped>\n",
       "    .dataframe tbody tr th:only-of-type {\n",
       "        vertical-align: middle;\n",
       "    }\n",
       "\n",
       "    .dataframe tbody tr th {\n",
       "        vertical-align: top;\n",
       "    }\n",
       "\n",
       "    .dataframe thead th {\n",
       "        text-align: right;\n",
       "    }\n",
       "</style>\n",
       "<table border=\"1\" class=\"dataframe\">\n",
       "  <thead>\n",
       "    <tr style=\"text-align: right;\">\n",
       "      <th></th>\n",
       "      <th>mean_fit_time</th>\n",
       "      <th>std_fit_time</th>\n",
       "      <th>mean_score_time</th>\n",
       "      <th>std_score_time</th>\n",
       "      <th>param_max_depth</th>\n",
       "      <th>param_n_estimators</th>\n",
       "      <th>params</th>\n",
       "      <th>split0_test_score</th>\n",
       "      <th>split1_test_score</th>\n",
       "      <th>split2_test_score</th>\n",
       "      <th>split3_test_score</th>\n",
       "      <th>split4_test_score</th>\n",
       "      <th>mean_test_score</th>\n",
       "      <th>std_test_score</th>\n",
       "    </tr>\n",
       "    <tr>\n",
       "      <th>rank_test_score</th>\n",
       "      <th></th>\n",
       "      <th></th>\n",
       "      <th></th>\n",
       "      <th></th>\n",
       "      <th></th>\n",
       "      <th></th>\n",
       "      <th></th>\n",
       "      <th></th>\n",
       "      <th></th>\n",
       "      <th></th>\n",
       "      <th></th>\n",
       "      <th></th>\n",
       "      <th></th>\n",
       "      <th></th>\n",
       "    </tr>\n",
       "  </thead>\n",
       "  <tbody>\n",
       "    <tr>\n",
       "      <th>16</th>\n",
       "      <td>1.043791</td>\n",
       "      <td>0.054701</td>\n",
       "      <td>0.008875</td>\n",
       "      <td>0.001684</td>\n",
       "      <td>5</td>\n",
       "      <td>20</td>\n",
       "      <td>{'max_depth': 5, 'n_estimators': 20}</td>\n",
       "      <td>0.770667</td>\n",
       "      <td>0.772000</td>\n",
       "      <td>0.780000</td>\n",
       "      <td>0.813333</td>\n",
       "      <td>0.762667</td>\n",
       "      <td>0.779733</td>\n",
       "      <td>0.017677</td>\n",
       "    </tr>\n",
       "    <tr>\n",
       "      <th>14</th>\n",
       "      <td>1.988656</td>\n",
       "      <td>0.014408</td>\n",
       "      <td>0.011430</td>\n",
       "      <td>0.001144</td>\n",
       "      <td>5</td>\n",
       "      <td>40</td>\n",
       "      <td>{'max_depth': 5, 'n_estimators': 40}</td>\n",
       "      <td>0.772000</td>\n",
       "      <td>0.794667</td>\n",
       "      <td>0.786667</td>\n",
       "      <td>0.810667</td>\n",
       "      <td>0.798667</td>\n",
       "      <td>0.792533</td>\n",
       "      <td>0.012861</td>\n",
       "    </tr>\n",
       "    <tr>\n",
       "      <th>11</th>\n",
       "      <td>3.031654</td>\n",
       "      <td>0.106639</td>\n",
       "      <td>0.013880</td>\n",
       "      <td>0.000707</td>\n",
       "      <td>5</td>\n",
       "      <td>60</td>\n",
       "      <td>{'max_depth': 5, 'n_estimators': 60}</td>\n",
       "      <td>0.784000</td>\n",
       "      <td>0.801333</td>\n",
       "      <td>0.801333</td>\n",
       "      <td>0.826667</td>\n",
       "      <td>0.786667</td>\n",
       "      <td>0.800000</td>\n",
       "      <td>0.015155</td>\n",
       "    </tr>\n",
       "    <tr>\n",
       "      <th>12</th>\n",
       "      <td>3.836608</td>\n",
       "      <td>0.043956</td>\n",
       "      <td>0.016945</td>\n",
       "      <td>0.001055</td>\n",
       "      <td>5</td>\n",
       "      <td>80</td>\n",
       "      <td>{'max_depth': 5, 'n_estimators': 80}</td>\n",
       "      <td>0.776000</td>\n",
       "      <td>0.788000</td>\n",
       "      <td>0.804000</td>\n",
       "      <td>0.820000</td>\n",
       "      <td>0.796000</td>\n",
       "      <td>0.796800</td>\n",
       "      <td>0.014838</td>\n",
       "    </tr>\n",
       "    <tr>\n",
       "      <th>15</th>\n",
       "      <td>1.428247</td>\n",
       "      <td>0.029503</td>\n",
       "      <td>0.010151</td>\n",
       "      <td>0.001236</td>\n",
       "      <td>7</td>\n",
       "      <td>20</td>\n",
       "      <td>{'max_depth': 7, 'n_estimators': 20}</td>\n",
       "      <td>0.780000</td>\n",
       "      <td>0.798667</td>\n",
       "      <td>0.786667</td>\n",
       "      <td>0.804000</td>\n",
       "      <td>0.789333</td>\n",
       "      <td>0.791733</td>\n",
       "      <td>0.008575</td>\n",
       "    </tr>\n",
       "    <tr>\n",
       "      <th>9</th>\n",
       "      <td>3.120146</td>\n",
       "      <td>0.252785</td>\n",
       "      <td>0.013402</td>\n",
       "      <td>0.001142</td>\n",
       "      <td>7</td>\n",
       "      <td>40</td>\n",
       "      <td>{'max_depth': 7, 'n_estimators': 40}</td>\n",
       "      <td>0.792000</td>\n",
       "      <td>0.804000</td>\n",
       "      <td>0.804000</td>\n",
       "      <td>0.814667</td>\n",
       "      <td>0.805333</td>\n",
       "      <td>0.804000</td>\n",
       "      <td>0.007205</td>\n",
       "    </tr>\n",
       "    <tr>\n",
       "      <th>3</th>\n",
       "      <td>4.792348</td>\n",
       "      <td>0.275184</td>\n",
       "      <td>0.021893</td>\n",
       "      <td>0.006253</td>\n",
       "      <td>7</td>\n",
       "      <td>60</td>\n",
       "      <td>{'max_depth': 7, 'n_estimators': 60}</td>\n",
       "      <td>0.800000</td>\n",
       "      <td>0.816000</td>\n",
       "      <td>0.809333</td>\n",
       "      <td>0.845333</td>\n",
       "      <td>0.805333</td>\n",
       "      <td>0.815200</td>\n",
       "      <td>0.015947</td>\n",
       "    </tr>\n",
       "    <tr>\n",
       "      <th>8</th>\n",
       "      <td>5.804264</td>\n",
       "      <td>0.126665</td>\n",
       "      <td>0.019562</td>\n",
       "      <td>0.000971</td>\n",
       "      <td>7</td>\n",
       "      <td>80</td>\n",
       "      <td>{'max_depth': 7, 'n_estimators': 80}</td>\n",
       "      <td>0.798667</td>\n",
       "      <td>0.798667</td>\n",
       "      <td>0.812000</td>\n",
       "      <td>0.829333</td>\n",
       "      <td>0.812000</td>\n",
       "      <td>0.810133</td>\n",
       "      <td>0.011301</td>\n",
       "    </tr>\n",
       "    <tr>\n",
       "      <th>10</th>\n",
       "      <td>1.958033</td>\n",
       "      <td>0.144110</td>\n",
       "      <td>0.010907</td>\n",
       "      <td>0.001965</td>\n",
       "      <td>10</td>\n",
       "      <td>20</td>\n",
       "      <td>{'max_depth': 10, 'n_estimators': 20}</td>\n",
       "      <td>0.786667</td>\n",
       "      <td>0.806667</td>\n",
       "      <td>0.813333</td>\n",
       "      <td>0.810667</td>\n",
       "      <td>0.793333</td>\n",
       "      <td>0.802133</td>\n",
       "      <td>0.010349</td>\n",
       "    </tr>\n",
       "    <tr>\n",
       "      <th>3</th>\n",
       "      <td>3.850286</td>\n",
       "      <td>0.228775</td>\n",
       "      <td>0.014975</td>\n",
       "      <td>0.001542</td>\n",
       "      <td>10</td>\n",
       "      <td>40</td>\n",
       "      <td>{'max_depth': 10, 'n_estimators': 40}</td>\n",
       "      <td>0.798667</td>\n",
       "      <td>0.821333</td>\n",
       "      <td>0.821333</td>\n",
       "      <td>0.832000</td>\n",
       "      <td>0.802667</td>\n",
       "      <td>0.815200</td>\n",
       "      <td>0.012553</td>\n",
       "    </tr>\n",
       "    <tr>\n",
       "      <th>5</th>\n",
       "      <td>5.824591</td>\n",
       "      <td>0.309033</td>\n",
       "      <td>0.021205</td>\n",
       "      <td>0.003530</td>\n",
       "      <td>10</td>\n",
       "      <td>60</td>\n",
       "      <td>{'max_depth': 10, 'n_estimators': 60}</td>\n",
       "      <td>0.808000</td>\n",
       "      <td>0.806667</td>\n",
       "      <td>0.820000</td>\n",
       "      <td>0.822667</td>\n",
       "      <td>0.809333</td>\n",
       "      <td>0.813333</td>\n",
       "      <td>0.006640</td>\n",
       "    </tr>\n",
       "    <tr>\n",
       "      <th>1</th>\n",
       "      <td>7.198840</td>\n",
       "      <td>0.082966</td>\n",
       "      <td>0.022422</td>\n",
       "      <td>0.000303</td>\n",
       "      <td>10</td>\n",
       "      <td>80</td>\n",
       "      <td>{'max_depth': 10, 'n_estimators': 80}</td>\n",
       "      <td>0.814667</td>\n",
       "      <td>0.808000</td>\n",
       "      <td>0.830667</td>\n",
       "      <td>0.850667</td>\n",
       "      <td>0.820000</td>\n",
       "      <td>0.824800</td>\n",
       "      <td>0.014910</td>\n",
       "    </tr>\n",
       "    <tr>\n",
       "      <th>13</th>\n",
       "      <td>1.845045</td>\n",
       "      <td>0.033377</td>\n",
       "      <td>0.009866</td>\n",
       "      <td>0.000442</td>\n",
       "      <td>20</td>\n",
       "      <td>20</td>\n",
       "      <td>{'max_depth': 20, 'n_estimators': 20}</td>\n",
       "      <td>0.789333</td>\n",
       "      <td>0.780000</td>\n",
       "      <td>0.816000</td>\n",
       "      <td>0.806667</td>\n",
       "      <td>0.773333</td>\n",
       "      <td>0.793067</td>\n",
       "      <td>0.016031</td>\n",
       "    </tr>\n",
       "    <tr>\n",
       "      <th>7</th>\n",
       "      <td>3.589274</td>\n",
       "      <td>0.046103</td>\n",
       "      <td>0.013893</td>\n",
       "      <td>0.000569</td>\n",
       "      <td>20</td>\n",
       "      <td>40</td>\n",
       "      <td>{'max_depth': 20, 'n_estimators': 40}</td>\n",
       "      <td>0.808000</td>\n",
       "      <td>0.802667</td>\n",
       "      <td>0.809333</td>\n",
       "      <td>0.840000</td>\n",
       "      <td>0.792000</td>\n",
       "      <td>0.810400</td>\n",
       "      <td>0.016009</td>\n",
       "    </tr>\n",
       "    <tr>\n",
       "      <th>2</th>\n",
       "      <td>5.790040</td>\n",
       "      <td>0.471776</td>\n",
       "      <td>0.027414</td>\n",
       "      <td>0.009165</td>\n",
       "      <td>20</td>\n",
       "      <td>60</td>\n",
       "      <td>{'max_depth': 20, 'n_estimators': 60}</td>\n",
       "      <td>0.798667</td>\n",
       "      <td>0.808000</td>\n",
       "      <td>0.826667</td>\n",
       "      <td>0.837333</td>\n",
       "      <td>0.806667</td>\n",
       "      <td>0.815467</td>\n",
       "      <td>0.014276</td>\n",
       "    </tr>\n",
       "    <tr>\n",
       "      <th>6</th>\n",
       "      <td>7.522011</td>\n",
       "      <td>0.272779</td>\n",
       "      <td>0.025082</td>\n",
       "      <td>0.002954</td>\n",
       "      <td>20</td>\n",
       "      <td>80</td>\n",
       "      <td>{'max_depth': 20, 'n_estimators': 80}</td>\n",
       "      <td>0.801333</td>\n",
       "      <td>0.813333</td>\n",
       "      <td>0.812000</td>\n",
       "      <td>0.826667</td>\n",
       "      <td>0.812000</td>\n",
       "      <td>0.813067</td>\n",
       "      <td>0.008062</td>\n",
       "    </tr>\n",
       "  </tbody>\n",
       "</table>\n",
       "</div>"
      ],
      "text/plain": [
       "                 mean_fit_time  std_fit_time  mean_score_time  std_score_time  \\\n",
       "rank_test_score                                                                 \n",
       "16                    1.043791      0.054701         0.008875        0.001684   \n",
       "14                    1.988656      0.014408         0.011430        0.001144   \n",
       "11                    3.031654      0.106639         0.013880        0.000707   \n",
       "12                    3.836608      0.043956         0.016945        0.001055   \n",
       "15                    1.428247      0.029503         0.010151        0.001236   \n",
       "9                     3.120146      0.252785         0.013402        0.001142   \n",
       "3                     4.792348      0.275184         0.021893        0.006253   \n",
       "8                     5.804264      0.126665         0.019562        0.000971   \n",
       "10                    1.958033      0.144110         0.010907        0.001965   \n",
       "3                     3.850286      0.228775         0.014975        0.001542   \n",
       "5                     5.824591      0.309033         0.021205        0.003530   \n",
       "1                     7.198840      0.082966         0.022422        0.000303   \n",
       "13                    1.845045      0.033377         0.009866        0.000442   \n",
       "7                     3.589274      0.046103         0.013893        0.000569   \n",
       "2                     5.790040      0.471776         0.027414        0.009165   \n",
       "6                     7.522011      0.272779         0.025082        0.002954   \n",
       "\n",
       "                param_max_depth param_n_estimators  \\\n",
       "rank_test_score                                      \n",
       "16                            5                 20   \n",
       "14                            5                 40   \n",
       "11                            5                 60   \n",
       "12                            5                 80   \n",
       "15                            7                 20   \n",
       "9                             7                 40   \n",
       "3                             7                 60   \n",
       "8                             7                 80   \n",
       "10                           10                 20   \n",
       "3                            10                 40   \n",
       "5                            10                 60   \n",
       "1                            10                 80   \n",
       "13                           20                 20   \n",
       "7                            20                 40   \n",
       "2                            20                 60   \n",
       "6                            20                 80   \n",
       "\n",
       "                                                params  split0_test_score  \\\n",
       "rank_test_score                                                             \n",
       "16                {'max_depth': 5, 'n_estimators': 20}           0.770667   \n",
       "14                {'max_depth': 5, 'n_estimators': 40}           0.772000   \n",
       "11                {'max_depth': 5, 'n_estimators': 60}           0.784000   \n",
       "12                {'max_depth': 5, 'n_estimators': 80}           0.776000   \n",
       "15                {'max_depth': 7, 'n_estimators': 20}           0.780000   \n",
       "9                 {'max_depth': 7, 'n_estimators': 40}           0.792000   \n",
       "3                 {'max_depth': 7, 'n_estimators': 60}           0.800000   \n",
       "8                 {'max_depth': 7, 'n_estimators': 80}           0.798667   \n",
       "10               {'max_depth': 10, 'n_estimators': 20}           0.786667   \n",
       "3                {'max_depth': 10, 'n_estimators': 40}           0.798667   \n",
       "5                {'max_depth': 10, 'n_estimators': 60}           0.808000   \n",
       "1                {'max_depth': 10, 'n_estimators': 80}           0.814667   \n",
       "13               {'max_depth': 20, 'n_estimators': 20}           0.789333   \n",
       "7                {'max_depth': 20, 'n_estimators': 40}           0.808000   \n",
       "2                {'max_depth': 20, 'n_estimators': 60}           0.798667   \n",
       "6                {'max_depth': 20, 'n_estimators': 80}           0.801333   \n",
       "\n",
       "                 split1_test_score  split2_test_score  split3_test_score  \\\n",
       "rank_test_score                                                            \n",
       "16                        0.772000           0.780000           0.813333   \n",
       "14                        0.794667           0.786667           0.810667   \n",
       "11                        0.801333           0.801333           0.826667   \n",
       "12                        0.788000           0.804000           0.820000   \n",
       "15                        0.798667           0.786667           0.804000   \n",
       "9                         0.804000           0.804000           0.814667   \n",
       "3                         0.816000           0.809333           0.845333   \n",
       "8                         0.798667           0.812000           0.829333   \n",
       "10                        0.806667           0.813333           0.810667   \n",
       "3                         0.821333           0.821333           0.832000   \n",
       "5                         0.806667           0.820000           0.822667   \n",
       "1                         0.808000           0.830667           0.850667   \n",
       "13                        0.780000           0.816000           0.806667   \n",
       "7                         0.802667           0.809333           0.840000   \n",
       "2                         0.808000           0.826667           0.837333   \n",
       "6                         0.813333           0.812000           0.826667   \n",
       "\n",
       "                 split4_test_score  mean_test_score  std_test_score  \n",
       "rank_test_score                                                      \n",
       "16                        0.762667         0.779733        0.017677  \n",
       "14                        0.798667         0.792533        0.012861  \n",
       "11                        0.786667         0.800000        0.015155  \n",
       "12                        0.796000         0.796800        0.014838  \n",
       "15                        0.789333         0.791733        0.008575  \n",
       "9                         0.805333         0.804000        0.007205  \n",
       "3                         0.805333         0.815200        0.015947  \n",
       "8                         0.812000         0.810133        0.011301  \n",
       "10                        0.793333         0.802133        0.010349  \n",
       "3                         0.802667         0.815200        0.012553  \n",
       "5                         0.809333         0.813333        0.006640  \n",
       "1                         0.820000         0.824800        0.014910  \n",
       "13                        0.773333         0.793067        0.016031  \n",
       "7                         0.792000         0.810400        0.016009  \n",
       "2                         0.806667         0.815467        0.014276  \n",
       "6                         0.812000         0.813067        0.008062  "
      ]
     },
     "execution_count": 18,
     "metadata": {},
     "output_type": "execute_result"
    }
   ],
   "source": [
    "results_table = pd.DataFrame.from_dict(grid_clf.cv_results_).set_index(\"rank_test_score\")\n",
    "results_table"
   ]
  },
  {
   "cell_type": "code",
   "execution_count": null,
   "metadata": {},
   "outputs": [],
   "source": []
  }
 ],
 "metadata": {
  "kernelspec": {
   "display_name": "Python 3",
   "language": "python",
   "name": "python3"
  },
  "language_info": {
   "codemirror_mode": {
    "name": "ipython",
    "version": 3
   },
   "file_extension": ".py",
   "mimetype": "text/x-python",
   "name": "python",
   "nbconvert_exporter": "python",
   "pygments_lexer": "ipython3",
   "version": "3.7.1"
  }
 },
 "nbformat": 4,
 "nbformat_minor": 2
}
