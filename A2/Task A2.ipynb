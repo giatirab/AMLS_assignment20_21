{
 "cells": [
  {
   "cell_type": "markdown",
   "metadata": {},
   "source": [
    "# <font color=\"orange\">Load modules</font> "
   ]
  },
  {
   "cell_type": "code",
   "execution_count": 7,
   "metadata": {},
   "outputs": [],
   "source": [
    "import pandas as pd\n",
    "import sklearn.metrics\n",
    "import sklearn.ensemble\n",
    "from sklearn.neighbors import KNeighborsClassifier\n",
    "from sklearn.model_selection import train_test_split\n",
    "import numpy as np\n",
    "import sklearn.linear_model as lm\n",
    "from tensorflow.keras import datasets, layers, models\n",
    "import tensorflow as tf\n",
    "from sklearn.metrics import confusion_matrix\n",
    "import seaborn as sns\n",
    "import sys\n",
    "sys.path.append(\"/Users/macbookpro/UCL - MSc Integrated Machine Learning Systems/Y1/Applied Machine Learning I/Final Assignment/AMLS_20-21_SN17024244\")\n",
    "from _CFG_jupyter_A import *\n",
    "from _CLASS_ImageManager import *"
   ]
  },
  {
   "cell_type": "markdown",
   "metadata": {},
   "source": [
    "In the following lines we load the labels .csv file."
   ]
  },
  {
   "cell_type": "code",
   "execution_count": 8,
   "metadata": {},
   "outputs": [],
   "source": [
    "# Now we load the label.csv file and store the smiling labels in y variable, replacing -1 with 0\n",
    "y = load_images_label_csv(\"smiling\")\n",
    "y[y==-1] = 0"
   ]
  },
  {
   "cell_type": "markdown",
   "metadata": {},
   "source": [
    "The following code is to remove the test_set in case this has been moved from celeba_test/img to celeba/img. Indeed the main.py program required train, validation and test sets to be located in the same folder."
   ]
  },
  {
   "cell_type": "code",
   "execution_count": 9,
   "metadata": {},
   "outputs": [],
   "source": [
    "if count_n_images(sub_folder, extension) > 5000:\n",
    "    move_images_fromfolder(sub_folder, sub_test_folder, extension)"
   ]
  },
  {
   "cell_type": "markdown",
   "metadata": {},
   "source": [
    "# <font color=\"orange\">Load and process images</font> "
   ]
  },
  {
   "cell_type": "markdown",
   "metadata": {},
   "source": [
    "We leverage on the **ImageManager** class object to load the whole set of images as well as crop them based on the body part we are interested in. The processing is based on a Haar Cascade Classifier. This is an effective object detection approach which was proposed by Paul Viola and Michael Jones back in 2001. This is basically a machine learning based approach where a cascade function is trained from a lot of images and then used to detect the objects in the other images. Specific .xml files will allow us to extract different features."
   ]
  },
  {
   "cell_type": "code",
   "execution_count": 10,
   "metadata": {},
   "outputs": [
    {
     "name": "stdout",
     "output_type": "stream",
     "text": [
      "Starting to load images from /Users/macbookpro/UCL - MSc Integrated Machine Learning Systems/Y1/Applied Machine Learning I/Final Assignment/AMLS_20-21_SN17024244/Datasets/celeba/img/ with extension .jpg\n",
      "3166/5000 images loaded\n",
      "5000/5000 images loaded\n"
     ]
    }
   ],
   "source": [
    "imgmgr = ImageManager()\n",
    "imgmgr.load_images_from_folder(sub_folder, extension, verbose = True,\n",
    "                               colour = cv2.IMREAD_GRAYSCALE)    # B&W conversion\n",
    "imgmgr.bodypart = \"smile\"\n",
    "imges = imgmgr.crop_part((48,48), squaring=False, x_offsets=(1/5,4/5), y_offsets = (2/3,1))"
   ]
  },
  {
   "cell_type": "markdown",
   "metadata": {},
   "source": [
    "This is an example of an image after processing."
   ]
  },
  {
   "cell_type": "code",
   "execution_count": 11,
   "metadata": {},
   "outputs": [
    {
     "data": {
      "text/plain": [
       "<matplotlib.image.AxesImage at 0x7fb787ccdb00>"
      ]
     },
     "execution_count": 11,
     "metadata": {},
     "output_type": "execute_result"
    },
    {
     "data": {
      "image/png": "[encoded data removed]",
      "text/plain": [
       "<Figure size 432x288 with 1 Axes>"
      ]
     },
     "metadata": {
      "needs_background": "light"
     },
     "output_type": "display_data"
    }
   ],
   "source": [
    "rgb = cv2.cvtColor(imges[0], cv2.COLOR_BGR2RGB)\n",
    "plt.imshow(rgb)"
   ]
  },
  {
   "cell_type": "markdown",
   "metadata": {},
   "source": [
    "# <font color=\"orange\">Solving exercise using various machine learning approches</font> "
   ]
  },
  {
   "cell_type": "markdown",
   "metadata": {},
   "source": [
    "Once our images have been processed, we can split our dataset into train and test sets."
   ]
  },
  {
   "cell_type": "code",
   "execution_count": 12,
   "metadata": {},
   "outputs": [],
   "source": [
    "X = imgmgr.images\n",
    "X = X.reshape(X.shape[0], np.prod(X.shape[1:]))\n",
    "X_train, X_test, y_train, y_test = train_test_split(X, y)"
   ]
  },
  {
   "cell_type": "markdown",
   "metadata": {},
   "source": [
    "### 1. Random Forest"
   ]
  },
  {
   "cell_type": "markdown",
   "metadata": {},
   "source": [
    "Compare Gini vs Entropy as criterion. Entropy perform slightly better but error trend across number of estimators is similar, ie big drop at 20."
   ]
  },
  {
   "cell_type": "code",
   "execution_count": 7,
   "metadata": {},
   "outputs": [
    {
     "name": "stdout",
     "output_type": "stream",
     "text": [
      "TRAIN METRICS\n",
      "              precision    recall  f1-score   support\n",
      "\n",
      "           0       0.84      0.87      0.86      1899\n",
      "           1       0.86      0.83      0.85      1851\n",
      "\n",
      "    accuracy                           0.85      3750\n",
      "   macro avg       0.85      0.85      0.85      3750\n",
      "weighted avg       0.85      0.85      0.85      3750\n",
      "\n",
      "TEST METRICS\n",
      "              precision    recall  f1-score   support\n",
      "\n",
      "           0       0.78      0.82      0.80       601\n",
      "           1       0.83      0.79      0.81       649\n",
      "\n",
      "    accuracy                           0.81      1250\n",
      "   macro avg       0.81      0.81      0.81      1250\n",
      "weighted avg       0.81      0.81      0.81      1250\n",
      "\n"
     ]
    }
   ],
   "source": [
    "clf = sklearn.ensemble.RandomForestClassifier(n_estimators = 80, criterion=\"entropy\", max_depth=5)\n",
    "clf.fit(X_train, y_train)\n",
    "y_pred_test = clf.predict(X_test)\n",
    "y_pred_train = clf.predict(X_train)\n",
    "print(\"TRAIN METRICS\")\n",
    "print(sklearn.metrics.classification_report(y_train, y_pred_train))\n",
    "print(\"TEST METRICS\")\n",
    "print(sklearn.metrics.classification_report(y_test, y_pred_test))"
   ]
  },
  {
   "cell_type": "code",
   "execution_count": 8,
   "metadata": {},
   "outputs": [
    {
     "data": {
      "image/png": "[encoded data removed]",
      "text/plain": [
       "<Figure size 432x288 with 2 Axes>"
      ]
     },
     "metadata": {
      "needs_background": "light"
     },
     "output_type": "display_data"
    }
   ],
   "source": [
    "train_test_confusion_matrix(y_train, y_pred_train, y_test, y_pred_test)"
   ]
  },
  {
   "cell_type": "code",
   "execution_count": 9,
   "metadata": {},
   "outputs": [
    {
     "name": "stderr",
     "output_type": "stream",
     "text": [
      "No handles with labels found to put in legend.\n"
     ]
    },
    {
     "data": {
      "image/png": "[encoded data removed]",
      "text/plain": [
       "<Figure size 432x288 with 1 Axes>"
      ]
     },
     "metadata": {
      "needs_background": "light"
     },
     "output_type": "display_data"
    }
   ],
   "source": [
    "n_estimators=np.arange(5, 100, 5)\n",
    "\n",
    "# Dictionary containing (<n_estimators>, <error rate>) pairs.\n",
    "d = {}\n",
    "\n",
    "for x in n_estimators:\n",
    "    clf.set_params(n_estimators=x)\n",
    "    clf.fit(X_train, y_train)\n",
    "    error = 1 - clf.score(X_test, y_test)\n",
    "    d[x] = error\n",
    "\n",
    "plt.plot(d.keys(), d.values())\n",
    "plt.xlabel(\"n_estimators\")\n",
    "plt.ylabel(\"Error rate\")\n",
    "plt.legend(loc=\"upper right\")\n",
    "plt.title('Backtesting performance of number of trees')\n",
    "plt.show()"
   ]
  },
  {
   "cell_type": "markdown",
   "metadata": {},
   "source": [
    "Now we perform some hyper-parameter tuning to see if other Random Forest arguments would have led to a significantly higher performance. The below dictionary will test 4 different sizes of n_estimators and max_depth. We have initialised this process as we initially observed that allowing a flexible \"max_depth\" variable would lead to overfitting. A table with score results is shown below."
   ]
  },
  {
   "cell_type": "code",
   "execution_count": 10,
   "metadata": {},
   "outputs": [],
   "source": [
    "param_grid = {'n_estimators': [20, 40, 60, 80],\n",
    "              'max_depth':    [2, 7, 15, 20]}"
   ]
  },
  {
   "cell_type": "code",
   "execution_count": 11,
   "metadata": {},
   "outputs": [
    {
     "data": {
      "text/plain": [
       "GridSearchCV(cv=5,\n",
       "             estimator=RandomForestClassifier(criterion='entropy', max_depth=5,\n",
       "                                              n_estimators=95),\n",
       "             param_grid={'max_depth': [2, 7, 15, 20],\n",
       "                         'n_estimators': [20, 40, 60, 80]})"
      ]
     },
     "execution_count": 11,
     "metadata": {},
     "output_type": "execute_result"
    }
   ],
   "source": [
    "grid_clf = sklearn.model_selection.GridSearchCV(clf, param_grid, cv=5)\n",
    "grid_clf.fit(X_train, y_train)"
   ]
  },
  {
   "cell_type": "code",
   "execution_count": 12,
   "metadata": {},
   "outputs": [
    {
     "data": {
      "text/html": [
       "<div>\n",
       "<style scoped>\n",
       "    .dataframe tbody tr th:only-of-type {\n",
       "        vertical-align: middle;\n",
       "    }\n",
       "\n",
       "    .dataframe tbody tr th {\n",
       "        vertical-align: top;\n",
       "    }\n",
       "\n",
       "    .dataframe thead th {\n",
       "        text-align: right;\n",
       "    }\n",
       "</style>\n",
       "<table border=\"1\" class=\"dataframe\">\n",
       "  <thead>\n",
       "    <tr style=\"text-align: right;\">\n",
       "      <th></th>\n",
       "      <th>mean_fit_time</th>\n",
       "      <th>std_fit_time</th>\n",
       "      <th>mean_score_time</th>\n",
       "      <th>std_score_time</th>\n",
       "      <th>param_max_depth</th>\n",
       "      <th>param_n_estimators</th>\n",
       "      <th>params</th>\n",
       "      <th>split0_test_score</th>\n",
       "      <th>split1_test_score</th>\n",
       "      <th>split2_test_score</th>\n",
       "      <th>split3_test_score</th>\n",
       "      <th>split4_test_score</th>\n",
       "      <th>mean_test_score</th>\n",
       "      <th>std_test_score</th>\n",
       "    </tr>\n",
       "    <tr>\n",
       "      <th>rank_test_score</th>\n",
       "      <th></th>\n",
       "      <th></th>\n",
       "      <th></th>\n",
       "      <th></th>\n",
       "      <th></th>\n",
       "      <th></th>\n",
       "      <th></th>\n",
       "      <th></th>\n",
       "      <th></th>\n",
       "      <th></th>\n",
       "      <th></th>\n",
       "      <th></th>\n",
       "      <th></th>\n",
       "      <th></th>\n",
       "    </tr>\n",
       "  </thead>\n",
       "  <tbody>\n",
       "    <tr>\n",
       "      <th>16</th>\n",
       "      <td>0.418305</td>\n",
       "      <td>0.043805</td>\n",
       "      <td>0.007739</td>\n",
       "      <td>0.000873</td>\n",
       "      <td>2</td>\n",
       "      <td>20</td>\n",
       "      <td>{'max_depth': 2, 'n_estimators': 20}</td>\n",
       "      <td>0.724000</td>\n",
       "      <td>0.728000</td>\n",
       "      <td>0.693333</td>\n",
       "      <td>0.696000</td>\n",
       "      <td>0.716000</td>\n",
       "      <td>0.711467</td>\n",
       "      <td>0.014276</td>\n",
       "    </tr>\n",
       "    <tr>\n",
       "      <th>14</th>\n",
       "      <td>0.805020</td>\n",
       "      <td>0.050395</td>\n",
       "      <td>0.010007</td>\n",
       "      <td>0.000915</td>\n",
       "      <td>2</td>\n",
       "      <td>40</td>\n",
       "      <td>{'max_depth': 2, 'n_estimators': 40}</td>\n",
       "      <td>0.732000</td>\n",
       "      <td>0.745333</td>\n",
       "      <td>0.720000</td>\n",
       "      <td>0.692000</td>\n",
       "      <td>0.694667</td>\n",
       "      <td>0.716800</td>\n",
       "      <td>0.020786</td>\n",
       "    </tr>\n",
       "    <tr>\n",
       "      <th>13</th>\n",
       "      <td>1.175837</td>\n",
       "      <td>0.028874</td>\n",
       "      <td>0.014560</td>\n",
       "      <td>0.002107</td>\n",
       "      <td>2</td>\n",
       "      <td>60</td>\n",
       "      <td>{'max_depth': 2, 'n_estimators': 60}</td>\n",
       "      <td>0.728000</td>\n",
       "      <td>0.734667</td>\n",
       "      <td>0.729333</td>\n",
       "      <td>0.704000</td>\n",
       "      <td>0.697333</td>\n",
       "      <td>0.718667</td>\n",
       "      <td>0.015014</td>\n",
       "    </tr>\n",
       "    <tr>\n",
       "      <th>15</th>\n",
       "      <td>1.522662</td>\n",
       "      <td>0.016271</td>\n",
       "      <td>0.016747</td>\n",
       "      <td>0.001678</td>\n",
       "      <td>2</td>\n",
       "      <td>80</td>\n",
       "      <td>{'max_depth': 2, 'n_estimators': 80}</td>\n",
       "      <td>0.740000</td>\n",
       "      <td>0.720000</td>\n",
       "      <td>0.700000</td>\n",
       "      <td>0.702667</td>\n",
       "      <td>0.700000</td>\n",
       "      <td>0.712533</td>\n",
       "      <td>0.015631</td>\n",
       "    </tr>\n",
       "    <tr>\n",
       "      <th>10</th>\n",
       "      <td>1.428902</td>\n",
       "      <td>0.024229</td>\n",
       "      <td>0.009212</td>\n",
       "      <td>0.001383</td>\n",
       "      <td>7</td>\n",
       "      <td>20</td>\n",
       "      <td>{'max_depth': 7, 'n_estimators': 20}</td>\n",
       "      <td>0.798667</td>\n",
       "      <td>0.789333</td>\n",
       "      <td>0.785333</td>\n",
       "      <td>0.810667</td>\n",
       "      <td>0.805333</td>\n",
       "      <td>0.797867</td>\n",
       "      <td>0.009488</td>\n",
       "    </tr>\n",
       "    <tr>\n",
       "      <th>9</th>\n",
       "      <td>2.832254</td>\n",
       "      <td>0.033376</td>\n",
       "      <td>0.013935</td>\n",
       "      <td>0.001209</td>\n",
       "      <td>7</td>\n",
       "      <td>40</td>\n",
       "      <td>{'max_depth': 7, 'n_estimators': 40}</td>\n",
       "      <td>0.798667</td>\n",
       "      <td>0.813333</td>\n",
       "      <td>0.796000</td>\n",
       "      <td>0.800000</td>\n",
       "      <td>0.788000</td>\n",
       "      <td>0.799200</td>\n",
       "      <td>0.008202</td>\n",
       "    </tr>\n",
       "    <tr>\n",
       "      <th>4</th>\n",
       "      <td>4.021663</td>\n",
       "      <td>0.349399</td>\n",
       "      <td>0.018042</td>\n",
       "      <td>0.006674</td>\n",
       "      <td>7</td>\n",
       "      <td>60</td>\n",
       "      <td>{'max_depth': 7, 'n_estimators': 60}</td>\n",
       "      <td>0.820000</td>\n",
       "      <td>0.822667</td>\n",
       "      <td>0.810667</td>\n",
       "      <td>0.797333</td>\n",
       "      <td>0.797333</td>\n",
       "      <td>0.809600</td>\n",
       "      <td>0.010779</td>\n",
       "    </tr>\n",
       "    <tr>\n",
       "      <th>5</th>\n",
       "      <td>5.738464</td>\n",
       "      <td>0.912221</td>\n",
       "      <td>0.021966</td>\n",
       "      <td>0.003288</td>\n",
       "      <td>7</td>\n",
       "      <td>80</td>\n",
       "      <td>{'max_depth': 7, 'n_estimators': 80}</td>\n",
       "      <td>0.802667</td>\n",
       "      <td>0.814667</td>\n",
       "      <td>0.805333</td>\n",
       "      <td>0.810667</td>\n",
       "      <td>0.800000</td>\n",
       "      <td>0.806667</td>\n",
       "      <td>0.005333</td>\n",
       "    </tr>\n",
       "    <tr>\n",
       "      <th>11</th>\n",
       "      <td>2.059352</td>\n",
       "      <td>0.035447</td>\n",
       "      <td>0.010950</td>\n",
       "      <td>0.001499</td>\n",
       "      <td>15</td>\n",
       "      <td>20</td>\n",
       "      <td>{'max_depth': 15, 'n_estimators': 20}</td>\n",
       "      <td>0.801333</td>\n",
       "      <td>0.806667</td>\n",
       "      <td>0.786667</td>\n",
       "      <td>0.780000</td>\n",
       "      <td>0.781333</td>\n",
       "      <td>0.791200</td>\n",
       "      <td>0.010819</td>\n",
       "    </tr>\n",
       "    <tr>\n",
       "      <th>8</th>\n",
       "      <td>4.304692</td>\n",
       "      <td>0.377576</td>\n",
       "      <td>0.019201</td>\n",
       "      <td>0.003609</td>\n",
       "      <td>15</td>\n",
       "      <td>40</td>\n",
       "      <td>{'max_depth': 15, 'n_estimators': 40}</td>\n",
       "      <td>0.793333</td>\n",
       "      <td>0.806667</td>\n",
       "      <td>0.798667</td>\n",
       "      <td>0.798667</td>\n",
       "      <td>0.800000</td>\n",
       "      <td>0.799467</td>\n",
       "      <td>0.004267</td>\n",
       "    </tr>\n",
       "    <tr>\n",
       "      <th>3</th>\n",
       "      <td>5.574413</td>\n",
       "      <td>0.550771</td>\n",
       "      <td>0.020817</td>\n",
       "      <td>0.002475</td>\n",
       "      <td>15</td>\n",
       "      <td>60</td>\n",
       "      <td>{'max_depth': 15, 'n_estimators': 60}</td>\n",
       "      <td>0.812000</td>\n",
       "      <td>0.817333</td>\n",
       "      <td>0.816000</td>\n",
       "      <td>0.806667</td>\n",
       "      <td>0.802667</td>\n",
       "      <td>0.810933</td>\n",
       "      <td>0.005555</td>\n",
       "    </tr>\n",
       "    <tr>\n",
       "      <th>1</th>\n",
       "      <td>6.644864</td>\n",
       "      <td>0.073537</td>\n",
       "      <td>0.025024</td>\n",
       "      <td>0.002588</td>\n",
       "      <td>15</td>\n",
       "      <td>80</td>\n",
       "      <td>{'max_depth': 15, 'n_estimators': 80}</td>\n",
       "      <td>0.829333</td>\n",
       "      <td>0.820000</td>\n",
       "      <td>0.814667</td>\n",
       "      <td>0.804000</td>\n",
       "      <td>0.804000</td>\n",
       "      <td>0.814400</td>\n",
       "      <td>0.009703</td>\n",
       "    </tr>\n",
       "    <tr>\n",
       "      <th>12</th>\n",
       "      <td>1.826454</td>\n",
       "      <td>0.341996</td>\n",
       "      <td>0.009413</td>\n",
       "      <td>0.001797</td>\n",
       "      <td>20</td>\n",
       "      <td>20</td>\n",
       "      <td>{'max_depth': 20, 'n_estimators': 20}</td>\n",
       "      <td>0.798667</td>\n",
       "      <td>0.804000</td>\n",
       "      <td>0.769333</td>\n",
       "      <td>0.793333</td>\n",
       "      <td>0.774667</td>\n",
       "      <td>0.788000</td>\n",
       "      <td>0.013597</td>\n",
       "    </tr>\n",
       "    <tr>\n",
       "      <th>7</th>\n",
       "      <td>3.843199</td>\n",
       "      <td>0.582118</td>\n",
       "      <td>0.016268</td>\n",
       "      <td>0.005153</td>\n",
       "      <td>20</td>\n",
       "      <td>40</td>\n",
       "      <td>{'max_depth': 20, 'n_estimators': 40}</td>\n",
       "      <td>0.812000</td>\n",
       "      <td>0.804000</td>\n",
       "      <td>0.812000</td>\n",
       "      <td>0.801333</td>\n",
       "      <td>0.784000</td>\n",
       "      <td>0.802667</td>\n",
       "      <td>0.010259</td>\n",
       "    </tr>\n",
       "    <tr>\n",
       "      <th>6</th>\n",
       "      <td>5.377710</td>\n",
       "      <td>0.288761</td>\n",
       "      <td>0.024724</td>\n",
       "      <td>0.007360</td>\n",
       "      <td>20</td>\n",
       "      <td>60</td>\n",
       "      <td>{'max_depth': 20, 'n_estimators': 60}</td>\n",
       "      <td>0.810667</td>\n",
       "      <td>0.824000</td>\n",
       "      <td>0.788000</td>\n",
       "      <td>0.802667</td>\n",
       "      <td>0.792000</td>\n",
       "      <td>0.803467</td>\n",
       "      <td>0.012998</td>\n",
       "    </tr>\n",
       "    <tr>\n",
       "      <th>2</th>\n",
       "      <td>7.712009</td>\n",
       "      <td>0.720186</td>\n",
       "      <td>0.026878</td>\n",
       "      <td>0.003982</td>\n",
       "      <td>20</td>\n",
       "      <td>80</td>\n",
       "      <td>{'max_depth': 20, 'n_estimators': 80}</td>\n",
       "      <td>0.821333</td>\n",
       "      <td>0.810667</td>\n",
       "      <td>0.822667</td>\n",
       "      <td>0.817333</td>\n",
       "      <td>0.797333</td>\n",
       "      <td>0.813867</td>\n",
       "      <td>0.009261</td>\n",
       "    </tr>\n",
       "  </tbody>\n",
       "</table>\n",
       "</div>"
      ],
      "text/plain": [
       "                 mean_fit_time  std_fit_time  mean_score_time  std_score_time  \\\n",
       "rank_test_score                                                                 \n",
       "16                    0.418305      0.043805         0.007739        0.000873   \n",
       "14                    0.805020      0.050395         0.010007        0.000915   \n",
       "13                    1.175837      0.028874         0.014560        0.002107   \n",
       "15                    1.522662      0.016271         0.016747        0.001678   \n",
       "10                    1.428902      0.024229         0.009212        0.001383   \n",
       "9                     2.832254      0.033376         0.013935        0.001209   \n",
       "4                     4.021663      0.349399         0.018042        0.006674   \n",
       "5                     5.738464      0.912221         0.021966        0.003288   \n",
       "11                    2.059352      0.035447         0.010950        0.001499   \n",
       "8                     4.304692      0.377576         0.019201        0.003609   \n",
       "3                     5.574413      0.550771         0.020817        0.002475   \n",
       "1                     6.644864      0.073537         0.025024        0.002588   \n",
       "12                    1.826454      0.341996         0.009413        0.001797   \n",
       "7                     3.843199      0.582118         0.016268        0.005153   \n",
       "6                     5.377710      0.288761         0.024724        0.007360   \n",
       "2                     7.712009      0.720186         0.026878        0.003982   \n",
       "\n",
       "                param_max_depth param_n_estimators  \\\n",
       "rank_test_score                                      \n",
       "16                            2                 20   \n",
       "14                            2                 40   \n",
       "13                            2                 60   \n",
       "15                            2                 80   \n",
       "10                            7                 20   \n",
       "9                             7                 40   \n",
       "4                             7                 60   \n",
       "5                             7                 80   \n",
       "11                           15                 20   \n",
       "8                            15                 40   \n",
       "3                            15                 60   \n",
       "1                            15                 80   \n",
       "12                           20                 20   \n",
       "7                            20                 40   \n",
       "6                            20                 60   \n",
       "2                            20                 80   \n",
       "\n",
       "                                                params  split0_test_score  \\\n",
       "rank_test_score                                                             \n",
       "16                {'max_depth': 2, 'n_estimators': 20}           0.724000   \n",
       "14                {'max_depth': 2, 'n_estimators': 40}           0.732000   \n",
       "13                {'max_depth': 2, 'n_estimators': 60}           0.728000   \n",
       "15                {'max_depth': 2, 'n_estimators': 80}           0.740000   \n",
       "10                {'max_depth': 7, 'n_estimators': 20}           0.798667   \n",
       "9                 {'max_depth': 7, 'n_estimators': 40}           0.798667   \n",
       "4                 {'max_depth': 7, 'n_estimators': 60}           0.820000   \n",
       "5                 {'max_depth': 7, 'n_estimators': 80}           0.802667   \n",
       "11               {'max_depth': 15, 'n_estimators': 20}           0.801333   \n",
       "8                {'max_depth': 15, 'n_estimators': 40}           0.793333   \n",
       "3                {'max_depth': 15, 'n_estimators': 60}           0.812000   \n",
       "1                {'max_depth': 15, 'n_estimators': 80}           0.829333   \n",
       "12               {'max_depth': 20, 'n_estimators': 20}           0.798667   \n",
       "7                {'max_depth': 20, 'n_estimators': 40}           0.812000   \n",
       "6                {'max_depth': 20, 'n_estimators': 60}           0.810667   \n",
       "2                {'max_depth': 20, 'n_estimators': 80}           0.821333   \n",
       "\n",
       "                 split1_test_score  split2_test_score  split3_test_score  \\\n",
       "rank_test_score                                                            \n",
       "16                        0.728000           0.693333           0.696000   \n",
       "14                        0.745333           0.720000           0.692000   \n",
       "13                        0.734667           0.729333           0.704000   \n",
       "15                        0.720000           0.700000           0.702667   \n",
       "10                        0.789333           0.785333           0.810667   \n",
       "9                         0.813333           0.796000           0.800000   \n",
       "4                         0.822667           0.810667           0.797333   \n",
       "5                         0.814667           0.805333           0.810667   \n",
       "11                        0.806667           0.786667           0.780000   \n",
       "8                         0.806667           0.798667           0.798667   \n",
       "3                         0.817333           0.816000           0.806667   \n",
       "1                         0.820000           0.814667           0.804000   \n",
       "12                        0.804000           0.769333           0.793333   \n",
       "7                         0.804000           0.812000           0.801333   \n",
       "6                         0.824000           0.788000           0.802667   \n",
       "2                         0.810667           0.822667           0.817333   \n",
       "\n",
       "                 split4_test_score  mean_test_score  std_test_score  \n",
       "rank_test_score                                                      \n",
       "16                        0.716000         0.711467        0.014276  \n",
       "14                        0.694667         0.716800        0.020786  \n",
       "13                        0.697333         0.718667        0.015014  \n",
       "15                        0.700000         0.712533        0.015631  \n",
       "10                        0.805333         0.797867        0.009488  \n",
       "9                         0.788000         0.799200        0.008202  \n",
       "4                         0.797333         0.809600        0.010779  \n",
       "5                         0.800000         0.806667        0.005333  \n",
       "11                        0.781333         0.791200        0.010819  \n",
       "8                         0.800000         0.799467        0.004267  \n",
       "3                         0.802667         0.810933        0.005555  \n",
       "1                         0.804000         0.814400        0.009703  \n",
       "12                        0.774667         0.788000        0.013597  \n",
       "7                         0.784000         0.802667        0.010259  \n",
       "6                         0.792000         0.803467        0.012998  \n",
       "2                         0.797333         0.813867        0.009261  "
      ]
     },
     "execution_count": 12,
     "metadata": {},
     "output_type": "execute_result"
    }
   ],
   "source": [
    "results_table = pd.DataFrame.from_dict(grid_clf.cv_results_).set_index(\"rank_test_score\")\n",
    "results_table"
   ]
  },
  {
   "cell_type": "markdown",
   "metadata": {},
   "source": [
    "So, by running some cross-validation jobs and tuning the hyper-parameters, it is clear that our Random Forest classifier performs much better when a large depth of trees is allowed and \"n_estimators\" number is in the 60-80 range. Also, by choosing \"entropy\" rather than \"gini\" as the function to measure the quality of split, the scoring improves slightly."
   ]
  },
  {
   "cell_type": "markdown",
   "metadata": {},
   "source": [
    "### 2. Convolutional Neural Network"
   ]
  },
  {
   "cell_type": "markdown",
   "metadata": {},
   "source": [
    "Resize and manipulate the train and tests sets in order to be in the right format for the CNN implementation, ie in tensor format."
   ]
  },
  {
   "cell_type": "code",
   "execution_count": 13,
   "metadata": {},
   "outputs": [],
   "source": [
    "X = X.reshape(5000,48,48,1)\n",
    "X_train, X_test, y_train, y_test = train_test_split(X, y)"
   ]
  },
  {
   "cell_type": "code",
   "execution_count": 14,
   "metadata": {},
   "outputs": [
    {
     "name": "stdout",
     "output_type": "stream",
     "text": [
      "Model: \"sequential\"\n",
      "_________________________________________________________________\n",
      "Layer (type)                 Output Shape              Param #   \n",
      "=================================================================\n",
      "conv2d (Conv2D)              (None, 46, 46, 16)        160       \n",
      "_________________________________________________________________\n",
      "conv2d_1 (Conv2D)            (None, 44, 44, 16)        2320      \n",
      "_________________________________________________________________\n",
      "max_pooling2d (MaxPooling2D) (None, 22, 22, 16)        0         \n",
      "_________________________________________________________________\n",
      "dropout (Dropout)            (None, 22, 22, 16)        0         \n",
      "_________________________________________________________________\n",
      "flatten (Flatten)            (None, 7744)              0         \n",
      "_________________________________________________________________\n",
      "dense (Dense)                (None, 64)                495680    \n",
      "_________________________________________________________________\n",
      "dropout_1 (Dropout)          (None, 64)                0         \n",
      "_________________________________________________________________\n",
      "dense_1 (Dense)              (None, 2)                 130       \n",
      "=================================================================\n",
      "Total params: 498,290\n",
      "Trainable params: 498,290\n",
      "Non-trainable params: 0\n",
      "_________________________________________________________________\n"
     ]
    }
   ],
   "source": [
    "# CNN Model\n",
    "nb_filters = 16\n",
    "nb_pool = 2\n",
    "nb_conv = 3\n",
    "nb_classes = 2 # binary classification problem\n",
    "\n",
    "model = models.Sequential()\n",
    "\n",
    "model.add(layers.Conv2D(nb_filters, (nb_conv, nb_conv), activation='relu', input_shape=X.shape[1:]))\n",
    "model.add(layers.Conv2D(nb_filters, (nb_conv, nb_conv), activation='relu'))\n",
    "model.add(layers.MaxPooling2D(pool_size=(nb_pool, nb_pool)))\n",
    "model.add(layers.Dropout(0.5))\n",
    "model.add(layers.Flatten())\n",
    "model.add(layers.Dense(64, activation='relu'))\n",
    "model.add(layers.Dropout(0.5))\n",
    "model.add(layers.Dense(nb_classes))\n",
    "\n",
    "model.compile(loss='categorical_crossentropy', optimizer='adam', metrics=['accuracy'])\n",
    "model.summary()"
   ]
  },
  {
   "cell_type": "markdown",
   "metadata": {},
   "source": [
    "We can notice that model converges to val_accuracy=80% after 10 epochs. After noticing a high val_loss, I have then increased the Dropout amount to 50%."
   ]
  },
  {
   "cell_type": "code",
   "execution_count": 15,
   "metadata": {},
   "outputs": [
    {
     "name": "stdout",
     "output_type": "stream",
     "text": [
      "Epoch 1/10\n",
      "118/118 [==============================] - 6s 55ms/step - loss: 2.4895 - accuracy: 0.5469 - val_loss: 0.6754 - val_accuracy: 0.5504\n",
      "Epoch 2/10\n",
      "118/118 [==============================] - 7s 60ms/step - loss: 0.6496 - accuracy: 0.6107 - val_loss: 0.5686 - val_accuracy: 0.7600\n",
      "Epoch 3/10\n",
      "118/118 [==============================] - 7s 63ms/step - loss: 0.5815 - accuracy: 0.6752 - val_loss: 0.5210 - val_accuracy: 0.7848\n",
      "Epoch 4/10\n",
      "118/118 [==============================] - 8s 67ms/step - loss: 0.5477 - accuracy: 0.7115 - val_loss: 0.5204 - val_accuracy: 0.7736\n",
      "Epoch 5/10\n",
      "118/118 [==============================] - 8s 72ms/step - loss: 0.5631 - accuracy: 0.7083 - val_loss: 0.4751 - val_accuracy: 0.7792\n",
      "Epoch 6/10\n",
      "118/118 [==============================] - 9s 72ms/step - loss: 0.4940 - accuracy: 0.7451 - val_loss: 0.4522 - val_accuracy: 0.7832\n",
      "Epoch 7/10\n",
      "118/118 [==============================] - 9s 76ms/step - loss: 0.4765 - accuracy: 0.7592 - val_loss: 0.4802 - val_accuracy: 0.7632\n",
      "Epoch 8/10\n",
      "118/118 [==============================] - 9s 77ms/step - loss: 0.5462 - accuracy: 0.7288 - val_loss: 0.4958 - val_accuracy: 0.7784\n",
      "Epoch 9/10\n",
      "118/118 [==============================] - 9s 78ms/step - loss: 0.4783 - accuracy: 0.7656 - val_loss: 0.4293 - val_accuracy: 0.8016\n",
      "Epoch 10/10\n",
      "118/118 [==============================] - 9s 79ms/step - loss: 0.4429 - accuracy: 0.7824 - val_loss: 0.4595 - val_accuracy: 0.7880\n"
     ]
    }
   ],
   "source": [
    "model.compile(optimizer='adam',\n",
    "              loss=tf.keras.losses.SparseCategoricalCrossentropy(from_logits=True),\n",
    "              metrics=['accuracy'])\n",
    "\n",
    "history = model.fit(X_train, y_train, epochs=10, validation_data=(X_test, y_test), verbose=True)"
   ]
  },
  {
   "cell_type": "code",
   "execution_count": 16,
   "metadata": {},
   "outputs": [
    {
     "name": "stdout",
     "output_type": "stream",
     "text": [
      "TRAIN METRICS\n",
      "              precision    recall  f1-score   support\n",
      "\n",
      "           0       0.81      0.94      0.87      1873\n",
      "           1       0.93      0.78      0.85      1877\n",
      "\n",
      "    accuracy                           0.86      3750\n",
      "   macro avg       0.87      0.86      0.86      3750\n",
      "weighted avg       0.87      0.86      0.86      3750\n",
      "\n",
      "TEST METRICS\n",
      "              precision    recall  f1-score   support\n",
      "\n",
      "           0       0.74      0.88      0.81       627\n",
      "           1       0.85      0.69      0.77       623\n",
      "\n",
      "    accuracy                           0.79      1250\n",
      "   macro avg       0.80      0.79      0.79      1250\n",
      "weighted avg       0.80      0.79      0.79      1250\n",
      "\n"
     ]
    }
   ],
   "source": [
    "y_pred_test = np.argmax(model.predict(X_test), axis=1)\n",
    "y_pred_train = np.argmax(model.predict(X_train), axis=1)\n",
    "print(\"TRAIN METRICS\")\n",
    "print(sklearn.metrics.classification_report(y_train, y_pred_train))\n",
    "print(\"TEST METRICS\")\n",
    "print(sklearn.metrics.classification_report(y_test, y_pred_test))"
   ]
  },
  {
   "cell_type": "code",
   "execution_count": 17,
   "metadata": {},
   "outputs": [
    {
     "data": {
      "image/png": "[encoded data removed]",
      "text/plain": [
       "<Figure size 432x288 with 1 Axes>"
      ]
     },
     "metadata": {
      "needs_background": "light"
     },
     "output_type": "display_data"
    }
   ],
   "source": [
    "accuracy = history.history['accuracy']\n",
    "val_accuracy = history.history['val_accuracy']\n",
    "loss = history.history['loss']\n",
    "val_loss = history.history['val_loss']\n",
    "epochs = range(len(accuracy))\n",
    "plt.plot(epochs, accuracy, 'bo', label='Training set accuracy')\n",
    "plt.plot(epochs, val_accuracy, 'b', label='Validation set accuracy')\n",
    "plt.xlabel(\"Number of Epochs\")\n",
    "plt.ylabel(\"Score\")\n",
    "plt.title('Training and Validation sets accuracy')\n",
    "plt.legend()\n",
    "plt.show()"
   ]
  },
  {
   "cell_type": "code",
   "execution_count": 18,
   "metadata": {},
   "outputs": [
    {
     "data": {
      "image/png": "[encoded data removed]",
      "text/plain": [
       "<Figure size 432x288 with 1 Axes>"
      ]
     },
     "metadata": {
      "needs_background": "light"
     },
     "output_type": "display_data"
    }
   ],
   "source": [
    "plt.figure()\n",
    "plt.plot(epochs, loss, 'bo', label='Train set loss')\n",
    "plt.plot(epochs, val_loss, 'b', label='Validation set loss')\n",
    "plt.xlabel(\"Number of Epochs\")\n",
    "plt.ylabel(\"Loss\")\n",
    "plt.title('Training and Validation sets loss')\n",
    "plt.legend()\n",
    "plt.show()"
   ]
  },
  {
   "cell_type": "code",
   "execution_count": null,
   "metadata": {},
   "outputs": [],
   "source": []
  }
 ],
 "metadata": {
  "kernelspec": {
   "display_name": "Python 3",
   "language": "python",
   "name": "python3"
  },
  "language_info": {
   "codemirror_mode": {
    "name": "ipython",
    "version": 3
   },
   "file_extension": ".py",
   "mimetype": "text/x-python",
   "name": "python",
   "nbconvert_exporter": "python",
   "pygments_lexer": "ipython3",
   "version": "3.7.1"
  }
 },
 "nbformat": 4,
 "nbformat_minor": 2
}
