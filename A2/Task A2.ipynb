{
 "cells": [
  {
   "cell_type": "markdown",
   "metadata": {},
   "source": [
    "# <font color=\"orange\">Load modules</font> "
   ]
  },
  {
   "cell_type": "code",
   "execution_count": 1,
   "metadata": {},
   "outputs": [],
   "source": [
    "import pandas as pd\n",
    "import sklearn.metrics\n",
    "import sklearn.ensemble\n",
    "from sklearn.neighbors import KNeighborsClassifier\n",
    "from sklearn.model_selection import train_test_split\n",
    "import numpy as np\n",
    "import sklearn.linear_model as lm\n",
    "from tensorflow.keras import datasets, layers, models\n",
    "import tensorflow as tf\n",
    "from sklearn.metrics import confusion_matrix\n",
    "import seaborn as sns\n",
    "import sys\n",
    "sys.path.append(\"/Users/macbookpro/UCL - MSc Integrated Machine Learning Systems/Y1/Applied Machine Learning I/Final Assignment/AMLS_20-21_SN17024244\")\n",
    "from _CFG_Task_A import *\n",
    "from _CLASS_ImageManager import *"
   ]
  },
  {
   "cell_type": "markdown",
   "metadata": {},
   "source": [
    "In the following lines we load the labels .csv file."
   ]
  },
  {
   "cell_type": "code",
   "execution_count": 2,
   "metadata": {},
   "outputs": [],
   "source": [
    "# Now we load the label.csv file and store the smiling labels in y variable, replacing -1 with 0\n",
    "y = load_images_label_csv(\"smiling\")\n",
    "y[y==-1] = 0"
   ]
  },
  {
   "cell_type": "markdown",
   "metadata": {},
   "source": [
    "The following code is to remove the test_set in case this has been moved from celeba_test/img to celeba/img."
   ]
  },
  {
   "cell_type": "code",
   "execution_count": 3,
   "metadata": {},
   "outputs": [],
   "source": [
    "if count_n_images(sub_folder, extension) > 5000:\n",
    "    move_images_fromfolder(sub_folder, sub_test_folder, extension)"
   ]
  },
  {
   "cell_type": "markdown",
   "metadata": {},
   "source": [
    "# <font color=\"orange\">Load and process images</font> "
   ]
  },
  {
   "cell_type": "markdown",
   "metadata": {},
   "source": [
    "We leverage on the **ImageManager** class object to load the whole set of images as well as crop them based on the body part we are interested in. The processing is based on a Haar Cascade Classifier. This is an effective object detection approach which was proposed by Paul Viola and Michael Jones back in 2001. This is basically a machine learning based approach where a cascade function is trained from a lot of images both positive and negative. Based on the training it is then used to detect the objects in the other images.\n",
    "So how this works is they are huge individual .xml files with a lot of feature sets and each .xml corresponds to a very specific type of use case."
   ]
  },
  {
   "cell_type": "code",
   "execution_count": 4,
   "metadata": {},
   "outputs": [
    {
     "name": "stdout",
     "output_type": "stream",
     "text": [
      "Starting to load images from /Users/macbookpro/UCL - MSc Integrated Machine Learning Systems/Y1/Applied Machine Learning I/Final Assignment/AMLS_20-21_SN17024244/Datasets/celeba/img/ with extension .jpg\n",
      "3331/5000 images loaded\n",
      "5000/5000 images loaded\n"
     ]
    }
   ],
   "source": [
    "imgmgr = ImageManager()\n",
    "imgmgr.load_images_from_folder(sub_folder, extension, verbose = True,\n",
    "                               colour = cv2.IMREAD_GRAYSCALE)    # B&W conversion\n",
    "imgmgr.bodypart = \"smile\"\n",
    "imges = imgmgr.crop_part((48,48), squaring=False, x_offsets=(1/5,4/5), y_offsets = (2/3,1))"
   ]
  },
  {
   "cell_type": "markdown",
   "metadata": {},
   "source": [
    "This is an example of an image after processing."
   ]
  },
  {
   "cell_type": "code",
   "execution_count": 5,
   "metadata": {},
   "outputs": [
    {
     "data": {
      "text/plain": [
       "<matplotlib.image.AxesImage at 0x7f9667bc6748>"
      ]
     },
     "execution_count": 5,
     "metadata": {},
     "output_type": "execute_result"
    },
    {
     "data": {
      "image/png": "[encoded data removed]",
      "text/plain": [
       "<Figure size 432x288 with 1 Axes>"
      ]
     },
     "metadata": {
      "needs_background": "light"
     },
     "output_type": "display_data"
    }
   ],
   "source": [
    "rgb = cv2.cvtColor(imges[0], cv2.COLOR_BGR2RGB)\n",
    "plt.imshow(rgb)"
   ]
  },
  {
   "cell_type": "markdown",
   "metadata": {},
   "source": [
    "# <font color=\"orange\">Solving exercise using various machine learning approches</font> "
   ]
  },
  {
   "cell_type": "markdown",
   "metadata": {},
   "source": [
    "Once our images have been processed, we can split our dataset into train and test sets."
   ]
  },
  {
   "cell_type": "code",
   "execution_count": 6,
   "metadata": {},
   "outputs": [],
   "source": [
    "X = imgmgr.images\n",
    "X = X.reshape(X.shape[0], np.prod(X.shape[1:]))\n",
    "X_train, X_test, y_train, y_test = train_test_split(X, y)"
   ]
  },
  {
   "cell_type": "markdown",
   "metadata": {},
   "source": [
    "### 1. Random Forest"
   ]
  },
  {
   "cell_type": "markdown",
   "metadata": {},
   "source": [
    "Compare Gini vs Entropy as criterion. Entropy perform slightly better but error trend across number of estimators is similar, ie big drop at 20."
   ]
  },
  {
   "cell_type": "code",
   "execution_count": 7,
   "metadata": {},
   "outputs": [
    {
     "name": "stdout",
     "output_type": "stream",
     "text": [
      "TRAIN METRICS\n",
      "              precision    recall  f1-score   support\n",
      "\n",
      "           0       0.84      0.87      0.86      1899\n",
      "           1       0.86      0.83      0.85      1851\n",
      "\n",
      "    accuracy                           0.85      3750\n",
      "   macro avg       0.85      0.85      0.85      3750\n",
      "weighted avg       0.85      0.85      0.85      3750\n",
      "\n",
      "TEST METRICS\n",
      "              precision    recall  f1-score   support\n",
      "\n",
      "           0       0.78      0.82      0.80       601\n",
      "           1       0.83      0.79      0.81       649\n",
      "\n",
      "    accuracy                           0.81      1250\n",
      "   macro avg       0.81      0.81      0.81      1250\n",
      "weighted avg       0.81      0.81      0.81      1250\n",
      "\n"
     ]
    }
   ],
   "source": [
    "clf = sklearn.ensemble.RandomForestClassifier(n_estimators = 80, criterion=\"entropy\", max_depth=5)\n",
    "clf.fit(X_train, y_train)\n",
    "y_pred_test = clf.predict(X_test)\n",
    "y_pred_train = clf.predict(X_train)\n",
    "print(\"TRAIN METRICS\")\n",
    "print(sklearn.metrics.classification_report(y_train, y_pred_train))\n",
    "print(\"TEST METRICS\")\n",
    "print(sklearn.metrics.classification_report(y_test, y_pred_test))"
   ]
  },
  {
   "cell_type": "code",
   "execution_count": 8,
   "metadata": {},
   "outputs": [
    {
     "data": {
      "image/png": "[encoded data removed]",
      "text/plain": [
       "<Figure size 432x288 with 2 Axes>"
      ]
     },
     "metadata": {
      "needs_background": "light"
     },
     "output_type": "display_data"
    }
   ],
   "source": [
    "train_test_confusion_matrix(y_train, y_pred_train, y_test, y_pred_test)"
   ]
  },
  {
   "cell_type": "code",
   "execution_count": 9,
   "metadata": {},
   "outputs": [
    {
     "name": "stderr",
     "output_type": "stream",
     "text": [
      "No handles with labels found to put in legend.\n"
     ]
    },
    {
     "data": {
      "image/png": "[encoded data removed]",
      "text/plain": [
       "<Figure size 432x288 with 1 Axes>"
      ]
     },
     "metadata": {
      "needs_background": "light"
     },
     "output_type": "display_data"
    }
   ],
   "source": [
    "n_estimators=np.arange(5, 100, 5)\n",
    "\n",
    "# Dictionary containing (<n_estimators>, <error rate>) pairs.\n",
    "d = {}\n",
    "\n",
    "for x in n_estimators:\n",
    "    clf.set_params(n_estimators=x)\n",
    "    clf.fit(X_train, y_train)\n",
    "    error = 1 - clf.score(X_test, y_test)\n",
    "    d[x] = error\n",
    "\n",
    "plt.plot(d.keys(), d.values())\n",
    "plt.xlabel(\"n_estimators\")\n",
    "plt.ylabel(\"Error rate\")\n",
    "plt.legend(loc=\"upper right\")\n",
    "plt.title('Backtesting performance of number of trees')\n",
    "plt.show()"
   ]
  },
  {
   "cell_type": "code",
   "execution_count": 10,
   "metadata": {},
   "outputs": [],
   "source": [
    "param_grid = {'n_estimators': [20, 40, 60, 80],\n",
    "              'max_depth':    [2, 7, 15, 20]}"
   ]
  },
  {
   "cell_type": "code",
   "execution_count": null,
   "metadata": {},
   "outputs": [],
   "source": [
    "grid_clf = sklearn.model_selection.GridSearchCV(clf, param_grid, cv=5)\n",
    "grid_clf.fit(X_train, y_train)"
   ]
  },
  {
   "cell_type": "code",
   "execution_count": null,
   "metadata": {},
   "outputs": [],
   "source": [
    "results_table = pd.DataFrame.from_dict(grid_clf.cv_results_).set_index(\"rank_test_score\")\n",
    "results_table"
   ]
  },
  {
   "cell_type": "markdown",
   "metadata": {},
   "source": [
    "So, by running some cross-validation jobs and tuning the hyper-parameters, it is clear that our Random Forest classifier performs much better when a large depth of trees is allowed and \"n_estimators\" number is in the 60-80 range. Also, by choosing \"entropy\" rather than \"gini\" as the function to measure the quality of split, the scoring improves slightly."
   ]
  },
  {
   "cell_type": "markdown",
   "metadata": {},
   "source": [
    "### 2. Convolutional Neural Network"
   ]
  },
  {
   "cell_type": "markdown",
   "metadata": {},
   "source": [
    "Resize and manipulate the train and tests sets in order to be in the right format for the CNN implementation, ie in tensor format."
   ]
  },
  {
   "cell_type": "code",
   "execution_count": null,
   "metadata": {},
   "outputs": [],
   "source": [
    "X = X.reshape(5000,48,48,1)\n",
    "X_train, X_test, y_train, y_test = train_test_split(X, y)"
   ]
  },
  {
   "cell_type": "code",
   "execution_count": null,
   "metadata": {},
   "outputs": [],
   "source": [
    "# CNN Model\n",
    "nb_filters = 16\n",
    "nb_pool = 2\n",
    "nb_conv = 3\n",
    "nb_classes = 2 # binary classification problem\n",
    "\n",
    "model = models.Sequential()\n",
    "\n",
    "model.add(layers.Conv2D(nb_filters, (nb_conv, nb_conv), activation='relu', input_shape=X.shape[1:]))\n",
    "model.add(layers.Conv2D(nb_filters, (nb_conv, nb_conv), activation='relu'))\n",
    "model.add(layers.MaxPooling2D(pool_size=(nb_pool, nb_pool)))\n",
    "model.add(layers.Dropout(0.5))\n",
    "model.add(layers.Flatten())\n",
    "model.add(layers.Dense(64, activation='relu'))\n",
    "model.add(layers.Dropout(0.5))\n",
    "model.add(layers.Dense(nb_classes))\n",
    "\n",
    "model.compile(loss='categorical_crossentropy', optimizer='adam', metrics=['accuracy'])\n",
    "model.summary()"
   ]
  },
  {
   "cell_type": "markdown",
   "metadata": {},
   "source": [
    "We can notice that model converges to val_accuracy=80% after 10 epochs. After noticing a high val_loss, I have then increased the Dropout amount to 50%."
   ]
  },
  {
   "cell_type": "code",
   "execution_count": null,
   "metadata": {},
   "outputs": [],
   "source": [
    "model.compile(optimizer='adam',\n",
    "              loss=tf.keras.losses.SparseCategoricalCrossentropy(from_logits=True),\n",
    "              metrics=['accuracy'])\n",
    "\n",
    "history = model.fit(X_train, y_train, epochs=10, validation_data=(X_test, y_test), verbose=True)"
   ]
  },
  {
   "cell_type": "code",
   "execution_count": null,
   "metadata": {},
   "outputs": [],
   "source": [
    "y_pred_test = np.argmax(model.predict(X_test), axis=1)\n",
    "y_pred_train = np.argmax(model.predict(X_train), axis=1)\n",
    "print(\"TRAIN METRICS\")\n",
    "print(sklearn.metrics.classification_report(y_train, y_pred_train))\n",
    "print(\"TEST METRICS\")\n",
    "print(sklearn.metrics.classification_report(y_test, y_pred_test))"
   ]
  },
  {
   "cell_type": "code",
   "execution_count": null,
   "metadata": {},
   "outputs": [],
   "source": [
    "accuracy = history.history['accuracy']\n",
    "val_accuracy = history.history['val_accuracy']\n",
    "loss = history.history['loss']\n",
    "val_loss = history.history['val_loss']\n",
    "epochs = range(len(accuracy))\n",
    "plt.plot(epochs, accuracy, 'bo', label='Training set accuracy')\n",
    "plt.plot(epochs, val_accuracy, 'b', label='Validation set accuracy')\n",
    "plt.xlabel(\"Number of Epochs\")\n",
    "plt.ylabel(\"Score\")\n",
    "plt.title('Training and Validation sets accuracy')\n",
    "plt.legend()\n",
    "plt.show()"
   ]
  },
  {
   "cell_type": "code",
   "execution_count": null,
   "metadata": {},
   "outputs": [],
   "source": [
    "plt.figure()\n",
    "plt.plot(epochs, loss, 'bo', label='Train set loss')\n",
    "plt.plot(epochs, val_loss, 'b', label='Validation set loss')\n",
    "plt.xlabel(\"Number of Epochs\")\n",
    "plt.ylabel(\"Loss\")\n",
    "plt.title('Training and Validation sets loss')\n",
    "plt.legend()\n",
    "plt.show()"
   ]
  }
 ],
 "metadata": {
  "kernelspec": {
   "display_name": "Python 3",
   "language": "python",
   "name": "python3"
  },
  "language_info": {
   "codemirror_mode": {
    "name": "ipython",
    "version": 3
   },
   "file_extension": ".py",
   "mimetype": "text/x-python",
   "name": "python",
   "nbconvert_exporter": "python",
   "pygments_lexer": "ipython3",
   "version": "3.7.1"
  }
 },
 "nbformat": 4,
 "nbformat_minor": 2
}
