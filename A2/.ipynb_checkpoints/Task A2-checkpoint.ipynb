{
 "cells": [
  {
   "cell_type": "markdown",
   "metadata": {},
   "source": [
    "# <font color=\"orange\">Load modules</font> "
   ]
  },
  {
   "cell_type": "code",
   "execution_count": 1,
   "metadata": {},
   "outputs": [],
   "source": [
    "import pandas as pd\n",
    "import sklearn.metrics\n",
    "import sklearn.ensemble\n",
    "from sklearn.neighbors import KNeighborsClassifier\n",
    "from sklearn.model_selection import train_test_split\n",
    "import numpy as np\n",
    "import sklearn.linear_model as lm\n",
    "from tensorflow.keras import datasets, layers, models\n",
    "import tensorflow as tf\n",
    "from sklearn.metrics import confusion_matrix\n",
    "import seaborn as sns\n",
    "import sys\n",
    "sys.path.append(\"/Users/macbookpro/UCL - MSc Integrated Machine Learning Systems/Y1/Applied Machine Learning I/Final Assignment/AMLS_20-21_SN17024244\")\n",
    "from _CFG_Task_A import *\n",
    "from _CLASS_ImageManager import *"
   ]
  },
  {
   "cell_type": "markdown",
   "metadata": {},
   "source": [
    "In the following lines we load the labels .csv file."
   ]
  },
  {
   "cell_type": "code",
   "execution_count": 2,
   "metadata": {},
   "outputs": [],
   "source": [
    "# Now we load the label.csv file and store the smiling labels in y variable, replacing -1 with 0\n",
    "y = load_images_label_csv(\"smiling\")\n",
    "y[y==-1] = 0"
   ]
  },
  {
   "cell_type": "markdown",
   "metadata": {},
   "source": [
    "The following code is to remove the test_set in case this has been moved from celeba_test/img to celeba/img."
   ]
  },
  {
   "cell_type": "code",
   "execution_count": 3,
   "metadata": {},
   "outputs": [],
   "source": [
    "if count_n_images(sub_folder, extension) > 5000:\n",
    "    move_images_fromfolder(sub_folder, sub_test_folder, extension)"
   ]
  },
  {
   "cell_type": "markdown",
   "metadata": {},
   "source": [
    "# <font color=\"orange\">Load and process images</font> "
   ]
  },
  {
   "cell_type": "markdown",
   "metadata": {},
   "source": [
    "We leverage on the **ImageManager** class object to load the whole set of images as well as crop them based on the body part we are interested in. The processing is based on a Haar Cascade Classifier. This is an effective object detection approach which was proposed by Paul Viola and Michael Jones back in 2001. This is basically a machine learning based approach where a cascade function is trained from a lot of images both positive and negative. Based on the training it is then used to detect the objects in the other images.\n",
    "So how this works is they are huge individual .xml files with a lot of feature sets and each .xml corresponds to a very specific type of use case."
   ]
  },
  {
   "cell_type": "code",
   "execution_count": 4,
   "metadata": {},
   "outputs": [
    {
     "name": "stdout",
     "output_type": "stream",
     "text": [
      "Starting to load images from /Users/macbookpro/UCL - MSc Integrated Machine Learning Systems/Y1/Applied Machine Learning I/Final Assignment/AMLS_20-21_SN17024244/Datasets/dataset_AMLS_20-21/celeba/img/ with extension .jpg\n",
      "3535/5000 images loaded\n",
      "5000/5000 images loaded\n"
     ]
    }
   ],
   "source": [
    "imgmgr = ImageManager()\n",
    "imgmgr.load_images_from_folder(sub_folder, extension, verbose = True,\n",
    "                               colour = cv2.IMREAD_GRAYSCALE)    # B&W conversion\n",
    "imgmgr.bodypart = \"smile\"\n",
    "imges = imgmgr.crop_part((48,48), squaring=False, x_offsets=(1/5,4/5), y_offsets = (2/3,1))"
   ]
  },
  {
   "cell_type": "markdown",
   "metadata": {},
   "source": [
    "This is an example of an image after processing."
   ]
  },
  {
   "cell_type": "code",
   "execution_count": 5,
   "metadata": {},
   "outputs": [
    {
     "data": {
      "text/plain": [
       "<matplotlib.image.AxesImage at 0x7fe8224da6a0>"
      ]
     },
     "execution_count": 5,
     "metadata": {},
     "output_type": "execute_result"
    },
    {
     "data": {
      "image/png": "[encoded data removed]",
      "text/plain": [
       "<Figure size 432x288 with 1 Axes>"
      ]
     },
     "metadata": {
      "needs_background": "light"
     },
     "output_type": "display_data"
    }
   ],
   "source": [
    "rgb = cv2.cvtColor(imges[0], cv2.COLOR_BGR2RGB)\n",
    "plt.imshow(rgb)"
   ]
  },
  {
   "cell_type": "markdown",
   "metadata": {},
   "source": [
    "# <font color=\"orange\">Solving exercise using various machine learning approches</font> "
   ]
  },
  {
   "cell_type": "markdown",
   "metadata": {},
   "source": [
    "Once our images have been processed, we can split our dataset into train and test sets."
   ]
  },
  {
   "cell_type": "code",
   "execution_count": 6,
   "metadata": {},
   "outputs": [],
   "source": [
    "X = imgmgr.images\n",
    "X = X.reshape(X.shape[0], np.prod(X.shape[1:]))\n",
    "X_train, X_test, y_train, y_test = train_test_split(X, y)"
   ]
  },
  {
   "cell_type": "markdown",
   "metadata": {},
   "source": [
    "### 1. Random Forest"
   ]
  },
  {
   "cell_type": "markdown",
   "metadata": {},
   "source": [
    "Compare Gini vs Entropy as criterion. Entropy perform slightly better but error trend across number of estimators is similar, ie big drop at 20."
   ]
  },
  {
   "cell_type": "code",
   "execution_count": 7,
   "metadata": {},
   "outputs": [
    {
     "name": "stdout",
     "output_type": "stream",
     "text": [
      "TRAIN METRICS\n",
      "              precision    recall  f1-score   support\n",
      "\n",
      "           0       0.84      0.86      0.85      1869\n",
      "           1       0.85      0.84      0.85      1881\n",
      "\n",
      "    accuracy                           0.85      3750\n",
      "   macro avg       0.85      0.85      0.85      3750\n",
      "weighted avg       0.85      0.85      0.85      3750\n",
      "\n",
      "TEST METRICS\n",
      "              precision    recall  f1-score   support\n",
      "\n",
      "           0       0.80      0.81      0.80       631\n",
      "           1       0.80      0.79      0.80       619\n",
      "\n",
      "    accuracy                           0.80      1250\n",
      "   macro avg       0.80      0.80      0.80      1250\n",
      "weighted avg       0.80      0.80      0.80      1250\n",
      "\n"
     ]
    }
   ],
   "source": [
    "clf = sklearn.ensemble.RandomForestClassifier(n_estimators = 80, criterion=\"entropy\", max_depth=5)\n",
    "clf.fit(X_train, y_train)\n",
    "y_pred_test = clf.predict(X_test)\n",
    "y_pred_train = clf.predict(X_train)\n",
    "print(\"TRAIN METRICS\")\n",
    "print(sklearn.metrics.classification_report(y_train, y_pred_train))\n",
    "print(\"TEST METRICS\")\n",
    "print(sklearn.metrics.classification_report(y_test, y_pred_test))"
   ]
  },
  {
   "cell_type": "code",
   "execution_count": 8,
   "metadata": {},
   "outputs": [
    {
     "data": {
      "image/png": "[encoded data removed]",
      "text/plain": [
       "<Figure size 432x288 with 2 Axes>"
      ]
     },
     "metadata": {
      "needs_background": "light"
     },
     "output_type": "display_data"
    }
   ],
   "source": [
    "train_test_confusion_matrix(y_train, y_pred_train, y_test, y_pred_test)"
   ]
  },
  {
   "cell_type": "code",
   "execution_count": 9,
   "metadata": {},
   "outputs": [
    {
     "name": "stderr",
     "output_type": "stream",
     "text": [
      "No handles with labels found to put in legend.\n"
     ]
    },
    {
     "data": {
      "image/png": "[encoded data removed]",
      "text/plain": [
       "<Figure size 432x288 with 1 Axes>"
      ]
     },
     "metadata": {
      "needs_background": "light"
     },
     "output_type": "display_data"
    }
   ],
   "source": [
    "n_estimators=np.arange(5, 100, 5)\n",
    "\n",
    "# Dictionary containing (<n_estimators>, <error rate>) pairs.\n",
    "d = {}\n",
    "\n",
    "for x in n_estimators:\n",
    "    clf.set_params(n_estimators=x)\n",
    "    clf.fit(X_train, y_train)\n",
    "    error = 1 - clf.score(X_test, y_test)\n",
    "    d[x] = error\n",
    "\n",
    "plt.plot(d.keys(), d.values())\n",
    "plt.xlabel(\"n_estimators\")\n",
    "plt.ylabel(\"Error rate\")\n",
    "plt.legend(loc=\"upper right\")\n",
    "plt.title('Backtesting performance of number of trees')\n",
    "plt.show()"
   ]
  },
  {
   "cell_type": "code",
   "execution_count": 10,
   "metadata": {},
   "outputs": [],
   "source": [
    "param_grid = {'n_estimators': [20, 40, 60, 80],\n",
    "              'max_depth':    [2, 7, 15, 20]}"
   ]
  },
  {
   "cell_type": "code",
   "execution_count": 11,
   "metadata": {},
   "outputs": [
    {
     "data": {
      "text/plain": [
       "GridSearchCV(cv=5,\n",
       "             estimator=RandomForestClassifier(criterion='entropy', max_depth=5,\n",
       "                                              n_estimators=95),\n",
       "             param_grid={'max_depth': [2, 7, 15, 20],\n",
       "                         'n_estimators': [20, 40, 60, 80]})"
      ]
     },
     "execution_count": 11,
     "metadata": {},
     "output_type": "execute_result"
    }
   ],
   "source": [
    "grid_clf = sklearn.model_selection.GridSearchCV(clf, param_grid, cv=5)\n",
    "grid_clf.fit(X_train, y_train)"
   ]
  },
  {
   "cell_type": "code",
   "execution_count": 12,
   "metadata": {},
   "outputs": [
    {
     "data": {
      "text/html": [
       "<div>\n",
       "<style scoped>\n",
       "    .dataframe tbody tr th:only-of-type {\n",
       "        vertical-align: middle;\n",
       "    }\n",
       "\n",
       "    .dataframe tbody tr th {\n",
       "        vertical-align: top;\n",
       "    }\n",
       "\n",
       "    .dataframe thead th {\n",
       "        text-align: right;\n",
       "    }\n",
       "</style>\n",
       "<table border=\"1\" class=\"dataframe\">\n",
       "  <thead>\n",
       "    <tr style=\"text-align: right;\">\n",
       "      <th></th>\n",
       "      <th>mean_fit_time</th>\n",
       "      <th>std_fit_time</th>\n",
       "      <th>mean_score_time</th>\n",
       "      <th>std_score_time</th>\n",
       "      <th>param_max_depth</th>\n",
       "      <th>param_n_estimators</th>\n",
       "      <th>params</th>\n",
       "      <th>split0_test_score</th>\n",
       "      <th>split1_test_score</th>\n",
       "      <th>split2_test_score</th>\n",
       "      <th>split3_test_score</th>\n",
       "      <th>split4_test_score</th>\n",
       "      <th>mean_test_score</th>\n",
       "      <th>std_test_score</th>\n",
       "    </tr>\n",
       "    <tr>\n",
       "      <th>rank_test_score</th>\n",
       "      <th></th>\n",
       "      <th></th>\n",
       "      <th></th>\n",
       "      <th></th>\n",
       "      <th></th>\n",
       "      <th></th>\n",
       "      <th></th>\n",
       "      <th></th>\n",
       "      <th></th>\n",
       "      <th></th>\n",
       "      <th></th>\n",
       "      <th></th>\n",
       "      <th></th>\n",
       "      <th></th>\n",
       "    </tr>\n",
       "  </thead>\n",
       "  <tbody>\n",
       "    <tr>\n",
       "      <th>16</th>\n",
       "      <td>0.348148</td>\n",
       "      <td>0.037397</td>\n",
       "      <td>0.006529</td>\n",
       "      <td>0.001090</td>\n",
       "      <td>2</td>\n",
       "      <td>20</td>\n",
       "      <td>{'max_depth': 2, 'n_estimators': 20}</td>\n",
       "      <td>0.685333</td>\n",
       "      <td>0.750667</td>\n",
       "      <td>0.712000</td>\n",
       "      <td>0.729333</td>\n",
       "      <td>0.689333</td>\n",
       "      <td>0.713333</td>\n",
       "      <td>0.024542</td>\n",
       "    </tr>\n",
       "    <tr>\n",
       "      <th>15</th>\n",
       "      <td>0.703501</td>\n",
       "      <td>0.011469</td>\n",
       "      <td>0.008288</td>\n",
       "      <td>0.001133</td>\n",
       "      <td>2</td>\n",
       "      <td>40</td>\n",
       "      <td>{'max_depth': 2, 'n_estimators': 40}</td>\n",
       "      <td>0.696000</td>\n",
       "      <td>0.724000</td>\n",
       "      <td>0.722667</td>\n",
       "      <td>0.742667</td>\n",
       "      <td>0.682667</td>\n",
       "      <td>0.713600</td>\n",
       "      <td>0.021456</td>\n",
       "    </tr>\n",
       "    <tr>\n",
       "      <th>13</th>\n",
       "      <td>0.982022</td>\n",
       "      <td>0.016952</td>\n",
       "      <td>0.010636</td>\n",
       "      <td>0.001144</td>\n",
       "      <td>2</td>\n",
       "      <td>60</td>\n",
       "      <td>{'max_depth': 2, 'n_estimators': 60}</td>\n",
       "      <td>0.704000</td>\n",
       "      <td>0.738667</td>\n",
       "      <td>0.729333</td>\n",
       "      <td>0.745333</td>\n",
       "      <td>0.700000</td>\n",
       "      <td>0.723467</td>\n",
       "      <td>0.018293</td>\n",
       "    </tr>\n",
       "    <tr>\n",
       "      <th>14</th>\n",
       "      <td>1.298058</td>\n",
       "      <td>0.023789</td>\n",
       "      <td>0.012480</td>\n",
       "      <td>0.001005</td>\n",
       "      <td>2</td>\n",
       "      <td>80</td>\n",
       "      <td>{'max_depth': 2, 'n_estimators': 80}</td>\n",
       "      <td>0.697333</td>\n",
       "      <td>0.730667</td>\n",
       "      <td>0.720000</td>\n",
       "      <td>0.748000</td>\n",
       "      <td>0.692000</td>\n",
       "      <td>0.717600</td>\n",
       "      <td>0.020817</td>\n",
       "    </tr>\n",
       "    <tr>\n",
       "      <th>9</th>\n",
       "      <td>1.270446</td>\n",
       "      <td>0.062804</td>\n",
       "      <td>0.007839</td>\n",
       "      <td>0.000714</td>\n",
       "      <td>7</td>\n",
       "      <td>20</td>\n",
       "      <td>{'max_depth': 7, 'n_estimators': 20}</td>\n",
       "      <td>0.788000</td>\n",
       "      <td>0.814667</td>\n",
       "      <td>0.780000</td>\n",
       "      <td>0.784000</td>\n",
       "      <td>0.800000</td>\n",
       "      <td>0.793333</td>\n",
       "      <td>0.012593</td>\n",
       "    </tr>\n",
       "    <tr>\n",
       "      <th>9</th>\n",
       "      <td>2.454257</td>\n",
       "      <td>0.070440</td>\n",
       "      <td>0.011319</td>\n",
       "      <td>0.000802</td>\n",
       "      <td>7</td>\n",
       "      <td>40</td>\n",
       "      <td>{'max_depth': 7, 'n_estimators': 40}</td>\n",
       "      <td>0.784000</td>\n",
       "      <td>0.813333</td>\n",
       "      <td>0.774667</td>\n",
       "      <td>0.772000</td>\n",
       "      <td>0.822667</td>\n",
       "      <td>0.793333</td>\n",
       "      <td>0.020742</td>\n",
       "    </tr>\n",
       "    <tr>\n",
       "      <th>7</th>\n",
       "      <td>3.742646</td>\n",
       "      <td>0.174521</td>\n",
       "      <td>0.014553</td>\n",
       "      <td>0.001225</td>\n",
       "      <td>7</td>\n",
       "      <td>60</td>\n",
       "      <td>{'max_depth': 7, 'n_estimators': 60}</td>\n",
       "      <td>0.801333</td>\n",
       "      <td>0.817333</td>\n",
       "      <td>0.796000</td>\n",
       "      <td>0.772000</td>\n",
       "      <td>0.809333</td>\n",
       "      <td>0.799200</td>\n",
       "      <td>0.015402</td>\n",
       "    </tr>\n",
       "    <tr>\n",
       "      <th>6</th>\n",
       "      <td>5.197933</td>\n",
       "      <td>0.313704</td>\n",
       "      <td>0.021994</td>\n",
       "      <td>0.005990</td>\n",
       "      <td>7</td>\n",
       "      <td>80</td>\n",
       "      <td>{'max_depth': 7, 'n_estimators': 80}</td>\n",
       "      <td>0.794667</td>\n",
       "      <td>0.825333</td>\n",
       "      <td>0.796000</td>\n",
       "      <td>0.778667</td>\n",
       "      <td>0.805333</td>\n",
       "      <td>0.800000</td>\n",
       "      <td>0.015296</td>\n",
       "    </tr>\n",
       "    <tr>\n",
       "      <th>11</th>\n",
       "      <td>1.546879</td>\n",
       "      <td>0.038244</td>\n",
       "      <td>0.008026</td>\n",
       "      <td>0.000208</td>\n",
       "      <td>15</td>\n",
       "      <td>20</td>\n",
       "      <td>{'max_depth': 15, 'n_estimators': 20}</td>\n",
       "      <td>0.785333</td>\n",
       "      <td>0.782667</td>\n",
       "      <td>0.802667</td>\n",
       "      <td>0.786667</td>\n",
       "      <td>0.788000</td>\n",
       "      <td>0.789067</td>\n",
       "      <td>0.007025</td>\n",
       "    </tr>\n",
       "    <tr>\n",
       "      <th>8</th>\n",
       "      <td>3.086013</td>\n",
       "      <td>0.067293</td>\n",
       "      <td>0.011737</td>\n",
       "      <td>0.000310</td>\n",
       "      <td>15</td>\n",
       "      <td>40</td>\n",
       "      <td>{'max_depth': 15, 'n_estimators': 40}</td>\n",
       "      <td>0.781333</td>\n",
       "      <td>0.821333</td>\n",
       "      <td>0.790667</td>\n",
       "      <td>0.781333</td>\n",
       "      <td>0.798667</td>\n",
       "      <td>0.794667</td>\n",
       "      <td>0.014823</td>\n",
       "    </tr>\n",
       "    <tr>\n",
       "      <th>3</th>\n",
       "      <td>4.530073</td>\n",
       "      <td>0.032819</td>\n",
       "      <td>0.016454</td>\n",
       "      <td>0.000729</td>\n",
       "      <td>15</td>\n",
       "      <td>60</td>\n",
       "      <td>{'max_depth': 15, 'n_estimators': 60}</td>\n",
       "      <td>0.794667</td>\n",
       "      <td>0.820000</td>\n",
       "      <td>0.809333</td>\n",
       "      <td>0.780000</td>\n",
       "      <td>0.813333</td>\n",
       "      <td>0.803467</td>\n",
       "      <td>0.014375</td>\n",
       "    </tr>\n",
       "    <tr>\n",
       "      <th>4</th>\n",
       "      <td>5.896922</td>\n",
       "      <td>0.069980</td>\n",
       "      <td>0.018492</td>\n",
       "      <td>0.000174</td>\n",
       "      <td>15</td>\n",
       "      <td>80</td>\n",
       "      <td>{'max_depth': 15, 'n_estimators': 80}</td>\n",
       "      <td>0.800000</td>\n",
       "      <td>0.817333</td>\n",
       "      <td>0.794667</td>\n",
       "      <td>0.784000</td>\n",
       "      <td>0.813333</td>\n",
       "      <td>0.801867</td>\n",
       "      <td>0.012209</td>\n",
       "    </tr>\n",
       "    <tr>\n",
       "      <th>12</th>\n",
       "      <td>1.463199</td>\n",
       "      <td>0.031042</td>\n",
       "      <td>0.008238</td>\n",
       "      <td>0.000979</td>\n",
       "      <td>20</td>\n",
       "      <td>20</td>\n",
       "      <td>{'max_depth': 20, 'n_estimators': 20}</td>\n",
       "      <td>0.768000</td>\n",
       "      <td>0.798667</td>\n",
       "      <td>0.794667</td>\n",
       "      <td>0.780000</td>\n",
       "      <td>0.785333</td>\n",
       "      <td>0.785333</td>\n",
       "      <td>0.010898</td>\n",
       "    </tr>\n",
       "    <tr>\n",
       "      <th>5</th>\n",
       "      <td>2.974558</td>\n",
       "      <td>0.025359</td>\n",
       "      <td>0.012190</td>\n",
       "      <td>0.000835</td>\n",
       "      <td>20</td>\n",
       "      <td>40</td>\n",
       "      <td>{'max_depth': 20, 'n_estimators': 40}</td>\n",
       "      <td>0.793333</td>\n",
       "      <td>0.814667</td>\n",
       "      <td>0.800000</td>\n",
       "      <td>0.782667</td>\n",
       "      <td>0.817333</td>\n",
       "      <td>0.801600</td>\n",
       "      <td>0.013020</td>\n",
       "    </tr>\n",
       "    <tr>\n",
       "      <th>2</th>\n",
       "      <td>4.408905</td>\n",
       "      <td>0.030560</td>\n",
       "      <td>0.016318</td>\n",
       "      <td>0.000966</td>\n",
       "      <td>20</td>\n",
       "      <td>60</td>\n",
       "      <td>{'max_depth': 20, 'n_estimators': 60}</td>\n",
       "      <td>0.793333</td>\n",
       "      <td>0.818667</td>\n",
       "      <td>0.800000</td>\n",
       "      <td>0.796000</td>\n",
       "      <td>0.814667</td>\n",
       "      <td>0.804533</td>\n",
       "      <td>0.010210</td>\n",
       "    </tr>\n",
       "    <tr>\n",
       "      <th>1</th>\n",
       "      <td>5.780239</td>\n",
       "      <td>0.024433</td>\n",
       "      <td>0.019150</td>\n",
       "      <td>0.000490</td>\n",
       "      <td>20</td>\n",
       "      <td>80</td>\n",
       "      <td>{'max_depth': 20, 'n_estimators': 80}</td>\n",
       "      <td>0.817333</td>\n",
       "      <td>0.817333</td>\n",
       "      <td>0.809333</td>\n",
       "      <td>0.784000</td>\n",
       "      <td>0.809333</td>\n",
       "      <td>0.807467</td>\n",
       "      <td>0.012267</td>\n",
       "    </tr>\n",
       "  </tbody>\n",
       "</table>\n",
       "</div>"
      ],
      "text/plain": [
       "                 mean_fit_time  std_fit_time  mean_score_time  std_score_time  \\\n",
       "rank_test_score                                                                 \n",
       "16                    0.348148      0.037397         0.006529        0.001090   \n",
       "15                    0.703501      0.011469         0.008288        0.001133   \n",
       "13                    0.982022      0.016952         0.010636        0.001144   \n",
       "14                    1.298058      0.023789         0.012480        0.001005   \n",
       "9                     1.270446      0.062804         0.007839        0.000714   \n",
       "9                     2.454257      0.070440         0.011319        0.000802   \n",
       "7                     3.742646      0.174521         0.014553        0.001225   \n",
       "6                     5.197933      0.313704         0.021994        0.005990   \n",
       "11                    1.546879      0.038244         0.008026        0.000208   \n",
       "8                     3.086013      0.067293         0.011737        0.000310   \n",
       "3                     4.530073      0.032819         0.016454        0.000729   \n",
       "4                     5.896922      0.069980         0.018492        0.000174   \n",
       "12                    1.463199      0.031042         0.008238        0.000979   \n",
       "5                     2.974558      0.025359         0.012190        0.000835   \n",
       "2                     4.408905      0.030560         0.016318        0.000966   \n",
       "1                     5.780239      0.024433         0.019150        0.000490   \n",
       "\n",
       "                param_max_depth param_n_estimators  \\\n",
       "rank_test_score                                      \n",
       "16                            2                 20   \n",
       "15                            2                 40   \n",
       "13                            2                 60   \n",
       "14                            2                 80   \n",
       "9                             7                 20   \n",
       "9                             7                 40   \n",
       "7                             7                 60   \n",
       "6                             7                 80   \n",
       "11                           15                 20   \n",
       "8                            15                 40   \n",
       "3                            15                 60   \n",
       "4                            15                 80   \n",
       "12                           20                 20   \n",
       "5                            20                 40   \n",
       "2                            20                 60   \n",
       "1                            20                 80   \n",
       "\n",
       "                                                params  split0_test_score  \\\n",
       "rank_test_score                                                             \n",
       "16                {'max_depth': 2, 'n_estimators': 20}           0.685333   \n",
       "15                {'max_depth': 2, 'n_estimators': 40}           0.696000   \n",
       "13                {'max_depth': 2, 'n_estimators': 60}           0.704000   \n",
       "14                {'max_depth': 2, 'n_estimators': 80}           0.697333   \n",
       "9                 {'max_depth': 7, 'n_estimators': 20}           0.788000   \n",
       "9                 {'max_depth': 7, 'n_estimators': 40}           0.784000   \n",
       "7                 {'max_depth': 7, 'n_estimators': 60}           0.801333   \n",
       "6                 {'max_depth': 7, 'n_estimators': 80}           0.794667   \n",
       "11               {'max_depth': 15, 'n_estimators': 20}           0.785333   \n",
       "8                {'max_depth': 15, 'n_estimators': 40}           0.781333   \n",
       "3                {'max_depth': 15, 'n_estimators': 60}           0.794667   \n",
       "4                {'max_depth': 15, 'n_estimators': 80}           0.800000   \n",
       "12               {'max_depth': 20, 'n_estimators': 20}           0.768000   \n",
       "5                {'max_depth': 20, 'n_estimators': 40}           0.793333   \n",
       "2                {'max_depth': 20, 'n_estimators': 60}           0.793333   \n",
       "1                {'max_depth': 20, 'n_estimators': 80}           0.817333   \n",
       "\n",
       "                 split1_test_score  split2_test_score  split3_test_score  \\\n",
       "rank_test_score                                                            \n",
       "16                        0.750667           0.712000           0.729333   \n",
       "15                        0.724000           0.722667           0.742667   \n",
       "13                        0.738667           0.729333           0.745333   \n",
       "14                        0.730667           0.720000           0.748000   \n",
       "9                         0.814667           0.780000           0.784000   \n",
       "9                         0.813333           0.774667           0.772000   \n",
       "7                         0.817333           0.796000           0.772000   \n",
       "6                         0.825333           0.796000           0.778667   \n",
       "11                        0.782667           0.802667           0.786667   \n",
       "8                         0.821333           0.790667           0.781333   \n",
       "3                         0.820000           0.809333           0.780000   \n",
       "4                         0.817333           0.794667           0.784000   \n",
       "12                        0.798667           0.794667           0.780000   \n",
       "5                         0.814667           0.800000           0.782667   \n",
       "2                         0.818667           0.800000           0.796000   \n",
       "1                         0.817333           0.809333           0.784000   \n",
       "\n",
       "                 split4_test_score  mean_test_score  std_test_score  \n",
       "rank_test_score                                                      \n",
       "16                        0.689333         0.713333        0.024542  \n",
       "15                        0.682667         0.713600        0.021456  \n",
       "13                        0.700000         0.723467        0.018293  \n",
       "14                        0.692000         0.717600        0.020817  \n",
       "9                         0.800000         0.793333        0.012593  \n",
       "9                         0.822667         0.793333        0.020742  \n",
       "7                         0.809333         0.799200        0.015402  \n",
       "6                         0.805333         0.800000        0.015296  \n",
       "11                        0.788000         0.789067        0.007025  \n",
       "8                         0.798667         0.794667        0.014823  \n",
       "3                         0.813333         0.803467        0.014375  \n",
       "4                         0.813333         0.801867        0.012209  \n",
       "12                        0.785333         0.785333        0.010898  \n",
       "5                         0.817333         0.801600        0.013020  \n",
       "2                         0.814667         0.804533        0.010210  \n",
       "1                         0.809333         0.807467        0.012267  "
      ]
     },
     "execution_count": 12,
     "metadata": {},
     "output_type": "execute_result"
    }
   ],
   "source": [
    "results_table = pd.DataFrame.from_dict(grid_clf.cv_results_).set_index(\"rank_test_score\")\n",
    "results_table"
   ]
  },
  {
   "cell_type": "markdown",
   "metadata": {},
   "source": [
    "So, by running some cross-validation jobs and tuning the hyper-parameters, it is clear that our Random Forest classifier performs much better when a large depth of trees is allowed and \"n_estimators\" number is in the 60-80 range. Also, by choosing \"entropy\" rather than \"gini\" as the function to measure the quality of split, the scoring improves slightly."
   ]
  },
  {
   "cell_type": "markdown",
   "metadata": {},
   "source": [
    "### 2. Convolutional Neural Network"
   ]
  },
  {
   "cell_type": "markdown",
   "metadata": {},
   "source": [
    "Resize and manipulate the train and tests sets in order to be in the right format for the CNN implementation, ie in tensor format."
   ]
  },
  {
   "cell_type": "code",
   "execution_count": 13,
   "metadata": {},
   "outputs": [],
   "source": [
    "X = X.reshape(5000,48,48,1)\n",
    "X_train, X_test, y_train, y_test = train_test_split(X, y)"
   ]
  },
  {
   "cell_type": "code",
   "execution_count": 25,
   "metadata": {},
   "outputs": [
    {
     "name": "stdout",
     "output_type": "stream",
     "text": [
      "Model: \"sequential_5\"\n",
      "_________________________________________________________________\n",
      "Layer (type)                 Output Shape              Param #   \n",
      "=================================================================\n",
      "conv2d_10 (Conv2D)           (None, 46, 46, 16)        160       \n",
      "_________________________________________________________________\n",
      "conv2d_11 (Conv2D)           (None, 44, 44, 16)        2320      \n",
      "_________________________________________________________________\n",
      "max_pooling2d_5 (MaxPooling2 (None, 22, 22, 16)        0         \n",
      "_________________________________________________________________\n",
      "dropout_10 (Dropout)         (None, 22, 22, 16)        0         \n",
      "_________________________________________________________________\n",
      "flatten_5 (Flatten)          (None, 7744)              0         \n",
      "_________________________________________________________________\n",
      "dense_10 (Dense)             (None, 64)                495680    \n",
      "_________________________________________________________________\n",
      "dropout_11 (Dropout)         (None, 64)                0         \n",
      "_________________________________________________________________\n",
      "dense_11 (Dense)             (None, 2)                 130       \n",
      "=================================================================\n",
      "Total params: 498,290\n",
      "Trainable params: 498,290\n",
      "Non-trainable params: 0\n",
      "_________________________________________________________________\n"
     ]
    }
   ],
   "source": [
    "# CNN Model\n",
    "nb_filters = 16\n",
    "nb_pool = 2\n",
    "nb_conv = 3\n",
    "nb_classes = 2 # binary classification problem\n",
    "\n",
    "model = models.Sequential()\n",
    "\n",
    "model.add(layers.Conv2D(nb_filters, (nb_conv, nb_conv), activation='relu', input_shape=X.shape[1:]))\n",
    "model.add(layers.Conv2D(nb_filters, (nb_conv, nb_conv), activation='relu'))\n",
    "model.add(layers.MaxPooling2D(pool_size=(nb_pool, nb_pool)))\n",
    "model.add(layers.Dropout(0.5))\n",
    "model.add(layers.Flatten())\n",
    "model.add(layers.Dense(64, activation='relu'))\n",
    "model.add(layers.Dropout(0.5))\n",
    "model.add(layers.Dense(nb_classes))\n",
    "\n",
    "model.compile(loss='categorical_crossentropy', optimizer='adam', metrics=['accuracy'])\n",
    "model.summary()"
   ]
  },
  {
   "cell_type": "markdown",
   "metadata": {},
   "source": [
    "We can notice that model converges to val_accuracy=80% after 10 epochs. After noticing a high val_loss, I have then increased the Dropout amount to 50%."
   ]
  },
  {
   "cell_type": "code",
   "execution_count": 26,
   "metadata": {},
   "outputs": [
    {
     "name": "stdout",
     "output_type": "stream",
     "text": [
      "Epoch 1/10\n",
      "118/118 [==============================] - 8s 66ms/step - loss: 3.0194 - accuracy: 0.5181 - val_loss: 0.6751 - val_accuracy: 0.7088\n",
      "Epoch 2/10\n",
      "118/118 [==============================] - 8s 69ms/step - loss: 0.6574 - accuracy: 0.5672 - val_loss: 0.6053 - val_accuracy: 0.7488\n",
      "Epoch 3/10\n",
      "118/118 [==============================] - 8s 71ms/step - loss: 0.6007 - accuracy: 0.6445 - val_loss: 0.5112 - val_accuracy: 0.7888\n",
      "Epoch 4/10\n",
      "118/118 [==============================] - 9s 72ms/step - loss: 0.5545 - accuracy: 0.6853 - val_loss: 0.5036 - val_accuracy: 0.7984\n",
      "Epoch 5/10\n",
      "118/118 [==============================] - 9s 73ms/step - loss: 0.5373 - accuracy: 0.7024 - val_loss: 0.4523 - val_accuracy: 0.7944\n",
      "Epoch 6/10\n",
      "118/118 [==============================] - 9s 77ms/step - loss: 0.4999 - accuracy: 0.7240 - val_loss: 0.4422 - val_accuracy: 0.8064\n",
      "Epoch 7/10\n",
      "118/118 [==============================] - 10s 86ms/step - loss: 0.4845 - accuracy: 0.7304 - val_loss: 0.4482 - val_accuracy: 0.8064\n",
      "Epoch 8/10\n",
      "118/118 [==============================] - 9s 74ms/step - loss: 0.4935 - accuracy: 0.7371 - val_loss: 0.4360 - val_accuracy: 0.7992\n",
      "Epoch 9/10\n",
      "118/118 [==============================] - 9s 74ms/step - loss: 0.4635 - accuracy: 0.7501 - val_loss: 0.4602 - val_accuracy: 0.7960\n",
      "Epoch 10/10\n",
      "118/118 [==============================] - 9s 75ms/step - loss: 0.4511 - accuracy: 0.7728 - val_loss: 0.4253 - val_accuracy: 0.8048\n"
     ]
    }
   ],
   "source": [
    "model.compile(optimizer='adam',\n",
    "              loss=tf.keras.losses.SparseCategoricalCrossentropy(from_logits=True),\n",
    "              metrics=['accuracy'])\n",
    "\n",
    "history = model.fit(X_train, y_train, epochs=10, validation_data=(X_test, y_test), verbose=True)"
   ]
  },
  {
   "cell_type": "code",
   "execution_count": 28,
   "metadata": {},
   "outputs": [
    {
     "name": "stdout",
     "output_type": "stream",
     "text": [
      "TRAIN METRICS\n",
      "              precision    recall  f1-score   support\n",
      "\n",
      "           0       0.84      0.90      0.87      1848\n",
      "           1       0.90      0.83      0.86      1902\n",
      "\n",
      "    accuracy                           0.87      3750\n",
      "   macro avg       0.87      0.87      0.87      3750\n",
      "weighted avg       0.87      0.87      0.87      3750\n",
      "\n",
      "TEST METRICS\n",
      "              precision    recall  f1-score   support\n",
      "\n",
      "           0       0.80      0.83      0.82       652\n",
      "           1       0.81      0.78      0.79       598\n",
      "\n",
      "    accuracy                           0.80      1250\n",
      "   macro avg       0.81      0.80      0.80      1250\n",
      "weighted avg       0.80      0.80      0.80      1250\n",
      "\n"
     ]
    }
   ],
   "source": [
    "y_pred_test = np.argmax(model.predict(X_test), axis=1)\n",
    "y_pred_train = np.argmax(model.predict(X_train), axis=1)\n",
    "print(\"TRAIN METRICS\")\n",
    "print(sklearn.metrics.classification_report(y_train, y_pred_train))\n",
    "print(\"TEST METRICS\")\n",
    "print(sklearn.metrics.classification_report(y_test, y_pred_test))"
   ]
  },
  {
   "cell_type": "code",
   "execution_count": 30,
   "metadata": {},
   "outputs": [
    {
     "data": {
      "image/png": "[encoded data removed]",
      "text/plain": [
       "<Figure size 432x288 with 1 Axes>"
      ]
     },
     "metadata": {
      "needs_background": "light"
     },
     "output_type": "display_data"
    }
   ],
   "source": [
    "accuracy = history.history['accuracy']\n",
    "val_accuracy = history.history['val_accuracy']\n",
    "loss = history.history['loss']\n",
    "val_loss = history.history['val_loss']\n",
    "epochs = range(len(accuracy))\n",
    "plt.plot(epochs, accuracy, 'bo', label='Training set accuracy')\n",
    "plt.plot(epochs, val_accuracy, 'b', label='Validation set accuracy')\n",
    "plt.xlabel(\"Number of Epochs\")\n",
    "plt.ylabel(\"Score\")\n",
    "plt.title('Training and Validation sets accuracy')\n",
    "plt.legend()\n",
    "plt.show()"
   ]
  },
  {
   "cell_type": "code",
   "execution_count": 31,
   "metadata": {},
   "outputs": [
    {
     "data": {
      "image/png": "[encoded data removed]",
      "text/plain": [
       "<Figure size 432x288 with 1 Axes>"
      ]
     },
     "metadata": {
      "needs_background": "light"
     },
     "output_type": "display_data"
    }
   ],
   "source": [
    "plt.figure()\n",
    "plt.plot(epochs, loss, 'bo', label='Train set loss')\n",
    "plt.plot(epochs, val_loss, 'b', label='Validation set loss')\n",
    "plt.xlabel(\"Number of Epochs\")\n",
    "plt.ylabel(\"Loss\")\n",
    "plt.title('Training and Validation sets loss')\n",
    "plt.legend()\n",
    "plt.show()"
   ]
  },
  {
   "cell_type": "code",
   "execution_count": null,
   "metadata": {},
   "outputs": [],
   "source": []
  }
 ],
 "metadata": {
  "kernelspec": {
   "display_name": "Python 3",
   "language": "python",
   "name": "python3"
  },
  "language_info": {
   "codemirror_mode": {
    "name": "ipython",
    "version": 3
   },
   "file_extension": ".py",
   "mimetype": "text/x-python",
   "name": "python",
   "nbconvert_exporter": "python",
   "pygments_lexer": "ipython3",
   "version": "3.7.1"
  }
 },
 "nbformat": 4,
 "nbformat_minor": 2
}
