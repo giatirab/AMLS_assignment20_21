{
 "cells": [
  {
   "cell_type": "markdown",
   "metadata": {},
   "source": [
    "# <font color=\"orange\">Load modules</font> "
   ]
  },
  {
   "cell_type": "code",
   "execution_count": 5,
   "metadata": {},
   "outputs": [],
   "source": [
    "import pandas as pd\n",
    "import sklearn.metrics\n",
    "import sklearn.ensemble\n",
    "from sklearn.neighbors import KNeighborsClassifier\n",
    "from sklearn.model_selection import train_test_split\n",
    "import numpy as np\n",
    "import sklearn.linear_model as lm\n",
    "from tensorflow.keras import datasets, layers, models\n",
    "import tensorflow as tf\n",
    "from sklearn.metrics import confusion_matrix\n",
    "import seaborn as sns\n",
    "import sys\n",
    "sys.path.append(\"/Users/macbookpro/UCL - MSc Integrated Machine Learning Systems/Y1/Applied Machine Learning I/Final Assignment/AMLS_20-21_SN17024244\")\n",
    "from _CFG_Task_A import *\n",
    "from _CLASS_ImageManager import *"
   ]
  },
  {
   "cell_type": "markdown",
   "metadata": {},
   "source": [
    "In the following lines we load the labels .csv file."
   ]
  },
  {
   "cell_type": "code",
   "execution_count": 6,
   "metadata": {},
   "outputs": [],
   "source": [
    "# Now we load the label.csv file and store the smiling labels in y variable, replacing -1 with 0\n",
    "y = load_images_label_csv(\"smiling\")\n",
    "y[y==-1] = 0"
   ]
  },
  {
   "cell_type": "markdown",
   "metadata": {},
   "source": [
    "# <font color=\"orange\">Load and process images</font> "
   ]
  },
  {
   "cell_type": "markdown",
   "metadata": {},
   "source": [
    "We leverage on the **ImageManager** class object to load the whole set of images as well as crop them based on the body part we are interested in. The processing is based on a Cascade Classifier. We will implement our use case using the Haar Cascade classifier, which is an effective object detection approach which was proposed by Paul Viola and Michael Jones. This is basically a machine learning based approach where a cascade function is trained from a lot of images both positive and negative. Based on the training it is then used to detect the objects in the other images.\n",
    "So how this works is they are huge individual .xml files with a lot of feature sets and each xml corresponds to a very specific type of use case."
   ]
  },
  {
   "cell_type": "code",
   "execution_count": 7,
   "metadata": {},
   "outputs": [
    {
     "name": "stdout",
     "output_type": "stream",
     "text": [
      "Starting to load images from /Users/macbookpro/UCL - MSc Integrated Machine Learning Systems/Y1/Applied Machine Learning I/Final Assignment/AMLS_20-21_SN17024244/Datasets/dataset_AMLS_20-21/celeba/img/ with extension .jpg\n",
      "3632/5000 images loaded\n",
      "5000/5000 images loaded\n"
     ]
    }
   ],
   "source": [
    "imgmgr = ImageManager()\n",
    "imgmgr.load_images_from_folder(sub_folder, extension, verbose = True,\n",
    "                               colour = cv2.IMREAD_GRAYSCALE    # B&W conversion\n",
    "                              )\n",
    "imgmgr.bodypart = \"smile\"\n",
    "imges = imgmgr.crop_part((48,48), squaring=False, x_offsets=(1/5,4/5), y_offsets = (2/3,1))"
   ]
  },
  {
   "cell_type": "markdown",
   "metadata": {},
   "source": [
    "This is an example of an image after processing."
   ]
  },
  {
   "cell_type": "code",
   "execution_count": 8,
   "metadata": {},
   "outputs": [
    {
     "data": {
      "text/plain": [
       "<matplotlib.image.AxesImage at 0x7fc5f4629d68>"
      ]
     },
     "execution_count": 8,
     "metadata": {},
     "output_type": "execute_result"
    },
    {
     "data": {
      "image/png": "[encoded data removed]",
      "text/plain": [
       "<Figure size 432x288 with 1 Axes>"
      ]
     },
     "metadata": {
      "needs_background": "light"
     },
     "output_type": "display_data"
    }
   ],
   "source": [
    "rgb = cv2.cvtColor(imges[0], cv2.COLOR_BGR2RGB)\n",
    "plt.imshow(rgb)"
   ]
  },
  {
   "cell_type": "markdown",
   "metadata": {},
   "source": [
    "# <font color=\"orange\">Solving exercise using various machine learning approches</font> "
   ]
  },
  {
   "cell_type": "markdown",
   "metadata": {},
   "source": [
    "Once our images have been processed, we can split our dataset into train and test sets."
   ]
  },
  {
   "cell_type": "code",
   "execution_count": 9,
   "metadata": {},
   "outputs": [],
   "source": [
    "X = imgmgr.images\n",
    "X = X.reshape(X.shape[0], np.prod(X.shape[1:]))\n",
    "X_train, X_test, y_train, y_test = train_test_split(X, y)"
   ]
  },
  {
   "cell_type": "markdown",
   "metadata": {},
   "source": [
    "### 1. Random Forest"
   ]
  },
  {
   "cell_type": "markdown",
   "metadata": {},
   "source": [
    "Compare Gini vs Entropy as criterion. Entropy perform slightly better but error trend across number of estimators is similar, ie big drop at 20."
   ]
  },
  {
   "cell_type": "code",
   "execution_count": 18,
   "metadata": {},
   "outputs": [
    {
     "name": "stdout",
     "output_type": "stream",
     "text": [
      "TRAIN METRICS\n",
      "              precision    recall  f1-score   support\n",
      "\n",
      "           0       1.00      1.00      1.00      1871\n",
      "           1       1.00      1.00      1.00      1879\n",
      "\n",
      "    accuracy                           1.00      3750\n",
      "   macro avg       1.00      1.00      1.00      3750\n",
      "weighted avg       1.00      1.00      1.00      3750\n",
      "\n",
      "TEST METRICS\n",
      "              precision    recall  f1-score   support\n",
      "\n",
      "           0       0.79      0.86      0.83       629\n",
      "           1       0.85      0.77      0.81       621\n",
      "\n",
      "    accuracy                           0.82      1250\n",
      "   macro avg       0.82      0.82      0.82      1250\n",
      "weighted avg       0.82      0.82      0.82      1250\n",
      "\n"
     ]
    }
   ],
   "source": [
    "clf = sklearn.ensemble.RandomForestClassifier(n_estimators = 50, criterion=\"entropy\")\n",
    "clf.fit(X_train, y_train)\n",
    "y_pred_test = clf.predict(X_test)\n",
    "y_pred_train = clf.predict(X_train)\n",
    "print(\"TRAIN METRICS\")\n",
    "print(sklearn.metrics.classification_report(y_train, y_pred_train))\n",
    "print(\"TEST METRICS\")\n",
    "print(sklearn.metrics.classification_report(y_test, y_pred_test))"
   ]
  },
  {
   "cell_type": "code",
   "execution_count": 11,
   "metadata": {},
   "outputs": [
    {
     "data": {
      "image/png": "[encoded data removed]",
      "text/plain": [
       "<Figure size 432x288 with 2 Axes>"
      ]
     },
     "metadata": {
      "needs_background": "light"
     },
     "output_type": "display_data"
    }
   ],
   "source": [
    "train_test_confusion_matrix(y_train, y_pred_train, y_test, y_pred_test)"
   ]
  },
  {
   "cell_type": "code",
   "execution_count": 12,
   "metadata": {},
   "outputs": [
    {
     "name": "stderr",
     "output_type": "stream",
     "text": [
      "No handles with labels found to put in legend.\n"
     ]
    },
    {
     "data": {
      "image/png": "[encoded data removed]",
      "text/plain": [
       "<Figure size 432x288 with 1 Axes>"
      ]
     },
     "metadata": {
      "needs_background": "light"
     },
     "output_type": "display_data"
    }
   ],
   "source": [
    "n_estimators=np.arange(5, 100, 5)\n",
    "#\n",
    "# Dictionary containing (<n_estimators>, <error rate>) pairs.\n",
    "d = {}\n",
    "\n",
    "for x in n_estimators:\n",
    "    clf.set_params(n_estimators=x)\n",
    "    clf.fit(X_train, y_train)\n",
    "    error = 1 - clf.score(X_test, y_test)\n",
    "    d[x] = error\n",
    "\n",
    "plt.plot(d.keys(), d.values())\n",
    "plt.xlabel(\"n_estimators\")\n",
    "plt.ylabel(\"Error rate\")\n",
    "plt.legend(loc=\"upper right\")\n",
    "plt.title('Backtesting performance of number of trees')\n",
    "plt.show()"
   ]
  },
  {
   "cell_type": "code",
   "execution_count": 19,
   "metadata": {},
   "outputs": [],
   "source": [
    "param_grid = {'n_estimators': [20, 40, 60, 80],\n",
    "              'max_depth': [2, 7, 15, 20]}"
   ]
  },
  {
   "cell_type": "code",
   "execution_count": 20,
   "metadata": {},
   "outputs": [
    {
     "data": {
      "text/plain": [
       "GridSearchCV(cv=10,\n",
       "             estimator=RandomForestClassifier(criterion='entropy',\n",
       "                                              n_estimators=50),\n",
       "             param_grid={'max_depth': [2, 7, 15, 20],\n",
       "                         'n_estimators': [20, 40, 60, 80]})"
      ]
     },
     "execution_count": 20,
     "metadata": {},
     "output_type": "execute_result"
    }
   ],
   "source": [
    "from sklearn.model_selection import GridSearchCV\n",
    "grid_clf = GridSearchCV(clf, param_grid, cv=10)\n",
    "grid_clf.fit(X_train, y_train)"
   ]
  },
  {
   "cell_type": "code",
   "execution_count": 21,
   "metadata": {},
   "outputs": [
    {
     "data": {
      "text/plain": [
       "RandomForestClassifier(criterion='entropy', max_depth=20, n_estimators=60)"
      ]
     },
     "execution_count": 21,
     "metadata": {},
     "output_type": "execute_result"
    }
   ],
   "source": [
    "grid_clf.best_estimator_"
   ]
  },
  {
   "cell_type": "markdown",
   "metadata": {},
   "source": [
    "So, by running some cross-validation jobs and tuning the hyper-parameters, it is clear that our Random Forest classifier performs much better when a large depth of trees is allowed and \"n_estimators\" number is in the 60-80 range. Also, by choosing \"entropy\" rather than \"gini\" as the function to measure the quality of split, the scoring improves slightly."
   ]
  },
  {
   "cell_type": "code",
   "execution_count": 22,
   "metadata": {},
   "outputs": [
    {
     "name": "stdout",
     "output_type": "stream",
     "text": [
      "0.8176\n"
     ]
    }
   ],
   "source": [
    "print(grid_clf.score(X_test, y_test))"
   ]
  },
  {
   "cell_type": "markdown",
   "metadata": {},
   "source": [
    "### 2. Convolutional Neural Network"
   ]
  },
  {
   "cell_type": "markdown",
   "metadata": {},
   "source": [
    "Resize and manipulate the train and tests sets in order to be in the right format for the CNN implementation."
   ]
  },
  {
   "cell_type": "code",
   "execution_count": 6,
   "metadata": {},
   "outputs": [
    {
     "name": "stdout",
     "output_type": "stream",
     "text": [
      "float64 0.0 255.0 (5000, 48, 48, 1)\n",
      "int64 0 1 (5000,)\n"
     ]
    }
   ],
   "source": [
    "X = np.empty(((len(imges), *np.asarray(imges[0]).shape)))\n",
    "for i in range(len(imges)):\n",
    "    X[i] = np.asarray(imges[i])\n",
    "\n",
    "# shuffle all the data\n",
    "indices = np.arange(len(X))\n",
    "np.random.shuffle(indices)\n",
    "X = X[indices]\n",
    "y = y[indices]\n",
    "\n",
    "# prepare weighting for classes since they're unbalanced\n",
    "class_totals = y.sum(axis=0)\n",
    "class_weight = class_totals.max() / class_totals\n",
    "\n",
    "X = X.reshape(5000,48, 48,1)\n",
    "\n",
    "print(X.dtype, X.min(), X.max(), X.shape)\n",
    "print(y.dtype, y.min(), y.max(), y.shape)\n",
    "X_train, X_test, y_train, y_test = train_test_split(X, y)"
   ]
  },
  {
   "cell_type": "code",
   "execution_count": 7,
   "metadata": {},
   "outputs": [
    {
     "name": "stdout",
     "output_type": "stream",
     "text": [
      "Model: \"sequential\"\n",
      "_________________________________________________________________\n",
      "Layer (type)                 Output Shape              Param #   \n",
      "=================================================================\n",
      "conv2d (Conv2D)              (None, 45, 45, 16)        272       \n",
      "_________________________________________________________________\n",
      "conv2d_1 (Conv2D)            (None, 42, 42, 16)        4112      \n",
      "_________________________________________________________________\n",
      "max_pooling2d (MaxPooling2D) (None, 21, 21, 16)        0         \n",
      "_________________________________________________________________\n",
      "dropout (Dropout)            (None, 21, 21, 16)        0         \n",
      "_________________________________________________________________\n",
      "flatten (Flatten)            (None, 7056)              0         \n",
      "_________________________________________________________________\n",
      "dense (Dense)                (None, 64)                451648    \n",
      "_________________________________________________________________\n",
      "dropout_1 (Dropout)          (None, 64)                0         \n",
      "_________________________________________________________________\n",
      "dense_1 (Dense)              (None, 2)                 130       \n",
      "=================================================================\n",
      "Total params: 456,162\n",
      "Trainable params: 456,162\n",
      "Non-trainable params: 0\n",
      "_________________________________________________________________\n"
     ]
    }
   ],
   "source": [
    "# CNN Model\n",
    "nb_filters = 16\n",
    "nb_pool = 2\n",
    "nb_conv = 4\n",
    "nb_classes = 2\n",
    "\n",
    "model = models.Sequential()\n",
    "\n",
    "model.add(layers.Conv2D(nb_filters, (nb_conv, nb_conv), activation='relu', input_shape=X.shape[1:]))\n",
    "model.add(layers.Conv2D(nb_filters, (nb_conv, nb_conv), activation='relu'))\n",
    "model.add(layers.MaxPooling2D(pool_size=(nb_pool, nb_pool)))\n",
    "model.add(layers.Dropout(0.25))\n",
    "model.add(layers.Flatten())\n",
    "model.add(layers.Dense(64, activation='relu'))\n",
    "model.add(layers.Dropout(0.5))\n",
    "model.add(layers.Dense(nb_classes))\n",
    "\n",
    "model.compile(loss='categorical_crossentropy', optimizer='adam', metrics=['accuracy'])\n",
    "model.summary()"
   ]
  },
  {
   "cell_type": "code",
   "execution_count": 8,
   "metadata": {},
   "outputs": [
    {
     "name": "stdout",
     "output_type": "stream",
     "text": [
      "Epoch 1/50\n",
      "118/118 [==============================] - 9s 78ms/step - loss: 2.1860 - accuracy: 0.5275 - val_loss: 0.6752 - val_accuracy: 0.6040\n",
      "Epoch 2/50\n",
      "118/118 [==============================] - 11s 92ms/step - loss: 0.6238 - accuracy: 0.6368 - val_loss: 0.5080 - val_accuracy: 0.7488\n",
      "Epoch 3/50\n",
      "118/118 [==============================] - 11s 97ms/step - loss: 0.5260 - accuracy: 0.7357 - val_loss: 0.5087 - val_accuracy: 0.7432\n",
      "Epoch 4/50\n",
      "118/118 [==============================] - 12s 103ms/step - loss: 0.4873 - accuracy: 0.7645 - val_loss: 0.4805 - val_accuracy: 0.7752\n",
      "Epoch 5/50\n",
      "118/118 [==============================] - 13s 110ms/step - loss: 0.4648 - accuracy: 0.7672 - val_loss: 0.4714 - val_accuracy: 0.7864\n",
      "Epoch 6/50\n",
      "118/118 [==============================] - 13s 108ms/step - loss: 0.4193 - accuracy: 0.7949 - val_loss: 0.4583 - val_accuracy: 0.7896\n",
      "Epoch 7/50\n",
      "118/118 [==============================] - 13s 111ms/step - loss: 0.3655 - accuracy: 0.8261 - val_loss: 0.4497 - val_accuracy: 0.7904\n",
      "Epoch 8/50\n",
      "118/118 [==============================] - 13s 110ms/step - loss: 0.3514 - accuracy: 0.8325 - val_loss: 0.4641 - val_accuracy: 0.8008\n",
      "Epoch 9/50\n",
      "118/118 [==============================] - 13s 114ms/step - loss: 0.3310 - accuracy: 0.8413 - val_loss: 0.4754 - val_accuracy: 0.7992\n",
      "Epoch 10/50\n",
      "118/118 [==============================] - 13s 109ms/step - loss: 0.3121 - accuracy: 0.8501 - val_loss: 0.5325 - val_accuracy: 0.7856\n",
      "Epoch 11/50\n",
      "118/118 [==============================] - 13s 109ms/step - loss: 0.3046 - accuracy: 0.8573 - val_loss: 0.4958 - val_accuracy: 0.7952\n",
      "Epoch 12/50\n",
      "118/118 [==============================] - 12s 105ms/step - loss: 0.2739 - accuracy: 0.8707 - val_loss: 0.5173 - val_accuracy: 0.7920\n",
      "Epoch 13/50\n",
      "118/118 [==============================] - 12s 104ms/step - loss: 0.2755 - accuracy: 0.8685 - val_loss: 0.5119 - val_accuracy: 0.7896\n",
      "Epoch 14/50\n",
      "118/118 [==============================] - 13s 106ms/step - loss: 0.2513 - accuracy: 0.8765 - val_loss: 0.5685 - val_accuracy: 0.7920\n",
      "Epoch 15/50\n",
      "118/118 [==============================] - 12s 105ms/step - loss: 0.2337 - accuracy: 0.8877 - val_loss: 0.7051 - val_accuracy: 0.7904\n",
      "Epoch 16/50\n",
      "118/118 [==============================] - 13s 109ms/step - loss: 0.2517 - accuracy: 0.8856 - val_loss: 0.5502 - val_accuracy: 0.7824\n",
      "Epoch 17/50\n",
      "118/118 [==============================] - 13s 113ms/step - loss: 0.2374 - accuracy: 0.8947 - val_loss: 0.5586 - val_accuracy: 0.8040\n",
      "Epoch 18/50\n",
      "118/118 [==============================] - 13s 114ms/step - loss: 0.2033 - accuracy: 0.9069 - val_loss: 0.6217 - val_accuracy: 0.8056\n",
      "Epoch 19/50\n",
      "118/118 [==============================] - 14s 118ms/step - loss: 0.2143 - accuracy: 0.9021 - val_loss: 0.5696 - val_accuracy: 0.7800\n",
      "Epoch 20/50\n",
      "118/118 [==============================] - 14s 116ms/step - loss: 0.2273 - accuracy: 0.8949 - val_loss: 0.5705 - val_accuracy: 0.8032\n",
      "Epoch 21/50\n",
      "118/118 [==============================] - 13s 112ms/step - loss: 0.1837 - accuracy: 0.9117 - val_loss: 0.6160 - val_accuracy: 0.8040\n",
      "Epoch 22/50\n",
      "118/118 [==============================] - 13s 113ms/step - loss: 0.1792 - accuracy: 0.9157 - val_loss: 0.6143 - val_accuracy: 0.8088\n",
      "Epoch 23/50\n",
      "118/118 [==============================] - 13s 108ms/step - loss: 0.1668 - accuracy: 0.9269 - val_loss: 0.6852 - val_accuracy: 0.8064\n",
      "Epoch 24/50\n",
      "118/118 [==============================] - 13s 108ms/step - loss: 0.1699 - accuracy: 0.9221 - val_loss: 0.7120 - val_accuracy: 0.7976\n",
      "Epoch 25/50\n",
      "118/118 [==============================] - 14s 115ms/step - loss: 0.1540 - accuracy: 0.9288 - val_loss: 0.6791 - val_accuracy: 0.7856\n",
      "Epoch 26/50\n",
      "118/118 [==============================] - 14s 116ms/step - loss: 0.1601 - accuracy: 0.9259 - val_loss: 0.6743 - val_accuracy: 0.7936\n",
      "Epoch 27/50\n",
      "118/118 [==============================] - 13s 110ms/step - loss: 0.1529 - accuracy: 0.9312 - val_loss: 0.6813 - val_accuracy: 0.8080\n",
      "Epoch 28/50\n",
      "118/118 [==============================] - 13s 106ms/step - loss: 0.1612 - accuracy: 0.9248 - val_loss: 0.6141 - val_accuracy: 0.7944\n",
      "Epoch 29/50\n",
      "118/118 [==============================] - 12s 103ms/step - loss: 0.1634 - accuracy: 0.9285 - val_loss: 0.7512 - val_accuracy: 0.8096\n",
      "Epoch 30/50\n",
      "118/118 [==============================] - 12s 101ms/step - loss: 0.1480 - accuracy: 0.9331 - val_loss: 0.7099 - val_accuracy: 0.8096\n",
      "Epoch 31/50\n",
      "118/118 [==============================] - 12s 101ms/step - loss: 0.1427 - accuracy: 0.9379 - val_loss: 0.8011 - val_accuracy: 0.8024\n",
      "Epoch 32/50\n",
      "118/118 [==============================] - 13s 108ms/step - loss: 0.1540 - accuracy: 0.9328 - val_loss: 0.7524 - val_accuracy: 0.7872\n",
      "Epoch 33/50\n",
      "118/118 [==============================] - 12s 106ms/step - loss: 0.1637 - accuracy: 0.9317 - val_loss: 0.7218 - val_accuracy: 0.8208\n",
      "Epoch 34/50\n",
      "118/118 [==============================] - 13s 106ms/step - loss: 0.1263 - accuracy: 0.9405 - val_loss: 0.7032 - val_accuracy: 0.8072\n",
      "Epoch 35/50\n",
      "118/118 [==============================] - 12s 103ms/step - loss: 0.1315 - accuracy: 0.9427 - val_loss: 0.7181 - val_accuracy: 0.8112\n",
      "Epoch 36/50\n",
      "118/118 [==============================] - 12s 98ms/step - loss: 0.1251 - accuracy: 0.9437 - val_loss: 0.7352 - val_accuracy: 0.8024\n",
      "Epoch 37/50\n",
      "118/118 [==============================] - 11s 97ms/step - loss: 0.1256 - accuracy: 0.9459 - val_loss: 0.6842 - val_accuracy: 0.7984\n",
      "Epoch 38/50\n",
      "118/118 [==============================] - 11s 96ms/step - loss: 0.1120 - accuracy: 0.9520 - val_loss: 0.8864 - val_accuracy: 0.7936\n",
      "Epoch 39/50\n",
      "118/118 [==============================] - 11s 96ms/step - loss: 0.1232 - accuracy: 0.9483 - val_loss: 0.7216 - val_accuracy: 0.8088\n",
      "Epoch 40/50\n",
      "118/118 [==============================] - 11s 95ms/step - loss: 0.1356 - accuracy: 0.9475 - val_loss: 0.6624 - val_accuracy: 0.8088\n",
      "Epoch 41/50\n",
      "118/118 [==============================] - 11s 93ms/step - loss: 0.1097 - accuracy: 0.9533 - val_loss: 0.7757 - val_accuracy: 0.7928\n",
      "Epoch 42/50\n",
      "118/118 [==============================] - 11s 93ms/step - loss: 0.1146 - accuracy: 0.9541 - val_loss: 0.7616 - val_accuracy: 0.8168\n",
      "Epoch 43/50\n",
      "118/118 [==============================] - 11s 93ms/step - loss: 0.0921 - accuracy: 0.9552 - val_loss: 0.7243 - val_accuracy: 0.7936\n",
      "Epoch 44/50\n",
      "118/118 [==============================] - 11s 93ms/step - loss: 0.0971 - accuracy: 0.9573 - val_loss: 0.7835 - val_accuracy: 0.8088\n",
      "Epoch 45/50\n",
      "118/118 [==============================] - 11s 93ms/step - loss: 0.1128 - accuracy: 0.9525 - val_loss: 1.1356 - val_accuracy: 0.8024\n",
      "Epoch 46/50\n",
      "118/118 [==============================] - 11s 95ms/step - loss: 0.0997 - accuracy: 0.9573 - val_loss: 0.8752 - val_accuracy: 0.8016\n",
      "Epoch 47/50\n",
      "118/118 [==============================] - 11s 91ms/step - loss: 0.1187 - accuracy: 0.9501 - val_loss: 0.7658 - val_accuracy: 0.7960\n",
      "Epoch 48/50\n",
      "118/118 [==============================] - 11s 92ms/step - loss: 0.0962 - accuracy: 0.9621 - val_loss: 0.7529 - val_accuracy: 0.8096\n",
      "Epoch 49/50\n",
      "118/118 [==============================] - 11s 93ms/step - loss: 0.1057 - accuracy: 0.9573 - val_loss: 0.7551 - val_accuracy: 0.8152\n",
      "Epoch 50/50\n",
      "118/118 [==============================] - 11s 92ms/step - loss: 0.0939 - accuracy: 0.9573 - val_loss: 0.9116 - val_accuracy: 0.7960\n"
     ]
    }
   ],
   "source": [
    "model.compile(optimizer='adam',\n",
    "              loss=tf.keras.losses.SparseCategoricalCrossentropy(from_logits=True),\n",
    "              metrics=['accuracy'])\n",
    "\n",
    "history = model.fit(X_train, y_train, epochs=50, \n",
    "                    validation_data=(X_test, y_test))"
   ]
  },
  {
   "cell_type": "code",
   "execution_count": null,
   "metadata": {},
   "outputs": [],
   "source": []
  }
 ],
 "metadata": {
  "kernelspec": {
   "display_name": "Python 3",
   "language": "python",
   "name": "python3"
  },
  "language_info": {
   "codemirror_mode": {
    "name": "ipython",
    "version": 3
   },
   "file_extension": ".py",
   "mimetype": "text/x-python",
   "name": "python",
   "nbconvert_exporter": "python",
   "pygments_lexer": "ipython3",
   "version": "3.7.1"
  }
 },
 "nbformat": 4,
 "nbformat_minor": 2
}
