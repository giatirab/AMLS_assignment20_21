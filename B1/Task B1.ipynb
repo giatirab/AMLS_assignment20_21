{
 "cells": [
  {
   "cell_type": "markdown",
   "metadata": {},
   "source": [
    "# <font color=\"orange\">Load modules</font> "
   ]
  },
  {
   "cell_type": "code",
   "execution_count": 31,
   "metadata": {},
   "outputs": [],
   "source": [
    "import cv2\n",
    "import sklearn.ensemble\n",
    "from sklearn.neighbors import KNeighborsClassifier\n",
    "from sklearn.model_selection import train_test_split\n",
    "from sklearn.model_selection import cross_val_score\n",
    "import os\n",
    "import numpy as np\n",
    "import pandas as pd\n",
    "import matplotlib.pyplot as plt\n",
    "import tensorflow as tf\n",
    "from PIL import Image\n",
    "from sklearn.cluster import KMeans\n",
    "from tensorflow.keras import datasets, layers, models\n",
    "import sys\n",
    "sys.path.append(\"/Users/macbookpro/UCL - MSc Integrated Machine Learning Systems/Y1/Applied Machine Learning I/Final Assignment/AMLS_20-21_SN17024244\")\n",
    "from _CFG_Task_B import *\n",
    "from _CLASS_ImageManager import *"
   ]
  },
  {
   "cell_type": "markdown",
   "metadata": {},
   "source": [
    "In the following lines we load the labels .csv file."
   ]
  },
  {
   "cell_type": "code",
   "execution_count": 32,
   "metadata": {},
   "outputs": [],
   "source": [
    "y = load_images_label_csv(\"eye_color\")"
   ]
  },
  {
   "cell_type": "markdown",
   "metadata": {},
   "source": [
    "The following code is to remove the test_set in case this has been moved from cartoon_set_test/img to cartoon_set/img."
   ]
  },
  {
   "cell_type": "code",
   "execution_count": 33,
   "metadata": {},
   "outputs": [],
   "source": [
    "if count_n_images(sub_folder, extension) > 10000:\n",
    "    move_images_fromfolder(sub_folder, sub_test_folder, extension)"
   ]
  },
  {
   "cell_type": "markdown",
   "metadata": {},
   "source": [
    "# <font color=\"orange\">Load and process images</font> "
   ]
  },
  {
   "cell_type": "markdown",
   "metadata": {},
   "source": [
    "We leverage on the **ImageManager** class object to load the whole set of images as well as crop them based on the body part we are interested in. The processing is based on a Haar Cascade Classifier. This is an effective object detection approach which was proposed by Paul Viola and Michael Jones back in 2001. This is basically a machine learning based approach where a cascade function is trained from a lot of images both positive and negative. Based on the training it is then used to detect the objects in the other images.\n",
    "So how this works is they are huge individual .xml files with a lot of feature sets and each .xml corresponds to a very specific type of use case."
   ]
  },
  {
   "cell_type": "code",
   "execution_count": 34,
   "metadata": {},
   "outputs": [
    {
     "name": "stdout",
     "output_type": "stream",
     "text": [
      "Starting to load images from /Users/macbookpro/UCL - MSc Integrated Machine Learning Systems/Y1/Applied Machine Learning I/Final Assignment/AMLS_20-21_SN17024244/Datasets/cartoon_set/img/ with extension .png\n",
      "921/10000 images loaded\n",
      "1684/10000 images loaded\n",
      "2483/10000 images loaded\n",
      "3253/10000 images loaded\n",
      "3919/10000 images loaded\n",
      "4623/10000 images loaded\n",
      "5299/10000 images loaded\n",
      "5997/10000 images loaded\n",
      "6686/10000 images loaded\n",
      "7465/10000 images loaded\n",
      "8184/10000 images loaded\n",
      "8957/10000 images loaded\n",
      "9720/10000 images loaded\n",
      "10000/10000 images loaded\n"
     ]
    }
   ],
   "source": [
    "imgmgr = ImageManager()\n",
    "imgmgr.load_images_from_folder(sub_folder, extension, verbose = True)\n",
    "imgmgr.bodypart = \"eyes\"\n",
    "imges = imgmgr.crop_part((16,16), squaring=False, x_offsets=(1/3,-1/4), y_offsets = (1/4,-1/4))"
   ]
  },
  {
   "cell_type": "code",
   "execution_count": 35,
   "metadata": {},
   "outputs": [
    {
     "data": {
      "text/plain": [
       "<matplotlib.image.AxesImage at 0x7fd0181be828>"
      ]
     },
     "execution_count": 35,
     "metadata": {},
     "output_type": "execute_result"
    },
    {
     "data": {
      "image/png": "[encoded data removed]",
      "text/plain": [
       "<Figure size 432x288 with 1 Axes>"
      ]
     },
     "metadata": {
      "needs_background": "light"
     },
     "output_type": "display_data"
    }
   ],
   "source": [
    "rgb = cv2.cvtColor(imges[4], cv2.COLOR_BGR2RGB)\n",
    "plt.imshow(rgb)"
   ]
  },
  {
   "cell_type": "markdown",
   "metadata": {},
   "source": [
    "# <font color=\"orange\">Solving exercise using various machine learning approches</font> "
   ]
  },
  {
   "cell_type": "markdown",
   "metadata": {},
   "source": [
    "Once our images have been processed, we can split our dataset into train and test sets."
   ]
  },
  {
   "cell_type": "code",
   "execution_count": 36,
   "metadata": {},
   "outputs": [],
   "source": [
    "X = imgmgr.images\n",
    "X = X.reshape(X.shape[0], np.prod(X.shape[1:]))\n",
    "X_train, X_test, y_train, y_test = train_test_split(X,y)"
   ]
  },
  {
   "cell_type": "markdown",
   "metadata": {},
   "source": [
    "### 1. K-Nearest Neighbors"
   ]
  },
  {
   "cell_type": "code",
   "execution_count": 37,
   "metadata": {},
   "outputs": [
    {
     "name": "stdout",
     "output_type": "stream",
     "text": [
      "TRAIN METRICS\n",
      "              precision    recall  f1-score   support\n",
      "\n",
      "           0       0.82      0.89      0.86      1522\n",
      "           1       0.88      0.86      0.87      1487\n",
      "           2       0.84      0.86      0.85      1450\n",
      "           3       0.87      0.85      0.86      1504\n",
      "           4       0.89      0.84      0.87      1537\n",
      "\n",
      "    accuracy                           0.86      7500\n",
      "   macro avg       0.86      0.86      0.86      7500\n",
      "weighted avg       0.86      0.86      0.86      7500\n",
      "\n",
      "TEST METRICS\n",
      "              precision    recall  f1-score   support\n",
      "\n",
      "           0       0.75      0.84      0.79       482\n",
      "           1       0.82      0.82      0.82       531\n",
      "           2       0.79      0.77      0.78       519\n",
      "           3       0.79      0.80      0.79       488\n",
      "           4       0.88      0.79      0.83       480\n",
      "\n",
      "    accuracy                           0.80      2500\n",
      "   macro avg       0.81      0.80      0.80      2500\n",
      "weighted avg       0.81      0.80      0.80      2500\n",
      "\n"
     ]
    }
   ],
   "source": [
    "clf = KNeighborsClassifier(10, p=2, weights=\"uniform\")\n",
    "clf.fit(X_train, y_train)\n",
    "y_pred_test = clf.predict(X_test)\n",
    "y_pred_train = clf.predict(X_train)\n",
    "print(\"TRAIN METRICS\")\n",
    "print(sklearn.metrics.classification_report(y_train, y_pred_train))\n",
    "print(\"TEST METRICS\")\n",
    "print(sklearn.metrics.classification_report(y_test, y_pred_test))"
   ]
  },
  {
   "cell_type": "markdown",
   "metadata": {},
   "source": [
    "We present the confusion matrix once data has been trained using KNN."
   ]
  },
  {
   "cell_type": "code",
   "execution_count": 38,
   "metadata": {},
   "outputs": [
    {
     "data": {
      "image/png": "[encoded data removed]",
      "text/plain": [
       "<Figure size 432x288 with 2 Axes>"
      ]
     },
     "metadata": {
      "needs_background": "light"
     },
     "output_type": "display_data"
    }
   ],
   "source": [
    "train_test_confusion_matrix(y_train, y_pred_train, y_test, y_pred_test)"
   ]
  },
  {
   "cell_type": "markdown",
   "metadata": {},
   "source": [
    "So far we have performed a KNN algorithm on our train and test set with K=10. This returns a good accuracy. Now we want to check if there are actually other Ks which would lead to better results. Added to this, we will perform a cross-validation on the entire dataset. For example, for 3-fold cross validation, the dataset would be split into 3 groups, and the model would be trained and tested 3 separate times so each group would get a chance to be the test set."
   ]
  },
  {
   "cell_type": "code",
   "execution_count": 39,
   "metadata": {},
   "outputs": [],
   "source": [
    "k_range = np.arange(1, 31, 5)\n",
    "k_scores = []\n",
    "\n",
    "# use iteration to calculate accuracy on different k in models, then return the average accuracy based on the cross validation.\n",
    "for k in k_range:\n",
    "    knn = KNeighborsClassifier(n_neighbors=k)\n",
    "    scores = cross_val_score(knn, X, y, cv=3, scoring='accuracy')\n",
    "    k_scores.append(scores.mean())"
   ]
  },
  {
   "cell_type": "code",
   "execution_count": 40,
   "metadata": {},
   "outputs": [
    {
     "name": "stderr",
     "output_type": "stream",
     "text": [
      "No handles with labels found to put in legend.\n"
     ]
    },
    {
     "data": {
      "image/png": "[encoded data removed]",
      "text/plain": [
       "<Figure size 432x288 with 1 Axes>"
      ]
     },
     "metadata": {
      "needs_background": "light"
     },
     "output_type": "display_data"
    }
   ],
   "source": [
    "# plot to see clearly\n",
    "plt.plot(k_range, k_scores)\n",
    "plt.xlabel('Value of K')\n",
    "plt.ylabel('Cross-Validated Accuracy')\n",
    "plt.legend(loc=\"upper right\")\n",
    "plt.title('Backtesting performance of KNN')\n",
    "plt.show()"
   ]
  },
  {
   "cell_type": "markdown",
   "metadata": {},
   "source": [
    "### 2. Random Forest"
   ]
  },
  {
   "cell_type": "code",
   "execution_count": 41,
   "metadata": {},
   "outputs": [
    {
     "name": "stdout",
     "output_type": "stream",
     "text": [
      "TRAIN METRICS\n",
      "              precision    recall  f1-score   support\n",
      "\n",
      "           0       0.97      0.87      0.92      1522\n",
      "           1       0.92      0.89      0.91      1487\n",
      "           2       0.96      0.86      0.91      1450\n",
      "           3       0.94      0.89      0.92      1504\n",
      "           4       0.75      0.96      0.84      1537\n",
      "\n",
      "    accuracy                           0.89      7500\n",
      "   macro avg       0.91      0.89      0.90      7500\n",
      "weighted avg       0.91      0.89      0.90      7500\n",
      "\n",
      "TEST METRICS\n",
      "              precision    recall  f1-score   support\n",
      "\n",
      "           0       0.91      0.81      0.86       482\n",
      "           1       0.85      0.84      0.84       531\n",
      "           2       0.92      0.78      0.85       519\n",
      "           3       0.85      0.83      0.84       488\n",
      "           4       0.69      0.90      0.78       480\n",
      "\n",
      "    accuracy                           0.83      2500\n",
      "   macro avg       0.84      0.83      0.83      2500\n",
      "weighted avg       0.84      0.83      0.83      2500\n",
      "\n"
     ]
    }
   ],
   "source": [
    "clf = sklearn.ensemble.RandomForestClassifier(n_estimators=60, criterion=\"entropy\", max_depth=10)\n",
    "clf.fit(X_train, y_train)\n",
    "y_pred_test = clf.predict(X_test)\n",
    "y_pred_train = clf.predict(X_train)\n",
    "print(\"TRAIN METRICS\")\n",
    "print(sklearn.metrics.classification_report(y_train, y_pred_train))\n",
    "print(\"TEST METRICS\")\n",
    "print(sklearn.metrics.classification_report(y_test, y_pred_test))"
   ]
  },
  {
   "cell_type": "code",
   "execution_count": 42,
   "metadata": {},
   "outputs": [
    {
     "name": "stderr",
     "output_type": "stream",
     "text": [
      "No handles with labels found to put in legend.\n"
     ]
    },
    {
     "data": {
      "image/png": "[encoded data removed]",
      "text/plain": [
       "<Figure size 432x288 with 1 Axes>"
      ]
     },
     "metadata": {
      "needs_background": "light"
     },
     "output_type": "display_data"
    }
   ],
   "source": [
    "n_estimators=np.arange(5, 100, 5)\n",
    "\n",
    "# Dictionary containing (<n_estimators>, <error rate>) pairs.\n",
    "d = {}\n",
    "\n",
    "for x in n_estimators:\n",
    "    clf.set_params(n_estimators=x)\n",
    "    clf.fit(X_train, y_train)\n",
    "    error = 1 - clf.score(X_test, y_test)\n",
    "    d[x] = error\n",
    "\n",
    "plt.plot(d.keys(), d.values())\n",
    "plt.xlabel(\"n_estimators\")\n",
    "plt.ylabel(\"Error rate\")\n",
    "plt.legend(loc=\"upper right\")\n",
    "plt.title('Backtesting performance of number of trees')\n",
    "plt.show()"
   ]
  },
  {
   "cell_type": "markdown",
   "metadata": {},
   "source": [
    "We present the confusion matrix once data has been trained using Random Forest."
   ]
  },
  {
   "cell_type": "code",
   "execution_count": 43,
   "metadata": {},
   "outputs": [
    {
     "data": {
      "image/png": "[encoded data removed]",
      "text/plain": [
       "<Figure size 432x288 with 2 Axes>"
      ]
     },
     "metadata": {
      "needs_background": "light"
     },
     "output_type": "display_data"
    }
   ],
   "source": [
    "train_test_confusion_matrix(y_train, y_pred_train, y_test, y_pred_test)"
   ]
  },
  {
   "cell_type": "markdown",
   "metadata": {},
   "source": [
    "Now we perform some hyper-parameter tuning to see if other Random Forest arguments would have led to a significantly higher performance. The below dictionary will test 4 different sizes of n_estimators and max_depth. We have initialised this process as we initially observed that allowing a flexible \"max_depth\" variable would lead to overfitting."
   ]
  },
  {
   "cell_type": "code",
   "execution_count": 44,
   "metadata": {},
   "outputs": [],
   "source": [
    "param_grid = {\"n_estimators\": [20, 40, 60, 80],\n",
    "              \"max_depth\":    [5, 7, 10, 20]}"
   ]
  },
  {
   "cell_type": "code",
   "execution_count": 45,
   "metadata": {},
   "outputs": [
    {
     "data": {
      "text/plain": [
       "GridSearchCV(cv=5,\n",
       "             estimator=RandomForestClassifier(criterion='entropy', max_depth=10,\n",
       "                                              n_estimators=95),\n",
       "             param_grid={'max_depth': [5, 7, 10, 20],\n",
       "                         'n_estimators': [20, 40, 60, 80]})"
      ]
     },
     "execution_count": 45,
     "metadata": {},
     "output_type": "execute_result"
    }
   ],
   "source": [
    "grid_clf = sklearn.model_selection.GridSearchCV(clf, param_grid, cv=5)\n",
    "grid_clf.fit(X_train, y_train)"
   ]
  },
  {
   "cell_type": "code",
   "execution_count": 46,
   "metadata": {},
   "outputs": [
    {
     "data": {
      "text/html": [
       "<div>\n",
       "<style scoped>\n",
       "    .dataframe tbody tr th:only-of-type {\n",
       "        vertical-align: middle;\n",
       "    }\n",
       "\n",
       "    .dataframe tbody tr th {\n",
       "        vertical-align: top;\n",
       "    }\n",
       "\n",
       "    .dataframe thead th {\n",
       "        text-align: right;\n",
       "    }\n",
       "</style>\n",
       "<table border=\"1\" class=\"dataframe\">\n",
       "  <thead>\n",
       "    <tr style=\"text-align: right;\">\n",
       "      <th></th>\n",
       "      <th>mean_fit_time</th>\n",
       "      <th>std_fit_time</th>\n",
       "      <th>mean_score_time</th>\n",
       "      <th>std_score_time</th>\n",
       "      <th>param_max_depth</th>\n",
       "      <th>param_n_estimators</th>\n",
       "      <th>params</th>\n",
       "      <th>split0_test_score</th>\n",
       "      <th>split1_test_score</th>\n",
       "      <th>split2_test_score</th>\n",
       "      <th>split3_test_score</th>\n",
       "      <th>split4_test_score</th>\n",
       "      <th>mean_test_score</th>\n",
       "      <th>std_test_score</th>\n",
       "    </tr>\n",
       "    <tr>\n",
       "      <th>rank_test_score</th>\n",
       "      <th></th>\n",
       "      <th></th>\n",
       "      <th></th>\n",
       "      <th></th>\n",
       "      <th></th>\n",
       "      <th></th>\n",
       "      <th></th>\n",
       "      <th></th>\n",
       "      <th></th>\n",
       "      <th></th>\n",
       "      <th></th>\n",
       "      <th></th>\n",
       "      <th></th>\n",
       "      <th></th>\n",
       "    </tr>\n",
       "  </thead>\n",
       "  <tbody>\n",
       "    <tr>\n",
       "      <th>15</th>\n",
       "      <td>0.506024</td>\n",
       "      <td>0.028950</td>\n",
       "      <td>0.007614</td>\n",
       "      <td>0.001341</td>\n",
       "      <td>5</td>\n",
       "      <td>20</td>\n",
       "      <td>{'max_depth': 5, 'n_estimators': 20}</td>\n",
       "      <td>0.842000</td>\n",
       "      <td>0.826000</td>\n",
       "      <td>0.825333</td>\n",
       "      <td>0.816000</td>\n",
       "      <td>0.818000</td>\n",
       "      <td>0.825467</td>\n",
       "      <td>0.009154</td>\n",
       "    </tr>\n",
       "    <tr>\n",
       "      <th>13</th>\n",
       "      <td>1.019468</td>\n",
       "      <td>0.019000</td>\n",
       "      <td>0.012988</td>\n",
       "      <td>0.001194</td>\n",
       "      <td>5</td>\n",
       "      <td>40</td>\n",
       "      <td>{'max_depth': 5, 'n_estimators': 40}</td>\n",
       "      <td>0.840667</td>\n",
       "      <td>0.829333</td>\n",
       "      <td>0.834667</td>\n",
       "      <td>0.819333</td>\n",
       "      <td>0.812667</td>\n",
       "      <td>0.827333</td>\n",
       "      <td>0.010146</td>\n",
       "    </tr>\n",
       "    <tr>\n",
       "      <th>14</th>\n",
       "      <td>1.557383</td>\n",
       "      <td>0.109417</td>\n",
       "      <td>0.015446</td>\n",
       "      <td>0.001009</td>\n",
       "      <td>5</td>\n",
       "      <td>60</td>\n",
       "      <td>{'max_depth': 5, 'n_estimators': 60}</td>\n",
       "      <td>0.838000</td>\n",
       "      <td>0.824667</td>\n",
       "      <td>0.830667</td>\n",
       "      <td>0.822000</td>\n",
       "      <td>0.818000</td>\n",
       "      <td>0.826667</td>\n",
       "      <td>0.007005</td>\n",
       "    </tr>\n",
       "    <tr>\n",
       "      <th>16</th>\n",
       "      <td>2.062072</td>\n",
       "      <td>0.063063</td>\n",
       "      <td>0.021091</td>\n",
       "      <td>0.002567</td>\n",
       "      <td>5</td>\n",
       "      <td>80</td>\n",
       "      <td>{'max_depth': 5, 'n_estimators': 80}</td>\n",
       "      <td>0.830667</td>\n",
       "      <td>0.830667</td>\n",
       "      <td>0.829333</td>\n",
       "      <td>0.814667</td>\n",
       "      <td>0.816667</td>\n",
       "      <td>0.824400</td>\n",
       "      <td>0.007175</td>\n",
       "    </tr>\n",
       "    <tr>\n",
       "      <th>12</th>\n",
       "      <td>0.608411</td>\n",
       "      <td>0.008810</td>\n",
       "      <td>0.007280</td>\n",
       "      <td>0.000723</td>\n",
       "      <td>7</td>\n",
       "      <td>20</td>\n",
       "      <td>{'max_depth': 7, 'n_estimators': 20}</td>\n",
       "      <td>0.846000</td>\n",
       "      <td>0.835333</td>\n",
       "      <td>0.832667</td>\n",
       "      <td>0.833333</td>\n",
       "      <td>0.824000</td>\n",
       "      <td>0.834267</td>\n",
       "      <td>0.007038</td>\n",
       "    </tr>\n",
       "    <tr>\n",
       "      <th>9</th>\n",
       "      <td>1.170914</td>\n",
       "      <td>0.023911</td>\n",
       "      <td>0.012607</td>\n",
       "      <td>0.001013</td>\n",
       "      <td>7</td>\n",
       "      <td>40</td>\n",
       "      <td>{'max_depth': 7, 'n_estimators': 40}</td>\n",
       "      <td>0.853333</td>\n",
       "      <td>0.838000</td>\n",
       "      <td>0.837333</td>\n",
       "      <td>0.829333</td>\n",
       "      <td>0.820000</td>\n",
       "      <td>0.835600</td>\n",
       "      <td>0.011008</td>\n",
       "    </tr>\n",
       "    <tr>\n",
       "      <th>6</th>\n",
       "      <td>1.693698</td>\n",
       "      <td>0.030629</td>\n",
       "      <td>0.016070</td>\n",
       "      <td>0.001378</td>\n",
       "      <td>7</td>\n",
       "      <td>60</td>\n",
       "      <td>{'max_depth': 7, 'n_estimators': 60}</td>\n",
       "      <td>0.851333</td>\n",
       "      <td>0.840000</td>\n",
       "      <td>0.836667</td>\n",
       "      <td>0.834000</td>\n",
       "      <td>0.824000</td>\n",
       "      <td>0.837200</td>\n",
       "      <td>0.008858</td>\n",
       "    </tr>\n",
       "    <tr>\n",
       "      <th>6</th>\n",
       "      <td>2.373546</td>\n",
       "      <td>0.121689</td>\n",
       "      <td>0.022687</td>\n",
       "      <td>0.000433</td>\n",
       "      <td>7</td>\n",
       "      <td>80</td>\n",
       "      <td>{'max_depth': 7, 'n_estimators': 80}</td>\n",
       "      <td>0.850667</td>\n",
       "      <td>0.839333</td>\n",
       "      <td>0.836667</td>\n",
       "      <td>0.836667</td>\n",
       "      <td>0.822667</td>\n",
       "      <td>0.837200</td>\n",
       "      <td>0.008918</td>\n",
       "    </tr>\n",
       "    <tr>\n",
       "      <th>10</th>\n",
       "      <td>0.621890</td>\n",
       "      <td>0.029972</td>\n",
       "      <td>0.007616</td>\n",
       "      <td>0.000655</td>\n",
       "      <td>10</td>\n",
       "      <td>20</td>\n",
       "      <td>{'max_depth': 10, 'n_estimators': 20}</td>\n",
       "      <td>0.842667</td>\n",
       "      <td>0.840667</td>\n",
       "      <td>0.836667</td>\n",
       "      <td>0.832000</td>\n",
       "      <td>0.824000</td>\n",
       "      <td>0.835200</td>\n",
       "      <td>0.006685</td>\n",
       "    </tr>\n",
       "    <tr>\n",
       "      <th>3</th>\n",
       "      <td>1.254607</td>\n",
       "      <td>0.150518</td>\n",
       "      <td>0.017808</td>\n",
       "      <td>0.011523</td>\n",
       "      <td>10</td>\n",
       "      <td>40</td>\n",
       "      <td>{'max_depth': 10, 'n_estimators': 40}</td>\n",
       "      <td>0.848000</td>\n",
       "      <td>0.837333</td>\n",
       "      <td>0.838000</td>\n",
       "      <td>0.834000</td>\n",
       "      <td>0.833333</td>\n",
       "      <td>0.838133</td>\n",
       "      <td>0.005256</td>\n",
       "    </tr>\n",
       "    <tr>\n",
       "      <th>1</th>\n",
       "      <td>2.734093</td>\n",
       "      <td>1.264282</td>\n",
       "      <td>0.022588</td>\n",
       "      <td>0.002344</td>\n",
       "      <td>10</td>\n",
       "      <td>60</td>\n",
       "      <td>{'max_depth': 10, 'n_estimators': 60}</td>\n",
       "      <td>0.851333</td>\n",
       "      <td>0.838667</td>\n",
       "      <td>0.838667</td>\n",
       "      <td>0.838667</td>\n",
       "      <td>0.830667</td>\n",
       "      <td>0.839600</td>\n",
       "      <td>0.006635</td>\n",
       "    </tr>\n",
       "    <tr>\n",
       "      <th>4</th>\n",
       "      <td>2.979231</td>\n",
       "      <td>0.466113</td>\n",
       "      <td>0.027142</td>\n",
       "      <td>0.003667</td>\n",
       "      <td>10</td>\n",
       "      <td>80</td>\n",
       "      <td>{'max_depth': 10, 'n_estimators': 80}</td>\n",
       "      <td>0.850667</td>\n",
       "      <td>0.838667</td>\n",
       "      <td>0.840000</td>\n",
       "      <td>0.831333</td>\n",
       "      <td>0.828000</td>\n",
       "      <td>0.837733</td>\n",
       "      <td>0.007861</td>\n",
       "    </tr>\n",
       "    <tr>\n",
       "      <th>11</th>\n",
       "      <td>0.736757</td>\n",
       "      <td>0.012322</td>\n",
       "      <td>0.010838</td>\n",
       "      <td>0.001037</td>\n",
       "      <td>20</td>\n",
       "      <td>20</td>\n",
       "      <td>{'max_depth': 20, 'n_estimators': 20}</td>\n",
       "      <td>0.836667</td>\n",
       "      <td>0.835333</td>\n",
       "      <td>0.841333</td>\n",
       "      <td>0.826000</td>\n",
       "      <td>0.833333</td>\n",
       "      <td>0.834533</td>\n",
       "      <td>0.005014</td>\n",
       "    </tr>\n",
       "    <tr>\n",
       "      <th>4</th>\n",
       "      <td>1.443979</td>\n",
       "      <td>0.054506</td>\n",
       "      <td>0.017156</td>\n",
       "      <td>0.001047</td>\n",
       "      <td>20</td>\n",
       "      <td>40</td>\n",
       "      <td>{'max_depth': 20, 'n_estimators': 40}</td>\n",
       "      <td>0.848000</td>\n",
       "      <td>0.838667</td>\n",
       "      <td>0.840667</td>\n",
       "      <td>0.829333</td>\n",
       "      <td>0.832000</td>\n",
       "      <td>0.837733</td>\n",
       "      <td>0.006608</td>\n",
       "    </tr>\n",
       "    <tr>\n",
       "      <th>8</th>\n",
       "      <td>2.142615</td>\n",
       "      <td>0.010641</td>\n",
       "      <td>0.023384</td>\n",
       "      <td>0.001125</td>\n",
       "      <td>20</td>\n",
       "      <td>60</td>\n",
       "      <td>{'max_depth': 20, 'n_estimators': 60}</td>\n",
       "      <td>0.844000</td>\n",
       "      <td>0.836000</td>\n",
       "      <td>0.842667</td>\n",
       "      <td>0.832667</td>\n",
       "      <td>0.828667</td>\n",
       "      <td>0.836800</td>\n",
       "      <td>0.005833</td>\n",
       "    </tr>\n",
       "    <tr>\n",
       "      <th>2</th>\n",
       "      <td>2.862825</td>\n",
       "      <td>0.069314</td>\n",
       "      <td>0.030938</td>\n",
       "      <td>0.002571</td>\n",
       "      <td>20</td>\n",
       "      <td>80</td>\n",
       "      <td>{'max_depth': 20, 'n_estimators': 80}</td>\n",
       "      <td>0.847333</td>\n",
       "      <td>0.839333</td>\n",
       "      <td>0.841333</td>\n",
       "      <td>0.835333</td>\n",
       "      <td>0.830667</td>\n",
       "      <td>0.838800</td>\n",
       "      <td>0.005616</td>\n",
       "    </tr>\n",
       "  </tbody>\n",
       "</table>\n",
       "</div>"
      ],
      "text/plain": [
       "                 mean_fit_time  std_fit_time  mean_score_time  std_score_time  \\\n",
       "rank_test_score                                                                 \n",
       "15                    0.506024      0.028950         0.007614        0.001341   \n",
       "13                    1.019468      0.019000         0.012988        0.001194   \n",
       "14                    1.557383      0.109417         0.015446        0.001009   \n",
       "16                    2.062072      0.063063         0.021091        0.002567   \n",
       "12                    0.608411      0.008810         0.007280        0.000723   \n",
       "9                     1.170914      0.023911         0.012607        0.001013   \n",
       "6                     1.693698      0.030629         0.016070        0.001378   \n",
       "6                     2.373546      0.121689         0.022687        0.000433   \n",
       "10                    0.621890      0.029972         0.007616        0.000655   \n",
       "3                     1.254607      0.150518         0.017808        0.011523   \n",
       "1                     2.734093      1.264282         0.022588        0.002344   \n",
       "4                     2.979231      0.466113         0.027142        0.003667   \n",
       "11                    0.736757      0.012322         0.010838        0.001037   \n",
       "4                     1.443979      0.054506         0.017156        0.001047   \n",
       "8                     2.142615      0.010641         0.023384        0.001125   \n",
       "2                     2.862825      0.069314         0.030938        0.002571   \n",
       "\n",
       "                param_max_depth param_n_estimators  \\\n",
       "rank_test_score                                      \n",
       "15                            5                 20   \n",
       "13                            5                 40   \n",
       "14                            5                 60   \n",
       "16                            5                 80   \n",
       "12                            7                 20   \n",
       "9                             7                 40   \n",
       "6                             7                 60   \n",
       "6                             7                 80   \n",
       "10                           10                 20   \n",
       "3                            10                 40   \n",
       "1                            10                 60   \n",
       "4                            10                 80   \n",
       "11                           20                 20   \n",
       "4                            20                 40   \n",
       "8                            20                 60   \n",
       "2                            20                 80   \n",
       "\n",
       "                                                params  split0_test_score  \\\n",
       "rank_test_score                                                             \n",
       "15                {'max_depth': 5, 'n_estimators': 20}           0.842000   \n",
       "13                {'max_depth': 5, 'n_estimators': 40}           0.840667   \n",
       "14                {'max_depth': 5, 'n_estimators': 60}           0.838000   \n",
       "16                {'max_depth': 5, 'n_estimators': 80}           0.830667   \n",
       "12                {'max_depth': 7, 'n_estimators': 20}           0.846000   \n",
       "9                 {'max_depth': 7, 'n_estimators': 40}           0.853333   \n",
       "6                 {'max_depth': 7, 'n_estimators': 60}           0.851333   \n",
       "6                 {'max_depth': 7, 'n_estimators': 80}           0.850667   \n",
       "10               {'max_depth': 10, 'n_estimators': 20}           0.842667   \n",
       "3                {'max_depth': 10, 'n_estimators': 40}           0.848000   \n",
       "1                {'max_depth': 10, 'n_estimators': 60}           0.851333   \n",
       "4                {'max_depth': 10, 'n_estimators': 80}           0.850667   \n",
       "11               {'max_depth': 20, 'n_estimators': 20}           0.836667   \n",
       "4                {'max_depth': 20, 'n_estimators': 40}           0.848000   \n",
       "8                {'max_depth': 20, 'n_estimators': 60}           0.844000   \n",
       "2                {'max_depth': 20, 'n_estimators': 80}           0.847333   \n",
       "\n",
       "                 split1_test_score  split2_test_score  split3_test_score  \\\n",
       "rank_test_score                                                            \n",
       "15                        0.826000           0.825333           0.816000   \n",
       "13                        0.829333           0.834667           0.819333   \n",
       "14                        0.824667           0.830667           0.822000   \n",
       "16                        0.830667           0.829333           0.814667   \n",
       "12                        0.835333           0.832667           0.833333   \n",
       "9                         0.838000           0.837333           0.829333   \n",
       "6                         0.840000           0.836667           0.834000   \n",
       "6                         0.839333           0.836667           0.836667   \n",
       "10                        0.840667           0.836667           0.832000   \n",
       "3                         0.837333           0.838000           0.834000   \n",
       "1                         0.838667           0.838667           0.838667   \n",
       "4                         0.838667           0.840000           0.831333   \n",
       "11                        0.835333           0.841333           0.826000   \n",
       "4                         0.838667           0.840667           0.829333   \n",
       "8                         0.836000           0.842667           0.832667   \n",
       "2                         0.839333           0.841333           0.835333   \n",
       "\n",
       "                 split4_test_score  mean_test_score  std_test_score  \n",
       "rank_test_score                                                      \n",
       "15                        0.818000         0.825467        0.009154  \n",
       "13                        0.812667         0.827333        0.010146  \n",
       "14                        0.818000         0.826667        0.007005  \n",
       "16                        0.816667         0.824400        0.007175  \n",
       "12                        0.824000         0.834267        0.007038  \n",
       "9                         0.820000         0.835600        0.011008  \n",
       "6                         0.824000         0.837200        0.008858  \n",
       "6                         0.822667         0.837200        0.008918  \n",
       "10                        0.824000         0.835200        0.006685  \n",
       "3                         0.833333         0.838133        0.005256  \n",
       "1                         0.830667         0.839600        0.006635  \n",
       "4                         0.828000         0.837733        0.007861  \n",
       "11                        0.833333         0.834533        0.005014  \n",
       "4                         0.832000         0.837733        0.006608  \n",
       "8                         0.828667         0.836800        0.005833  \n",
       "2                         0.830667         0.838800        0.005616  "
      ]
     },
     "execution_count": 46,
     "metadata": {},
     "output_type": "execute_result"
    }
   ],
   "source": [
    "results_table = pd.DataFrame.from_dict(grid_clf.cv_results_).set_index(\"rank_test_score\")\n",
    "results_table"
   ]
  },
  {
   "cell_type": "code",
   "execution_count": null,
   "metadata": {},
   "outputs": [],
   "source": []
  }
 ],
 "metadata": {
  "kernelspec": {
   "display_name": "Python 3",
   "language": "python",
   "name": "python3"
  },
  "language_info": {
   "codemirror_mode": {
    "name": "ipython",
    "version": 3
   },
   "file_extension": ".py",
   "mimetype": "text/x-python",
   "name": "python",
   "nbconvert_exporter": "python",
   "pygments_lexer": "ipython3",
   "version": "3.7.1"
  }
 },
 "nbformat": 4,
 "nbformat_minor": 2
}
