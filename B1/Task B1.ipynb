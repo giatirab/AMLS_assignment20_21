{
 "cells": [
  {
   "cell_type": "markdown",
   "metadata": {},
   "source": [
    "# <font color=\"orange\">Load modules</font> "
   ]
  },
  {
   "cell_type": "code",
   "execution_count": 9,
   "metadata": {},
   "outputs": [],
   "source": [
    "import cv2\n",
    "import sklearn.ensemble\n",
    "from sklearn.neighbors import KNeighborsClassifier\n",
    "from sklearn.model_selection import train_test_split\n",
    "from sklearn.model_selection import cross_val_score\n",
    "import os\n",
    "import numpy as np\n",
    "import pandas as pd\n",
    "import matplotlib.pyplot as plt\n",
    "import tensorflow as tf\n",
    "from PIL import Image\n",
    "from sklearn.cluster import KMeans\n",
    "from tensorflow.keras import datasets, layers, models\n",
    "import sys\n",
    "sys.path.append(\"/Users/macbookpro/UCL - MSc Integrated Machine Learning Systems/Y1/Applied Machine Learning I/Final Assignment/AMLS_20-21_SN17024244\")\n",
    "from _CFG_Task_B import *\n",
    "from _CLASS_ImageManager import *"
   ]
  },
  {
   "cell_type": "markdown",
   "metadata": {},
   "source": [
    "In the following lines we load the labels .csv file."
   ]
  },
  {
   "cell_type": "code",
   "execution_count": 10,
   "metadata": {},
   "outputs": [],
   "source": [
    "y = load_images_label_csv(\"eye_color\")"
   ]
  },
  {
   "cell_type": "markdown",
   "metadata": {},
   "source": [
    "The following code is to remove the test_set in case this has been moved from cartoon_set_test/img to cartoon_set/img."
   ]
  },
  {
   "cell_type": "code",
   "execution_count": 11,
   "metadata": {},
   "outputs": [],
   "source": [
    "if count_n_images(sub_folder, extension) > 10000:\n",
    "    move_images_fromfolder(sub_folder, sub_test_folder, extension)"
   ]
  },
  {
   "cell_type": "markdown",
   "metadata": {},
   "source": [
    "# <font color=\"orange\">Load and process images</font> "
   ]
  },
  {
   "cell_type": "markdown",
   "metadata": {},
   "source": [
    "We leverage on the **ImageManager** class object to load the whole set of images as well as crop them based on the body part we are interested in. The processing is based on a Haar Cascade Classifier. This is an effective object detection approach which was proposed by Paul Viola and Michael Jones back in 2001. This is basically a machine learning based approach where a cascade function is trained from a lot of images both positive and negative. Based on the training it is then used to detect the objects in the other images.\n",
    "So how this works is they are huge individual .xml files with a lot of feature sets and each .xml corresponds to a very specific type of use case."
   ]
  },
  {
   "cell_type": "code",
   "execution_count": 12,
   "metadata": {},
   "outputs": [
    {
     "name": "stdout",
     "output_type": "stream",
     "text": [
      "Starting to load images from /Users/macbookpro/UCL - MSc Integrated Machine Learning Systems/Y1/Applied Machine Learning I/Final Assignment/AMLS_20-21_SN17024244/Datasets/cartoon_set/img/ with extension .png\n",
      "856/10000 images loaded\n",
      "1734/10000 images loaded\n",
      "2491/10000 images loaded\n",
      "3436/10000 images loaded\n",
      "4370/10000 images loaded\n",
      "5038/10000 images loaded\n",
      "5723/10000 images loaded\n",
      "6402/10000 images loaded\n",
      "7069/10000 images loaded\n",
      "7747/10000 images loaded\n",
      "8437/10000 images loaded\n",
      "9129/10000 images loaded\n",
      "9773/10000 images loaded\n",
      "10000/10000 images loaded\n"
     ]
    }
   ],
   "source": [
    "imgmgr = ImageManager()\n",
    "imgmgr.load_images_from_folder(sub_folder, extension, verbose = True)\n",
    "imgmgr.bodypart = \"eyes\"\n",
    "imges = imgmgr.crop_part((16,16), squaring=False, x_offsets=(1/3,-1/4), y_offsets = (1/4,-1/4))"
   ]
  },
  {
   "cell_type": "code",
   "execution_count": 13,
   "metadata": {},
   "outputs": [
    {
     "data": {
      "text/plain": [
       "<matplotlib.image.AxesImage at 0x7fd02b65ca58>"
      ]
     },
     "execution_count": 13,
     "metadata": {},
     "output_type": "execute_result"
    },
    {
     "data": {
      "image/png": "[encoded data removed]",
      "text/plain": [
       "<Figure size 432x288 with 1 Axes>"
      ]
     },
     "metadata": {
      "needs_background": "light"
     },
     "output_type": "display_data"
    }
   ],
   "source": [
    "rgb = cv2.cvtColor(imges[4], cv2.COLOR_BGR2RGB)\n",
    "plt.imshow(rgb)"
   ]
  },
  {
   "cell_type": "markdown",
   "metadata": {},
   "source": [
    "# <font color=\"orange\">Solving exercise using various machine learning approches</font> "
   ]
  },
  {
   "cell_type": "markdown",
   "metadata": {},
   "source": [
    "Once our images have been processed, we can split our dataset into train and test sets."
   ]
  },
  {
   "cell_type": "code",
   "execution_count": 14,
   "metadata": {},
   "outputs": [],
   "source": [
    "X = imgmgr.images\n",
    "X = X.reshape(X.shape[0], np.prod(X.shape[1:]))\n",
    "X_train, X_test, y_train, y_test = train_test_split(X,y)"
   ]
  },
  {
   "cell_type": "markdown",
   "metadata": {},
   "source": [
    "### 1. K-Nearest Neighbors"
   ]
  },
  {
   "cell_type": "code",
   "execution_count": 15,
   "metadata": {},
   "outputs": [
    {
     "name": "stdout",
     "output_type": "stream",
     "text": [
      "TRAIN METRICS\n",
      "              precision    recall  f1-score   support\n",
      "\n",
      "           0       0.81      0.89      0.85      1538\n",
      "           1       0.87      0.86      0.86      1513\n",
      "           2       0.83      0.84      0.84      1443\n",
      "           3       0.87      0.84      0.85      1514\n",
      "           4       0.89      0.84      0.86      1492\n",
      "\n",
      "    accuracy                           0.85      7500\n",
      "   macro avg       0.85      0.85      0.85      7500\n",
      "weighted avg       0.85      0.85      0.85      7500\n",
      "\n",
      "TEST METRICS\n",
      "              precision    recall  f1-score   support\n",
      "\n",
      "           0       0.73      0.83      0.78       466\n",
      "           1       0.82      0.84      0.83       505\n",
      "           2       0.83      0.83      0.83       526\n",
      "           3       0.84      0.81      0.82       478\n",
      "           4       0.90      0.80      0.85       525\n",
      "\n",
      "    accuracy                           0.82      2500\n",
      "   macro avg       0.82      0.82      0.82      2500\n",
      "weighted avg       0.83      0.82      0.82      2500\n",
      "\n"
     ]
    }
   ],
   "source": [
    "clf = KNeighborsClassifier(10, p=2, weights=\"uniform\")\n",
    "clf.fit(X_train, y_train)\n",
    "y_pred_test = clf.predict(X_test)\n",
    "y_pred_train = clf.predict(X_train)\n",
    "print(\"TRAIN METRICS\")\n",
    "print(sklearn.metrics.classification_report(y_train, y_pred_train))\n",
    "print(\"TEST METRICS\")\n",
    "print(sklearn.metrics.classification_report(y_test, y_pred_test))"
   ]
  },
  {
   "cell_type": "markdown",
   "metadata": {},
   "source": [
    "We present the confusion matrix once data has been trained using KNN."
   ]
  },
  {
   "cell_type": "code",
   "execution_count": 16,
   "metadata": {},
   "outputs": [
    {
     "data": {
      "image/png": "[encoded data removed]",
      "text/plain": [
       "<Figure size 432x288 with 2 Axes>"
      ]
     },
     "metadata": {
      "needs_background": "light"
     },
     "output_type": "display_data"
    }
   ],
   "source": [
    "train_test_confusion_matrix(y_train, y_pred_train, y_test, y_pred_test)"
   ]
  },
  {
   "cell_type": "markdown",
   "metadata": {},
   "source": [
    "So far we have performed a KNN algorithm on our train and test set with K=10. This returns a good accuracy. Now we want to check if there are actually other Ks which would lead to better results. Added to this, we will perform a cross-validation on the entire dataset. For example, for 3-fold cross validation, the dataset would be split into 3 groups, and the model would be trained and tested 3 separate times so each group would get a chance to be the test set."
   ]
  },
  {
   "cell_type": "code",
   "execution_count": 17,
   "metadata": {},
   "outputs": [],
   "source": [
    "k_range = np.arange(1, 31, 5)\n",
    "k_scores = []\n",
    "\n",
    "# use iteration to calculate accuracy on different k in models, then return the average accuracy based on the cross validation.\n",
    "for k in k_range:\n",
    "    knn = KNeighborsClassifier(n_neighbors=k)\n",
    "    scores = cross_val_score(knn, X, y, cv=3, scoring='accuracy')\n",
    "    k_scores.append(scores.mean())"
   ]
  },
  {
   "cell_type": "code",
   "execution_count": 30,
   "metadata": {},
   "outputs": [
    {
     "name": "stderr",
     "output_type": "stream",
     "text": [
      "No handles with labels found to put in legend.\n"
     ]
    },
    {
     "data": {
      "image/png": "[encoded data removed]",
      "text/plain": [
       "<Figure size 432x288 with 1 Axes>"
      ]
     },
     "metadata": {
      "needs_background": "light"
     },
     "output_type": "display_data"
    }
   ],
   "source": [
    "# plot to see clearly\n",
    "plt.plot(k_range, k_scores)\n",
    "plt.xlabel('Value of K')\n",
    "plt.ylabel('Cross-Validated Accuracy')\n",
    "plt.legend(loc=\"upper right\")\n",
    "plt.title('Backtesting performance of KNN')\n",
    "plt.show()"
   ]
  },
  {
   "cell_type": "markdown",
   "metadata": {},
   "source": [
    "### 2. Random Forest"
   ]
  },
  {
   "cell_type": "code",
   "execution_count": 27,
   "metadata": {},
   "outputs": [
    {
     "name": "stdout",
     "output_type": "stream",
     "text": [
      "TRAIN METRICS\n",
      "              precision    recall  f1-score   support\n",
      "\n",
      "           0       1.00      1.00      1.00      1538\n",
      "           1       1.00      1.00      1.00      1513\n",
      "           2       1.00      1.00      1.00      1443\n",
      "           3       1.00      1.00      1.00      1514\n",
      "           4       1.00      1.00      1.00      1492\n",
      "\n",
      "    accuracy                           1.00      7500\n",
      "   macro avg       1.00      1.00      1.00      7500\n",
      "weighted avg       1.00      1.00      1.00      7500\n",
      "\n",
      "TEST METRICS\n",
      "              precision    recall  f1-score   support\n",
      "\n",
      "           0       0.86      0.81      0.83       466\n",
      "           1       0.84      0.86      0.85       505\n",
      "           2       0.82      0.83      0.83       526\n",
      "           3       0.82      0.83      0.83       478\n",
      "           4       0.83      0.83      0.83       525\n",
      "\n",
      "    accuracy                           0.83      2500\n",
      "   macro avg       0.84      0.83      0.83      2500\n",
      "weighted avg       0.83      0.83      0.83      2500\n",
      "\n"
     ]
    }
   ],
   "source": [
    "clf = sklearn.ensemble.RandomForestClassifier(n_estimators=60, criterion=\"entropy\", max_depth=10)\n",
    "clf.fit(X_train, y_train)\n",
    "y_pred_test = clf.predict(X_test)\n",
    "y_pred_train = clf.predict(X_train)\n",
    "print(\"TRAIN METRICS\")\n",
    "print(sklearn.metrics.classification_report(y_train, y_pred_train))\n",
    "print(\"TEST METRICS\")\n",
    "print(sklearn.metrics.classification_report(y_test, y_pred_test))"
   ]
  },
  {
   "cell_type": "code",
   "execution_count": 28,
   "metadata": {},
   "outputs": [
    {
     "name": "stderr",
     "output_type": "stream",
     "text": [
      "No handles with labels found to put in legend.\n"
     ]
    },
    {
     "data": {
      "image/png": "[encoded data removed]",
      "text/plain": [
       "<Figure size 432x288 with 1 Axes>"
      ]
     },
     "metadata": {
      "needs_background": "light"
     },
     "output_type": "display_data"
    }
   ],
   "source": [
    "n_estimators=np.arange(5, 100, 5)\n",
    "\n",
    "# Dictionary containing (<n_estimators>, <error rate>) pairs.\n",
    "d = {}\n",
    "\n",
    "for x in n_estimators:\n",
    "    clf.set_params(n_estimators=x)\n",
    "    clf.fit(X_train, y_train)\n",
    "    error = 1 - clf.score(X_test, y_test)\n",
    "    d[x] = error\n",
    "\n",
    "plt.plot(d.keys(), d.values())\n",
    "plt.xlabel(\"n_estimators\")\n",
    "plt.ylabel(\"Error rate\")\n",
    "plt.legend(loc=\"upper right\")\n",
    "plt.title('Backtesting performance of number of trees')\n",
    "plt.show()"
   ]
  },
  {
   "cell_type": "markdown",
   "metadata": {},
   "source": [
    "We present the confusion matrix once data has been trained using Random Forest."
   ]
  },
  {
   "cell_type": "code",
   "execution_count": 29,
   "metadata": {},
   "outputs": [
    {
     "data": {
      "image/png": "[encoded data removed]",
      "text/plain": [
       "<Figure size 432x288 with 2 Axes>"
      ]
     },
     "metadata": {
      "needs_background": "light"
     },
     "output_type": "display_data"
    }
   ],
   "source": [
    "train_test_confusion_matrix(y_train, y_pred_train, y_test, y_pred_test)"
   ]
  },
  {
   "cell_type": "markdown",
   "metadata": {},
   "source": [
    "Now we perform some hyper-parameter tuning to see if other Random Forest arguments would have led to a significantly higher performance. The below dictionary will test 4 different sizes of n_estimators and max_depth. We have initialised this process as we initially observed that allowing a flexible \"max_depth\" variable would lead to overfitting."
   ]
  },
  {
   "cell_type": "code",
   "execution_count": 24,
   "metadata": {},
   "outputs": [],
   "source": [
    "param_grid = {\"n_estimators\": [20, 40, 60, 80],\n",
    "              \"max_depth\":    [5, 7, 10, 20]}"
   ]
  },
  {
   "cell_type": "code",
   "execution_count": 25,
   "metadata": {},
   "outputs": [
    {
     "data": {
      "text/plain": [
       "GridSearchCV(cv=5,\n",
       "             estimator=RandomForestClassifier(criterion='entropy', max_depth=10,\n",
       "                                              n_estimators=95),\n",
       "             param_grid={'max_depth': [5, 7, 10, 20],\n",
       "                         'n_estimators': [20, 40, 60, 80]})"
      ]
     },
     "execution_count": 25,
     "metadata": {},
     "output_type": "execute_result"
    }
   ],
   "source": [
    "grid_clf = sklearn.model_selection.GridSearchCV(clf, param_grid, cv=5)\n",
    "grid_clf.fit(X_train, y_train)"
   ]
  },
  {
   "cell_type": "code",
   "execution_count": 26,
   "metadata": {},
   "outputs": [
    {
     "data": {
      "text/html": [
       "<div>\n",
       "<style scoped>\n",
       "    .dataframe tbody tr th:only-of-type {\n",
       "        vertical-align: middle;\n",
       "    }\n",
       "\n",
       "    .dataframe tbody tr th {\n",
       "        vertical-align: top;\n",
       "    }\n",
       "\n",
       "    .dataframe thead th {\n",
       "        text-align: right;\n",
       "    }\n",
       "</style>\n",
       "<table border=\"1\" class=\"dataframe\">\n",
       "  <thead>\n",
       "    <tr style=\"text-align: right;\">\n",
       "      <th></th>\n",
       "      <th>mean_fit_time</th>\n",
       "      <th>std_fit_time</th>\n",
       "      <th>mean_score_time</th>\n",
       "      <th>std_score_time</th>\n",
       "      <th>param_max_depth</th>\n",
       "      <th>param_n_estimators</th>\n",
       "      <th>params</th>\n",
       "      <th>split0_test_score</th>\n",
       "      <th>split1_test_score</th>\n",
       "      <th>split2_test_score</th>\n",
       "      <th>split3_test_score</th>\n",
       "      <th>split4_test_score</th>\n",
       "      <th>mean_test_score</th>\n",
       "      <th>std_test_score</th>\n",
       "    </tr>\n",
       "    <tr>\n",
       "      <th>rank_test_score</th>\n",
       "      <th></th>\n",
       "      <th></th>\n",
       "      <th></th>\n",
       "      <th></th>\n",
       "      <th></th>\n",
       "      <th></th>\n",
       "      <th></th>\n",
       "      <th></th>\n",
       "      <th></th>\n",
       "      <th></th>\n",
       "      <th></th>\n",
       "      <th></th>\n",
       "      <th></th>\n",
       "      <th></th>\n",
       "    </tr>\n",
       "  </thead>\n",
       "  <tbody>\n",
       "    <tr>\n",
       "      <th>15</th>\n",
       "      <td>0.450997</td>\n",
       "      <td>0.019490</td>\n",
       "      <td>0.006713</td>\n",
       "      <td>0.000900</td>\n",
       "      <td>5</td>\n",
       "      <td>20</td>\n",
       "      <td>{'max_depth': 5, 'n_estimators': 20}</td>\n",
       "      <td>0.840000</td>\n",
       "      <td>0.821333</td>\n",
       "      <td>0.814667</td>\n",
       "      <td>0.828000</td>\n",
       "      <td>0.814667</td>\n",
       "      <td>0.823733</td>\n",
       "      <td>0.009518</td>\n",
       "    </tr>\n",
       "    <tr>\n",
       "      <th>16</th>\n",
       "      <td>0.915576</td>\n",
       "      <td>0.027450</td>\n",
       "      <td>0.010634</td>\n",
       "      <td>0.001130</td>\n",
       "      <td>5</td>\n",
       "      <td>40</td>\n",
       "      <td>{'max_depth': 5, 'n_estimators': 40}</td>\n",
       "      <td>0.834667</td>\n",
       "      <td>0.824667</td>\n",
       "      <td>0.813333</td>\n",
       "      <td>0.828000</td>\n",
       "      <td>0.808667</td>\n",
       "      <td>0.821867</td>\n",
       "      <td>0.009554</td>\n",
       "    </tr>\n",
       "    <tr>\n",
       "      <th>13</th>\n",
       "      <td>1.285542</td>\n",
       "      <td>0.034189</td>\n",
       "      <td>0.012799</td>\n",
       "      <td>0.000340</td>\n",
       "      <td>5</td>\n",
       "      <td>60</td>\n",
       "      <td>{'max_depth': 5, 'n_estimators': 60}</td>\n",
       "      <td>0.837333</td>\n",
       "      <td>0.821333</td>\n",
       "      <td>0.815333</td>\n",
       "      <td>0.836667</td>\n",
       "      <td>0.816667</td>\n",
       "      <td>0.825467</td>\n",
       "      <td>0.009628</td>\n",
       "    </tr>\n",
       "    <tr>\n",
       "      <th>14</th>\n",
       "      <td>1.711213</td>\n",
       "      <td>0.032425</td>\n",
       "      <td>0.020786</td>\n",
       "      <td>0.006619</td>\n",
       "      <td>5</td>\n",
       "      <td>80</td>\n",
       "      <td>{'max_depth': 5, 'n_estimators': 80}</td>\n",
       "      <td>0.840000</td>\n",
       "      <td>0.822000</td>\n",
       "      <td>0.816000</td>\n",
       "      <td>0.827333</td>\n",
       "      <td>0.815333</td>\n",
       "      <td>0.824133</td>\n",
       "      <td>0.009057</td>\n",
       "    </tr>\n",
       "    <tr>\n",
       "      <th>12</th>\n",
       "      <td>0.505939</td>\n",
       "      <td>0.016471</td>\n",
       "      <td>0.006067</td>\n",
       "      <td>0.000364</td>\n",
       "      <td>7</td>\n",
       "      <td>20</td>\n",
       "      <td>{'max_depth': 7, 'n_estimators': 20}</td>\n",
       "      <td>0.839333</td>\n",
       "      <td>0.828667</td>\n",
       "      <td>0.816000</td>\n",
       "      <td>0.838000</td>\n",
       "      <td>0.822000</td>\n",
       "      <td>0.828800</td>\n",
       "      <td>0.009008</td>\n",
       "    </tr>\n",
       "    <tr>\n",
       "      <th>7</th>\n",
       "      <td>0.973059</td>\n",
       "      <td>0.012668</td>\n",
       "      <td>0.010000</td>\n",
       "      <td>0.000383</td>\n",
       "      <td>7</td>\n",
       "      <td>40</td>\n",
       "      <td>{'max_depth': 7, 'n_estimators': 40}</td>\n",
       "      <td>0.845333</td>\n",
       "      <td>0.831333</td>\n",
       "      <td>0.820667</td>\n",
       "      <td>0.838667</td>\n",
       "      <td>0.828000</td>\n",
       "      <td>0.832800</td>\n",
       "      <td>0.008531</td>\n",
       "    </tr>\n",
       "    <tr>\n",
       "      <th>6</th>\n",
       "      <td>1.462511</td>\n",
       "      <td>0.011870</td>\n",
       "      <td>0.014335</td>\n",
       "      <td>0.000654</td>\n",
       "      <td>7</td>\n",
       "      <td>60</td>\n",
       "      <td>{'max_depth': 7, 'n_estimators': 60}</td>\n",
       "      <td>0.848667</td>\n",
       "      <td>0.834000</td>\n",
       "      <td>0.822000</td>\n",
       "      <td>0.838667</td>\n",
       "      <td>0.821333</td>\n",
       "      <td>0.832933</td>\n",
       "      <td>0.010350</td>\n",
       "    </tr>\n",
       "    <tr>\n",
       "      <th>9</th>\n",
       "      <td>1.988182</td>\n",
       "      <td>0.041465</td>\n",
       "      <td>0.019343</td>\n",
       "      <td>0.002402</td>\n",
       "      <td>7</td>\n",
       "      <td>80</td>\n",
       "      <td>{'max_depth': 7, 'n_estimators': 80}</td>\n",
       "      <td>0.850667</td>\n",
       "      <td>0.828667</td>\n",
       "      <td>0.820667</td>\n",
       "      <td>0.838667</td>\n",
       "      <td>0.819333</td>\n",
       "      <td>0.831600</td>\n",
       "      <td>0.011765</td>\n",
       "    </tr>\n",
       "    <tr>\n",
       "      <th>8</th>\n",
       "      <td>0.539087</td>\n",
       "      <td>0.012743</td>\n",
       "      <td>0.006422</td>\n",
       "      <td>0.000407</td>\n",
       "      <td>10</td>\n",
       "      <td>20</td>\n",
       "      <td>{'max_depth': 10, 'n_estimators': 20}</td>\n",
       "      <td>0.836667</td>\n",
       "      <td>0.842667</td>\n",
       "      <td>0.823333</td>\n",
       "      <td>0.836667</td>\n",
       "      <td>0.824000</td>\n",
       "      <td>0.832667</td>\n",
       "      <td>0.007671</td>\n",
       "    </tr>\n",
       "    <tr>\n",
       "      <th>3</th>\n",
       "      <td>1.106331</td>\n",
       "      <td>0.020837</td>\n",
       "      <td>0.011439</td>\n",
       "      <td>0.000349</td>\n",
       "      <td>10</td>\n",
       "      <td>40</td>\n",
       "      <td>{'max_depth': 10, 'n_estimators': 40}</td>\n",
       "      <td>0.847333</td>\n",
       "      <td>0.833333</td>\n",
       "      <td>0.817333</td>\n",
       "      <td>0.848000</td>\n",
       "      <td>0.826000</td>\n",
       "      <td>0.834400</td>\n",
       "      <td>0.011960</td>\n",
       "    </tr>\n",
       "    <tr>\n",
       "      <th>11</th>\n",
       "      <td>1.651595</td>\n",
       "      <td>0.051581</td>\n",
       "      <td>0.015493</td>\n",
       "      <td>0.001455</td>\n",
       "      <td>10</td>\n",
       "      <td>60</td>\n",
       "      <td>{'max_depth': 10, 'n_estimators': 60}</td>\n",
       "      <td>0.846000</td>\n",
       "      <td>0.834667</td>\n",
       "      <td>0.815333</td>\n",
       "      <td>0.837333</td>\n",
       "      <td>0.820000</td>\n",
       "      <td>0.830667</td>\n",
       "      <td>0.011353</td>\n",
       "    </tr>\n",
       "    <tr>\n",
       "      <th>3</th>\n",
       "      <td>2.112219</td>\n",
       "      <td>0.024391</td>\n",
       "      <td>0.019861</td>\n",
       "      <td>0.001910</td>\n",
       "      <td>10</td>\n",
       "      <td>80</td>\n",
       "      <td>{'max_depth': 10, 'n_estimators': 80}</td>\n",
       "      <td>0.852000</td>\n",
       "      <td>0.839333</td>\n",
       "      <td>0.817333</td>\n",
       "      <td>0.840000</td>\n",
       "      <td>0.823333</td>\n",
       "      <td>0.834400</td>\n",
       "      <td>0.012484</td>\n",
       "    </tr>\n",
       "    <tr>\n",
       "      <th>10</th>\n",
       "      <td>0.630281</td>\n",
       "      <td>0.012258</td>\n",
       "      <td>0.008845</td>\n",
       "      <td>0.001107</td>\n",
       "      <td>20</td>\n",
       "      <td>20</td>\n",
       "      <td>{'max_depth': 20, 'n_estimators': 20}</td>\n",
       "      <td>0.840667</td>\n",
       "      <td>0.837333</td>\n",
       "      <td>0.814667</td>\n",
       "      <td>0.835333</td>\n",
       "      <td>0.826667</td>\n",
       "      <td>0.830933</td>\n",
       "      <td>0.009358</td>\n",
       "    </tr>\n",
       "    <tr>\n",
       "      <th>1</th>\n",
       "      <td>1.246488</td>\n",
       "      <td>0.017950</td>\n",
       "      <td>0.014366</td>\n",
       "      <td>0.001110</td>\n",
       "      <td>20</td>\n",
       "      <td>40</td>\n",
       "      <td>{'max_depth': 20, 'n_estimators': 40}</td>\n",
       "      <td>0.853333</td>\n",
       "      <td>0.834667</td>\n",
       "      <td>0.823333</td>\n",
       "      <td>0.842667</td>\n",
       "      <td>0.822667</td>\n",
       "      <td>0.835333</td>\n",
       "      <td>0.011685</td>\n",
       "    </tr>\n",
       "    <tr>\n",
       "      <th>5</th>\n",
       "      <td>1.829067</td>\n",
       "      <td>0.032279</td>\n",
       "      <td>0.019729</td>\n",
       "      <td>0.000740</td>\n",
       "      <td>20</td>\n",
       "      <td>60</td>\n",
       "      <td>{'max_depth': 20, 'n_estimators': 60}</td>\n",
       "      <td>0.846667</td>\n",
       "      <td>0.832667</td>\n",
       "      <td>0.817333</td>\n",
       "      <td>0.849333</td>\n",
       "      <td>0.822000</td>\n",
       "      <td>0.833600</td>\n",
       "      <td>0.012793</td>\n",
       "    </tr>\n",
       "    <tr>\n",
       "      <th>1</th>\n",
       "      <td>2.392010</td>\n",
       "      <td>0.047534</td>\n",
       "      <td>0.024936</td>\n",
       "      <td>0.002363</td>\n",
       "      <td>20</td>\n",
       "      <td>80</td>\n",
       "      <td>{'max_depth': 20, 'n_estimators': 80}</td>\n",
       "      <td>0.844667</td>\n",
       "      <td>0.841333</td>\n",
       "      <td>0.820667</td>\n",
       "      <td>0.847333</td>\n",
       "      <td>0.822667</td>\n",
       "      <td>0.835333</td>\n",
       "      <td>0.011337</td>\n",
       "    </tr>\n",
       "  </tbody>\n",
       "</table>\n",
       "</div>"
      ],
      "text/plain": [
       "                 mean_fit_time  std_fit_time  mean_score_time  std_score_time  \\\n",
       "rank_test_score                                                                 \n",
       "15                    0.450997      0.019490         0.006713        0.000900   \n",
       "16                    0.915576      0.027450         0.010634        0.001130   \n",
       "13                    1.285542      0.034189         0.012799        0.000340   \n",
       "14                    1.711213      0.032425         0.020786        0.006619   \n",
       "12                    0.505939      0.016471         0.006067        0.000364   \n",
       "7                     0.973059      0.012668         0.010000        0.000383   \n",
       "6                     1.462511      0.011870         0.014335        0.000654   \n",
       "9                     1.988182      0.041465         0.019343        0.002402   \n",
       "8                     0.539087      0.012743         0.006422        0.000407   \n",
       "3                     1.106331      0.020837         0.011439        0.000349   \n",
       "11                    1.651595      0.051581         0.015493        0.001455   \n",
       "3                     2.112219      0.024391         0.019861        0.001910   \n",
       "10                    0.630281      0.012258         0.008845        0.001107   \n",
       "1                     1.246488      0.017950         0.014366        0.001110   \n",
       "5                     1.829067      0.032279         0.019729        0.000740   \n",
       "1                     2.392010      0.047534         0.024936        0.002363   \n",
       "\n",
       "                param_max_depth param_n_estimators  \\\n",
       "rank_test_score                                      \n",
       "15                            5                 20   \n",
       "16                            5                 40   \n",
       "13                            5                 60   \n",
       "14                            5                 80   \n",
       "12                            7                 20   \n",
       "7                             7                 40   \n",
       "6                             7                 60   \n",
       "9                             7                 80   \n",
       "8                            10                 20   \n",
       "3                            10                 40   \n",
       "11                           10                 60   \n",
       "3                            10                 80   \n",
       "10                           20                 20   \n",
       "1                            20                 40   \n",
       "5                            20                 60   \n",
       "1                            20                 80   \n",
       "\n",
       "                                                params  split0_test_score  \\\n",
       "rank_test_score                                                             \n",
       "15                {'max_depth': 5, 'n_estimators': 20}           0.840000   \n",
       "16                {'max_depth': 5, 'n_estimators': 40}           0.834667   \n",
       "13                {'max_depth': 5, 'n_estimators': 60}           0.837333   \n",
       "14                {'max_depth': 5, 'n_estimators': 80}           0.840000   \n",
       "12                {'max_depth': 7, 'n_estimators': 20}           0.839333   \n",
       "7                 {'max_depth': 7, 'n_estimators': 40}           0.845333   \n",
       "6                 {'max_depth': 7, 'n_estimators': 60}           0.848667   \n",
       "9                 {'max_depth': 7, 'n_estimators': 80}           0.850667   \n",
       "8                {'max_depth': 10, 'n_estimators': 20}           0.836667   \n",
       "3                {'max_depth': 10, 'n_estimators': 40}           0.847333   \n",
       "11               {'max_depth': 10, 'n_estimators': 60}           0.846000   \n",
       "3                {'max_depth': 10, 'n_estimators': 80}           0.852000   \n",
       "10               {'max_depth': 20, 'n_estimators': 20}           0.840667   \n",
       "1                {'max_depth': 20, 'n_estimators': 40}           0.853333   \n",
       "5                {'max_depth': 20, 'n_estimators': 60}           0.846667   \n",
       "1                {'max_depth': 20, 'n_estimators': 80}           0.844667   \n",
       "\n",
       "                 split1_test_score  split2_test_score  split3_test_score  \\\n",
       "rank_test_score                                                            \n",
       "15                        0.821333           0.814667           0.828000   \n",
       "16                        0.824667           0.813333           0.828000   \n",
       "13                        0.821333           0.815333           0.836667   \n",
       "14                        0.822000           0.816000           0.827333   \n",
       "12                        0.828667           0.816000           0.838000   \n",
       "7                         0.831333           0.820667           0.838667   \n",
       "6                         0.834000           0.822000           0.838667   \n",
       "9                         0.828667           0.820667           0.838667   \n",
       "8                         0.842667           0.823333           0.836667   \n",
       "3                         0.833333           0.817333           0.848000   \n",
       "11                        0.834667           0.815333           0.837333   \n",
       "3                         0.839333           0.817333           0.840000   \n",
       "10                        0.837333           0.814667           0.835333   \n",
       "1                         0.834667           0.823333           0.842667   \n",
       "5                         0.832667           0.817333           0.849333   \n",
       "1                         0.841333           0.820667           0.847333   \n",
       "\n",
       "                 split4_test_score  mean_test_score  std_test_score  \n",
       "rank_test_score                                                      \n",
       "15                        0.814667         0.823733        0.009518  \n",
       "16                        0.808667         0.821867        0.009554  \n",
       "13                        0.816667         0.825467        0.009628  \n",
       "14                        0.815333         0.824133        0.009057  \n",
       "12                        0.822000         0.828800        0.009008  \n",
       "7                         0.828000         0.832800        0.008531  \n",
       "6                         0.821333         0.832933        0.010350  \n",
       "9                         0.819333         0.831600        0.011765  \n",
       "8                         0.824000         0.832667        0.007671  \n",
       "3                         0.826000         0.834400        0.011960  \n",
       "11                        0.820000         0.830667        0.011353  \n",
       "3                         0.823333         0.834400        0.012484  \n",
       "10                        0.826667         0.830933        0.009358  \n",
       "1                         0.822667         0.835333        0.011685  \n",
       "5                         0.822000         0.833600        0.012793  \n",
       "1                         0.822667         0.835333        0.011337  "
      ]
     },
     "execution_count": 26,
     "metadata": {},
     "output_type": "execute_result"
    }
   ],
   "source": [
    "results_table = pd.DataFrame.from_dict(grid_clf.cv_results_).set_index(\"rank_test_score\")\n",
    "results_table"
   ]
  },
  {
   "cell_type": "code",
   "execution_count": null,
   "metadata": {},
   "outputs": [],
   "source": []
  }
 ],
 "metadata": {
  "kernelspec": {
   "display_name": "Python 3",
   "language": "python",
   "name": "python3"
  },
  "language_info": {
   "codemirror_mode": {
    "name": "ipython",
    "version": 3
   },
   "file_extension": ".py",
   "mimetype": "text/x-python",
   "name": "python",
   "nbconvert_exporter": "python",
   "pygments_lexer": "ipython3",
   "version": "3.7.1"
  }
 },
 "nbformat": 4,
 "nbformat_minor": 2
}
