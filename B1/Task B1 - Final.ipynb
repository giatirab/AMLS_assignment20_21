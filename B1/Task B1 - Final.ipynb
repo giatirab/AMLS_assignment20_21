{
 "cells": [
  {
   "cell_type": "markdown",
   "metadata": {},
   "source": [
    "# <font color=\"orange\">Load modules</font> "
   ]
  },
  {
   "cell_type": "code",
   "execution_count": null,
   "metadata": {},
   "outputs": [],
   "source": [
    "import cv2\n",
    "from sklearn.ensemble import RandomForestClassifier\n",
    "from sklearn.neighbors import KNeighborsClassifier\n",
    "from sklearn.model_selection import train_test_split\n",
    "from sklearn.model_selection import cross_val_score\n",
    "import os\n",
    "import numpy as np\n",
    "import pandas as pd\n",
    "import matplotlib.pyplot as plt\n",
    "import tensorflow as tf\n",
    "from PIL import Image\n",
    "from sklearn.cluster import KMeans\n",
    "from tensorflow.keras import datasets, layers, models\n",
    "import sys\n",
    "sys.path.append(\"/Users/macbookpro/UCL - MSc Integrated Machine Learning Systems/Y1/Applied Machine Learning I/Final Assignment/AMLS_20-21_SN17024244\")\n",
    "from _CFG_Task_B import *\n",
    "from _CLASS_ImageManager import *"
   ]
  },
  {
   "cell_type": "markdown",
   "metadata": {},
   "source": [
    "In the following lines we load the labels .csv file."
   ]
  },
  {
   "cell_type": "code",
   "execution_count": 2,
   "metadata": {},
   "outputs": [],
   "source": [
    "y = load_images_label_csv(\"eye_color\")"
   ]
  },
  {
   "cell_type": "markdown",
   "metadata": {},
   "source": [
    "# <font color=\"orange\">Load and process images</font> "
   ]
  },
  {
   "cell_type": "markdown",
   "metadata": {},
   "source": [
    "We leverage on the **ImageManager** class object to load the whole set of images as well as crop them based on the body part we are interested in. The processing is based on a Cascade Classifier. We will implement our use case using the Haar Cascade classifier, which is an effective object detection approach which was proposed by Paul Viola and Michael Jones. This is basically a machine learning based approach where a cascade function is trained from a lot of images both positive and negative. Based on the training it is then used to detect the objects in the other images.\n",
    "So how this works is they are huge individual .xml files with a lot of feature sets and each xml corresponds to a very specific type of use case."
   ]
  },
  {
   "cell_type": "code",
   "execution_count": 26,
   "metadata": {},
   "outputs": [
    {
     "name": "stdout",
     "output_type": "stream",
     "text": [
      "Starting to load images from /Users/macbookpro/UCL - MSc Integrated Machine Learning Systems/Y1/Applied Machine Learning I/Final Assignment/AMLS_20-21_SN17024244/Datasets/dataset_AMLS_20-21/cartoon_set/img/ with extension .png\n",
      "796/10000 images loaded\n",
      "1504/10000 images loaded\n",
      "2248/10000 images loaded\n",
      "2990/10000 images loaded\n",
      "3772/10000 images loaded\n",
      "4510/10000 images loaded\n",
      "5291/10000 images loaded\n",
      "5984/10000 images loaded\n",
      "6658/10000 images loaded\n",
      "7324/10000 images loaded\n",
      "8089/10000 images loaded\n",
      "8757/10000 images loaded\n",
      "9425/10000 images loaded\n",
      "10000/10000 images loaded\n"
     ]
    }
   ],
   "source": [
    "imgmgr = ImageManager()\n",
    "imgmgr.load_images_from_folder(sub_folder, extension, verbose = True,\n",
    "#                               colour = cv2.IMREAD_GRAYSCALE    # B&W conversion\n",
    "                              )\n",
    "imgmgr.bodypart = \"eyes\"\n",
    "imges = imgmgr.crop_part((16,16), squaring=False, x_offsets=(1/4,-1/4), y_offsets = (1/4,-1/4))"
   ]
  },
  {
   "cell_type": "code",
   "execution_count": 27,
   "metadata": {},
   "outputs": [
    {
     "data": {
      "text/plain": [
       "<matplotlib.image.AxesImage at 0x7fdc37686b38>"
      ]
     },
     "execution_count": 27,
     "metadata": {},
     "output_type": "execute_result"
    },
    {
     "data": {
      "image/png": "[encoded data removed]",
      "text/plain": [
       "<Figure size 432x288 with 1 Axes>"
      ]
     },
     "metadata": {
      "needs_background": "light"
     },
     "output_type": "display_data"
    }
   ],
   "source": [
    "rgb = cv2.cvtColor(imges[4], cv2.COLOR_BGR2RGB)\n",
    "plt.imshow(rgb)"
   ]
  },
  {
   "cell_type": "markdown",
   "metadata": {},
   "source": [
    "# <font color=\"orange\">Solving exercise using various machine learning approches</font> "
   ]
  },
  {
   "cell_type": "markdown",
   "metadata": {},
   "source": [
    "Once our images have been processed, we can split our dataset into train and test sets."
   ]
  },
  {
   "cell_type": "code",
   "execution_count": 37,
   "metadata": {},
   "outputs": [],
   "source": [
    "X = imgmgr.images\n",
    "X = np.reshape(X, (10000, 16*16*3))\n",
    "X_train, X_test, y_train, y_test = train_test_split(X,y)"
   ]
  },
  {
   "cell_type": "markdown",
   "metadata": {},
   "source": [
    "### 1. K-Nearest Neighbors"
   ]
  },
  {
   "cell_type": "code",
   "execution_count": 38,
   "metadata": {},
   "outputs": [
    {
     "name": "stdout",
     "output_type": "stream",
     "text": [
      "TRAIN METRICS\n",
      "              precision    recall  f1-score   support\n",
      "\n",
      "           0       0.81      0.86      0.83      1492\n",
      "           1       0.86      0.86      0.86      1527\n",
      "           2       0.83      0.84      0.84      1451\n",
      "           3       0.85      0.85      0.85      1527\n",
      "           4       0.90      0.83      0.87      1503\n",
      "\n",
      "    accuracy                           0.85      7500\n",
      "   macro avg       0.85      0.85      0.85      7500\n",
      "weighted avg       0.85      0.85      0.85      7500\n",
      "\n",
      "TEST METRICS\n",
      "              precision    recall  f1-score   support\n",
      "\n",
      "           0       0.77      0.84      0.80       512\n",
      "           1       0.83      0.78      0.81       491\n",
      "           2       0.81      0.79      0.80       518\n",
      "           3       0.76      0.83      0.79       465\n",
      "           4       0.88      0.81      0.84       514\n",
      "\n",
      "    accuracy                           0.81      2500\n",
      "   macro avg       0.81      0.81      0.81      2500\n",
      "weighted avg       0.81      0.81      0.81      2500\n",
      "\n"
     ]
    }
   ],
   "source": [
    "clf = KNeighborsClassifier(10)\n",
    "clf.fit(X_train, y_train)\n",
    "y_pred_test = clf.predict(X_test)\n",
    "y_pred_train = clf.predict(X_train)\n",
    "print(\"TRAIN METRICS\")\n",
    "print(sklearn.metrics.classification_report(y_train, y_pred_train))\n",
    "print(\"TEST METRICS\")\n",
    "print(sklearn.metrics.classification_report(y_test, y_pred_test))"
   ]
  },
  {
   "cell_type": "markdown",
   "metadata": {},
   "source": [
    "We present the confusion matrix once data has been trained using KNN."
   ]
  },
  {
   "cell_type": "code",
   "execution_count": 39,
   "metadata": {},
   "outputs": [
    {
     "data": {
      "image/png": "[encoded data removed]",
      "text/plain": [
       "<Figure size 432x288 with 2 Axes>"
      ]
     },
     "metadata": {
      "needs_background": "light"
     },
     "output_type": "display_data"
    }
   ],
   "source": [
    "train_test_confusion_matrix(y_train, y_pred_train, y_test, y_pred_test)"
   ]
  },
  {
   "cell_type": "markdown",
   "metadata": {},
   "source": [
    "So far we have performed a KNN algorithm on our train and test set with K=10. This returns a good accuracy. Now we want to check if there are actually other Ks which would lead to better results. Added to this, we will perform a cross-validation on the entire dataset. For example, for 3-fold cross validation, the dataset would be split into 3 groups, and the model would be trained and tested 3 separate times so each group would get a chance to be the test set."
   ]
  },
  {
   "cell_type": "code",
   "execution_count": null,
   "metadata": {},
   "outputs": [],
   "source": [
    "k_range = np.arange(1, 31, 5)\n",
    "k_scores = []\n",
    "\n",
    "# use iteration to calculate accuracy on different k in models, then return the average accuracy based on the cross validation.\n",
    "for k in k_range:\n",
    "    knn = KNeighborsClassifier(n_neighbors=k)\n",
    "    scores = cross_val_score(knn, X, y, cv=3, scoring='accuracy')\n",
    "    k_scores.append(scores.mean())"
   ]
  },
  {
   "cell_type": "markdown",
   "metadata": {},
   "source": [
    "### 2. Random Forest"
   ]
  },
  {
   "cell_type": "code",
   "execution_count": null,
   "metadata": {},
   "outputs": [],
   "source": [
    "clf = sklearn.ensemble.RandomForestClassifier(n_estimators = 710, criterion=\"entropy\")\n",
    "clf.fit(X_train, y_train)\n",
    "y_pred_test = clf.predict(X_test)\n",
    "y_pred_train = clf.predict(X_train)\n",
    "print(\"TRAIN METRICS\")\n",
    "print(sklearn.metrics.classification_report(y_train, y_pred_train))\n",
    "print(\"TEST METRICS\")\n",
    "print(sklearn.metrics.classification_report(y_test, y_pred_test))"
   ]
  },
  {
   "cell_type": "code",
   "execution_count": null,
   "metadata": {},
   "outputs": [],
   "source": [
    "n_estimators=np.arange(5, 100, 5)\n",
    "\n",
    "# Dictionary containing (<n_estimators>, <error rate>) pairs.\n",
    "d = {}\n",
    "\n",
    "for x in n_estimators:\n",
    "    clf.set_params(n_estimators=x)\n",
    "    clf.fit(X_train, y_train)\n",
    "    error = 1 - clf.score(X_test, y_test)\n",
    "    d[x] = error\n",
    "\n",
    "plt.plot(d.keys(), d.values())\n",
    "plt.xlabel(\"n_estimators\")\n",
    "plt.ylabel(\"Error rate\")\n",
    "plt.legend(loc=\"upper right\")\n",
    "plt.title('Backtesting performance of number of trees')\n",
    "plt.show()"
   ]
  },
  {
   "cell_type": "markdown",
   "metadata": {},
   "source": [
    "We present the confusion matrix once data has been trained using Random Forest."
   ]
  },
  {
   "cell_type": "code",
   "execution_count": null,
   "metadata": {},
   "outputs": [],
   "source": [
    "train_test_confusion_matrix(y_train, y_pred_train, y_test, y_pred_test)"
   ]
  },
  {
   "cell_type": "code",
   "execution_count": null,
   "metadata": {},
   "outputs": [],
   "source": []
  }
 ],
 "metadata": {
  "kernelspec": {
   "display_name": "Python 3",
   "language": "python",
   "name": "python3"
  },
  "language_info": {
   "codemirror_mode": {
    "name": "ipython",
    "version": 3
   },
   "file_extension": ".py",
   "mimetype": "text/x-python",
   "name": "python",
   "nbconvert_exporter": "python",
   "pygments_lexer": "ipython3",
   "version": "3.7.1"
  }
 },
 "nbformat": 4,
 "nbformat_minor": 2
}
