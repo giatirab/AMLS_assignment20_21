{
 "cells": [
  {
   "cell_type": "markdown",
   "metadata": {},
   "source": [
    "# <font color=\"orange\">Load modules</font> "
   ]
  },
  {
   "cell_type": "code",
   "execution_count": 1,
   "metadata": {},
   "outputs": [],
   "source": [
    "import cv2\n",
    "from sklearn.ensemble import RandomForestClassifier\n",
    "from sklearn.neighbors import KNeighborsClassifier\n",
    "from sklearn.model_selection import train_test_split\n",
    "import sklearn.model_selection\n",
    "import os\n",
    "import numpy as np\n",
    "import pandas as pd\n",
    "import matplotlib.pyplot as plt\n",
    "import tensorflow as tf\n",
    "from PIL import Image\n",
    "from sklearn.cluster import KMeans\n",
    "from tensorflow.keras import datasets, layers, models\n",
    "import sys\n",
    "sys.path.append(\"/Users/macbookpro/UCL - MSc Integrated Machine Learning Systems/Y1/Applied Machine Learning I/Final Assignment/AMLS_20-21_SN17024244\")\n",
    "from _CFG_Task_B import *\n",
    "from _CLASS_ImageManager import *"
   ]
  },
  {
   "cell_type": "markdown",
   "metadata": {},
   "source": [
    "In the following lines we load the labels .csv file."
   ]
  },
  {
   "cell_type": "code",
   "execution_count": 2,
   "metadata": {},
   "outputs": [],
   "source": [
    "y = load_images_label_csv(\"face_shape\")"
   ]
  },
  {
   "cell_type": "markdown",
   "metadata": {},
   "source": [
    "The following code is to remove the test_set in case this has been moved from cartoon_set_test/img to cartoon_set/img."
   ]
  },
  {
   "cell_type": "code",
   "execution_count": 3,
   "metadata": {},
   "outputs": [],
   "source": [
    "if count_n_images(sub_folder, extension) > 10000:\n",
    "    move_images_fromfolder(sub_folder, sub_test_folder, extension)"
   ]
  },
  {
   "cell_type": "markdown",
   "metadata": {},
   "source": [
    "# <font color=\"orange\">Load and process images</font> "
   ]
  },
  {
   "cell_type": "markdown",
   "metadata": {},
   "source": [
    "We leverage on the **ImageManager** class object to load the whole set of images as well as crop them based on the body part we are interested in. The processing is based on a Haar Cascade Classifier. This is an effective object detection approach which was proposed by Paul Viola and Michael Jones back in 2001. This is basically a machine learning based approach where a cascade function is trained from a lot of images both positive and negative. Based on the training it is then used to detect the objects in the other images.\n",
    "So how this works is they are huge individual .xml files with a lot of feature sets and each .xml corresponds to a very specific type of use case. Further to this process, the **ImageManager** class operates a Canny Edge detection step in addition to cropping. By specifying the hysteresis parameters, we can optimize the final choice of the edge."
   ]
  },
  {
   "cell_type": "code",
   "execution_count": 4,
   "metadata": {},
   "outputs": [
    {
     "name": "stdout",
     "output_type": "stream",
     "text": [
      "Starting to load images from /Users/macbookpro/UCL - MSc Integrated Machine Learning Systems/Y1/Applied Machine Learning I/Final Assignment/AMLS_20-21_SN17024244/Datasets/dataset_AMLS_20-21/cartoon_set/img/ with extension .png\n",
      "835/10000 images loaded\n",
      "1538/10000 images loaded\n",
      "2256/10000 images loaded\n",
      "3024/10000 images loaded\n",
      "3743/10000 images loaded\n",
      "4719/10000 images loaded\n",
      "5698/10000 images loaded\n",
      "6590/10000 images loaded\n",
      "7263/10000 images loaded\n",
      "7897/10000 images loaded\n",
      "8535/10000 images loaded\n",
      "9261/10000 images loaded\n",
      "9924/10000 images loaded\n",
      "10000/10000 images loaded\n"
     ]
    }
   ],
   "source": [
    "imgmgr = ImageManager()\n",
    "imgmgr.load_images_from_folder(sub_folder, extension, verbose = True)\n",
    "imgmgr.bodypart = \"face\"\n",
    "imges = imgmgr.crop_part((100,100), squaring=False, x_offsets=(0,0), y_offsets = (0,0))\n",
    "imges = imgmgr.canny_images()"
   ]
  },
  {
   "cell_type": "code",
   "execution_count": 5,
   "metadata": {},
   "outputs": [
    {
     "data": {
      "text/plain": [
       "<matplotlib.image.AxesImage at 0x7f950c9dd748>"
      ]
     },
     "execution_count": 5,
     "metadata": {},
     "output_type": "execute_result"
    },
    {
     "data": {
      "image/png": "[encoded data removed]",
      "text/plain": [
       "<Figure size 432x288 with 1 Axes>"
      ]
     },
     "metadata": {
      "needs_background": "light"
     },
     "output_type": "display_data"
    }
   ],
   "source": [
    "rgb = cv2.cvtColor(imges[5], cv2.COLOR_BGR2RGB)\n",
    "plt.imshow(rgb)"
   ]
  },
  {
   "cell_type": "markdown",
   "metadata": {},
   "source": [
    "# <font color=\"orange\">Solving exercise using various machine learning approches</font> "
   ]
  },
  {
   "cell_type": "markdown",
   "metadata": {},
   "source": [
    "Once our images have been processed, we can split our dataset into train and test sets."
   ]
  },
  {
   "cell_type": "code",
   "execution_count": 6,
   "metadata": {},
   "outputs": [],
   "source": [
    "X = imgmgr.images\n",
    "X = X.reshape(X.shape[0], np.prod(X.shape[1:]))\n",
    "X_train, X_test, y_train, y_test = train_test_split(X, y)"
   ]
  },
  {
   "cell_type": "markdown",
   "metadata": {},
   "source": [
    "### 1. Random Forest"
   ]
  },
  {
   "cell_type": "markdown",
   "metadata": {},
   "source": [
    "Now we build our model using a Random Forest classifier. It is noticeable that by reducing the input vector size (from (256,256)), ie resizing the shape of processed images, the Random Forest classifier returns a higher accuracy on the training set. It is also noticeable that overfitting is present as there is almost 100% precision on the training set. Also the \"max_depth\" argument contributes significantly to our model performance. More complex trees return higher accuracy.\n",
    "\n",
    "In order to reduce overfitting, the \"max_leaf_nodes\" argument has been set to a specific number. This will prune the overall tree structure."
   ]
  },
  {
   "cell_type": "code",
   "execution_count": 7,
   "metadata": {},
   "outputs": [
    {
     "name": "stdout",
     "output_type": "stream",
     "text": [
      "TRAIN METRICS\n",
      "              precision    recall  f1-score   support\n",
      "\n",
      "           0       0.97      0.91      0.94      1500\n",
      "           1       0.97      0.89      0.93      1504\n",
      "           2       0.87      0.94      0.91      1498\n",
      "           3       0.96      0.88      0.92      1507\n",
      "           4       0.82      0.95      0.88      1491\n",
      "\n",
      "    accuracy                           0.91      7500\n",
      "   macro avg       0.92      0.91      0.91      7500\n",
      "weighted avg       0.92      0.91      0.91      7500\n",
      "\n",
      "TEST METRICS\n",
      "              precision    recall  f1-score   support\n",
      "\n",
      "           0       0.88      0.77      0.82       500\n",
      "           1       0.84      0.72      0.77       496\n",
      "           2       0.67      0.83      0.74       502\n",
      "           3       0.86      0.67      0.75       493\n",
      "           4       0.69      0.86      0.76       509\n",
      "\n",
      "    accuracy                           0.77      2500\n",
      "   macro avg       0.79      0.77      0.77      2500\n",
      "weighted avg       0.79      0.77      0.77      2500\n",
      "\n"
     ]
    }
   ],
   "source": [
    "clf = RandomForestClassifier(n_estimators = 80, \n",
    "                             max_depth = 100, \n",
    "                             criterion = \"entropy\",\n",
    "                             max_leaf_nodes = 130,\n",
    "                             max_features=\"auto\")\n",
    "clf.fit(X_train, y_train)\n",
    "y_pred_test = clf.predict(X_test)\n",
    "y_pred_train = clf.predict(X_train)\n",
    "print(\"TRAIN METRICS\")\n",
    "print(sklearn.metrics.classification_report(y_train, y_pred_train))\n",
    "print(\"TEST METRICS\")\n",
    "print(sklearn.metrics.classification_report(y_test, y_pred_test))"
   ]
  },
  {
   "cell_type": "code",
   "execution_count": 8,
   "metadata": {},
   "outputs": [
    {
     "name": "stderr",
     "output_type": "stream",
     "text": [
      "No handles with labels found to put in legend.\n"
     ]
    },
    {
     "data": {
      "image/png": "[encoded data removed]",
      "text/plain": [
       "<Figure size 432x288 with 1 Axes>"
      ]
     },
     "metadata": {
      "needs_background": "light"
     },
     "output_type": "display_data"
    }
   ],
   "source": [
    "n_estimators=np.arange(5, 100, 5)\n",
    "\n",
    "# Dictionary containing (<n_estimators>, <error rate>) pairs.\n",
    "d = {}\n",
    "\n",
    "for x in n_estimators:\n",
    "    clf.set_params(n_estimators=x)\n",
    "    clf.fit(X_train, y_train)\n",
    "    error = 1 - clf.score(X_test, y_test)\n",
    "    d[x] = error\n",
    "\n",
    "plt.plot(d.keys(), d.values())\n",
    "plt.xlabel(\"n_estimators\")\n",
    "plt.ylabel(\"Error rate\")\n",
    "plt.legend(loc=\"upper right\")\n",
    "plt.title('Backtesting performance of number of trees')\n",
    "plt.show()"
   ]
  },
  {
   "cell_type": "markdown",
   "metadata": {},
   "source": [
    "We present the confusion matrix once data has been trained using Random Forest."
   ]
  },
  {
   "cell_type": "code",
   "execution_count": 9,
   "metadata": {},
   "outputs": [
    {
     "data": {
      "image/png": "[encoded data removed]",
      "text/plain": [
       "<Figure size 432x288 with 2 Axes>"
      ]
     },
     "metadata": {
      "needs_background": "light"
     },
     "output_type": "display_data"
    }
   ],
   "source": [
    "train_test_confusion_matrix(y_train, y_pred_train, y_test, y_pred_test)"
   ]
  },
  {
   "cell_type": "code",
   "execution_count": 10,
   "metadata": {},
   "outputs": [],
   "source": [
    "param_grid = {\"n_estimators\":   [40, 60, 80],\n",
    "              \"max_leaf_nodes\": [90, 130],\n",
    "              \"max_features\":   [\"auto\", \"sqrt\", \"log2\"]}"
   ]
  },
  {
   "cell_type": "code",
   "execution_count": 11,
   "metadata": {},
   "outputs": [
    {
     "data": {
      "text/plain": [
       "GridSearchCV(cv=5,\n",
       "             estimator=RandomForestClassifier(criterion='entropy',\n",
       "                                              max_depth=100, max_leaf_nodes=130,\n",
       "                                              n_estimators=95),\n",
       "             param_grid={'max_features': ['auto', 'sqrt', 'log2'],\n",
       "                         'max_leaf_nodes': [90, 130],\n",
       "                         'n_estimators': [40, 60, 80]})"
      ]
     },
     "execution_count": 11,
     "metadata": {},
     "output_type": "execute_result"
    }
   ],
   "source": [
    "grid_clf = sklearn.model_selection.GridSearchCV(clf, param_grid, cv=5)\n",
    "grid_clf.fit(X_train, y_train)"
   ]
  },
  {
   "cell_type": "code",
   "execution_count": 12,
   "metadata": {},
   "outputs": [
    {
     "data": {
      "text/html": [
       "<div>\n",
       "<style scoped>\n",
       "    .dataframe tbody tr th:only-of-type {\n",
       "        vertical-align: middle;\n",
       "    }\n",
       "\n",
       "    .dataframe tbody tr th {\n",
       "        vertical-align: top;\n",
       "    }\n",
       "\n",
       "    .dataframe thead th {\n",
       "        text-align: right;\n",
       "    }\n",
       "</style>\n",
       "<table border=\"1\" class=\"dataframe\">\n",
       "  <thead>\n",
       "    <tr style=\"text-align: right;\">\n",
       "      <th></th>\n",
       "      <th>mean_fit_time</th>\n",
       "      <th>std_fit_time</th>\n",
       "      <th>mean_score_time</th>\n",
       "      <th>std_score_time</th>\n",
       "      <th>param_max_features</th>\n",
       "      <th>param_max_leaf_nodes</th>\n",
       "      <th>param_n_estimators</th>\n",
       "      <th>params</th>\n",
       "      <th>split0_test_score</th>\n",
       "      <th>split1_test_score</th>\n",
       "      <th>split2_test_score</th>\n",
       "      <th>split3_test_score</th>\n",
       "      <th>split4_test_score</th>\n",
       "      <th>mean_test_score</th>\n",
       "      <th>std_test_score</th>\n",
       "    </tr>\n",
       "    <tr>\n",
       "      <th>rank_test_score</th>\n",
       "      <th></th>\n",
       "      <th></th>\n",
       "      <th></th>\n",
       "      <th></th>\n",
       "      <th></th>\n",
       "      <th></th>\n",
       "      <th></th>\n",
       "      <th></th>\n",
       "      <th></th>\n",
       "      <th></th>\n",
       "      <th></th>\n",
       "      <th></th>\n",
       "      <th></th>\n",
       "      <th></th>\n",
       "      <th></th>\n",
       "    </tr>\n",
       "  </thead>\n",
       "  <tbody>\n",
       "    <tr>\n",
       "      <th>11</th>\n",
       "      <td>2.390736</td>\n",
       "      <td>0.040671</td>\n",
       "      <td>0.039351</td>\n",
       "      <td>0.004959</td>\n",
       "      <td>auto</td>\n",
       "      <td>90</td>\n",
       "      <td>40</td>\n",
       "      <td>{'max_features': 'auto', 'max_leaf_nodes': 90,...</td>\n",
       "      <td>0.700667</td>\n",
       "      <td>0.734667</td>\n",
       "      <td>0.743333</td>\n",
       "      <td>0.710667</td>\n",
       "      <td>0.718667</td>\n",
       "      <td>0.721600</td>\n",
       "      <td>0.015553</td>\n",
       "    </tr>\n",
       "    <tr>\n",
       "      <th>10</th>\n",
       "      <td>3.452643</td>\n",
       "      <td>0.022540</td>\n",
       "      <td>0.041518</td>\n",
       "      <td>0.002256</td>\n",
       "      <td>auto</td>\n",
       "      <td>90</td>\n",
       "      <td>60</td>\n",
       "      <td>{'max_features': 'auto', 'max_leaf_nodes': 90,...</td>\n",
       "      <td>0.710667</td>\n",
       "      <td>0.741333</td>\n",
       "      <td>0.741333</td>\n",
       "      <td>0.714000</td>\n",
       "      <td>0.726000</td>\n",
       "      <td>0.726667</td>\n",
       "      <td>0.013016</td>\n",
       "    </tr>\n",
       "    <tr>\n",
       "      <th>7</th>\n",
       "      <td>4.546474</td>\n",
       "      <td>0.033425</td>\n",
       "      <td>0.051229</td>\n",
       "      <td>0.002100</td>\n",
       "      <td>auto</td>\n",
       "      <td>90</td>\n",
       "      <td>80</td>\n",
       "      <td>{'max_features': 'auto', 'max_leaf_nodes': 90,...</td>\n",
       "      <td>0.720000</td>\n",
       "      <td>0.744000</td>\n",
       "      <td>0.753333</td>\n",
       "      <td>0.732667</td>\n",
       "      <td>0.747333</td>\n",
       "      <td>0.739467</td>\n",
       "      <td>0.011831</td>\n",
       "    </tr>\n",
       "    <tr>\n",
       "      <th>5</th>\n",
       "      <td>2.529569</td>\n",
       "      <td>0.038080</td>\n",
       "      <td>0.038487</td>\n",
       "      <td>0.001474</td>\n",
       "      <td>auto</td>\n",
       "      <td>130</td>\n",
       "      <td>40</td>\n",
       "      <td>{'max_features': 'auto', 'max_leaf_nodes': 130...</td>\n",
       "      <td>0.723333</td>\n",
       "      <td>0.760000</td>\n",
       "      <td>0.760000</td>\n",
       "      <td>0.731333</td>\n",
       "      <td>0.732000</td>\n",
       "      <td>0.741333</td>\n",
       "      <td>0.015543</td>\n",
       "    </tr>\n",
       "    <tr>\n",
       "      <th>3</th>\n",
       "      <td>3.716958</td>\n",
       "      <td>0.048934</td>\n",
       "      <td>0.047374</td>\n",
       "      <td>0.002316</td>\n",
       "      <td>auto</td>\n",
       "      <td>130</td>\n",
       "      <td>60</td>\n",
       "      <td>{'max_features': 'auto', 'max_leaf_nodes': 130...</td>\n",
       "      <td>0.740000</td>\n",
       "      <td>0.764667</td>\n",
       "      <td>0.772667</td>\n",
       "      <td>0.733333</td>\n",
       "      <td>0.756000</td>\n",
       "      <td>0.753333</td>\n",
       "      <td>0.014745</td>\n",
       "    </tr>\n",
       "    <tr>\n",
       "      <th>2</th>\n",
       "      <td>4.883446</td>\n",
       "      <td>0.051179</td>\n",
       "      <td>0.052681</td>\n",
       "      <td>0.002457</td>\n",
       "      <td>auto</td>\n",
       "      <td>130</td>\n",
       "      <td>80</td>\n",
       "      <td>{'max_features': 'auto', 'max_leaf_nodes': 130...</td>\n",
       "      <td>0.732667</td>\n",
       "      <td>0.758667</td>\n",
       "      <td>0.776667</td>\n",
       "      <td>0.754667</td>\n",
       "      <td>0.754667</td>\n",
       "      <td>0.755467</td>\n",
       "      <td>0.014006</td>\n",
       "    </tr>\n",
       "    <tr>\n",
       "      <th>12</th>\n",
       "      <td>2.315201</td>\n",
       "      <td>0.020439</td>\n",
       "      <td>0.035971</td>\n",
       "      <td>0.001721</td>\n",
       "      <td>sqrt</td>\n",
       "      <td>90</td>\n",
       "      <td>40</td>\n",
       "      <td>{'max_features': 'sqrt', 'max_leaf_nodes': 90,...</td>\n",
       "      <td>0.700000</td>\n",
       "      <td>0.732000</td>\n",
       "      <td>0.732667</td>\n",
       "      <td>0.716000</td>\n",
       "      <td>0.718667</td>\n",
       "      <td>0.719867</td>\n",
       "      <td>0.012018</td>\n",
       "    </tr>\n",
       "    <tr>\n",
       "      <th>9</th>\n",
       "      <td>3.379859</td>\n",
       "      <td>0.043934</td>\n",
       "      <td>0.042761</td>\n",
       "      <td>0.001439</td>\n",
       "      <td>sqrt</td>\n",
       "      <td>90</td>\n",
       "      <td>60</td>\n",
       "      <td>{'max_features': 'sqrt', 'max_leaf_nodes': 90,...</td>\n",
       "      <td>0.716667</td>\n",
       "      <td>0.751333</td>\n",
       "      <td>0.750000</td>\n",
       "      <td>0.716000</td>\n",
       "      <td>0.738667</td>\n",
       "      <td>0.734533</td>\n",
       "      <td>0.015500</td>\n",
       "    </tr>\n",
       "    <tr>\n",
       "      <th>6</th>\n",
       "      <td>4.509987</td>\n",
       "      <td>0.009546</td>\n",
       "      <td>0.051986</td>\n",
       "      <td>0.002499</td>\n",
       "      <td>sqrt</td>\n",
       "      <td>90</td>\n",
       "      <td>80</td>\n",
       "      <td>{'max_features': 'sqrt', 'max_leaf_nodes': 90,...</td>\n",
       "      <td>0.712000</td>\n",
       "      <td>0.748000</td>\n",
       "      <td>0.754667</td>\n",
       "      <td>0.731333</td>\n",
       "      <td>0.752000</td>\n",
       "      <td>0.739600</td>\n",
       "      <td>0.016009</td>\n",
       "    </tr>\n",
       "    <tr>\n",
       "      <th>8</th>\n",
       "      <td>2.605176</td>\n",
       "      <td>0.175746</td>\n",
       "      <td>0.039412</td>\n",
       "      <td>0.002266</td>\n",
       "      <td>sqrt</td>\n",
       "      <td>130</td>\n",
       "      <td>40</td>\n",
       "      <td>{'max_features': 'sqrt', 'max_leaf_nodes': 130...</td>\n",
       "      <td>0.728667</td>\n",
       "      <td>0.738667</td>\n",
       "      <td>0.747333</td>\n",
       "      <td>0.739333</td>\n",
       "      <td>0.743333</td>\n",
       "      <td>0.739467</td>\n",
       "      <td>0.006231</td>\n",
       "    </tr>\n",
       "    <tr>\n",
       "      <th>4</th>\n",
       "      <td>3.851057</td>\n",
       "      <td>0.215438</td>\n",
       "      <td>0.047256</td>\n",
       "      <td>0.002413</td>\n",
       "      <td>sqrt</td>\n",
       "      <td>130</td>\n",
       "      <td>60</td>\n",
       "      <td>{'max_features': 'sqrt', 'max_leaf_nodes': 130...</td>\n",
       "      <td>0.735333</td>\n",
       "      <td>0.777333</td>\n",
       "      <td>0.765333</td>\n",
       "      <td>0.737333</td>\n",
       "      <td>0.746667</td>\n",
       "      <td>0.752400</td>\n",
       "      <td>0.016371</td>\n",
       "    </tr>\n",
       "    <tr>\n",
       "      <th>1</th>\n",
       "      <td>4.900001</td>\n",
       "      <td>0.100218</td>\n",
       "      <td>0.052119</td>\n",
       "      <td>0.002703</td>\n",
       "      <td>sqrt</td>\n",
       "      <td>130</td>\n",
       "      <td>80</td>\n",
       "      <td>{'max_features': 'sqrt', 'max_leaf_nodes': 130...</td>\n",
       "      <td>0.734667</td>\n",
       "      <td>0.762000</td>\n",
       "      <td>0.759333</td>\n",
       "      <td>0.756667</td>\n",
       "      <td>0.775333</td>\n",
       "      <td>0.757600</td>\n",
       "      <td>0.013143</td>\n",
       "    </tr>\n",
       "    <tr>\n",
       "      <th>18</th>\n",
       "      <td>0.562031</td>\n",
       "      <td>0.015699</td>\n",
       "      <td>0.035967</td>\n",
       "      <td>0.001019</td>\n",
       "      <td>log2</td>\n",
       "      <td>90</td>\n",
       "      <td>40</td>\n",
       "      <td>{'max_features': 'log2', 'max_leaf_nodes': 90,...</td>\n",
       "      <td>0.638667</td>\n",
       "      <td>0.672000</td>\n",
       "      <td>0.665333</td>\n",
       "      <td>0.640667</td>\n",
       "      <td>0.665333</td>\n",
       "      <td>0.656400</td>\n",
       "      <td>0.013892</td>\n",
       "    </tr>\n",
       "    <tr>\n",
       "      <th>17</th>\n",
       "      <td>0.771076</td>\n",
       "      <td>0.008865</td>\n",
       "      <td>0.043800</td>\n",
       "      <td>0.001445</td>\n",
       "      <td>log2</td>\n",
       "      <td>90</td>\n",
       "      <td>60</td>\n",
       "      <td>{'max_features': 'log2', 'max_leaf_nodes': 90,...</td>\n",
       "      <td>0.659333</td>\n",
       "      <td>0.686000</td>\n",
       "      <td>0.678667</td>\n",
       "      <td>0.651333</td>\n",
       "      <td>0.664667</td>\n",
       "      <td>0.668000</td>\n",
       "      <td>0.012663</td>\n",
       "    </tr>\n",
       "    <tr>\n",
       "      <th>14</th>\n",
       "      <td>0.956168</td>\n",
       "      <td>0.025614</td>\n",
       "      <td>0.048958</td>\n",
       "      <td>0.001983</td>\n",
       "      <td>log2</td>\n",
       "      <td>90</td>\n",
       "      <td>80</td>\n",
       "      <td>{'max_features': 'log2', 'max_leaf_nodes': 90,...</td>\n",
       "      <td>0.662000</td>\n",
       "      <td>0.697333</td>\n",
       "      <td>0.680000</td>\n",
       "      <td>0.664667</td>\n",
       "      <td>0.690000</td>\n",
       "      <td>0.678800</td>\n",
       "      <td>0.013801</td>\n",
       "    </tr>\n",
       "    <tr>\n",
       "      <th>16</th>\n",
       "      <td>0.591152</td>\n",
       "      <td>0.004581</td>\n",
       "      <td>0.038253</td>\n",
       "      <td>0.002495</td>\n",
       "      <td>log2</td>\n",
       "      <td>130</td>\n",
       "      <td>40</td>\n",
       "      <td>{'max_features': 'log2', 'max_leaf_nodes': 130...</td>\n",
       "      <td>0.649333</td>\n",
       "      <td>0.692667</td>\n",
       "      <td>0.665333</td>\n",
       "      <td>0.654667</td>\n",
       "      <td>0.682000</td>\n",
       "      <td>0.668800</td>\n",
       "      <td>0.016338</td>\n",
       "    </tr>\n",
       "    <tr>\n",
       "      <th>15</th>\n",
       "      <td>0.810622</td>\n",
       "      <td>0.015175</td>\n",
       "      <td>0.045682</td>\n",
       "      <td>0.001040</td>\n",
       "      <td>log2</td>\n",
       "      <td>130</td>\n",
       "      <td>60</td>\n",
       "      <td>{'max_features': 'log2', 'max_leaf_nodes': 130...</td>\n",
       "      <td>0.652667</td>\n",
       "      <td>0.698667</td>\n",
       "      <td>0.682667</td>\n",
       "      <td>0.658000</td>\n",
       "      <td>0.671333</td>\n",
       "      <td>0.672667</td>\n",
       "      <td>0.016691</td>\n",
       "    </tr>\n",
       "    <tr>\n",
       "      <th>13</th>\n",
       "      <td>1.032313</td>\n",
       "      <td>0.014044</td>\n",
       "      <td>0.051944</td>\n",
       "      <td>0.001603</td>\n",
       "      <td>log2</td>\n",
       "      <td>130</td>\n",
       "      <td>80</td>\n",
       "      <td>{'max_features': 'log2', 'max_leaf_nodes': 130...</td>\n",
       "      <td>0.672000</td>\n",
       "      <td>0.702667</td>\n",
       "      <td>0.699333</td>\n",
       "      <td>0.671333</td>\n",
       "      <td>0.682000</td>\n",
       "      <td>0.685467</td>\n",
       "      <td>0.013276</td>\n",
       "    </tr>\n",
       "  </tbody>\n",
       "</table>\n",
       "</div>"
      ],
      "text/plain": [
       "                 mean_fit_time  std_fit_time  mean_score_time  std_score_time  \\\n",
       "rank_test_score                                                                 \n",
       "11                    2.390736      0.040671         0.039351        0.004959   \n",
       "10                    3.452643      0.022540         0.041518        0.002256   \n",
       "7                     4.546474      0.033425         0.051229        0.002100   \n",
       "5                     2.529569      0.038080         0.038487        0.001474   \n",
       "3                     3.716958      0.048934         0.047374        0.002316   \n",
       "2                     4.883446      0.051179         0.052681        0.002457   \n",
       "12                    2.315201      0.020439         0.035971        0.001721   \n",
       "9                     3.379859      0.043934         0.042761        0.001439   \n",
       "6                     4.509987      0.009546         0.051986        0.002499   \n",
       "8                     2.605176      0.175746         0.039412        0.002266   \n",
       "4                     3.851057      0.215438         0.047256        0.002413   \n",
       "1                     4.900001      0.100218         0.052119        0.002703   \n",
       "18                    0.562031      0.015699         0.035967        0.001019   \n",
       "17                    0.771076      0.008865         0.043800        0.001445   \n",
       "14                    0.956168      0.025614         0.048958        0.001983   \n",
       "16                    0.591152      0.004581         0.038253        0.002495   \n",
       "15                    0.810622      0.015175         0.045682        0.001040   \n",
       "13                    1.032313      0.014044         0.051944        0.001603   \n",
       "\n",
       "                param_max_features param_max_leaf_nodes param_n_estimators  \\\n",
       "rank_test_score                                                              \n",
       "11                            auto                   90                 40   \n",
       "10                            auto                   90                 60   \n",
       "7                             auto                   90                 80   \n",
       "5                             auto                  130                 40   \n",
       "3                             auto                  130                 60   \n",
       "2                             auto                  130                 80   \n",
       "12                            sqrt                   90                 40   \n",
       "9                             sqrt                   90                 60   \n",
       "6                             sqrt                   90                 80   \n",
       "8                             sqrt                  130                 40   \n",
       "4                             sqrt                  130                 60   \n",
       "1                             sqrt                  130                 80   \n",
       "18                            log2                   90                 40   \n",
       "17                            log2                   90                 60   \n",
       "14                            log2                   90                 80   \n",
       "16                            log2                  130                 40   \n",
       "15                            log2                  130                 60   \n",
       "13                            log2                  130                 80   \n",
       "\n",
       "                                                            params  \\\n",
       "rank_test_score                                                      \n",
       "11               {'max_features': 'auto', 'max_leaf_nodes': 90,...   \n",
       "10               {'max_features': 'auto', 'max_leaf_nodes': 90,...   \n",
       "7                {'max_features': 'auto', 'max_leaf_nodes': 90,...   \n",
       "5                {'max_features': 'auto', 'max_leaf_nodes': 130...   \n",
       "3                {'max_features': 'auto', 'max_leaf_nodes': 130...   \n",
       "2                {'max_features': 'auto', 'max_leaf_nodes': 130...   \n",
       "12               {'max_features': 'sqrt', 'max_leaf_nodes': 90,...   \n",
       "9                {'max_features': 'sqrt', 'max_leaf_nodes': 90,...   \n",
       "6                {'max_features': 'sqrt', 'max_leaf_nodes': 90,...   \n",
       "8                {'max_features': 'sqrt', 'max_leaf_nodes': 130...   \n",
       "4                {'max_features': 'sqrt', 'max_leaf_nodes': 130...   \n",
       "1                {'max_features': 'sqrt', 'max_leaf_nodes': 130...   \n",
       "18               {'max_features': 'log2', 'max_leaf_nodes': 90,...   \n",
       "17               {'max_features': 'log2', 'max_leaf_nodes': 90,...   \n",
       "14               {'max_features': 'log2', 'max_leaf_nodes': 90,...   \n",
       "16               {'max_features': 'log2', 'max_leaf_nodes': 130...   \n",
       "15               {'max_features': 'log2', 'max_leaf_nodes': 130...   \n",
       "13               {'max_features': 'log2', 'max_leaf_nodes': 130...   \n",
       "\n",
       "                 split0_test_score  split1_test_score  split2_test_score  \\\n",
       "rank_test_score                                                            \n",
       "11                        0.700667           0.734667           0.743333   \n",
       "10                        0.710667           0.741333           0.741333   \n",
       "7                         0.720000           0.744000           0.753333   \n",
       "5                         0.723333           0.760000           0.760000   \n",
       "3                         0.740000           0.764667           0.772667   \n",
       "2                         0.732667           0.758667           0.776667   \n",
       "12                        0.700000           0.732000           0.732667   \n",
       "9                         0.716667           0.751333           0.750000   \n",
       "6                         0.712000           0.748000           0.754667   \n",
       "8                         0.728667           0.738667           0.747333   \n",
       "4                         0.735333           0.777333           0.765333   \n",
       "1                         0.734667           0.762000           0.759333   \n",
       "18                        0.638667           0.672000           0.665333   \n",
       "17                        0.659333           0.686000           0.678667   \n",
       "14                        0.662000           0.697333           0.680000   \n",
       "16                        0.649333           0.692667           0.665333   \n",
       "15                        0.652667           0.698667           0.682667   \n",
       "13                        0.672000           0.702667           0.699333   \n",
       "\n",
       "                 split3_test_score  split4_test_score  mean_test_score  \\\n",
       "rank_test_score                                                          \n",
       "11                        0.710667           0.718667         0.721600   \n",
       "10                        0.714000           0.726000         0.726667   \n",
       "7                         0.732667           0.747333         0.739467   \n",
       "5                         0.731333           0.732000         0.741333   \n",
       "3                         0.733333           0.756000         0.753333   \n",
       "2                         0.754667           0.754667         0.755467   \n",
       "12                        0.716000           0.718667         0.719867   \n",
       "9                         0.716000           0.738667         0.734533   \n",
       "6                         0.731333           0.752000         0.739600   \n",
       "8                         0.739333           0.743333         0.739467   \n",
       "4                         0.737333           0.746667         0.752400   \n",
       "1                         0.756667           0.775333         0.757600   \n",
       "18                        0.640667           0.665333         0.656400   \n",
       "17                        0.651333           0.664667         0.668000   \n",
       "14                        0.664667           0.690000         0.678800   \n",
       "16                        0.654667           0.682000         0.668800   \n",
       "15                        0.658000           0.671333         0.672667   \n",
       "13                        0.671333           0.682000         0.685467   \n",
       "\n",
       "                 std_test_score  \n",
       "rank_test_score                  \n",
       "11                     0.015553  \n",
       "10                     0.013016  \n",
       "7                      0.011831  \n",
       "5                      0.015543  \n",
       "3                      0.014745  \n",
       "2                      0.014006  \n",
       "12                     0.012018  \n",
       "9                      0.015500  \n",
       "6                      0.016009  \n",
       "8                      0.006231  \n",
       "4                      0.016371  \n",
       "1                      0.013143  \n",
       "18                     0.013892  \n",
       "17                     0.012663  \n",
       "14                     0.013801  \n",
       "16                     0.016338  \n",
       "15                     0.016691  \n",
       "13                     0.013276  "
      ]
     },
     "execution_count": 12,
     "metadata": {},
     "output_type": "execute_result"
    }
   ],
   "source": [
    "results_table = pd.DataFrame.from_dict(grid_clf.cv_results_).set_index(\"rank_test_score\")\n",
    "results_table"
   ]
  },
  {
   "cell_type": "markdown",
   "metadata": {},
   "source": [
    "### 2. Convolutional Neural Network"
   ]
  },
  {
   "cell_type": "code",
   "execution_count": 13,
   "metadata": {},
   "outputs": [
    {
     "name": "stdout",
     "output_type": "stream",
     "text": [
      "uint8 0 255 (10000, 100, 100, 1)\n",
      "int64 0 4 (10000,)\n"
     ]
    }
   ],
   "source": [
    "X = X.reshape(10000,100,100,1)\n",
    "X_train, X_test, Y_train, Y_test = train_test_split(X, y)"
   ]
  },
  {
   "cell_type": "code",
   "execution_count": 14,
   "metadata": {},
   "outputs": [
    {
     "name": "stdout",
     "output_type": "stream",
     "text": [
      "Epoch 1/10\n",
      "235/235 [==============================] - 36s 153ms/step - loss: 12.2426 - accuracy: 0.2613 - val_loss: 1.4802 - val_accuracy: 0.3876\n",
      "Epoch 2/10\n",
      "235/235 [==============================] - 38s 163ms/step - loss: 1.6293 - accuracy: 0.3956 - val_loss: 1.1530 - val_accuracy: 0.5732\n",
      "Epoch 3/10\n",
      "235/235 [==============================] - 38s 160ms/step - loss: 1.3015 - accuracy: 0.5089 - val_loss: 0.8884 - val_accuracy: 0.6848\n",
      "Epoch 4/10\n",
      "235/235 [==============================] - 38s 162ms/step - loss: 1.0901 - accuracy: 0.5937 - val_loss: 0.7869 - val_accuracy: 0.7400\n",
      "Epoch 5/10\n",
      "235/235 [==============================] - 38s 162ms/step - loss: 0.9249 - accuracy: 0.6603 - val_loss: 0.6556 - val_accuracy: 0.7788\n",
      "Epoch 6/10\n",
      "235/235 [==============================] - 38s 161ms/step - loss: 0.8288 - accuracy: 0.6972 - val_loss: 0.5787 - val_accuracy: 0.8064\n",
      "Epoch 7/10\n",
      "235/235 [==============================] - 38s 162ms/step - loss: 0.7477 - accuracy: 0.7359 - val_loss: 0.5169 - val_accuracy: 0.8192\n",
      "Epoch 8/10\n",
      "235/235 [==============================] - 38s 163ms/step - loss: 0.6679 - accuracy: 0.7567 - val_loss: 0.4838 - val_accuracy: 0.8240\n",
      "Epoch 9/10\n",
      "235/235 [==============================] - 38s 163ms/step - loss: 0.6114 - accuracy: 0.7779 - val_loss: 0.4346 - val_accuracy: 0.8540\n",
      "Epoch 10/10\n",
      "235/235 [==============================] - 39s 167ms/step - loss: 0.5774 - accuracy: 0.7995 - val_loss: 0.4345 - val_accuracy: 0.8480\n"
     ]
    }
   ],
   "source": [
    "nb_filters = 16 # for convolutional layer\n",
    "nb_pool = 8 # for MaxPool layer\n",
    "nb_conv = 3 # for convolutional layer\n",
    "nb_classes = 5 # for dense layer, multiclassification problem\n",
    "activation = layers.LeakyReLU(alpha=0.3)\n",
    "\n",
    "model = models.Sequential()\n",
    "\n",
    "model.add(layers.Conv2D(nb_filters, (nb_conv, nb_conv), activation=activation, input_shape=X.shape[1:]))\n",
    "model.add(layers.Conv2D(nb_filters, (nb_conv, nb_conv), activation=activation))\n",
    "model.add(layers.MaxPooling2D(pool_size=(nb_pool, nb_pool)))\n",
    "model.add(layers.Dropout(0.25))\n",
    "model.add(layers.Flatten())\n",
    "model.add(layers.Dense(64, activation=activation))\n",
    "model.add(layers.Dropout(0.5))\n",
    "model.add(layers.Dense(5))\n",
    "\n",
    "model.compile(optimizer='adam',\n",
    "              loss=tf.keras.losses.SparseCategoricalCrossentropy(from_logits=True),\n",
    "              metrics=['accuracy'])\n",
    "\n",
    "history = model.fit(X_train, Y_train, epochs=10, \n",
    "                    validation_data=(X_test, Y_test))"
   ]
  },
  {
   "cell_type": "code",
   "execution_count": 15,
   "metadata": {},
   "outputs": [
    {
     "name": "stdout",
     "output_type": "stream",
     "text": [
      "TRAIN METRICS\n",
      "              precision    recall  f1-score   support\n",
      "\n",
      "           0       0.98      0.92      0.95      1482\n",
      "           1       0.93      0.87      0.90      1513\n",
      "           2       0.87      0.95      0.91      1510\n",
      "           3       0.87      0.89      0.88      1478\n",
      "           4       0.95      0.96      0.96      1517\n",
      "\n",
      "    accuracy                           0.92      7500\n",
      "   macro avg       0.92      0.92      0.92      7500\n",
      "weighted avg       0.92      0.92      0.92      7500\n",
      "\n",
      "TEST METRICS\n",
      "              precision    recall  f1-score   support\n",
      "\n",
      "           0       0.94      0.81      0.87       518\n",
      "           1       0.87      0.79      0.83       487\n",
      "           2       0.79      0.90      0.84       490\n",
      "           3       0.77      0.83      0.80       522\n",
      "           4       0.90      0.92      0.91       483\n",
      "\n",
      "    accuracy                           0.85      2500\n",
      "   macro avg       0.85      0.85      0.85      2500\n",
      "weighted avg       0.85      0.85      0.85      2500\n",
      "\n"
     ]
    }
   ],
   "source": [
    "Y_pred_test = np.argmax(model.predict(X_test), axis=1)\n",
    "Y_pred_train = np.argmax(model.predict(X_train), axis=1)\n",
    "print(\"TRAIN METRICS\")\n",
    "print(sklearn.metrics.classification_report(Y_train, Y_pred_train))\n",
    "print(\"TEST METRICS\")\n",
    "print(sklearn.metrics.classification_report(Y_test, Y_pred_test))"
   ]
  },
  {
   "cell_type": "code",
   "execution_count": 16,
   "metadata": {},
   "outputs": [
    {
     "data": {
      "image/png": "[encoded data removed]",
      "text/plain": [
       "<Figure size 432x288 with 1 Axes>"
      ]
     },
     "metadata": {
      "needs_background": "light"
     },
     "output_type": "display_data"
    },
    {
     "data": {
      "image/png": "[encoded data removed]",
      "text/plain": [
       "<Figure size 432x288 with 1 Axes>"
      ]
     },
     "metadata": {
      "needs_background": "light"
     },
     "output_type": "display_data"
    }
   ],
   "source": [
    "accuracy = history.history['accuracy']\n",
    "val_accuracy = history.history['val_accuracy']\n",
    "loss = history.history['loss']\n",
    "val_loss = history.history['val_loss']\n",
    "epochs = range(len(accuracy))\n",
    "plt.plot(epochs, accuracy, 'bo', label='Training set accuracy')\n",
    "plt.plot(epochs, val_accuracy, 'b', label='Validation set accuracy')\n",
    "plt.xlabel(\"Number of Epochs\")\n",
    "plt.ylabel(\"Score\")\n",
    "plt.title('Training and Validation sets accuracy')\n",
    "plt.show()"
   ]
  },
  {
   "cell_type": "code",
   "execution_count": 1,
   "metadata": {},
   "outputs": [
    {
     "ename": "NameError",
     "evalue": "name 'plt' is not defined",
     "output_type": "error",
     "traceback": [
      "\u001b[0;31m---------------------------------------------------------------------------\u001b[0m",
      "\u001b[0;31mNameError\u001b[0m                                 Traceback (most recent call last)",
      "\u001b[0;32m<ipython-input-1-416cddc7342a>\u001b[0m in \u001b[0;36m<module>\u001b[0;34m\u001b[0m\n\u001b[0;32m----> 1\u001b[0;31m \u001b[0mplt\u001b[0m\u001b[0;34m.\u001b[0m\u001b[0mlegend\u001b[0m\u001b[0;34m(\u001b[0m\u001b[0;34m)\u001b[0m\u001b[0;34m\u001b[0m\u001b[0;34m\u001b[0m\u001b[0m\n\u001b[0m\u001b[1;32m      2\u001b[0m \u001b[0mplt\u001b[0m\u001b[0;34m.\u001b[0m\u001b[0mfigure\u001b[0m\u001b[0;34m(\u001b[0m\u001b[0;34m)\u001b[0m\u001b[0;34m\u001b[0m\u001b[0;34m\u001b[0m\u001b[0m\n\u001b[1;32m      3\u001b[0m \u001b[0mplt\u001b[0m\u001b[0;34m.\u001b[0m\u001b[0mplot\u001b[0m\u001b[0;34m(\u001b[0m\u001b[0mepochs\u001b[0m\u001b[0;34m,\u001b[0m \u001b[0mloss\u001b[0m\u001b[0;34m,\u001b[0m \u001b[0;34m'bo'\u001b[0m\u001b[0;34m,\u001b[0m \u001b[0mlabel\u001b[0m\u001b[0;34m=\u001b[0m\u001b[0;34m'Train set loss'\u001b[0m\u001b[0;34m)\u001b[0m\u001b[0;34m\u001b[0m\u001b[0;34m\u001b[0m\u001b[0m\n\u001b[1;32m      4\u001b[0m \u001b[0mplt\u001b[0m\u001b[0;34m.\u001b[0m\u001b[0mplot\u001b[0m\u001b[0;34m(\u001b[0m\u001b[0mepochs\u001b[0m\u001b[0;34m,\u001b[0m \u001b[0mval_loss\u001b[0m\u001b[0;34m,\u001b[0m \u001b[0;34m'b'\u001b[0m\u001b[0;34m,\u001b[0m \u001b[0mlabel\u001b[0m\u001b[0;34m=\u001b[0m\u001b[0;34m'Validation set loss'\u001b[0m\u001b[0;34m)\u001b[0m\u001b[0;34m\u001b[0m\u001b[0;34m\u001b[0m\u001b[0m\n\u001b[1;32m      5\u001b[0m \u001b[0mplt\u001b[0m\u001b[0;34m.\u001b[0m\u001b[0mxlabel\u001b[0m\u001b[0;34m(\u001b[0m\u001b[0;34m\"Number of Epochs\"\u001b[0m\u001b[0;34m)\u001b[0m\u001b[0;34m\u001b[0m\u001b[0;34m\u001b[0m\u001b[0m\n",
      "\u001b[0;31mNameError\u001b[0m: name 'plt' is not defined"
     ]
    }
   ],
   "source": [
    "plt.legend()\n",
    "plt.figure()\n",
    "plt.plot(epochs, loss, 'bo', label='Train set loss')\n",
    "plt.plot(epochs, val_loss, 'b', label='Validation set loss')\n",
    "plt.xlabel(\"Number of Epochs\")\n",
    "plt.ylabel(\"Loss\")\n",
    "plt.title('Training and Validation sets loss')\n",
    "plt.legend()\n",
    "plt.show()"
   ]
  },
  {
   "cell_type": "code",
   "execution_count": null,
   "metadata": {},
   "outputs": [],
   "source": []
  }
 ],
 "metadata": {
  "kernelspec": {
   "display_name": "Python 3",
   "language": "python",
   "name": "python3"
  },
  "language_info": {
   "codemirror_mode": {
    "name": "ipython",
    "version": 3
   },
   "file_extension": ".py",
   "mimetype": "text/x-python",
   "name": "python",
   "nbconvert_exporter": "python",
   "pygments_lexer": "ipython3",
   "version": "3.7.1"
  }
 },
 "nbformat": 4,
 "nbformat_minor": 2
}
