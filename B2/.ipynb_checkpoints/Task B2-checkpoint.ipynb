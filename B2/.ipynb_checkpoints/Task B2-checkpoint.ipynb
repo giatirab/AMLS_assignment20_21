{
 "cells": [
  {
   "cell_type": "markdown",
   "metadata": {},
   "source": [
    "# <font color=\"orange\">Load modules</font> "
   ]
  },
  {
   "cell_type": "code",
   "execution_count": 1,
   "metadata": {},
   "outputs": [],
   "source": [
    "import cv2\n",
    "from sklearn.ensemble import RandomForestClassifier\n",
    "from sklearn.neighbors import KNeighborsClassifier\n",
    "from sklearn.model_selection import train_test_split\n",
    "import sklearn.model_selection\n",
    "import os\n",
    "import numpy as np\n",
    "import pandas as pd\n",
    "import matplotlib.pyplot as plt\n",
    "import tensorflow as tf\n",
    "from PIL import Image\n",
    "from sklearn.cluster import KMeans\n",
    "from tensorflow.keras import datasets, layers, models\n",
    "import sys\n",
    "sys.path.append(\"/Users/macbookpro/UCL - MSc Integrated Machine Learning Systems/Y1/Applied Machine Learning I/Final Assignment/AMLS_20-21_SN17024244\")\n",
    "from _CFG_Task_B import *\n",
    "from _CLASS_ImageManager import *"
   ]
  },
  {
   "cell_type": "markdown",
   "metadata": {},
   "source": [
    "In the following lines we load the labels .csv file."
   ]
  },
  {
   "cell_type": "code",
   "execution_count": 2,
   "metadata": {},
   "outputs": [],
   "source": [
    "y = load_images_label_csv(\"face_shape\")"
   ]
  },
  {
   "cell_type": "markdown",
   "metadata": {},
   "source": [
    "The following code is to remove the test_set in case this has been moved from cartoon_set_test/img to cartoon_set/img."
   ]
  },
  {
   "cell_type": "code",
   "execution_count": 3,
   "metadata": {},
   "outputs": [],
   "source": [
    "if count_n_images(sub_folder, extension) > 10000:\n",
    "    move_images_fromfolder(sub_folder, sub_test_folder, extension)"
   ]
  },
  {
   "cell_type": "markdown",
   "metadata": {},
   "source": [
    "# <font color=\"orange\">Load and process images</font> "
   ]
  },
  {
   "cell_type": "markdown",
   "metadata": {},
   "source": [
    "We leverage on the **ImageManager** class object to load the whole set of images as well as crop them based on the body part we are interested in. The processing is based on a Haar Cascade Classifier. This is an effective object detection approach which was proposed by Paul Viola and Michael Jones back in 2001. This is basically a machine learning based approach where a cascade function is trained from a lot of images both positive and negative. Based on the training it is then used to detect the objects in the other images.\n",
    "So how this works is they are huge individual .xml files with a lot of feature sets and each .xml corresponds to a very specific type of use case. Further to this process, the **ImageManager** class operates a Canny Edge detection step in addition to cropping. By specifying the hysteresis parameters, we can optimize the final choice of the edge."
   ]
  },
  {
   "cell_type": "code",
   "execution_count": 4,
   "metadata": {},
   "outputs": [
    {
     "name": "stdout",
     "output_type": "stream",
     "text": [
      "Starting to load images from /Users/macbookpro/UCL - MSc Integrated Machine Learning Systems/Y1/Applied Machine Learning I/Final Assignment/AMLS_20-21_SN17024244/Datasets/cartoon_set/img/ with extension .png\n",
      "774/10000 images loaded\n",
      "1617/10000 images loaded\n",
      "2648/10000 images loaded\n",
      "3381/10000 images loaded\n",
      "4300/10000 images loaded\n",
      "5067/10000 images loaded\n",
      "5771/10000 images loaded\n",
      "6509/10000 images loaded\n",
      "7163/10000 images loaded\n",
      "7808/10000 images loaded\n",
      "8504/10000 images loaded\n",
      "9238/10000 images loaded\n",
      "9934/10000 images loaded\n",
      "10000/10000 images loaded\n"
     ]
    }
   ],
   "source": [
    "imgmgr = ImageManager()\n",
    "imgmgr.load_images_from_folder(sub_folder, extension, verbose = True)\n",
    "imgmgr.bodypart = \"face\"\n",
    "imges = imgmgr.crop_part((100,100), squaring=False, x_offsets=(0,0), y_offsets = (0,0))\n",
    "imges = imgmgr.canny_images()"
   ]
  },
  {
   "cell_type": "code",
   "execution_count": 5,
   "metadata": {},
   "outputs": [
    {
     "data": {
      "text/plain": [
       "<matplotlib.image.AxesImage at 0x7fc5fb122780>"
      ]
     },
     "execution_count": 5,
     "metadata": {},
     "output_type": "execute_result"
    },
    {
     "data": {
      "image/png": "[encoded data removed]",
      "text/plain": [
       "<Figure size 432x288 with 1 Axes>"
      ]
     },
     "metadata": {
      "needs_background": "light"
     },
     "output_type": "display_data"
    }
   ],
   "source": [
    "rgb = cv2.cvtColor(imges[5], cv2.COLOR_BGR2RGB)\n",
    "plt.imshow(rgb)"
   ]
  },
  {
   "cell_type": "markdown",
   "metadata": {},
   "source": [
    "# <font color=\"orange\">Solving exercise using various machine learning approches</font> "
   ]
  },
  {
   "cell_type": "markdown",
   "metadata": {},
   "source": [
    "Once our images have been processed, we can split our dataset into train and test sets."
   ]
  },
  {
   "cell_type": "code",
   "execution_count": 6,
   "metadata": {},
   "outputs": [],
   "source": [
    "X = imgmgr.images\n",
    "X = X.reshape(X.shape[0], np.prod(X.shape[1:]))\n",
    "X_train, X_test, y_train, y_test = train_test_split(X, y)"
   ]
  },
  {
   "cell_type": "markdown",
   "metadata": {},
   "source": [
    "### 1. Random Forest"
   ]
  },
  {
   "cell_type": "markdown",
   "metadata": {},
   "source": [
    "Now we build our model using a Random Forest classifier. It is noticeable that by reducing the input vector size (from (256,256)), ie resizing the shape of processed images, the Random Forest classifier returns a higher accuracy on the training set. It is also noticeable that overfitting is present as there is almost 100% precision on the training set. Also the \"max_depth\" argument contributes significantly to our model performance. More complex trees return higher accuracy.\n",
    "\n",
    "In order to reduce overfitting, the \"max_leaf_nodes\" argument has been set to a specific number. This will prune the overall tree structure."
   ]
  },
  {
   "cell_type": "code",
   "execution_count": 7,
   "metadata": {},
   "outputs": [
    {
     "name": "stdout",
     "output_type": "stream",
     "text": [
      "TRAIN METRICS\n",
      "              precision    recall  f1-score   support\n",
      "\n",
      "           0       0.98      0.90      0.94      1491\n",
      "           1       0.97      0.89      0.93      1484\n",
      "           2       0.89      0.94      0.92      1500\n",
      "           3       0.95      0.88      0.91      1503\n",
      "           4       0.83      0.96      0.89      1522\n",
      "\n",
      "    accuracy                           0.92      7500\n",
      "   macro avg       0.92      0.92      0.92      7500\n",
      "weighted avg       0.92      0.92      0.92      7500\n",
      "\n",
      "TEST METRICS\n",
      "              precision    recall  f1-score   support\n",
      "\n",
      "           0       0.92      0.78      0.84       509\n",
      "           1       0.82      0.70      0.75       516\n",
      "           2       0.68      0.82      0.74       500\n",
      "           3       0.81      0.68      0.74       497\n",
      "           4       0.68      0.87      0.76       478\n",
      "\n",
      "    accuracy                           0.77      2500\n",
      "   macro avg       0.78      0.77      0.77      2500\n",
      "weighted avg       0.78      0.77      0.77      2500\n",
      "\n"
     ]
    }
   ],
   "source": [
    "clf = RandomForestClassifier(n_estimators = 80, \n",
    "                             max_depth = 100, \n",
    "                             criterion = \"entropy\",\n",
    "                             max_leaf_nodes = 130,\n",
    "                             max_features=\"auto\")\n",
    "clf.fit(X_train, y_train)\n",
    "y_pred_test = clf.predict(X_test)\n",
    "y_pred_train = clf.predict(X_train)\n",
    "print(\"TRAIN METRICS\")\n",
    "print(sklearn.metrics.classification_report(y_train, y_pred_train))\n",
    "print(\"TEST METRICS\")\n",
    "print(sklearn.metrics.classification_report(y_test, y_pred_test))"
   ]
  },
  {
   "cell_type": "code",
   "execution_count": 8,
   "metadata": {},
   "outputs": [
    {
     "name": "stderr",
     "output_type": "stream",
     "text": [
      "No handles with labels found to put in legend.\n"
     ]
    },
    {
     "data": {
      "image/png": "[encoded data removed]",
      "text/plain": [
       "<Figure size 432x288 with 1 Axes>"
      ]
     },
     "metadata": {
      "needs_background": "light"
     },
     "output_type": "display_data"
    }
   ],
   "source": [
    "n_estimators=np.arange(5, 100, 5)\n",
    "\n",
    "# Dictionary containing (<n_estimators>, <error rate>) pairs.\n",
    "d = {}\n",
    "\n",
    "for x in n_estimators:\n",
    "    clf.set_params(n_estimators=x)\n",
    "    clf.fit(X_train, y_train)\n",
    "    error = 1 - clf.score(X_test, y_test)\n",
    "    d[x] = error\n",
    "\n",
    "plt.plot(d.keys(), d.values())\n",
    "plt.xlabel(\"n_estimators\")\n",
    "plt.ylabel(\"Error rate\")\n",
    "plt.legend(loc=\"upper right\")\n",
    "plt.title('Backtesting performance of number of trees')\n",
    "plt.show()"
   ]
  },
  {
   "cell_type": "markdown",
   "metadata": {},
   "source": [
    "We present the confusion matrix once data has been trained using Random Forest."
   ]
  },
  {
   "cell_type": "code",
   "execution_count": 9,
   "metadata": {},
   "outputs": [
    {
     "data": {
      "image/png": "[encoded data removed]",
      "text/plain": [
       "<Figure size 432x288 with 2 Axes>"
      ]
     },
     "metadata": {
      "needs_background": "light"
     },
     "output_type": "display_data"
    }
   ],
   "source": [
    "train_test_confusion_matrix(y_train, y_pred_train, y_test, y_pred_test)"
   ]
  },
  {
   "cell_type": "code",
   "execution_count": 10,
   "metadata": {},
   "outputs": [],
   "source": [
    "param_grid = {\"n_estimators\":   [40, 60, 80],\n",
    "              \"max_leaf_nodes\": [90, 130],\n",
    "              \"max_features\":   [\"auto\", \"sqrt\", \"log2\"]}"
   ]
  },
  {
   "cell_type": "code",
   "execution_count": 11,
   "metadata": {},
   "outputs": [
    {
     "data": {
      "text/plain": [
       "GridSearchCV(cv=5,\n",
       "             estimator=RandomForestClassifier(criterion='entropy',\n",
       "                                              max_depth=100, max_leaf_nodes=130,\n",
       "                                              n_estimators=95),\n",
       "             param_grid={'max_features': ['auto', 'sqrt', 'log2'],\n",
       "                         'max_leaf_nodes': [90, 130],\n",
       "                         'n_estimators': [40, 60, 80]})"
      ]
     },
     "execution_count": 11,
     "metadata": {},
     "output_type": "execute_result"
    }
   ],
   "source": [
    "grid_clf = sklearn.model_selection.GridSearchCV(clf, param_grid, cv=5)\n",
    "grid_clf.fit(X_train, y_train)"
   ]
  },
  {
   "cell_type": "code",
   "execution_count": 12,
   "metadata": {},
   "outputs": [
    {
     "data": {
      "text/html": [
       "<div>\n",
       "<style scoped>\n",
       "    .dataframe tbody tr th:only-of-type {\n",
       "        vertical-align: middle;\n",
       "    }\n",
       "\n",
       "    .dataframe tbody tr th {\n",
       "        vertical-align: top;\n",
       "    }\n",
       "\n",
       "    .dataframe thead th {\n",
       "        text-align: right;\n",
       "    }\n",
       "</style>\n",
       "<table border=\"1\" class=\"dataframe\">\n",
       "  <thead>\n",
       "    <tr style=\"text-align: right;\">\n",
       "      <th></th>\n",
       "      <th>mean_fit_time</th>\n",
       "      <th>std_fit_time</th>\n",
       "      <th>mean_score_time</th>\n",
       "      <th>std_score_time</th>\n",
       "      <th>param_max_features</th>\n",
       "      <th>param_max_leaf_nodes</th>\n",
       "      <th>param_n_estimators</th>\n",
       "      <th>params</th>\n",
       "      <th>split0_test_score</th>\n",
       "      <th>split1_test_score</th>\n",
       "      <th>split2_test_score</th>\n",
       "      <th>split3_test_score</th>\n",
       "      <th>split4_test_score</th>\n",
       "      <th>mean_test_score</th>\n",
       "      <th>std_test_score</th>\n",
       "    </tr>\n",
       "    <tr>\n",
       "      <th>rank_test_score</th>\n",
       "      <th></th>\n",
       "      <th></th>\n",
       "      <th></th>\n",
       "      <th></th>\n",
       "      <th></th>\n",
       "      <th></th>\n",
       "      <th></th>\n",
       "      <th></th>\n",
       "      <th></th>\n",
       "      <th></th>\n",
       "      <th></th>\n",
       "      <th></th>\n",
       "      <th></th>\n",
       "      <th></th>\n",
       "      <th></th>\n",
       "    </tr>\n",
       "  </thead>\n",
       "  <tbody>\n",
       "    <tr>\n",
       "      <th>12</th>\n",
       "      <td>2.543408</td>\n",
       "      <td>0.065434</td>\n",
       "      <td>0.042109</td>\n",
       "      <td>0.006834</td>\n",
       "      <td>auto</td>\n",
       "      <td>90</td>\n",
       "      <td>40</td>\n",
       "      <td>{'max_features': 'auto', 'max_leaf_nodes': 90,...</td>\n",
       "      <td>0.746000</td>\n",
       "      <td>0.725333</td>\n",
       "      <td>0.705333</td>\n",
       "      <td>0.723333</td>\n",
       "      <td>0.742667</td>\n",
       "      <td>0.728533</td>\n",
       "      <td>0.014699</td>\n",
       "    </tr>\n",
       "    <tr>\n",
       "      <th>9</th>\n",
       "      <td>3.795840</td>\n",
       "      <td>0.151148</td>\n",
       "      <td>0.046643</td>\n",
       "      <td>0.002371</td>\n",
       "      <td>auto</td>\n",
       "      <td>90</td>\n",
       "      <td>60</td>\n",
       "      <td>{'max_features': 'auto', 'max_leaf_nodes': 90,...</td>\n",
       "      <td>0.732000</td>\n",
       "      <td>0.752667</td>\n",
       "      <td>0.710667</td>\n",
       "      <td>0.726667</td>\n",
       "      <td>0.747333</td>\n",
       "      <td>0.733867</td>\n",
       "      <td>0.015022</td>\n",
       "    </tr>\n",
       "    <tr>\n",
       "      <th>5</th>\n",
       "      <td>5.128712</td>\n",
       "      <td>0.225170</td>\n",
       "      <td>0.062619</td>\n",
       "      <td>0.011429</td>\n",
       "      <td>auto</td>\n",
       "      <td>90</td>\n",
       "      <td>80</td>\n",
       "      <td>{'max_features': 'auto', 'max_leaf_nodes': 90,...</td>\n",
       "      <td>0.752000</td>\n",
       "      <td>0.752667</td>\n",
       "      <td>0.720667</td>\n",
       "      <td>0.748000</td>\n",
       "      <td>0.763333</td>\n",
       "      <td>0.747333</td>\n",
       "      <td>0.014267</td>\n",
       "    </tr>\n",
       "    <tr>\n",
       "      <th>7</th>\n",
       "      <td>2.715402</td>\n",
       "      <td>0.074978</td>\n",
       "      <td>0.038476</td>\n",
       "      <td>0.004436</td>\n",
       "      <td>auto</td>\n",
       "      <td>130</td>\n",
       "      <td>40</td>\n",
       "      <td>{'max_features': 'auto', 'max_leaf_nodes': 130...</td>\n",
       "      <td>0.754000</td>\n",
       "      <td>0.737333</td>\n",
       "      <td>0.718667</td>\n",
       "      <td>0.728667</td>\n",
       "      <td>0.761333</td>\n",
       "      <td>0.740000</td>\n",
       "      <td>0.015759</td>\n",
       "    </tr>\n",
       "    <tr>\n",
       "      <th>3</th>\n",
       "      <td>4.483876</td>\n",
       "      <td>0.234780</td>\n",
       "      <td>0.059209</td>\n",
       "      <td>0.011018</td>\n",
       "      <td>auto</td>\n",
       "      <td>130</td>\n",
       "      <td>60</td>\n",
       "      <td>{'max_features': 'auto', 'max_leaf_nodes': 130...</td>\n",
       "      <td>0.768000</td>\n",
       "      <td>0.770000</td>\n",
       "      <td>0.734000</td>\n",
       "      <td>0.756000</td>\n",
       "      <td>0.761333</td>\n",
       "      <td>0.757867</td>\n",
       "      <td>0.012923</td>\n",
       "    </tr>\n",
       "    <tr>\n",
       "      <th>1</th>\n",
       "      <td>5.735185</td>\n",
       "      <td>0.589765</td>\n",
       "      <td>0.070708</td>\n",
       "      <td>0.022102</td>\n",
       "      <td>auto</td>\n",
       "      <td>130</td>\n",
       "      <td>80</td>\n",
       "      <td>{'max_features': 'auto', 'max_leaf_nodes': 130...</td>\n",
       "      <td>0.769333</td>\n",
       "      <td>0.766667</td>\n",
       "      <td>0.739333</td>\n",
       "      <td>0.755333</td>\n",
       "      <td>0.766667</td>\n",
       "      <td>0.759467</td>\n",
       "      <td>0.011167</td>\n",
       "    </tr>\n",
       "    <tr>\n",
       "      <th>11</th>\n",
       "      <td>2.462241</td>\n",
       "      <td>0.059256</td>\n",
       "      <td>0.040101</td>\n",
       "      <td>0.001056</td>\n",
       "      <td>sqrt</td>\n",
       "      <td>90</td>\n",
       "      <td>40</td>\n",
       "      <td>{'max_features': 'sqrt', 'max_leaf_nodes': 90,...</td>\n",
       "      <td>0.735333</td>\n",
       "      <td>0.746667</td>\n",
       "      <td>0.698667</td>\n",
       "      <td>0.725333</td>\n",
       "      <td>0.742000</td>\n",
       "      <td>0.729600</td>\n",
       "      <td>0.017047</td>\n",
       "    </tr>\n",
       "    <tr>\n",
       "      <th>10</th>\n",
       "      <td>3.966054</td>\n",
       "      <td>0.306277</td>\n",
       "      <td>0.048772</td>\n",
       "      <td>0.005305</td>\n",
       "      <td>sqrt</td>\n",
       "      <td>90</td>\n",
       "      <td>60</td>\n",
       "      <td>{'max_features': 'sqrt', 'max_leaf_nodes': 90,...</td>\n",
       "      <td>0.734000</td>\n",
       "      <td>0.748667</td>\n",
       "      <td>0.715333</td>\n",
       "      <td>0.728000</td>\n",
       "      <td>0.740667</td>\n",
       "      <td>0.733333</td>\n",
       "      <td>0.011329</td>\n",
       "    </tr>\n",
       "    <tr>\n",
       "      <th>8</th>\n",
       "      <td>5.317343</td>\n",
       "      <td>0.356172</td>\n",
       "      <td>0.061145</td>\n",
       "      <td>0.011568</td>\n",
       "      <td>sqrt</td>\n",
       "      <td>90</td>\n",
       "      <td>80</td>\n",
       "      <td>{'max_features': 'sqrt', 'max_leaf_nodes': 90,...</td>\n",
       "      <td>0.734667</td>\n",
       "      <td>0.742667</td>\n",
       "      <td>0.726000</td>\n",
       "      <td>0.730667</td>\n",
       "      <td>0.750667</td>\n",
       "      <td>0.736933</td>\n",
       "      <td>0.008780</td>\n",
       "    </tr>\n",
       "    <tr>\n",
       "      <th>6</th>\n",
       "      <td>3.258778</td>\n",
       "      <td>0.268832</td>\n",
       "      <td>0.051820</td>\n",
       "      <td>0.011993</td>\n",
       "      <td>sqrt</td>\n",
       "      <td>130</td>\n",
       "      <td>40</td>\n",
       "      <td>{'max_features': 'sqrt', 'max_leaf_nodes': 130...</td>\n",
       "      <td>0.748667</td>\n",
       "      <td>0.749333</td>\n",
       "      <td>0.709333</td>\n",
       "      <td>0.736000</td>\n",
       "      <td>0.768667</td>\n",
       "      <td>0.742400</td>\n",
       "      <td>0.019553</td>\n",
       "    </tr>\n",
       "    <tr>\n",
       "      <th>4</th>\n",
       "      <td>4.399683</td>\n",
       "      <td>0.174784</td>\n",
       "      <td>0.058612</td>\n",
       "      <td>0.005308</td>\n",
       "      <td>sqrt</td>\n",
       "      <td>130</td>\n",
       "      <td>60</td>\n",
       "      <td>{'max_features': 'sqrt', 'max_leaf_nodes': 130...</td>\n",
       "      <td>0.742000</td>\n",
       "      <td>0.758667</td>\n",
       "      <td>0.724667</td>\n",
       "      <td>0.750000</td>\n",
       "      <td>0.778667</td>\n",
       "      <td>0.750800</td>\n",
       "      <td>0.017886</td>\n",
       "    </tr>\n",
       "    <tr>\n",
       "      <th>2</th>\n",
       "      <td>5.906172</td>\n",
       "      <td>0.198561</td>\n",
       "      <td>0.059228</td>\n",
       "      <td>0.004613</td>\n",
       "      <td>sqrt</td>\n",
       "      <td>130</td>\n",
       "      <td>80</td>\n",
       "      <td>{'max_features': 'sqrt', 'max_leaf_nodes': 130...</td>\n",
       "      <td>0.761333</td>\n",
       "      <td>0.760000</td>\n",
       "      <td>0.743333</td>\n",
       "      <td>0.756667</td>\n",
       "      <td>0.774000</td>\n",
       "      <td>0.759067</td>\n",
       "      <td>0.009822</td>\n",
       "    </tr>\n",
       "    <tr>\n",
       "      <th>18</th>\n",
       "      <td>0.643494</td>\n",
       "      <td>0.024036</td>\n",
       "      <td>0.042817</td>\n",
       "      <td>0.005104</td>\n",
       "      <td>log2</td>\n",
       "      <td>90</td>\n",
       "      <td>40</td>\n",
       "      <td>{'max_features': 'log2', 'max_leaf_nodes': 90,...</td>\n",
       "      <td>0.652000</td>\n",
       "      <td>0.665333</td>\n",
       "      <td>0.653333</td>\n",
       "      <td>0.660667</td>\n",
       "      <td>0.668000</td>\n",
       "      <td>0.659867</td>\n",
       "      <td>0.006344</td>\n",
       "    </tr>\n",
       "    <tr>\n",
       "      <th>16</th>\n",
       "      <td>0.961609</td>\n",
       "      <td>0.111176</td>\n",
       "      <td>0.060505</td>\n",
       "      <td>0.021064</td>\n",
       "      <td>log2</td>\n",
       "      <td>90</td>\n",
       "      <td>60</td>\n",
       "      <td>{'max_features': 'log2', 'max_leaf_nodes': 90,...</td>\n",
       "      <td>0.689333</td>\n",
       "      <td>0.678000</td>\n",
       "      <td>0.648000</td>\n",
       "      <td>0.667333</td>\n",
       "      <td>0.684000</td>\n",
       "      <td>0.673333</td>\n",
       "      <td>0.014624</td>\n",
       "    </tr>\n",
       "    <tr>\n",
       "      <th>15</th>\n",
       "      <td>1.162172</td>\n",
       "      <td>0.026498</td>\n",
       "      <td>0.065329</td>\n",
       "      <td>0.010316</td>\n",
       "      <td>log2</td>\n",
       "      <td>90</td>\n",
       "      <td>80</td>\n",
       "      <td>{'max_features': 'log2', 'max_leaf_nodes': 90,...</td>\n",
       "      <td>0.690667</td>\n",
       "      <td>0.689333</td>\n",
       "      <td>0.656000</td>\n",
       "      <td>0.670667</td>\n",
       "      <td>0.697333</td>\n",
       "      <td>0.680800</td>\n",
       "      <td>0.015240</td>\n",
       "    </tr>\n",
       "    <tr>\n",
       "      <th>17</th>\n",
       "      <td>0.727164</td>\n",
       "      <td>0.038557</td>\n",
       "      <td>0.042758</td>\n",
       "      <td>0.003935</td>\n",
       "      <td>log2</td>\n",
       "      <td>130</td>\n",
       "      <td>40</td>\n",
       "      <td>{'max_features': 'log2', 'max_leaf_nodes': 130...</td>\n",
       "      <td>0.662000</td>\n",
       "      <td>0.668000</td>\n",
       "      <td>0.639333</td>\n",
       "      <td>0.670667</td>\n",
       "      <td>0.684000</td>\n",
       "      <td>0.664800</td>\n",
       "      <td>0.014627</td>\n",
       "    </tr>\n",
       "    <tr>\n",
       "      <th>14</th>\n",
       "      <td>0.975650</td>\n",
       "      <td>0.046379</td>\n",
       "      <td>0.063049</td>\n",
       "      <td>0.013570</td>\n",
       "      <td>log2</td>\n",
       "      <td>130</td>\n",
       "      <td>60</td>\n",
       "      <td>{'max_features': 'log2', 'max_leaf_nodes': 130...</td>\n",
       "      <td>0.683333</td>\n",
       "      <td>0.692000</td>\n",
       "      <td>0.662000</td>\n",
       "      <td>0.676000</td>\n",
       "      <td>0.695333</td>\n",
       "      <td>0.681733</td>\n",
       "      <td>0.011960</td>\n",
       "    </tr>\n",
       "    <tr>\n",
       "      <th>13</th>\n",
       "      <td>1.619414</td>\n",
       "      <td>0.169582</td>\n",
       "      <td>0.077049</td>\n",
       "      <td>0.014415</td>\n",
       "      <td>log2</td>\n",
       "      <td>130</td>\n",
       "      <td>80</td>\n",
       "      <td>{'max_features': 'log2', 'max_leaf_nodes': 130...</td>\n",
       "      <td>0.690667</td>\n",
       "      <td>0.698667</td>\n",
       "      <td>0.681333</td>\n",
       "      <td>0.692667</td>\n",
       "      <td>0.700000</td>\n",
       "      <td>0.692667</td>\n",
       "      <td>0.006667</td>\n",
       "    </tr>\n",
       "  </tbody>\n",
       "</table>\n",
       "</div>"
      ],
      "text/plain": [
       "                 mean_fit_time  std_fit_time  mean_score_time  std_score_time  \\\n",
       "rank_test_score                                                                 \n",
       "12                    2.543408      0.065434         0.042109        0.006834   \n",
       "9                     3.795840      0.151148         0.046643        0.002371   \n",
       "5                     5.128712      0.225170         0.062619        0.011429   \n",
       "7                     2.715402      0.074978         0.038476        0.004436   \n",
       "3                     4.483876      0.234780         0.059209        0.011018   \n",
       "1                     5.735185      0.589765         0.070708        0.022102   \n",
       "11                    2.462241      0.059256         0.040101        0.001056   \n",
       "10                    3.966054      0.306277         0.048772        0.005305   \n",
       "8                     5.317343      0.356172         0.061145        0.011568   \n",
       "6                     3.258778      0.268832         0.051820        0.011993   \n",
       "4                     4.399683      0.174784         0.058612        0.005308   \n",
       "2                     5.906172      0.198561         0.059228        0.004613   \n",
       "18                    0.643494      0.024036         0.042817        0.005104   \n",
       "16                    0.961609      0.111176         0.060505        0.021064   \n",
       "15                    1.162172      0.026498         0.065329        0.010316   \n",
       "17                    0.727164      0.038557         0.042758        0.003935   \n",
       "14                    0.975650      0.046379         0.063049        0.013570   \n",
       "13                    1.619414      0.169582         0.077049        0.014415   \n",
       "\n",
       "                param_max_features param_max_leaf_nodes param_n_estimators  \\\n",
       "rank_test_score                                                              \n",
       "12                            auto                   90                 40   \n",
       "9                             auto                   90                 60   \n",
       "5                             auto                   90                 80   \n",
       "7                             auto                  130                 40   \n",
       "3                             auto                  130                 60   \n",
       "1                             auto                  130                 80   \n",
       "11                            sqrt                   90                 40   \n",
       "10                            sqrt                   90                 60   \n",
       "8                             sqrt                   90                 80   \n",
       "6                             sqrt                  130                 40   \n",
       "4                             sqrt                  130                 60   \n",
       "2                             sqrt                  130                 80   \n",
       "18                            log2                   90                 40   \n",
       "16                            log2                   90                 60   \n",
       "15                            log2                   90                 80   \n",
       "17                            log2                  130                 40   \n",
       "14                            log2                  130                 60   \n",
       "13                            log2                  130                 80   \n",
       "\n",
       "                                                            params  \\\n",
       "rank_test_score                                                      \n",
       "12               {'max_features': 'auto', 'max_leaf_nodes': 90,...   \n",
       "9                {'max_features': 'auto', 'max_leaf_nodes': 90,...   \n",
       "5                {'max_features': 'auto', 'max_leaf_nodes': 90,...   \n",
       "7                {'max_features': 'auto', 'max_leaf_nodes': 130...   \n",
       "3                {'max_features': 'auto', 'max_leaf_nodes': 130...   \n",
       "1                {'max_features': 'auto', 'max_leaf_nodes': 130...   \n",
       "11               {'max_features': 'sqrt', 'max_leaf_nodes': 90,...   \n",
       "10               {'max_features': 'sqrt', 'max_leaf_nodes': 90,...   \n",
       "8                {'max_features': 'sqrt', 'max_leaf_nodes': 90,...   \n",
       "6                {'max_features': 'sqrt', 'max_leaf_nodes': 130...   \n",
       "4                {'max_features': 'sqrt', 'max_leaf_nodes': 130...   \n",
       "2                {'max_features': 'sqrt', 'max_leaf_nodes': 130...   \n",
       "18               {'max_features': 'log2', 'max_leaf_nodes': 90,...   \n",
       "16               {'max_features': 'log2', 'max_leaf_nodes': 90,...   \n",
       "15               {'max_features': 'log2', 'max_leaf_nodes': 90,...   \n",
       "17               {'max_features': 'log2', 'max_leaf_nodes': 130...   \n",
       "14               {'max_features': 'log2', 'max_leaf_nodes': 130...   \n",
       "13               {'max_features': 'log2', 'max_leaf_nodes': 130...   \n",
       "\n",
       "                 split0_test_score  split1_test_score  split2_test_score  \\\n",
       "rank_test_score                                                            \n",
       "12                        0.746000           0.725333           0.705333   \n",
       "9                         0.732000           0.752667           0.710667   \n",
       "5                         0.752000           0.752667           0.720667   \n",
       "7                         0.754000           0.737333           0.718667   \n",
       "3                         0.768000           0.770000           0.734000   \n",
       "1                         0.769333           0.766667           0.739333   \n",
       "11                        0.735333           0.746667           0.698667   \n",
       "10                        0.734000           0.748667           0.715333   \n",
       "8                         0.734667           0.742667           0.726000   \n",
       "6                         0.748667           0.749333           0.709333   \n",
       "4                         0.742000           0.758667           0.724667   \n",
       "2                         0.761333           0.760000           0.743333   \n",
       "18                        0.652000           0.665333           0.653333   \n",
       "16                        0.689333           0.678000           0.648000   \n",
       "15                        0.690667           0.689333           0.656000   \n",
       "17                        0.662000           0.668000           0.639333   \n",
       "14                        0.683333           0.692000           0.662000   \n",
       "13                        0.690667           0.698667           0.681333   \n",
       "\n",
       "                 split3_test_score  split4_test_score  mean_test_score  \\\n",
       "rank_test_score                                                          \n",
       "12                        0.723333           0.742667         0.728533   \n",
       "9                         0.726667           0.747333         0.733867   \n",
       "5                         0.748000           0.763333         0.747333   \n",
       "7                         0.728667           0.761333         0.740000   \n",
       "3                         0.756000           0.761333         0.757867   \n",
       "1                         0.755333           0.766667         0.759467   \n",
       "11                        0.725333           0.742000         0.729600   \n",
       "10                        0.728000           0.740667         0.733333   \n",
       "8                         0.730667           0.750667         0.736933   \n",
       "6                         0.736000           0.768667         0.742400   \n",
       "4                         0.750000           0.778667         0.750800   \n",
       "2                         0.756667           0.774000         0.759067   \n",
       "18                        0.660667           0.668000         0.659867   \n",
       "16                        0.667333           0.684000         0.673333   \n",
       "15                        0.670667           0.697333         0.680800   \n",
       "17                        0.670667           0.684000         0.664800   \n",
       "14                        0.676000           0.695333         0.681733   \n",
       "13                        0.692667           0.700000         0.692667   \n",
       "\n",
       "                 std_test_score  \n",
       "rank_test_score                  \n",
       "12                     0.014699  \n",
       "9                      0.015022  \n",
       "5                      0.014267  \n",
       "7                      0.015759  \n",
       "3                      0.012923  \n",
       "1                      0.011167  \n",
       "11                     0.017047  \n",
       "10                     0.011329  \n",
       "8                      0.008780  \n",
       "6                      0.019553  \n",
       "4                      0.017886  \n",
       "2                      0.009822  \n",
       "18                     0.006344  \n",
       "16                     0.014624  \n",
       "15                     0.015240  \n",
       "17                     0.014627  \n",
       "14                     0.011960  \n",
       "13                     0.006667  "
      ]
     },
     "execution_count": 12,
     "metadata": {},
     "output_type": "execute_result"
    }
   ],
   "source": [
    "results_table = pd.DataFrame.from_dict(grid_clf.cv_results_).set_index(\"rank_test_score\")\n",
    "results_table"
   ]
  },
  {
   "cell_type": "markdown",
   "metadata": {},
   "source": [
    "### 2. Convolutional Neural Network"
   ]
  },
  {
   "cell_type": "code",
   "execution_count": 13,
   "metadata": {},
   "outputs": [],
   "source": [
    "X = X.reshape(10000,100,100,1)\n",
    "X_train, X_test, Y_train, Y_test = train_test_split(X, y)"
   ]
  },
  {
   "cell_type": "code",
   "execution_count": 14,
   "metadata": {},
   "outputs": [
    {
     "name": "stdout",
     "output_type": "stream",
     "text": [
      "Epoch 1/10\n",
      "235/235 [==============================] - 49s 210ms/step - loss: 10.8914 - accuracy: 0.2527 - val_loss: 1.5389 - val_accuracy: 0.3640\n",
      "Epoch 2/10\n",
      "235/235 [==============================] - 49s 207ms/step - loss: 1.6519 - accuracy: 0.3524 - val_loss: 1.2397 - val_accuracy: 0.5380\n",
      "Epoch 3/10\n",
      "235/235 [==============================] - 48s 204ms/step - loss: 1.3739 - accuracy: 0.4585 - val_loss: 0.9823 - val_accuracy: 0.6616\n",
      "Epoch 4/10\n",
      "235/235 [==============================] - 47s 198ms/step - loss: 1.1334 - accuracy: 0.5757 - val_loss: 0.8204 - val_accuracy: 0.7168\n",
      "Epoch 5/10\n",
      "235/235 [==============================] - 52s 219ms/step - loss: 0.9931 - accuracy: 0.6299 - val_loss: 0.6846 - val_accuracy: 0.7572\n",
      "Epoch 6/10\n",
      "235/235 [==============================] - 45s 192ms/step - loss: 0.8510 - accuracy: 0.6847 - val_loss: 0.6000 - val_accuracy: 0.7876\n",
      "Epoch 7/10\n",
      "235/235 [==============================] - 50s 214ms/step - loss: 0.7638 - accuracy: 0.7247 - val_loss: 0.5383 - val_accuracy: 0.8092\n",
      "Epoch 8/10\n",
      "235/235 [==============================] - 49s 210ms/step - loss: 0.6885 - accuracy: 0.7533 - val_loss: 0.4524 - val_accuracy: 0.8468\n",
      "Epoch 9/10\n",
      "235/235 [==============================] - 48s 204ms/step - loss: 0.6243 - accuracy: 0.7804 - val_loss: 0.3995 - val_accuracy: 0.8612\n",
      "Epoch 10/10\n",
      "235/235 [==============================] - 52s 222ms/step - loss: 0.5510 - accuracy: 0.7976 - val_loss: 0.3747 - val_accuracy: 0.8684\n"
     ]
    }
   ],
   "source": [
    "nb_filters = 16 # for convolutional layer\n",
    "nb_pool = 8 # for MaxPool layer\n",
    "nb_conv = 3 # for convolutional layer\n",
    "nb_classes = 5 # for dense layer, multiclassification problem\n",
    "activation = layers.LeakyReLU(alpha=0.3)\n",
    "\n",
    "model = models.Sequential()\n",
    "\n",
    "model.add(layers.Conv2D(nb_filters, (nb_conv, nb_conv), activation=activation, input_shape=X.shape[1:]))\n",
    "model.add(layers.Conv2D(nb_filters, (nb_conv, nb_conv), activation=activation))\n",
    "model.add(layers.MaxPooling2D(pool_size=(nb_pool, nb_pool)))\n",
    "model.add(layers.Dropout(0.25))\n",
    "model.add(layers.Flatten())\n",
    "model.add(layers.Dense(64, activation=activation))\n",
    "model.add(layers.Dropout(0.5))\n",
    "model.add(layers.Dense(5))\n",
    "\n",
    "model.compile(optimizer='adam',\n",
    "              loss=tf.keras.losses.SparseCategoricalCrossentropy(from_logits=True),\n",
    "              metrics=['accuracy'])\n",
    "\n",
    "history = model.fit(X_train, Y_train, epochs=10, \n",
    "                    validation_data=(X_test, Y_test))"
   ]
  },
  {
   "cell_type": "code",
   "execution_count": 15,
   "metadata": {},
   "outputs": [
    {
     "name": "stdout",
     "output_type": "stream",
     "text": [
      "TRAIN METRICS\n",
      "              precision    recall  f1-score   support\n",
      "\n",
      "           0       0.92      0.95      0.93      1513\n",
      "           1       0.91      0.94      0.92      1495\n",
      "           2       0.96      0.92      0.94      1509\n",
      "           3       0.91      0.89      0.90      1496\n",
      "           4       0.94      0.96      0.95      1487\n",
      "\n",
      "    accuracy                           0.93      7500\n",
      "   macro avg       0.93      0.93      0.93      7500\n",
      "weighted avg       0.93      0.93      0.93      7500\n",
      "\n",
      "TEST METRICS\n",
      "              precision    recall  f1-score   support\n",
      "\n",
      "           0       0.86      0.90      0.88       487\n",
      "           1       0.85      0.84      0.85       505\n",
      "           2       0.90      0.84      0.87       491\n",
      "           3       0.83      0.81      0.82       504\n",
      "           4       0.90      0.96      0.93       513\n",
      "\n",
      "    accuracy                           0.87      2500\n",
      "   macro avg       0.87      0.87      0.87      2500\n",
      "weighted avg       0.87      0.87      0.87      2500\n",
      "\n"
     ]
    }
   ],
   "source": [
    "Y_pred_test = np.argmax(model.predict(X_test), axis=1)\n",
    "Y_pred_train = np.argmax(model.predict(X_train), axis=1)\n",
    "print(\"TRAIN METRICS\")\n",
    "print(sklearn.metrics.classification_report(Y_train, Y_pred_train))\n",
    "print(\"TEST METRICS\")\n",
    "print(sklearn.metrics.classification_report(Y_test, Y_pred_test))"
   ]
  },
  {
   "cell_type": "code",
   "execution_count": 16,
   "metadata": {},
   "outputs": [
    {
     "data": {
      "image/png": "[encoded data removed]",
      "text/plain": [
       "<Figure size 432x288 with 1 Axes>"
      ]
     },
     "metadata": {
      "needs_background": "light"
     },
     "output_type": "display_data"
    }
   ],
   "source": [
    "accuracy = history.history['accuracy']\n",
    "val_accuracy = history.history['val_accuracy']\n",
    "loss = history.history['loss']\n",
    "val_loss = history.history['val_loss']\n",
    "epochs = range(len(accuracy))\n",
    "plt.plot(epochs, accuracy, 'bo', label='Training set accuracy')\n",
    "plt.plot(epochs, val_accuracy, 'b', label='Validation set accuracy')\n",
    "plt.xlabel(\"Number of Epochs\")\n",
    "plt.ylabel(\"Score\")\n",
    "plt.title('Training and Validation sets accuracy')\n",
    "plt.show()"
   ]
  },
  {
   "cell_type": "code",
   "execution_count": 19,
   "metadata": {},
   "outputs": [
    {
     "data": {
      "image/png": "[encoded data removed]",
      "text/plain": [
       "<Figure size 432x288 with 1 Axes>"
      ]
     },
     "metadata": {
      "needs_background": "light"
     },
     "output_type": "display_data"
    }
   ],
   "source": [
    "plt.figure()\n",
    "plt.plot(epochs, loss, 'bo', label='Train set loss')\n",
    "plt.plot(epochs, val_loss, 'b', label='Validation set loss')\n",
    "plt.xlabel(\"Number of Epochs\")\n",
    "plt.ylabel(\"Loss\")\n",
    "plt.title('Training and Validation sets loss')\n",
    "plt.legend()\n",
    "plt.show()"
   ]
  },
  {
   "cell_type": "code",
   "execution_count": null,
   "metadata": {},
   "outputs": [],
   "source": []
  }
 ],
 "metadata": {
  "kernelspec": {
   "display_name": "Python 3",
   "language": "python",
   "name": "python3"
  },
  "language_info": {
   "codemirror_mode": {
    "name": "ipython",
    "version": 3
   },
   "file_extension": ".py",
   "mimetype": "text/x-python",
   "name": "python",
   "nbconvert_exporter": "python",
   "pygments_lexer": "ipython3",
   "version": "3.7.1"
  }
 },
 "nbformat": 4,
 "nbformat_minor": 2
}
